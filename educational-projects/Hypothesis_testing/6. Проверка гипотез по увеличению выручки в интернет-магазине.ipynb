{
 "cells": [
  {
   "cell_type": "markdown",
   "metadata": {},
   "source": [
    "# Описание проекта\n",
    "\n",
    "Вы — аналитик крупного интернет-магазина.<br>\n",
    "Вместе с отделом маркетинга вы подготовили список гипотез для увеличения выручки.<br>\n",
    "Приоритизируйте гипотезы, запустите A/B-тест и проанализируйте результаты. \n",
    "\n",
    "\n",
    "\n",
    "## Описание данных\n",
    "\n",
    "**hypothesis.csv:**\n",
    "\n",
    "    Hypothesis — краткое описание гипотезы;\n",
    "    Reach — охват пользователей по 10-балльной шкале;\n",
    "    Impact — влияние на пользователей по 10-балльной шкале;\n",
    "    Confidence — уверенность в гипотезе по 10-балльной шкале;\n",
    "    Efforts — затраты ресурсов на проверку гипотезы по 10-балльной шкале. Чем больше значение Efforts, \n",
    "    тем дороже проверка гипотезы.\n",
    "\n",
    "\n",
    "**orders.csv:**\n",
    "\n",
    "    transactionId — идентификатор заказа;\n",
    "    visitorId — идентификатор пользователя, совершившего заказ;\n",
    "    date — дата, когда был совершён заказ;\n",
    "    revenue — выручка заказа;\n",
    "    group — группа A/B-теста, в которую попал заказ.\n",
    "\n",
    "**visitors.csv:**\n",
    "\n",
    "    date — дата;\n",
    "    group — группа A/B-теста;\n",
    "    visitors — количество пользователей в указанную дату в указанной группе A/B-теста"
   ]
  },
  {
   "cell_type": "markdown",
   "metadata": {
    "id": "s2p1AnbSxyby"
   },
   "source": [
    "# Импорт библиотек"
   ]
  },
  {
   "cell_type": "code",
   "execution_count": 1,
   "metadata": {
    "colab": {
     "base_uri": "https://localhost:8080/",
     "height": 35
    },
    "id": "sWLxFZhCxyb1",
    "outputId": "3428290a-3fe4-4e75-b4ea-f49ad22def47"
   },
   "outputs": [],
   "source": [
    "import pandas as pd\n",
    "import numpy as np\n",
    "import matplotlib.pyplot as plt\n",
    "from scipy import stats\n",
    "import datetime as dt"
   ]
  },
  {
   "cell_type": "markdown",
   "metadata": {},
   "source": [
    "# Загрузка данных"
   ]
  },
  {
   "cell_type": "code",
   "execution_count": 2,
   "metadata": {},
   "outputs": [],
   "source": [
    "orders = pd.read_csv('orders.csv')\n",
    "visitors = pd.read_csv('visitors.csv')\n",
    "hypothesis = pd.read_csv('hypothesis.csv')"
   ]
  },
  {
   "cell_type": "markdown",
   "metadata": {},
   "source": [
    "# Предобработка"
   ]
  },
  {
   "cell_type": "code",
   "execution_count": 3,
   "metadata": {
    "colab": {
     "base_uri": "https://localhost:8080/",
     "height": 460
    },
    "id": "7_k1ZlFbxycH",
    "outputId": "382d4d14-046b-43de-c9a4-a85156f5a22d"
   },
   "outputs": [
    {
     "name": "stdout",
     "output_type": "stream",
     "text": [
      "<class 'pandas.core.frame.DataFrame'>\n",
      "RangeIndex: 1197 entries, 0 to 1196\n",
      "Data columns (total 5 columns):\n",
      " #   Column         Non-Null Count  Dtype \n",
      "---  ------         --------------  ----- \n",
      " 0   transactionId  1197 non-null   int64 \n",
      " 1   visitorId      1197 non-null   int64 \n",
      " 2   date           1197 non-null   object\n",
      " 3   revenue        1197 non-null   int64 \n",
      " 4   group          1197 non-null   object\n",
      "dtypes: int64(3), object(2)\n",
      "memory usage: 46.9+ KB\n",
      "\n",
      " количество дубликатов: 0\n",
      "\n",
      " отрезок времени:2019-08-01 / 2019-08-31\n"
     ]
    },
    {
     "data": {
      "text/html": [
       "<div>\n",
       "<style scoped>\n",
       "    .dataframe tbody tr th:only-of-type {\n",
       "        vertical-align: middle;\n",
       "    }\n",
       "\n",
       "    .dataframe tbody tr th {\n",
       "        vertical-align: top;\n",
       "    }\n",
       "\n",
       "    .dataframe thead th {\n",
       "        text-align: right;\n",
       "    }\n",
       "</style>\n",
       "<table border=\"1\" class=\"dataframe\">\n",
       "  <thead>\n",
       "    <tr style=\"text-align: right;\">\n",
       "      <th></th>\n",
       "      <th>transactionId</th>\n",
       "      <th>visitorId</th>\n",
       "      <th>date</th>\n",
       "      <th>revenue</th>\n",
       "      <th>group</th>\n",
       "    </tr>\n",
       "  </thead>\n",
       "  <tbody>\n",
       "    <tr>\n",
       "      <th>0</th>\n",
       "      <td>3667963787</td>\n",
       "      <td>3312258926</td>\n",
       "      <td>2019-08-15</td>\n",
       "      <td>1650</td>\n",
       "      <td>B</td>\n",
       "    </tr>\n",
       "    <tr>\n",
       "      <th>1</th>\n",
       "      <td>2804400009</td>\n",
       "      <td>3642806036</td>\n",
       "      <td>2019-08-15</td>\n",
       "      <td>730</td>\n",
       "      <td>B</td>\n",
       "    </tr>\n",
       "    <tr>\n",
       "      <th>2</th>\n",
       "      <td>2961555356</td>\n",
       "      <td>4069496402</td>\n",
       "      <td>2019-08-15</td>\n",
       "      <td>400</td>\n",
       "      <td>A</td>\n",
       "    </tr>\n",
       "    <tr>\n",
       "      <th>3</th>\n",
       "      <td>3797467345</td>\n",
       "      <td>1196621759</td>\n",
       "      <td>2019-08-15</td>\n",
       "      <td>9759</td>\n",
       "      <td>B</td>\n",
       "    </tr>\n",
       "    <tr>\n",
       "      <th>4</th>\n",
       "      <td>2282983706</td>\n",
       "      <td>2322279887</td>\n",
       "      <td>2019-08-15</td>\n",
       "      <td>2308</td>\n",
       "      <td>B</td>\n",
       "    </tr>\n",
       "  </tbody>\n",
       "</table>\n",
       "</div>"
      ],
      "text/plain": [
       "   transactionId   visitorId        date  revenue group\n",
       "0     3667963787  3312258926  2019-08-15     1650     B\n",
       "1     2804400009  3642806036  2019-08-15      730     B\n",
       "2     2961555356  4069496402  2019-08-15      400     A\n",
       "3     3797467345  1196621759  2019-08-15     9759     B\n",
       "4     2282983706  2322279887  2019-08-15     2308     B"
      ]
     },
     "execution_count": 3,
     "metadata": {},
     "output_type": "execute_result"
    }
   ],
   "source": [
    "orders.info()\n",
    "\n",
    "orders['date'] = orders['date'].astype('datetime64[D]')\n",
    "orders['date'] = orders['date'].map(lambda x: dt.datetime.strftime(x, '%Y-%m-%d'))\n",
    "print('\\n количество дубликатов:', orders.duplicated().sum())\n",
    "print(f'\\n отрезок времени:{orders.date.min()} / {orders.date.max()}')\n",
    "\n",
    "orders.head()"
   ]
  },
  {
   "cell_type": "code",
   "execution_count": 4,
   "metadata": {
    "colab": {
     "base_uri": "https://localhost:8080/",
     "height": 301
    },
    "id": "yLdN3PQexycW",
    "outputId": "51629810-9eb8-43d5-b443-87715ed9ded7"
   },
   "outputs": [
    {
     "name": "stdout",
     "output_type": "stream",
     "text": [
      "<class 'pandas.core.frame.DataFrame'>\n",
      "RangeIndex: 62 entries, 0 to 61\n",
      "Data columns (total 3 columns):\n",
      " #   Column    Non-Null Count  Dtype \n",
      "---  ------    --------------  ----- \n",
      " 0   date      62 non-null     object\n",
      " 1   group     62 non-null     object\n",
      " 2   visitors  62 non-null     int64 \n",
      "dtypes: int64(1), object(2)\n",
      "memory usage: 1.6+ KB\n",
      "\n",
      " количество пользоватей в группе А: 557\n",
      "\n",
      " количество пользоватей в группе B: 640\n",
      "\n",
      " количество дубликатов: 0\n",
      "\n",
      " отрезок времени:2019-08-01 / 2019-08-31\n"
     ]
    },
    {
     "data": {
      "text/html": [
       "<div>\n",
       "<style scoped>\n",
       "    .dataframe tbody tr th:only-of-type {\n",
       "        vertical-align: middle;\n",
       "    }\n",
       "\n",
       "    .dataframe tbody tr th {\n",
       "        vertical-align: top;\n",
       "    }\n",
       "\n",
       "    .dataframe thead th {\n",
       "        text-align: right;\n",
       "    }\n",
       "</style>\n",
       "<table border=\"1\" class=\"dataframe\">\n",
       "  <thead>\n",
       "    <tr style=\"text-align: right;\">\n",
       "      <th></th>\n",
       "      <th>date</th>\n",
       "      <th>group</th>\n",
       "      <th>visitors</th>\n",
       "    </tr>\n",
       "  </thead>\n",
       "  <tbody>\n",
       "    <tr>\n",
       "      <th>0</th>\n",
       "      <td>2019-08-01</td>\n",
       "      <td>A</td>\n",
       "      <td>719</td>\n",
       "    </tr>\n",
       "    <tr>\n",
       "      <th>1</th>\n",
       "      <td>2019-08-02</td>\n",
       "      <td>A</td>\n",
       "      <td>619</td>\n",
       "    </tr>\n",
       "    <tr>\n",
       "      <th>2</th>\n",
       "      <td>2019-08-03</td>\n",
       "      <td>A</td>\n",
       "      <td>507</td>\n",
       "    </tr>\n",
       "    <tr>\n",
       "      <th>3</th>\n",
       "      <td>2019-08-04</td>\n",
       "      <td>A</td>\n",
       "      <td>717</td>\n",
       "    </tr>\n",
       "    <tr>\n",
       "      <th>4</th>\n",
       "      <td>2019-08-05</td>\n",
       "      <td>A</td>\n",
       "      <td>756</td>\n",
       "    </tr>\n",
       "  </tbody>\n",
       "</table>\n",
       "</div>"
      ],
      "text/plain": [
       "         date group  visitors\n",
       "0  2019-08-01     A       719\n",
       "1  2019-08-02     A       619\n",
       "2  2019-08-03     A       507\n",
       "3  2019-08-04     A       717\n",
       "4  2019-08-05     A       756"
      ]
     },
     "execution_count": 4,
     "metadata": {},
     "output_type": "execute_result"
    }
   ],
   "source": [
    "visitors.info()\n",
    "\n",
    "visitors['date'] = visitors['date'].astype('datetime64[D]')\n",
    "visitors['date'] = visitors['date'].map(lambda x: dt.datetime.strftime(x, '%Y-%m-%d'))\n",
    "\n",
    "print('\\n количество пользоватей в группе А:', orders[orders['group'] == 'A']['visitorId'].count())\n",
    "print('\\n количество пользоватей в группе B:', orders[orders['group'] == 'B']['visitorId'].count())\n",
    "\n",
    "print('\\n количество дубликатов:', visitors.duplicated().sum())\n",
    "\n",
    "print(f'\\n отрезок времени:{visitors.date.min()} / {visitors.date.max()}')\n",
    "\n",
    "visitors.head()"
   ]
  },
  {
   "cell_type": "code",
   "execution_count": 5,
   "metadata": {},
   "outputs": [
    {
     "data": {
      "text/html": [
       "<div>\n",
       "<style scoped>\n",
       "    .dataframe tbody tr th:only-of-type {\n",
       "        vertical-align: middle;\n",
       "    }\n",
       "\n",
       "    .dataframe tbody tr th {\n",
       "        vertical-align: top;\n",
       "    }\n",
       "\n",
       "    .dataframe thead th {\n",
       "        text-align: right;\n",
       "    }\n",
       "</style>\n",
       "<table border=\"1\" class=\"dataframe\">\n",
       "  <thead>\n",
       "    <tr style=\"text-align: right;\">\n",
       "      <th></th>\n",
       "      <th>Hypothesis</th>\n",
       "      <th>Reach</th>\n",
       "      <th>Impact</th>\n",
       "      <th>Confidence</th>\n",
       "      <th>Efforts</th>\n",
       "    </tr>\n",
       "  </thead>\n",
       "  <tbody>\n",
       "    <tr>\n",
       "      <th>0</th>\n",
       "      <td>Добавить два новых канала привлечения трафика,...</td>\n",
       "      <td>3</td>\n",
       "      <td>10</td>\n",
       "      <td>8</td>\n",
       "      <td>6</td>\n",
       "    </tr>\n",
       "    <tr>\n",
       "      <th>1</th>\n",
       "      <td>Запустить собственную службу доставки, что сок...</td>\n",
       "      <td>2</td>\n",
       "      <td>5</td>\n",
       "      <td>4</td>\n",
       "      <td>10</td>\n",
       "    </tr>\n",
       "    <tr>\n",
       "      <th>2</th>\n",
       "      <td>Добавить блоки рекомендаций товаров на сайт ин...</td>\n",
       "      <td>8</td>\n",
       "      <td>3</td>\n",
       "      <td>7</td>\n",
       "      <td>3</td>\n",
       "    </tr>\n",
       "    <tr>\n",
       "      <th>3</th>\n",
       "      <td>Изменить структура категорий, что увеличит кон...</td>\n",
       "      <td>8</td>\n",
       "      <td>3</td>\n",
       "      <td>3</td>\n",
       "      <td>8</td>\n",
       "    </tr>\n",
       "    <tr>\n",
       "      <th>4</th>\n",
       "      <td>Изменить цвет фона главной страницы, чтобы уве...</td>\n",
       "      <td>3</td>\n",
       "      <td>1</td>\n",
       "      <td>1</td>\n",
       "      <td>1</td>\n",
       "    </tr>\n",
       "    <tr>\n",
       "      <th>5</th>\n",
       "      <td>Добавить страницу отзывов клиентов о магазине,...</td>\n",
       "      <td>3</td>\n",
       "      <td>2</td>\n",
       "      <td>2</td>\n",
       "      <td>3</td>\n",
       "    </tr>\n",
       "    <tr>\n",
       "      <th>6</th>\n",
       "      <td>Показать на главной странице баннеры с актуаль...</td>\n",
       "      <td>5</td>\n",
       "      <td>3</td>\n",
       "      <td>8</td>\n",
       "      <td>3</td>\n",
       "    </tr>\n",
       "    <tr>\n",
       "      <th>7</th>\n",
       "      <td>Добавить форму подписки на все основные страни...</td>\n",
       "      <td>10</td>\n",
       "      <td>7</td>\n",
       "      <td>8</td>\n",
       "      <td>5</td>\n",
       "    </tr>\n",
       "    <tr>\n",
       "      <th>8</th>\n",
       "      <td>Запустить акцию, дающую скидку на товар в день...</td>\n",
       "      <td>1</td>\n",
       "      <td>9</td>\n",
       "      <td>9</td>\n",
       "      <td>5</td>\n",
       "    </tr>\n",
       "  </tbody>\n",
       "</table>\n",
       "</div>"
      ],
      "text/plain": [
       "                                          Hypothesis  Reach  Impact  \\\n",
       "0  Добавить два новых канала привлечения трафика,...      3      10   \n",
       "1  Запустить собственную службу доставки, что сок...      2       5   \n",
       "2  Добавить блоки рекомендаций товаров на сайт ин...      8       3   \n",
       "3  Изменить структура категорий, что увеличит кон...      8       3   \n",
       "4  Изменить цвет фона главной страницы, чтобы уве...      3       1   \n",
       "5  Добавить страницу отзывов клиентов о магазине,...      3       2   \n",
       "6  Показать на главной странице баннеры с актуаль...      5       3   \n",
       "7  Добавить форму подписки на все основные страни...     10       7   \n",
       "8  Запустить акцию, дающую скидку на товар в день...      1       9   \n",
       "\n",
       "   Confidence  Efforts  \n",
       "0           8        6  \n",
       "1           4       10  \n",
       "2           7        3  \n",
       "3           3        8  \n",
       "4           1        1  \n",
       "5           2        3  \n",
       "6           8        3  \n",
       "7           8        5  \n",
       "8           9        5  "
      ]
     },
     "execution_count": 5,
     "metadata": {},
     "output_type": "execute_result"
    }
   ],
   "source": [
    "hypothesis"
   ]
  },
  {
   "cell_type": "markdown",
   "metadata": {
    "id": "sVVdSLBoxycj"
   },
   "source": [
    "**изменили тип данных у столбцов с датами, пропусков и дубликатов нет**\n"
   ]
  },
  {
   "cell_type": "markdown",
   "metadata": {
    "id": "6evSWUh7xyco"
   },
   "source": [
    "# Приоритезация гипотез"
   ]
  },
  {
   "cell_type": "markdown",
   "metadata": {},
   "source": [
    "## ICE"
   ]
  },
  {
   "cell_type": "code",
   "execution_count": 6,
   "metadata": {
    "colab": {
     "base_uri": "https://localhost:8080/",
     "height": 311
    },
    "id": "Pjr21aAPxycp",
    "outputId": "1289d3b7-faa9-45a5-94dd-8ec4c22fe628"
   },
   "outputs": [
    {
     "data": {
      "text/html": [
       "<div>\n",
       "<style scoped>\n",
       "    .dataframe tbody tr th:only-of-type {\n",
       "        vertical-align: middle;\n",
       "    }\n",
       "\n",
       "    .dataframe tbody tr th {\n",
       "        vertical-align: top;\n",
       "    }\n",
       "\n",
       "    .dataframe thead th {\n",
       "        text-align: right;\n",
       "    }\n",
       "</style>\n",
       "<table border=\"1\" class=\"dataframe\">\n",
       "  <thead>\n",
       "    <tr style=\"text-align: right;\">\n",
       "      <th></th>\n",
       "      <th>Hypothesis</th>\n",
       "      <th>Reach</th>\n",
       "      <th>Impact</th>\n",
       "      <th>Confidence</th>\n",
       "      <th>Efforts</th>\n",
       "      <th>Ice_score</th>\n",
       "    </tr>\n",
       "  </thead>\n",
       "  <tbody>\n",
       "    <tr>\n",
       "      <th>8</th>\n",
       "      <td>Запустить акцию, дающую скидку на товар в день...</td>\n",
       "      <td>1</td>\n",
       "      <td>9</td>\n",
       "      <td>9</td>\n",
       "      <td>5</td>\n",
       "      <td>16.20</td>\n",
       "    </tr>\n",
       "    <tr>\n",
       "      <th>0</th>\n",
       "      <td>Добавить два новых канала привлечения трафика,...</td>\n",
       "      <td>3</td>\n",
       "      <td>10</td>\n",
       "      <td>8</td>\n",
       "      <td>6</td>\n",
       "      <td>13.33</td>\n",
       "    </tr>\n",
       "    <tr>\n",
       "      <th>7</th>\n",
       "      <td>Добавить форму подписки на все основные страни...</td>\n",
       "      <td>10</td>\n",
       "      <td>7</td>\n",
       "      <td>8</td>\n",
       "      <td>5</td>\n",
       "      <td>11.20</td>\n",
       "    </tr>\n",
       "    <tr>\n",
       "      <th>6</th>\n",
       "      <td>Показать на главной странице баннеры с актуаль...</td>\n",
       "      <td>5</td>\n",
       "      <td>3</td>\n",
       "      <td>8</td>\n",
       "      <td>3</td>\n",
       "      <td>8.00</td>\n",
       "    </tr>\n",
       "    <tr>\n",
       "      <th>2</th>\n",
       "      <td>Добавить блоки рекомендаций товаров на сайт ин...</td>\n",
       "      <td>8</td>\n",
       "      <td>3</td>\n",
       "      <td>7</td>\n",
       "      <td>3</td>\n",
       "      <td>7.00</td>\n",
       "    </tr>\n",
       "    <tr>\n",
       "      <th>1</th>\n",
       "      <td>Запустить собственную службу доставки, что сок...</td>\n",
       "      <td>2</td>\n",
       "      <td>5</td>\n",
       "      <td>4</td>\n",
       "      <td>10</td>\n",
       "      <td>2.00</td>\n",
       "    </tr>\n",
       "    <tr>\n",
       "      <th>5</th>\n",
       "      <td>Добавить страницу отзывов клиентов о магазине,...</td>\n",
       "      <td>3</td>\n",
       "      <td>2</td>\n",
       "      <td>2</td>\n",
       "      <td>3</td>\n",
       "      <td>1.33</td>\n",
       "    </tr>\n",
       "    <tr>\n",
       "      <th>3</th>\n",
       "      <td>Изменить структура категорий, что увеличит кон...</td>\n",
       "      <td>8</td>\n",
       "      <td>3</td>\n",
       "      <td>3</td>\n",
       "      <td>8</td>\n",
       "      <td>1.12</td>\n",
       "    </tr>\n",
       "    <tr>\n",
       "      <th>4</th>\n",
       "      <td>Изменить цвет фона главной страницы, чтобы уве...</td>\n",
       "      <td>3</td>\n",
       "      <td>1</td>\n",
       "      <td>1</td>\n",
       "      <td>1</td>\n",
       "      <td>1.00</td>\n",
       "    </tr>\n",
       "  </tbody>\n",
       "</table>\n",
       "</div>"
      ],
      "text/plain": [
       "                                          Hypothesis  Reach  Impact  \\\n",
       "8  Запустить акцию, дающую скидку на товар в день...      1       9   \n",
       "0  Добавить два новых канала привлечения трафика,...      3      10   \n",
       "7  Добавить форму подписки на все основные страни...     10       7   \n",
       "6  Показать на главной странице баннеры с актуаль...      5       3   \n",
       "2  Добавить блоки рекомендаций товаров на сайт ин...      8       3   \n",
       "1  Запустить собственную службу доставки, что сок...      2       5   \n",
       "5  Добавить страницу отзывов клиентов о магазине,...      3       2   \n",
       "3  Изменить структура категорий, что увеличит кон...      8       3   \n",
       "4  Изменить цвет фона главной страницы, чтобы уве...      3       1   \n",
       "\n",
       "   Confidence  Efforts  Ice_score  \n",
       "8           9        5      16.20  \n",
       "0           8        6      13.33  \n",
       "7           8        5      11.20  \n",
       "6           8        3       8.00  \n",
       "2           7        3       7.00  \n",
       "1           4       10       2.00  \n",
       "5           2        3       1.33  \n",
       "3           3        8       1.12  \n",
       "4           1        1       1.00  "
      ]
     },
     "execution_count": 6,
     "metadata": {},
     "output_type": "execute_result"
    }
   ],
   "source": [
    "hypothesis['Ice_score'] = (hypothesis['Impact'] * \n",
    "                           hypothesis['Confidence'] / \n",
    "                           hypothesis['Efforts']).round(2)\n",
    "hypothesis.sort_values(by='Ice_score', ascending=False)"
   ]
  },
  {
   "cell_type": "markdown",
   "metadata": {
    "id": "ZWBvuG7kxycw"
   },
   "source": [
    "\n",
    "## RICE \n"
   ]
  },
  {
   "cell_type": "code",
   "execution_count": 7,
   "metadata": {
    "colab": {
     "base_uri": "https://localhost:8080/",
     "height": 311
    },
    "id": "f3XIatO6xycy",
    "outputId": "f6f170e5-8521-468c-cc37-b2b68791bd1a"
   },
   "outputs": [
    {
     "data": {
      "text/html": [
       "<div>\n",
       "<style scoped>\n",
       "    .dataframe tbody tr th:only-of-type {\n",
       "        vertical-align: middle;\n",
       "    }\n",
       "\n",
       "    .dataframe tbody tr th {\n",
       "        vertical-align: top;\n",
       "    }\n",
       "\n",
       "    .dataframe thead th {\n",
       "        text-align: right;\n",
       "    }\n",
       "</style>\n",
       "<table border=\"1\" class=\"dataframe\">\n",
       "  <thead>\n",
       "    <tr style=\"text-align: right;\">\n",
       "      <th></th>\n",
       "      <th>Hypothesis</th>\n",
       "      <th>Reach</th>\n",
       "      <th>Impact</th>\n",
       "      <th>Confidence</th>\n",
       "      <th>Efforts</th>\n",
       "      <th>Ice_score</th>\n",
       "      <th>Rice_score</th>\n",
       "    </tr>\n",
       "  </thead>\n",
       "  <tbody>\n",
       "    <tr>\n",
       "      <th>7</th>\n",
       "      <td>Добавить форму подписки на все основные страни...</td>\n",
       "      <td>10</td>\n",
       "      <td>7</td>\n",
       "      <td>8</td>\n",
       "      <td>5</td>\n",
       "      <td>11.20</td>\n",
       "      <td>112.0</td>\n",
       "    </tr>\n",
       "    <tr>\n",
       "      <th>2</th>\n",
       "      <td>Добавить блоки рекомендаций товаров на сайт ин...</td>\n",
       "      <td>8</td>\n",
       "      <td>3</td>\n",
       "      <td>7</td>\n",
       "      <td>3</td>\n",
       "      <td>7.00</td>\n",
       "      <td>56.0</td>\n",
       "    </tr>\n",
       "    <tr>\n",
       "      <th>0</th>\n",
       "      <td>Добавить два новых канала привлечения трафика,...</td>\n",
       "      <td>3</td>\n",
       "      <td>10</td>\n",
       "      <td>8</td>\n",
       "      <td>6</td>\n",
       "      <td>13.33</td>\n",
       "      <td>40.0</td>\n",
       "    </tr>\n",
       "    <tr>\n",
       "      <th>6</th>\n",
       "      <td>Показать на главной странице баннеры с актуаль...</td>\n",
       "      <td>5</td>\n",
       "      <td>3</td>\n",
       "      <td>8</td>\n",
       "      <td>3</td>\n",
       "      <td>8.00</td>\n",
       "      <td>40.0</td>\n",
       "    </tr>\n",
       "    <tr>\n",
       "      <th>8</th>\n",
       "      <td>Запустить акцию, дающую скидку на товар в день...</td>\n",
       "      <td>1</td>\n",
       "      <td>9</td>\n",
       "      <td>9</td>\n",
       "      <td>5</td>\n",
       "      <td>16.20</td>\n",
       "      <td>16.2</td>\n",
       "    </tr>\n",
       "    <tr>\n",
       "      <th>3</th>\n",
       "      <td>Изменить структура категорий, что увеличит кон...</td>\n",
       "      <td>8</td>\n",
       "      <td>3</td>\n",
       "      <td>3</td>\n",
       "      <td>8</td>\n",
       "      <td>1.12</td>\n",
       "      <td>9.0</td>\n",
       "    </tr>\n",
       "    <tr>\n",
       "      <th>1</th>\n",
       "      <td>Запустить собственную службу доставки, что сок...</td>\n",
       "      <td>2</td>\n",
       "      <td>5</td>\n",
       "      <td>4</td>\n",
       "      <td>10</td>\n",
       "      <td>2.00</td>\n",
       "      <td>4.0</td>\n",
       "    </tr>\n",
       "    <tr>\n",
       "      <th>5</th>\n",
       "      <td>Добавить страницу отзывов клиентов о магазине,...</td>\n",
       "      <td>3</td>\n",
       "      <td>2</td>\n",
       "      <td>2</td>\n",
       "      <td>3</td>\n",
       "      <td>1.33</td>\n",
       "      <td>4.0</td>\n",
       "    </tr>\n",
       "    <tr>\n",
       "      <th>4</th>\n",
       "      <td>Изменить цвет фона главной страницы, чтобы уве...</td>\n",
       "      <td>3</td>\n",
       "      <td>1</td>\n",
       "      <td>1</td>\n",
       "      <td>1</td>\n",
       "      <td>1.00</td>\n",
       "      <td>3.0</td>\n",
       "    </tr>\n",
       "  </tbody>\n",
       "</table>\n",
       "</div>"
      ],
      "text/plain": [
       "                                          Hypothesis  Reach  Impact  \\\n",
       "7  Добавить форму подписки на все основные страни...     10       7   \n",
       "2  Добавить блоки рекомендаций товаров на сайт ин...      8       3   \n",
       "0  Добавить два новых канала привлечения трафика,...      3      10   \n",
       "6  Показать на главной странице баннеры с актуаль...      5       3   \n",
       "8  Запустить акцию, дающую скидку на товар в день...      1       9   \n",
       "3  Изменить структура категорий, что увеличит кон...      8       3   \n",
       "1  Запустить собственную службу доставки, что сок...      2       5   \n",
       "5  Добавить страницу отзывов клиентов о магазине,...      3       2   \n",
       "4  Изменить цвет фона главной страницы, чтобы уве...      3       1   \n",
       "\n",
       "   Confidence  Efforts  Ice_score  Rice_score  \n",
       "7           8        5      11.20       112.0  \n",
       "2           7        3       7.00        56.0  \n",
       "0           8        6      13.33        40.0  \n",
       "6           8        3       8.00        40.0  \n",
       "8           9        5      16.20        16.2  \n",
       "3           3        8       1.12         9.0  \n",
       "1           4       10       2.00         4.0  \n",
       "5           2        3       1.33         4.0  \n",
       "4           1        1       1.00         3.0  "
      ]
     },
     "execution_count": 7,
     "metadata": {},
     "output_type": "execute_result"
    }
   ],
   "source": [
    "hypothesis['Rice_score'] = (hypothesis['Reach'] * \n",
    "                            hypothesis['Impact'] * \n",
    "                            hypothesis['Confidence'] / \n",
    "                            hypothesis['Efforts']).round(2)\n",
    "hypothesis.sort_values(by='Rice_score', ascending=False)"
   ]
  },
  {
   "cell_type": "markdown",
   "metadata": {
    "id": "MYzkAbuexyc4"
   },
   "source": [
    "**приоритет RICE и ICE отличается из-за того, что в методе RICE присутствует дополнительный параметр-REACH, который предполагает ещё и оценку охвата, т.е. предполагаемой целевой аудитории проекта.**"
   ]
  },
  {
   "cell_type": "markdown",
   "metadata": {},
   "source": [
    "$$ICE = \\frac{Impact * Confidence}{Efforts}$$\n",
    "\n",
    "$$RICE = \\frac{Rearch * Impact * Confidence}{Efforts}$$\n",
    "<hr style=\"border: 2px solid orange;\" />"
   ]
  },
  {
   "cell_type": "markdown",
   "metadata": {
    "id": "WyZhjNjCxyc6"
   },
   "source": [
    "# Анализ A/B-теста\n"
   ]
  },
  {
   "cell_type": "code",
   "execution_count": 8,
   "metadata": {},
   "outputs": [
    {
     "data": {
      "text/plain": [
       "1031"
      ]
     },
     "execution_count": 8,
     "metadata": {},
     "output_type": "execute_result"
    }
   ],
   "source": [
    "orders['visitorId'].nunique()"
   ]
  },
  {
   "cell_type": "code",
   "execution_count": 9,
   "metadata": {},
   "outputs": [
    {
     "name": "stdout",
     "output_type": "stream",
     "text": [
      "Количество пользователей попавших в 2 группы:  58\n",
      "Процент от общего числа пользователей:  5.625606207565471\n"
     ]
    }
   ],
   "source": [
    "# пользователи попавшие в обе группы\n",
    "two_group = orders.groupby(by='visitorId').agg({'group':['nunique','unique']})\n",
    "two_group.columns = ['group', 'name']\n",
    "two_group = two_group.query('group > 1')\n",
    "print('Количество пользователей попавших в 2 группы: ',two_group['group'].count())\n",
    "print('Процент от общего числа пользователей: ', two_group['group'].count() / orders['visitorId'].nunique()*100)"
   ]
  },
  {
   "cell_type": "code",
   "execution_count": 10,
   "metadata": {
    "colab": {
     "base_uri": "https://localhost:8080/",
     "height": 300
    },
    "id": "3J1ttQV4xydB",
    "outputId": "b40fcbe5-dca7-4a0e-e560-17c26ca4831b"
   },
   "outputs": [],
   "source": [
    "# создаем массив уникальных пар значений дат и групп теста\n",
    "datesGroups = orders[['date','group']].drop_duplicates()\n",
    "\n",
    "# получаем агрегированные кумулятивные по дням данные о заказах \n",
    "ordersAggregated = datesGroups.apply(\n",
    "    lambda x: orders[np.logical_and(orders['date'] <= x['date'], orders['group'] == x['group'])\n",
    "                    ].agg({'date' : 'max', \n",
    "                           'group' : 'max', \n",
    "                           'transactionId' : 'nunique', \n",
    "                           'visitorId' : 'nunique', \n",
    "                           'revenue' : 'sum'}), axis=1).sort_values(by=['date','group'])\n",
    "\n",
    "# получаем агрегированные кумулятивные по дням данные о посетителях интернет-магазина \n",
    "visitorsAggregated = datesGroups.apply(\n",
    "    lambda x: visitors[np.logical_and(visitors['date'] <= x['date'], visitors['group'] == x['group'])\n",
    "                      ].agg({'date' : 'max', \n",
    "                             'group' : 'max', \n",
    "                             'visitors' : 'sum'}), axis=1).sort_values(by=['date','group'])\n",
    "\n",
    "# объединяем кумулятивные данные в одной таблице и присваиваем ее столбцам понятные названия\n",
    "cumulativeData = ordersAggregated.merge(visitorsAggregated, left_on=['date', 'group'], right_on=['date', 'group'])\n",
    "cumulativeData.columns = ['date', 'group', 'orders', 'buyers', 'revenue', 'visitors']"
   ]
  },
  {
   "cell_type": "code",
   "execution_count": 11,
   "metadata": {},
   "outputs": [],
   "source": [
    "cumulativeData['date'] = cumulativeData['date'].map(lambda x: dt.datetime.strptime(x, '%Y-%m-%d'))\n"
   ]
  },
  {
   "cell_type": "code",
   "execution_count": 12,
   "metadata": {},
   "outputs": [
    {
     "data": {
      "text/html": [
       "<div>\n",
       "<style scoped>\n",
       "    .dataframe tbody tr th:only-of-type {\n",
       "        vertical-align: middle;\n",
       "    }\n",
       "\n",
       "    .dataframe tbody tr th {\n",
       "        vertical-align: top;\n",
       "    }\n",
       "\n",
       "    .dataframe thead th {\n",
       "        text-align: right;\n",
       "    }\n",
       "</style>\n",
       "<table border=\"1\" class=\"dataframe\">\n",
       "  <thead>\n",
       "    <tr style=\"text-align: right;\">\n",
       "      <th></th>\n",
       "      <th>date</th>\n",
       "      <th>group</th>\n",
       "      <th>orders</th>\n",
       "      <th>buyers</th>\n",
       "      <th>revenue</th>\n",
       "      <th>visitors</th>\n",
       "    </tr>\n",
       "  </thead>\n",
       "  <tbody>\n",
       "    <tr>\n",
       "      <th>0</th>\n",
       "      <td>2019-08-01</td>\n",
       "      <td>A</td>\n",
       "      <td>24</td>\n",
       "      <td>20</td>\n",
       "      <td>148579</td>\n",
       "      <td>719</td>\n",
       "    </tr>\n",
       "    <tr>\n",
       "      <th>1</th>\n",
       "      <td>2019-08-01</td>\n",
       "      <td>B</td>\n",
       "      <td>21</td>\n",
       "      <td>20</td>\n",
       "      <td>101217</td>\n",
       "      <td>713</td>\n",
       "    </tr>\n",
       "    <tr>\n",
       "      <th>2</th>\n",
       "      <td>2019-08-02</td>\n",
       "      <td>A</td>\n",
       "      <td>44</td>\n",
       "      <td>38</td>\n",
       "      <td>242401</td>\n",
       "      <td>1338</td>\n",
       "    </tr>\n",
       "    <tr>\n",
       "      <th>3</th>\n",
       "      <td>2019-08-02</td>\n",
       "      <td>B</td>\n",
       "      <td>45</td>\n",
       "      <td>43</td>\n",
       "      <td>266748</td>\n",
       "      <td>1294</td>\n",
       "    </tr>\n",
       "    <tr>\n",
       "      <th>4</th>\n",
       "      <td>2019-08-03</td>\n",
       "      <td>A</td>\n",
       "      <td>68</td>\n",
       "      <td>62</td>\n",
       "      <td>354874</td>\n",
       "      <td>1845</td>\n",
       "    </tr>\n",
       "  </tbody>\n",
       "</table>\n",
       "</div>"
      ],
      "text/plain": [
       "        date group  orders  buyers  revenue  visitors\n",
       "0 2019-08-01     A      24      20   148579       719\n",
       "1 2019-08-01     B      21      20   101217       713\n",
       "2 2019-08-02     A      44      38   242401      1338\n",
       "3 2019-08-02     B      45      43   266748      1294\n",
       "4 2019-08-03     A      68      62   354874      1845"
      ]
     },
     "execution_count": 12,
     "metadata": {},
     "output_type": "execute_result"
    }
   ],
   "source": [
    "cumulativeData.head()"
   ]
  },
  {
   "cell_type": "markdown",
   "metadata": {
    "id": "tkp0bUqSxydA"
   },
   "source": [
    "## график кумулятивной выручки по группам \n"
   ]
  },
  {
   "cell_type": "code",
   "execution_count": 13,
   "metadata": {
    "colab": {
     "base_uri": "https://localhost:8080/",
     "height": 331
    },
    "id": "3wp28_FAxydF",
    "outputId": "b7347bc8-415e-49b0-a601-bd627e038379",
    "scrolled": false
   },
   "outputs": [
    {
     "data": {
      "image/png": "[encoded data removed]",
      "text/plain": [
       "<Figure size 1080x360 with 1 Axes>"
      ]
     },
     "metadata": {
      "needs_background": "light"
     },
     "output_type": "display_data"
    }
   ],
   "source": [
    "# датафрейм с кумулятивным количеством заказов и кумулятивной выручкой по дням в группе А\n",
    "cumulativeRevenueA = cumulativeData[cumulativeData['group']=='A'][['date','revenue', 'orders']]\n",
    "# датафрейм с кумулятивным количеством заказов и кумулятивной выручкой по дням в группе B\n",
    "cumulativeRevenueB = cumulativeData[cumulativeData['group']=='B'][['date','revenue', 'orders']]\n",
    "\n",
    "plt.figure(figsize=(15,5))\n",
    "# Строим график выручки группы А\n",
    "plt.plot(cumulativeRevenueA['date'], cumulativeRevenueA['revenue'], label='A')\n",
    "# Строим график выручки группы B\n",
    "plt.plot(cumulativeRevenueB['date'], cumulativeRevenueB['revenue'], label='B')\n",
    "plt.xlabel('дата')\n",
    "plt.ylabel('выручка')\n",
    "plt.title('график кумулятивной выручки по группам')\n",
    "plt.legend()\n",
    "plt.show()"
   ]
  },
  {
   "cell_type": "markdown",
   "metadata": {},
   "source": [
    "группа В показывает стабильно бОльшую выручку"
   ]
  },
  {
   "cell_type": "markdown",
   "metadata": {
    "id": "CrOfHXS-xydL"
   },
   "source": [
    "## график кумулятивного среднего чека по группам "
   ]
  },
  {
   "cell_type": "code",
   "execution_count": 14,
   "metadata": {},
   "outputs": [
    {
     "data": {
      "image/png": "[encoded data removed]",
      "text/plain": [
       "<Figure size 1080x360 with 1 Axes>"
      ]
     },
     "metadata": {
      "needs_background": "light"
     },
     "output_type": "display_data"
    }
   ],
   "source": [
    "plt.figure(figsize=(15,5))\n",
    "plt.plot(cumulativeRevenueA['date'], cumulativeRevenueA['revenue']/cumulativeRevenueA['orders'], label='A')\n",
    "plt.plot(cumulativeRevenueB['date'], cumulativeRevenueB['revenue']/cumulativeRevenueB['orders'], label='B')\n",
    "plt.xlabel('дата')\n",
    "plt.ylabel('средний чек')\n",
    "plt.title('график кумулятивного среднего чека по группам')\n",
    "plt.legend()\n",
    "plt.show()"
   ]
  },
  {
   "cell_type": "markdown",
   "metadata": {},
   "source": [
    "- средний чек в группе B почти всё время был выше\n",
    "- резкое колебание к концу графика может означать аномальные значения"
   ]
  },
  {
   "cell_type": "markdown",
   "metadata": {
    "id": "wP0d0KSaxydS"
   },
   "source": [
    "## график относительного изменения кумулятивного среднего чека группы B к группе A\n"
   ]
  },
  {
   "cell_type": "code",
   "execution_count": 15,
   "metadata": {
    "colab": {
     "base_uri": "https://localhost:8080/",
     "height": 331
    },
    "id": "4abQGOrdxydS",
    "outputId": "4dc0b803-62d9-4ebf-abbb-b63b0c6b264a",
    "scrolled": true
   },
   "outputs": [
    {
     "data": {
      "image/png": "[encoded data removed]",
      "text/plain": [
       "<Figure size 1080x360 with 1 Axes>"
      ]
     },
     "metadata": {
      "needs_background": "light"
     },
     "output_type": "display_data"
    }
   ],
   "source": [
    "# собираем данные в одном датафрейме\n",
    "mergedCumulativeRevenue = cumulativeRevenueA.merge(cumulativeRevenueB, left_on='date',\n",
    "right_on='date', how='left', suffixes=['A', 'B'])\n",
    "# cтроим отношение средних чеков\n",
    "plt.figure(figsize=(15,5))\n",
    "plt.plot(mergedCumulativeRevenue['date']\n",
    "         ,(mergedCumulativeRevenue['revenueB']/\n",
    "           mergedCumulativeRevenue['ordersB'])/\n",
    "         (mergedCumulativeRevenue['revenueA']/\n",
    "          mergedCumulativeRevenue['ordersA'])-1)\n",
    "# добавляем ось X\n",
    "plt.axhline(y=0, color='black', linestyle='--')\n",
    "plt.xlabel('дата')\n",
    "plt.ylabel('изменение среднего чека')\n",
    "plt.title('график относительного изменения кумулятивного среднего чека группы B к группе A')\n",
    "plt.show()"
   ]
  },
  {
   "cell_type": "markdown",
   "metadata": {
    "id": "YYwHXTvBxydY"
   },
   "source": [
    "## график кумулятивной конверсии по группам"
   ]
  },
  {
   "cell_type": "code",
   "execution_count": 16,
   "metadata": {
    "colab": {
     "base_uri": "https://localhost:8080/",
     "height": 331
    },
    "id": "RO_ZHw8bxydY",
    "outputId": "2892d65b-2747-4785-fb6f-fd0ad05fd5e0",
    "scrolled": true
   },
   "outputs": [
    {
     "data": {
      "image/png": "[encoded data removed]",
      "text/plain": [
       "<Figure size 1080x360 with 1 Axes>"
      ]
     },
     "metadata": {
      "needs_background": "light"
     },
     "output_type": "display_data"
    }
   ],
   "source": [
    "# считаем кумулятивную конверсию\n",
    "cumulativeData['conversion'] = cumulativeData['orders']/cumulativeData['visitors']\n",
    "\n",
    "# отделяем данные по группе A\n",
    "cumulativeDataA = cumulativeData[cumulativeData['group']=='A']\n",
    "\n",
    "# отделяем данные по группе B\n",
    "cumulativeDataB = cumulativeData[cumulativeData['group']=='B']\n",
    "\n",
    "# строим графики\n",
    "plt.figure(figsize=(15,5))\n",
    "plt.plot(cumulativeDataA['date'], cumulativeDataA['conversion'], label='A')\n",
    "plt.plot(cumulativeDataB['date'], cumulativeDataB['conversion'], label='B')\n",
    "plt.legend()\n",
    "plt.xlabel('дата')\n",
    "plt.ylabel('конверсия')\n",
    "plt.title('график кумулятивной конверсии по группам')\n",
    "plt.show()"
   ]
  },
  {
   "cell_type": "markdown",
   "metadata": {},
   "source": [
    "Группа B стабильно показывает большую конверсию чем группа A"
   ]
  },
  {
   "cell_type": "markdown",
   "metadata": {
    "id": "rAz2HD9Dxyde"
   },
   "source": [
    "## график относительного изменения кумулятивной конверсии группы B к группе A"
   ]
  },
  {
   "cell_type": "code",
   "execution_count": 17,
   "metadata": {
    "colab": {
     "base_uri": "https://localhost:8080/",
     "height": 331
    },
    "id": "xrkll7qJxydf",
    "outputId": "50e6c9d9-7e3b-46ac-bf78-b09af9389687"
   },
   "outputs": [
    {
     "data": {
      "image/png": "[encoded data removed]",
      "text/plain": [
       "<Figure size 1080x360 with 1 Axes>"
      ]
     },
     "metadata": {
      "needs_background": "light"
     },
     "output_type": "display_data"
    }
   ],
   "source": [
    "mergedCumulativeConversions = cumulativeDataA[['date','conversion']\n",
    "                                             ].merge(cumulativeDataB[['date','conversion']\n",
    "                                                                    ], left_on='date', \n",
    "                                                     right_on='date', how='left', suffixes=['A', 'B'])\n",
    "\n",
    "plt.figure(figsize=(15,5))\n",
    "\n",
    "plt.plot(mergedCumulativeConversions['date'], \n",
    "         mergedCumulativeConversions['conversionB']/mergedCumulativeConversions['conversionA']-1, \n",
    "         label=\"Относительный прирост конверсии группы B относительно группы A\")\n",
    "\n",
    "plt.legend()\n",
    "\n",
    "plt.axhline(y=0, color='black', linestyle='--')\n",
    "plt.axhline(y=-0.1, color='grey', linestyle='--')\n",
    "plt.xlabel('дата')\n",
    "plt.ylabel('изменение конверсии В к А')\n",
    "plt.title('график относительного изменения кумулятивной конверсии группы B к группе A')\n",
    "plt.show()"
   ]
  },
  {
   "cell_type": "markdown",
   "metadata": {
    "id": "ZaOqnMSgxydl"
   },
   "source": [
    "## распределение количества заказов по пользователям"
   ]
  },
  {
   "cell_type": "code",
   "execution_count": 18,
   "metadata": {},
   "outputs": [
    {
     "data": {
      "image/png": "[encoded data removed]",
      "text/plain": [
       "<Figure size 720x288 with 1 Axes>"
      ]
     },
     "metadata": {
      "needs_background": "light"
     },
     "output_type": "display_data"
    }
   ],
   "source": [
    "orders_users = orders.groupby('visitorId', as_index = False\n",
    "                             ).agg({'transactionId':'nunique'}\n",
    "                                  ).sort_values(by='transactionId', ascending = False\n",
    "                                               )\n",
    "orders_users.columns = ['visitorId', 'orders']\n",
    "orders_users.head(5)\n",
    "plt.figure(figsize=(10,4))\n",
    "plt.hist(orders_users['orders'], bins = 10)\n",
    "plt.title('количество заказов на одного пользователя')\n",
    "plt.xlabel('количество заказов')\n",
    "plt.ylabel('количество пользователей')\n",
    "plt.show()"
   ]
  },
  {
   "cell_type": "code",
   "execution_count": 19,
   "metadata": {
    "colab": {
     "base_uri": "https://localhost:8080/",
     "height": 580
    },
    "id": "7B0UsaETxydm",
    "outputId": "41402c9c-d48e-413d-d2b5-be6cb34e8576"
   },
   "outputs": [
    {
     "data": {
      "image/png": "[encoded data removed]",
      "text/plain": [
       "<Figure size 432x288 with 1 Axes>"
      ]
     },
     "metadata": {
      "needs_background": "light"
     },
     "output_type": "display_data"
    }
   ],
   "source": [
    "orders_users = orders.groupby('visitorId', as_index = False\n",
    "                             ).agg({'transactionId':'nunique'}\n",
    "                                  ).sort_values(by='transactionId', ascending = False\n",
    "                                               )\n",
    "orders_users.columns = ['userId', 'orders']\n",
    "x_values = pd.Series(range(0,len(orders_users)))\n",
    "\n",
    "plt.scatter(x_values, orders_users['orders']) \n",
    "plt.ylabel('количество заказов')\n",
    "plt.xlabel('количество пользователей')\n",
    "plt.title('количество заказов на одного пользователя')\n",
    "plt.show()"
   ]
  },
  {
   "cell_type": "markdown",
   "metadata": {},
   "source": [
    "Судя по графикам, подавляющее большинство пользователей совершает 1 заказ"
   ]
  },
  {
   "cell_type": "markdown",
   "metadata": {
    "id": "Bbmu-qbSxyds"
   },
   "source": [
    "## 95-й и 99-й перцентили количества заказов на пользователя"
   ]
  },
  {
   "cell_type": "code",
   "execution_count": 20,
   "metadata": {
    "colab": {
     "base_uri": "https://localhost:8080/",
     "height": 124
    },
    "id": "Rmswg4Wcxydt",
    "outputId": "6fd9951c-867a-43cb-9842-80ee0f86d079",
    "scrolled": true
   },
   "outputs": [
    {
     "name": "stdout",
     "output_type": "stream",
     "text": [
      "[2. 4.]\n"
     ]
    }
   ],
   "source": [
    "print(np.percentile(orders_users['orders'], [95, 99]))"
   ]
  },
  {
   "cell_type": "markdown",
   "metadata": {},
   "source": [
    "не больше 5% пользователей совершают больше 2 заказов. не больше 1% совершают 4 заказа"
   ]
  },
  {
   "cell_type": "markdown",
   "metadata": {
    "id": "tGJ0pfyXxydz"
   },
   "source": [
    "## графики стоимости заказов"
   ]
  },
  {
   "cell_type": "code",
   "execution_count": 21,
   "metadata": {
    "colab": {
     "base_uri": "https://localhost:8080/",
     "height": 580
    },
    "id": "eo09kgtCxyd0",
    "outputId": "2b03831f-7e4e-4dd4-c775-b1f190160528"
   },
   "outputs": [
    {
     "data": {
      "image/png": "[encoded data removed]",
      "text/plain": [
       "<Figure size 720x288 with 1 Axes>"
      ]
     },
     "metadata": {
      "needs_background": "light"
     },
     "output_type": "display_data"
    },
    {
     "data": {
      "image/png": "[encoded data removed]",
      "text/plain": [
       "<Figure size 720x288 with 1 Axes>"
      ]
     },
     "metadata": {
      "needs_background": "light"
     },
     "output_type": "display_data"
    }
   ],
   "source": [
    "plt.figure(figsize=(10,4))\n",
    "plt.hist(orders['revenue'], range=(0,100000), bins = 100)\n",
    "plt.title('суммы заказов на одного пользователя')\n",
    "plt.xlabel('сумма заказа')\n",
    "plt.ylabel('количество заказов')\n",
    "plt.show()\n",
    "x_values = pd.Series(range(0, len(orders)))\n",
    "plt.figure(figsize=(10,4))\n",
    "plt.scatter(x_values, orders['revenue'])\n",
    "plt.title('суммы заказов на одного пользователя')\n",
    "plt.axis([0, 1200, 0, 200000])\n",
    "plt.ylabel('сумма заказа')\n",
    "plt.xlabel('количество заказов')\n",
    "plt.show()"
   ]
  },
  {
   "cell_type": "markdown",
   "metadata": {},
   "source": [
    "большая часть пользователей делает покупки суммой не больше 25-30 т."
   ]
  },
  {
   "cell_type": "markdown",
   "metadata": {
    "id": "Hm9yk7kwxyd4"
   },
   "source": [
    "## 95-й и 99-й перцентили сумм заказов на пользователя"
   ]
  },
  {
   "cell_type": "code",
   "execution_count": 22,
   "metadata": {},
   "outputs": [
    {
     "name": "stdout",
     "output_type": "stream",
     "text": [
      "[28000.  58233.2]\n"
     ]
    }
   ],
   "source": [
    "print(np.percentile(orders['revenue'], [95, 99]))"
   ]
  },
  {
   "cell_type": "markdown",
   "metadata": {},
   "source": [
    "5% заказов дороже 28"
   ]
  },
  {
   "cell_type": "markdown",
   "metadata": {
    "id": "ktNyJAOWxyd_"
   },
   "source": [
    "## статистическая значимость различий в конверсии между группами по «сырым» данным"
   ]
  },
  {
   "cell_type": "markdown",
   "metadata": {},
   "source": [
    "- **Уровень стат. значимости возмем 0.05**\n",
    "- **Для проверки будем использовать U-критерий Манна — Уитни**"
   ]
  },
  {
   "cell_type": "code",
   "execution_count": 23,
   "metadata": {},
   "outputs": [],
   "source": [
    "visitorsADaily = visitors[visitors['group'] == 'A'][['date', 'visitors']]\n",
    "visitorsADaily.columns = ['date', 'visitorsPerDateA']\n",
    "\n",
    "visitorsACummulative = visitorsADaily.apply(\n",
    "    lambda x: visitorsADaily[visitorsADaily['date'] <= x['date']].agg(\n",
    "        {'date': 'max', 'visitorsPerDateA': 'sum'}\n",
    "    ),\n",
    "    axis=1,\n",
    ")\n",
    "visitorsACummulative.columns = ['date', 'visitorsCummulativeA']\n",
    "\n",
    "visitorsBDaily = visitors[visitors['group'] == 'B'][['date', 'visitors']]\n",
    "visitorsBDaily.columns = ['date', 'visitorsPerDateB']\n",
    "\n",
    "visitorsBCummulative = visitorsBDaily.apply(\n",
    "    lambda x: visitorsBDaily[visitorsBDaily['date'] <= x['date']].agg(\n",
    "        {'date': 'max', 'visitorsPerDateB': 'sum'}\n",
    "    ),\n",
    "    axis=1,\n",
    ")\n",
    "visitorsBCummulative.columns = ['date', 'visitorsCummulativeB']\n",
    "\n",
    "ordersADaily = (\n",
    "    orders[orders['group'] == 'A'][['date', 'transactionId', 'visitorId', 'revenue']]\n",
    "    .groupby('date', as_index=False)\n",
    "    .agg({'transactionId': pd.Series.nunique, 'revenue': 'sum'})\n",
    ")\n",
    "ordersADaily.columns = ['date', 'ordersPerDateA', 'revenuePerDateA']\n",
    "\n",
    "ordersACummulative = ordersADaily.apply(\n",
    "    lambda x: ordersADaily[ordersADaily['date'] <= x['date']].agg(\n",
    "        {'date': 'max', 'ordersPerDateA': 'sum', 'revenuePerDateA': 'sum'}\n",
    "    ),\n",
    "    axis=1,\n",
    ").sort_values(by=['date'])\n",
    "ordersACummulative.columns = [\n",
    "    'date',\n",
    "    'ordersCummulativeA',\n",
    "    'revenueCummulativeA',\n",
    "]\n",
    "\n",
    "ordersBDaily = (\n",
    "    orders[orders['group'] == 'B'][['date', 'transactionId', 'visitorId', 'revenue']]\n",
    "    .groupby('date', as_index=False)\n",
    "    .agg({'transactionId': pd.Series.nunique, 'revenue': 'sum'})\n",
    ")\n",
    "ordersBDaily.columns = ['date', 'ordersPerDateB', 'revenuePerDateB']\n",
    "\n",
    "ordersBCummulative = ordersBDaily.apply(\n",
    "    lambda x: ordersBDaily[ordersBDaily['date'] <= x['date']].agg(\n",
    "        {'date': 'max', 'ordersPerDateB': 'sum', 'revenuePerDateB': 'sum'}\n",
    "    ),\n",
    "    axis=1,\n",
    ").sort_values(by=['date'])\n",
    "ordersBCummulative.columns = [\n",
    "    'date',\n",
    "    'ordersCummulativeB',\n",
    "    'revenueCummulativeB',\n",
    "]\n",
    "\n",
    "data = (\n",
    "    ordersADaily.merge(\n",
    "        ordersBDaily, left_on='date', right_on='date', how='left'\n",
    "    )\n",
    "    .merge(ordersACummulative, left_on='date', right_on='date', how='left')\n",
    "    .merge(ordersBCummulative, left_on='date', right_on='date', how='left')\n",
    "    .merge(visitorsADaily, left_on='date', right_on='date', how='left')\n",
    "    .merge(visitorsBDaily, left_on='date', right_on='date', how='left')\n",
    "    .merge(visitorsACummulative, left_on='date', right_on='date', how='left')\n",
    "    .merge(visitorsBCummulative, left_on='date', right_on='date', how='left')\n",
    ")\n"
   ]
  },
  {
   "cell_type": "markdown",
   "metadata": {},
   "source": [
    "- Н0: значения конверсии групп A и B одинаковы\n",
    "- Н1: значения конверсии группы A ниже группы B"
   ]
  },
  {
   "cell_type": "code",
   "execution_count": 24,
   "metadata": {},
   "outputs": [
    {
     "name": "stdout",
     "output_type": "stream",
     "text": [
      "\n",
      " Относительный прирост конверсии группы B по отношению к группе A: 0.138\n",
      "P-value: 0.9916038971838933\n",
      "\n",
      "Отвергаем H0\n"
     ]
    }
   ],
   "source": [
    "ordersByUsersA = (\n",
    "    orders[orders['group'] == 'A']\n",
    "    .groupby('visitorId', as_index=False)\n",
    "    .agg({'transactionId': pd.Series.nunique})\n",
    ")\n",
    "ordersByUsersA.columns = ['userId', 'orders']\n",
    "\n",
    "ordersByUsersB = (\n",
    "    orders[orders['group'] == 'B']\n",
    "    .groupby('visitorId', as_index=False)\n",
    "    .agg({'transactionId': pd.Series.nunique})\n",
    ")\n",
    "ordersByUsersB.columns = ['userId', 'orders']\n",
    "\n",
    "sampleA = pd.concat(\n",
    "    [\n",
    "        ordersByUsersA['orders'],\n",
    "        pd.Series(\n",
    "            0,\n",
    "            index=np.arange(\n",
    "                data['visitorsPerDateA'].sum() - len(ordersByUsersA['orders'])\n",
    "            ),\n",
    "            name='orders',\n",
    "        ),\n",
    "    ],\n",
    "    axis=0,\n",
    ")\n",
    "\n",
    "sampleB = pd.concat(\n",
    "    [\n",
    "        ordersByUsersB['orders'],\n",
    "        pd.Series(\n",
    "            0,\n",
    "            index=np.arange(\n",
    "                data['visitorsPerDateB'].sum() - len(ordersByUsersB['orders'])\n",
    "            ),\n",
    "            name='orders',\n",
    "        ),\n",
    "    ],\n",
    "    axis=0,\n",
    ")\n",
    "\n",
    "print('\\n Относительный прирост конверсии группы B по отношению к группе A: {:.3f}'.format(sampleB.mean()/sampleA.mean()-1))\n",
    "alpha = 0.05\n",
    "results = stats.mannwhitneyu(sampleA, sampleB, alternative='greater')\n",
    "print('P-value: {}'.format(results.pvalue))\n",
    "if results.pvalue < alpha:\n",
    "    print('Принимаем H0')\n",
    "else:\n",
    "    print('\\nОтвергаем H0')"
   ]
  },
  {
   "cell_type": "code",
   "execution_count": 25,
   "metadata": {},
   "outputs": [
    {
     "data": {
      "text/plain": [
       "0.029728864218616567"
      ]
     },
     "execution_count": 25,
     "metadata": {},
     "output_type": "execute_result"
    }
   ],
   "source": [
    "sampleA.mean()"
   ]
  },
  {
   "cell_type": "code",
   "execution_count": 26,
   "metadata": {},
   "outputs": [
    {
     "data": {
      "text/plain": [
       "0.033833791499259885"
      ]
     },
     "execution_count": 26,
     "metadata": {},
     "output_type": "execute_result"
    }
   ],
   "source": [
    "sampleB.mean()"
   ]
  },
  {
   "cell_type": "markdown",
   "metadata": {
    "id": "MMulDtaTxyeF"
   },
   "source": [
    "## статистическая значимость различий в среднем чеке заказа между группами по «сырым» данным\n"
   ]
  },
  {
   "cell_type": "markdown",
   "metadata": {},
   "source": [
    "- Н0: средний чек групп A и B одинаков\n",
    "- Н1: средний чек группы A ниже группы B"
   ]
  },
  {
   "cell_type": "code",
   "execution_count": 27,
   "metadata": {
    "colab": {
     "base_uri": "https://localhost:8080/",
     "height": 70
    },
    "id": "lYqAhBU-xyeG",
    "outputId": "b093fbb9-4e41-4d9d-c4e7-1b13167143b6",
    "scrolled": true
   },
   "outputs": [
    {
     "name": "stdout",
     "output_type": "stream",
     "text": [
      "Относительное изменение среднего чека в группе B по отношению группы A: 0.259\n",
      "P-value: 0.6354174924591334\n",
      "\n",
      "Отвергаем H0\n"
     ]
    }
   ],
   "source": [
    "print('Относительное изменение среднего чека в группе B по отношению группы A: {:.3f}'\n",
    "      .format(orders[orders['group']=='B']['revenue']\n",
    "              .mean()/orders[orders['group']=='A']['revenue'].mean()-1)\n",
    "     )\n",
    "results = stats.mannwhitneyu(orders[orders['group']=='A']['revenue'], \n",
    "                             orders[orders['group']=='B']['revenue'],\n",
    "                             alternative='greater'\n",
    "                            )\n",
    "print('P-value: {}'.format(results.pvalue))\n",
    "if results.pvalue < alpha:\n",
    "    print('Принимаем H0')\n",
    "else:\n",
    "    print('\\nОтвергаем H0')"
   ]
  },
  {
   "cell_type": "code",
   "execution_count": 28,
   "metadata": {},
   "outputs": [
    {
     "data": {
      "text/plain": [
       "7333.578096947936"
      ]
     },
     "execution_count": 28,
     "metadata": {},
     "output_type": "execute_result"
    }
   ],
   "source": [
    "orders[orders['group']=='A']['revenue'].mean()"
   ]
  },
  {
   "cell_type": "code",
   "execution_count": 29,
   "metadata": {},
   "outputs": [
    {
     "data": {
      "text/plain": [
       "9230.875"
      ]
     },
     "execution_count": 29,
     "metadata": {},
     "output_type": "execute_result"
    }
   ],
   "source": [
    "orders[orders['group']=='B']['revenue'].mean()"
   ]
  },
  {
   "cell_type": "markdown",
   "metadata": {
    "id": "vgs1vOHDxyeS"
   },
   "source": [
    "## статистическая значимость различий в конверсии между группами по «очищенным» данным"
   ]
  },
  {
   "cell_type": "code",
   "execution_count": 30,
   "metadata": {
    "id": "-M3wG_VjxyeT"
   },
   "outputs": [
    {
     "name": "stdout",
     "output_type": "stream",
     "text": [
      "Количество аномальных пользователей: 74\n"
     ]
    }
   ],
   "source": [
    "#зададим предельные кол-во заказов и сумму покупки для формирования списка аномальных пользователей\n",
    "usersWithManyOrders = pd.concat(\n",
    "    [\n",
    "        ordersByUsersA[ordersByUsersA['orders'] > 2]['userId'],\n",
    "        ordersByUsersB[ordersByUsersB['orders'] > 2]['userId'],\n",
    "    ],\n",
    "    axis=0,\n",
    ")\n",
    "usersWithExpensiveOrders = orders[orders['revenue'] > 28000]['visitorId']\n",
    "abnormalUsers = (\n",
    "    pd.concat([usersWithManyOrders, usersWithExpensiveOrders], axis=0)\n",
    "    .drop_duplicates()\n",
    "    .sort_values()\n",
    ")\n",
    "print('Количество аномальных пользователей:',len(abnormalUsers))"
   ]
  },
  {
   "cell_type": "markdown",
   "metadata": {},
   "source": [
    "- Н0: значения конверсии групп A и B одинаковы\n",
    "- Н1: значения конверсии группы A ниже группы B"
   ]
  },
  {
   "cell_type": "code",
   "execution_count": 31,
   "metadata": {},
   "outputs": [
    {
     "name": "stdout",
     "output_type": "stream",
     "text": [
      "\n",
      "Относительный прирост конверсии группы B по отношению к группе A после очистки данных: 0.173\n",
      "P-value: 0.993478766232971\n",
      "\n",
      "Отвергаем H0\n"
     ]
    }
   ],
   "source": [
    "sampleAFiltered = pd.concat(\n",
    "    [\n",
    "        ordersByUsersA[\n",
    "            np.logical_not(ordersByUsersA['userId'].isin(abnormalUsers))\n",
    "        ]['orders'],\n",
    "        pd.Series(\n",
    "            0,\n",
    "            index=np.arange(\n",
    "                data['visitorsPerDateA'].sum() - len(ordersByUsersA['orders'])\n",
    "            ),\n",
    "            name='orders',\n",
    "        ),\n",
    "    ],\n",
    "    axis=0,\n",
    ")\n",
    "\n",
    "sampleBFiltered = pd.concat(\n",
    "    [\n",
    "        ordersByUsersB[\n",
    "            np.logical_not(ordersByUsersB['userId'].isin(abnormalUsers))\n",
    "        ]['orders'],\n",
    "        pd.Series(\n",
    "            0,\n",
    "            index=np.arange(\n",
    "                data['visitorsPerDateB'].sum() - len(ordersByUsersB['orders'])\n",
    "            ),\n",
    "            name='orders',\n",
    "        ),\n",
    "    ],\n",
    "    axis=0,\n",
    ")\n",
    "print('\\nОтносительный прирост конверсии группы B по отношению к группе A после очистки данных: {:.3f}'.format(sampleBFiltered.mean()/sampleAFiltered.mean()-1))\n",
    "results = stats.mannwhitneyu(sampleAFiltered, sampleBFiltered, alternative='greater')\n",
    "print('P-value: {}'.format(results.pvalue))\n",
    "if results.pvalue < alpha:\n",
    "    print('Принимаем H0')\n",
    "else:\n",
    "    print('\\nОтвергаем H0')"
   ]
  },
  {
   "cell_type": "code",
   "execution_count": 32,
   "metadata": {},
   "outputs": [
    {
     "data": {
      "text/plain": [
       "0.02530765115034778"
      ]
     },
     "execution_count": 32,
     "metadata": {},
     "output_type": "execute_result"
    }
   ],
   "source": [
    "sampleAFiltered.mean()"
   ]
  },
  {
   "cell_type": "code",
   "execution_count": 33,
   "metadata": {},
   "outputs": [
    {
     "data": {
      "text/plain": [
       "0.029678308336424822"
      ]
     },
     "execution_count": 33,
     "metadata": {},
     "output_type": "execute_result"
    }
   ],
   "source": [
    "sampleBFiltered.mean()"
   ]
  },
  {
   "cell_type": "markdown",
   "metadata": {
    "id": "BcbxEfVKxyei"
   },
   "source": [
    "## статистическую значимость различий в среднем чеке заказа между группами по «очищенным» данным"
   ]
  },
  {
   "cell_type": "markdown",
   "metadata": {},
   "source": [
    "- Н0: средний чек групп A и B одинаков\n",
    "- Н1: средний чек группы A ниже группы B"
   ]
  },
  {
   "cell_type": "code",
   "execution_count": 34,
   "metadata": {
    "colab": {
     "base_uri": "https://localhost:8080/",
     "height": 70
    },
    "id": "nDRF_fX9xyej",
    "outputId": "0f37660b-fb10-4d3b-ddd4-dc6d60063bc5"
   },
   "outputs": [
    {
     "name": "stdout",
     "output_type": "stream",
     "text": [
      "Относительное изменение среднего чека в группе B по отношению группы A после очистки данных: -0.020\n",
      "P-value: 0.3692408756572825\n",
      "\n",
      "Отвергаем H0\n"
     ]
    }
   ],
   "source": [
    "print('Относительное изменение среднего чека в группе B по отношению группы A после очистки данных: {:.3f}'.format(\n",
    "orders[np.logical_and(orders['group']=='B', np.logical_not(orders['visitorId'].isin(abnormalUsers)))]['revenue'].mean()\\\n",
    "/orders[np.logical_and(orders['group']=='A', np.logical_not(orders['visitorId'].isin(abnormalUsers)))]['revenue'].mean()-1))\n",
    "       \n",
    "       \n",
    "results = stats.mannwhitneyu(orders[np.logical_and(orders['group']=='A', np.logical_not(orders['visitorId'].isin(abnormalUsers)))]['revenue'],\n",
    "                             orders[np.logical_and(orders['group']=='B', np.logical_not(orders['visitorId'].isin(abnormalUsers)))]['revenue'],\n",
    "                            alternative='greater'\n",
    "                            )\n",
    "print('P-value: {}'.format(results.pvalue))\n",
    "if results.pvalue < alpha:\n",
    "    print('Принимаем H0')\n",
    "else:\n",
    "    print('\\nОтвергаем H0')"
   ]
  },
  {
   "cell_type": "code",
   "execution_count": 35,
   "metadata": {},
   "outputs": [
    {
     "name": "stdout",
     "output_type": "stream",
     "text": [
      "5166.608879492601\n"
     ]
    },
    {
     "data": {
      "text/plain": [
       "5065.217857142857"
      ]
     },
     "execution_count": 35,
     "metadata": {},
     "output_type": "execute_result"
    }
   ],
   "source": [
    "print(orders[np.logical_and(orders['group']=='A', np.logical_not(orders['visitorId'].isin(abnormalUsers)))]['revenue'].mean())\n",
    "orders[np.logical_and(orders['group']=='B', np.logical_not(orders['visitorId'].isin(abnormalUsers)))]['revenue'].mean()\n",
    "                            "
   ]
  },
  {
   "cell_type": "markdown",
   "metadata": {},
   "source": [
    "по очищеным данным видим что средний чек группы В меньше группы А, но разница минимальна и чеки почти равны."
   ]
  },
  {
   "cell_type": "markdown",
   "metadata": {},
   "source": [
    "<a class=\"anchor\" id=\"21-bullet\">"
   ]
  },
  {
   "cell_type": "markdown",
   "metadata": {
    "id": "0FQLO6h5xyeo"
   },
   "source": [
    "# решение по результатам теста \n",
    "\n",
    "- Кумулятивные метрики по выручке, среднему чеку и конверсии почти все время лидировали в группе B. \n",
    "- До и после очистки данных, показатель конверсии в группе B больше показателя в группе A - сначала на 14% до и на 17% после очистки данных. \n",
    "- **Разница конверсии между группами до и после очистки данных является СТАТИСТИЧЕСКИ ЗНАЧИМОЙ, что пользволяет нам сделать вывод о том, что мы можем остановить наш A/B тест и зафиксировать победу группы B!**\n",
    "- **Разница в чеках по очищенным данным статистически не значима**"
   ]
  }
 ],
 "metadata": {
  "ExecuteTimeLog": [
   {
    "duration": 1180,
    "start_time": "2022-03-25T05:52:19.925Z"
   },
   {
    "duration": 120,
    "start_time": "2022-03-25T05:52:21.107Z"
   },
   {
    "duration": 131,
    "start_time": "2022-03-25T05:52:21.229Z"
   },
   {
    "duration": 194,
    "start_time": "2022-03-25T05:52:21.362Z"
   },
   {
    "duration": 12,
    "start_time": "2022-03-25T05:52:21.557Z"
   },
   {
    "duration": 12,
    "start_time": "2022-03-25T05:52:21.571Z"
   },
   {
    "duration": 13,
    "start_time": "2022-03-25T05:52:21.584Z"
   },
   {
    "duration": 72,
    "start_time": "2022-03-25T05:52:21.598Z"
   },
   {
    "duration": 266,
    "start_time": "2022-03-25T05:52:21.671Z"
   },
   {
    "duration": 5,
    "start_time": "2022-03-25T05:52:21.940Z"
   },
   {
    "duration": 15,
    "start_time": "2022-03-25T05:52:21.946Z"
   },
   {
    "duration": 279,
    "start_time": "2022-03-25T05:52:21.962Z"
   },
   {
    "duration": 202,
    "start_time": "2022-03-25T05:52:22.242Z"
   },
   {
    "duration": 317,
    "start_time": "2022-03-25T05:52:22.446Z"
   },
   {
    "duration": 223,
    "start_time": "2022-03-25T05:52:22.765Z"
   },
   {
    "duration": 305,
    "start_time": "2022-03-25T05:52:22.990Z"
   },
   {
    "duration": 129,
    "start_time": "2022-03-25T05:52:23.297Z"
   },
   {
    "duration": 130,
    "start_time": "2022-03-25T05:52:23.428Z"
   },
   {
    "duration": 5,
    "start_time": "2022-03-25T05:52:23.559Z"
   },
   {
    "duration": 450,
    "start_time": "2022-03-25T05:52:23.565Z"
   },
   {
    "duration": 5,
    "start_time": "2022-03-25T05:52:24.016Z"
   },
   {
    "duration": 207,
    "start_time": "2022-03-25T05:52:24.023Z"
   },
   {
    "duration": 159,
    "start_time": "2022-03-25T05:52:24.231Z"
   },
   {
    "duration": 11,
    "start_time": "2022-03-25T05:52:24.391Z"
   },
   {
    "duration": 11,
    "start_time": "2022-03-25T05:52:24.404Z"
   },
   {
    "duration": 45,
    "start_time": "2022-03-25T05:52:24.417Z"
   },
   {
    "duration": 15,
    "start_time": "2022-03-25T05:52:24.464Z"
   },
   {
    "duration": 47,
    "start_time": "2022-03-25T06:37:38.790Z"
   },
   {
    "duration": 1351,
    "start_time": "2022-03-25T06:37:45.882Z"
   },
   {
    "duration": 76,
    "start_time": "2022-03-25T06:37:47.235Z"
   },
   {
    "duration": 53,
    "start_time": "2022-03-25T06:37:47.313Z"
   },
   {
    "duration": 45,
    "start_time": "2022-03-25T06:37:47.368Z"
   },
   {
    "duration": 14,
    "start_time": "2022-03-25T06:37:47.414Z"
   },
   {
    "duration": 12,
    "start_time": "2022-03-25T06:37:47.430Z"
   },
   {
    "duration": 7,
    "start_time": "2022-03-25T06:37:47.444Z"
   },
   {
    "duration": 90,
    "start_time": "2022-03-25T06:37:47.452Z"
   },
   {
    "duration": 261,
    "start_time": "2022-03-25T06:37:47.543Z"
   },
   {
    "duration": 5,
    "start_time": "2022-03-25T06:37:47.808Z"
   },
   {
    "duration": 21,
    "start_time": "2022-03-25T06:37:47.815Z"
   },
   {
    "duration": 270,
    "start_time": "2022-03-25T06:37:47.837Z"
   },
   {
    "duration": 196,
    "start_time": "2022-03-25T06:37:48.109Z"
   },
   {
    "duration": 355,
    "start_time": "2022-03-25T06:37:48.307Z"
   },
   {
    "duration": 222,
    "start_time": "2022-03-25T06:37:48.664Z"
   },
   {
    "duration": 295,
    "start_time": "2022-03-25T06:37:48.888Z"
   },
   {
    "duration": 126,
    "start_time": "2022-03-25T06:37:49.185Z"
   },
   {
    "duration": 128,
    "start_time": "2022-03-25T06:37:49.313Z"
   },
   {
    "duration": 5,
    "start_time": "2022-03-25T06:37:49.443Z"
   },
   {
    "duration": 438,
    "start_time": "2022-03-25T06:37:49.449Z"
   },
   {
    "duration": 4,
    "start_time": "2022-03-25T06:37:49.890Z"
   },
   {
    "duration": 214,
    "start_time": "2022-03-25T06:37:49.895Z"
   },
   {
    "duration": 182,
    "start_time": "2022-03-25T06:37:50.111Z"
   },
   {
    "duration": 11,
    "start_time": "2022-03-25T06:37:50.294Z"
   },
   {
    "duration": 26,
    "start_time": "2022-03-25T06:37:50.307Z"
   },
   {
    "duration": 29,
    "start_time": "2022-03-25T06:37:50.335Z"
   },
   {
    "duration": 14,
    "start_time": "2022-03-25T06:37:50.366Z"
   },
   {
    "duration": 67,
    "start_time": "2022-03-25T06:38:12.034Z"
   },
   {
    "duration": 59,
    "start_time": "2022-03-25T06:38:55.965Z"
   },
   {
    "duration": 65,
    "start_time": "2022-03-25T06:41:26.978Z"
   },
   {
    "duration": 63,
    "start_time": "2022-03-25T06:42:17.318Z"
   },
   {
    "duration": 57,
    "start_time": "2022-03-25T06:42:58.790Z"
   },
   {
    "duration": 60,
    "start_time": "2022-03-25T06:43:10.536Z"
   },
   {
    "duration": 185,
    "start_time": "2022-03-25T06:45:24.967Z"
   },
   {
    "duration": 181,
    "start_time": "2022-03-25T06:45:45.578Z"
   },
   {
    "duration": 192,
    "start_time": "2022-03-25T06:46:12.326Z"
   },
   {
    "duration": 303,
    "start_time": "2022-03-25T06:48:01.141Z"
   },
   {
    "duration": 201,
    "start_time": "2022-03-25T06:48:18.352Z"
   },
   {
    "duration": 289,
    "start_time": "2022-03-25T06:48:52.363Z"
   },
   {
    "duration": 306,
    "start_time": "2022-03-25T06:49:09.246Z"
   },
   {
    "duration": 125,
    "start_time": "2022-03-25T06:50:43.384Z"
   },
   {
    "duration": 173,
    "start_time": "2022-03-25T06:51:29.414Z"
   },
   {
    "duration": 173,
    "start_time": "2022-03-25T06:51:53.204Z"
   },
   {
    "duration": 495,
    "start_time": "2022-03-25T06:53:06.480Z"
   },
   {
    "duration": 346,
    "start_time": "2022-03-25T06:53:22.716Z"
   },
   {
    "duration": 357,
    "start_time": "2022-03-25T06:53:44.678Z"
   },
   {
    "duration": 193,
    "start_time": "2022-03-25T06:54:54.405Z"
   },
   {
    "duration": 187,
    "start_time": "2022-03-25T06:55:15.410Z"
   },
   {
    "duration": 283,
    "start_time": "2022-03-25T06:55:25.615Z"
   },
   {
    "duration": 303,
    "start_time": "2022-03-25T06:55:53.095Z"
   },
   {
    "duration": 199,
    "start_time": "2022-03-25T06:56:25.336Z"
   },
   {
    "duration": 355,
    "start_time": "2022-03-25T06:56:53.710Z"
   },
   {
    "duration": 125,
    "start_time": "2022-03-25T06:57:24.882Z"
   },
   {
    "duration": 1211,
    "start_time": "2022-03-26T03:32:23.847Z"
   },
   {
    "duration": 153,
    "start_time": "2022-03-26T03:32:25.060Z"
   },
   {
    "duration": 91,
    "start_time": "2022-03-26T03:32:25.215Z"
   },
   {
    "duration": 86,
    "start_time": "2022-03-26T03:32:25.308Z"
   },
   {
    "duration": 12,
    "start_time": "2022-03-26T03:32:25.397Z"
   },
   {
    "duration": 11,
    "start_time": "2022-03-26T03:32:25.411Z"
   },
   {
    "duration": 4,
    "start_time": "2022-03-26T03:32:25.424Z"
   },
   {
    "duration": 86,
    "start_time": "2022-03-26T03:32:25.430Z"
   },
   {
    "duration": 257,
    "start_time": "2022-03-26T03:32:25.517Z"
   },
   {
    "duration": 5,
    "start_time": "2022-03-26T03:32:25.775Z"
   },
   {
    "duration": 10,
    "start_time": "2022-03-26T03:32:25.781Z"
   },
   {
    "duration": 295,
    "start_time": "2022-03-26T03:32:25.792Z"
   },
   {
    "duration": 212,
    "start_time": "2022-03-26T03:32:26.089Z"
   },
   {
    "duration": 369,
    "start_time": "2022-03-26T03:32:26.304Z"
   },
   {
    "duration": 226,
    "start_time": "2022-03-26T03:32:26.675Z"
   },
   {
    "duration": 340,
    "start_time": "2022-03-26T03:32:26.903Z"
   },
   {
    "duration": 128,
    "start_time": "2022-03-26T03:32:27.245Z"
   },
   {
    "duration": 131,
    "start_time": "2022-03-26T03:32:27.375Z"
   },
   {
    "duration": 3,
    "start_time": "2022-03-26T03:32:27.508Z"
   },
   {
    "duration": 462,
    "start_time": "2022-03-26T03:32:27.513Z"
   },
   {
    "duration": 3,
    "start_time": "2022-03-26T03:32:27.977Z"
   },
   {
    "duration": 204,
    "start_time": "2022-03-26T03:32:27.982Z"
   },
   {
    "duration": 164,
    "start_time": "2022-03-26T03:32:28.188Z"
   },
   {
    "duration": 10,
    "start_time": "2022-03-26T03:32:28.354Z"
   },
   {
    "duration": 7,
    "start_time": "2022-03-26T03:32:28.365Z"
   },
   {
    "duration": 47,
    "start_time": "2022-03-26T03:32:28.374Z"
   },
   {
    "duration": 12,
    "start_time": "2022-03-26T03:32:28.423Z"
   },
   {
    "duration": 1761,
    "start_time": "2022-03-26T20:07:38.769Z"
   },
   {
    "duration": 134,
    "start_time": "2022-03-26T20:07:40.533Z"
   },
   {
    "duration": 112,
    "start_time": "2022-03-26T20:07:40.670Z"
   },
   {
    "duration": 80,
    "start_time": "2022-03-26T20:07:40.784Z"
   },
   {
    "duration": 20,
    "start_time": "2022-03-26T20:07:40.868Z"
   },
   {
    "duration": 19,
    "start_time": "2022-03-26T20:07:40.891Z"
   },
   {
    "duration": 9,
    "start_time": "2022-03-26T20:07:40.913Z"
   },
   {
    "duration": 158,
    "start_time": "2022-03-26T20:07:40.924Z"
   },
   {
    "duration": 459,
    "start_time": "2022-03-26T20:07:41.084Z"
   },
   {
    "duration": 7,
    "start_time": "2022-03-26T20:07:41.546Z"
   },
   {
    "duration": 23,
    "start_time": "2022-03-26T20:07:41.556Z"
   },
   {
    "duration": 605,
    "start_time": "2022-03-26T20:07:41.581Z"
   },
   {
    "duration": 351,
    "start_time": "2022-03-26T20:07:42.189Z"
   },
   {
    "duration": 513,
    "start_time": "2022-03-26T20:07:42.544Z"
   },
   {
    "duration": 379,
    "start_time": "2022-03-26T20:07:43.059Z"
   },
   {
    "duration": 533,
    "start_time": "2022-03-26T20:07:43.440Z"
   },
   {
    "duration": 240,
    "start_time": "2022-03-26T20:07:43.976Z"
   },
   {
    "duration": 221,
    "start_time": "2022-03-26T20:07:44.218Z"
   },
   {
    "duration": 6,
    "start_time": "2022-03-26T20:07:44.442Z"
   },
   {
    "duration": 867,
    "start_time": "2022-03-26T20:07:44.450Z"
   },
   {
    "duration": 6,
    "start_time": "2022-03-26T20:07:45.319Z"
   },
   {
    "duration": 381,
    "start_time": "2022-03-26T20:07:45.327Z"
   },
   {
    "duration": 321,
    "start_time": "2022-03-26T20:07:45.710Z"
   },
   {
    "duration": 18,
    "start_time": "2022-03-26T20:07:46.034Z"
   },
   {
    "duration": 16,
    "start_time": "2022-03-26T20:07:46.076Z"
   },
   {
    "duration": 82,
    "start_time": "2022-03-26T20:07:46.095Z"
   },
   {
    "duration": 24,
    "start_time": "2022-03-26T20:07:46.180Z"
   },
   {
    "duration": 1378,
    "start_time": "2022-03-26T20:08:05.782Z"
   },
   {
    "duration": 88,
    "start_time": "2022-03-26T20:08:07.163Z"
   },
   {
    "duration": 75,
    "start_time": "2022-03-26T20:08:07.253Z"
   },
   {
    "duration": 51,
    "start_time": "2022-03-26T20:08:07.332Z"
   },
   {
    "duration": 18,
    "start_time": "2022-03-26T20:08:07.386Z"
   },
   {
    "duration": 18,
    "start_time": "2022-03-26T20:08:07.406Z"
   },
   {
    "duration": 6,
    "start_time": "2022-03-26T20:08:07.426Z"
   },
   {
    "duration": 175,
    "start_time": "2022-03-26T20:08:07.435Z"
   },
   {
    "duration": 452,
    "start_time": "2022-03-26T20:08:07.612Z"
   },
   {
    "duration": 11,
    "start_time": "2022-03-26T20:08:08.068Z"
   },
   {
    "duration": 17,
    "start_time": "2022-03-26T20:08:08.081Z"
   },
   {
    "duration": 499,
    "start_time": "2022-03-26T20:08:08.100Z"
   },
   {
    "duration": 348,
    "start_time": "2022-03-26T20:08:08.602Z"
   },
   {
    "duration": 475,
    "start_time": "2022-03-26T20:08:08.952Z"
   },
   {
    "duration": 415,
    "start_time": "2022-03-26T20:08:09.429Z"
   },
   {
    "duration": 482,
    "start_time": "2022-03-26T20:08:09.864Z"
   },
   {
    "duration": 228,
    "start_time": "2022-03-26T20:08:10.348Z"
   },
   {
    "duration": 222,
    "start_time": "2022-03-26T20:08:10.578Z"
   },
   {
    "duration": 5,
    "start_time": "2022-03-26T20:08:10.803Z"
   },
   {
    "duration": 801,
    "start_time": "2022-03-26T20:08:10.811Z"
   },
   {
    "duration": 6,
    "start_time": "2022-03-26T20:08:11.615Z"
   },
   {
    "duration": 379,
    "start_time": "2022-03-26T20:08:11.623Z"
   },
   {
    "duration": 324,
    "start_time": "2022-03-26T20:08:12.004Z"
   },
   {
    "duration": 15,
    "start_time": "2022-03-26T20:08:12.330Z"
   },
   {
    "duration": 39,
    "start_time": "2022-03-26T20:08:12.347Z"
   },
   {
    "duration": 44,
    "start_time": "2022-03-26T20:08:12.389Z"
   },
   {
    "duration": 38,
    "start_time": "2022-03-26T20:08:12.436Z"
   },
   {
    "duration": 11,
    "start_time": "2022-03-26T20:09:30.229Z"
   },
   {
    "duration": 313,
    "start_time": "2022-03-26T20:09:54.086Z"
   },
   {
    "duration": 305,
    "start_time": "2022-03-26T20:10:43.146Z"
   },
   {
    "duration": 313,
    "start_time": "2022-03-26T20:11:07.721Z"
   },
   {
    "duration": 297,
    "start_time": "2022-03-26T20:12:21.504Z"
   },
   {
    "duration": 302,
    "start_time": "2022-03-26T20:13:37.966Z"
   },
   {
    "duration": 9,
    "start_time": "2022-03-26T20:21:51.937Z"
   },
   {
    "duration": 5,
    "start_time": "2022-03-26T20:22:35.428Z"
   },
   {
    "duration": 6,
    "start_time": "2022-03-26T20:22:54.094Z"
   },
   {
    "duration": 6,
    "start_time": "2022-03-26T20:24:04.133Z"
   },
   {
    "duration": 5,
    "start_time": "2022-03-26T20:24:22.826Z"
   },
   {
    "duration": 1853,
    "start_time": "2022-03-26T20:30:56.428Z"
   },
   {
    "duration": 250,
    "start_time": "2022-03-26T20:30:58.284Z"
   },
   {
    "duration": 96,
    "start_time": "2022-03-26T20:30:58.536Z"
   },
   {
    "duration": 78,
    "start_time": "2022-03-26T20:30:58.637Z"
   },
   {
    "duration": 30,
    "start_time": "2022-03-26T20:30:58.718Z"
   },
   {
    "duration": 34,
    "start_time": "2022-03-26T20:30:58.752Z"
   },
   {
    "duration": 9,
    "start_time": "2022-03-26T20:30:58.790Z"
   },
   {
    "duration": 152,
    "start_time": "2022-03-26T20:30:58.802Z"
   },
   {
    "duration": 454,
    "start_time": "2022-03-26T20:30:58.956Z"
   },
   {
    "duration": 7,
    "start_time": "2022-03-26T20:30:59.416Z"
   },
   {
    "duration": 36,
    "start_time": "2022-03-26T20:30:59.425Z"
   },
   {
    "duration": 676,
    "start_time": "2022-03-26T20:30:59.464Z"
   },
   {
    "duration": 458,
    "start_time": "2022-03-26T20:31:00.142Z"
   },
   {
    "duration": 584,
    "start_time": "2022-03-26T20:31:00.603Z"
   },
   {
    "duration": 596,
    "start_time": "2022-03-26T20:31:01.189Z"
   },
   {
    "duration": 589,
    "start_time": "2022-03-26T20:31:01.788Z"
   },
   {
    "duration": 302,
    "start_time": "2022-03-26T20:31:02.380Z"
   },
   {
    "duration": 219,
    "start_time": "2022-03-26T20:31:02.684Z"
   },
   {
    "duration": 6,
    "start_time": "2022-03-26T20:31:02.906Z"
   },
   {
    "duration": 905,
    "start_time": "2022-03-26T20:31:02.915Z"
   },
   {
    "duration": 6,
    "start_time": "2022-03-26T20:31:03.822Z"
   },
   {
    "duration": 362,
    "start_time": "2022-03-26T20:31:03.831Z"
   },
   {
    "duration": 374,
    "start_time": "2022-03-26T20:31:04.196Z"
   },
   {
    "duration": 6,
    "start_time": "2022-03-26T20:31:04.575Z"
   },
   {
    "duration": 7,
    "start_time": "2022-03-26T20:31:04.584Z"
   },
   {
    "duration": 15,
    "start_time": "2022-03-26T20:31:04.593Z"
   },
   {
    "duration": 13,
    "start_time": "2022-03-26T20:31:04.611Z"
   },
   {
    "duration": 51,
    "start_time": "2022-03-26T20:31:04.628Z"
   },
   {
    "duration": 19,
    "start_time": "2022-03-26T20:31:04.682Z"
   },
   {
    "duration": 315,
    "start_time": "2022-03-26T20:36:03.228Z"
   },
   {
    "duration": 296,
    "start_time": "2022-03-26T20:37:39.222Z"
   },
   {
    "duration": 324,
    "start_time": "2022-03-26T20:38:06.758Z"
   },
   {
    "duration": 7,
    "start_time": "2022-03-26T20:38:38.779Z"
   },
   {
    "duration": 10,
    "start_time": "2022-03-26T20:38:39.470Z"
   },
   {
    "duration": 16,
    "start_time": "2022-03-26T20:41:47.010Z"
   },
   {
    "duration": 16,
    "start_time": "2022-03-26T20:42:49.850Z"
   },
   {
    "duration": 15,
    "start_time": "2022-03-26T20:43:00.274Z"
   },
   {
    "duration": 16,
    "start_time": "2022-03-26T20:43:38.697Z"
   },
   {
    "duration": 9,
    "start_time": "2022-03-26T20:44:25.158Z"
   },
   {
    "duration": 10,
    "start_time": "2022-03-26T20:44:46.772Z"
   },
   {
    "duration": 61,
    "start_time": "2022-03-26T20:46:58.412Z"
   },
   {
    "duration": 7,
    "start_time": "2022-03-26T20:47:58.318Z"
   },
   {
    "duration": 6,
    "start_time": "2022-03-26T20:48:15.508Z"
   },
   {
    "duration": 20,
    "start_time": "2022-03-26T20:50:12.813Z"
   },
   {
    "duration": 78,
    "start_time": "2022-03-26T20:52:36.259Z"
   },
   {
    "duration": 13,
    "start_time": "2022-03-26T20:52:46.585Z"
   },
   {
    "duration": 14,
    "start_time": "2022-03-26T20:56:30.264Z"
   },
   {
    "duration": 15,
    "start_time": "2022-03-26T20:56:56.379Z"
   },
   {
    "duration": 17,
    "start_time": "2022-03-26T20:57:22.080Z"
   },
   {
    "duration": 19,
    "start_time": "2022-03-26T20:59:00.923Z"
   },
   {
    "duration": 23,
    "start_time": "2022-03-26T20:59:51.356Z"
   },
   {
    "duration": 19,
    "start_time": "2022-03-26T21:00:11.369Z"
   },
   {
    "duration": 21,
    "start_time": "2022-03-26T21:00:37.041Z"
   },
   {
    "duration": 42,
    "start_time": "2022-03-26T21:06:32.580Z"
   },
   {
    "duration": 14,
    "start_time": "2022-03-26T21:06:41.653Z"
   },
   {
    "duration": 298,
    "start_time": "2022-03-26T21:06:48.802Z"
   },
   {
    "duration": 1739,
    "start_time": "2022-03-27T04:06:27.883Z"
   },
   {
    "duration": 141,
    "start_time": "2022-03-27T04:06:29.625Z"
   },
   {
    "duration": 140,
    "start_time": "2022-03-27T04:06:29.768Z"
   },
   {
    "duration": 98,
    "start_time": "2022-03-27T04:06:29.910Z"
   },
   {
    "duration": 18,
    "start_time": "2022-03-27T04:06:30.011Z"
   },
   {
    "duration": 38,
    "start_time": "2022-03-27T04:06:30.031Z"
   },
   {
    "duration": 15,
    "start_time": "2022-03-27T04:06:30.072Z"
   },
   {
    "duration": 130,
    "start_time": "2022-03-27T04:06:30.089Z"
   },
   {
    "duration": 448,
    "start_time": "2022-03-27T04:06:30.221Z"
   },
   {
    "duration": 11,
    "start_time": "2022-03-27T04:06:30.673Z"
   },
   {
    "duration": 20,
    "start_time": "2022-03-27T04:06:30.686Z"
   },
   {
    "duration": 508,
    "start_time": "2022-03-27T04:06:30.708Z"
   },
   {
    "duration": 359,
    "start_time": "2022-03-27T04:06:31.219Z"
   },
   {
    "duration": 494,
    "start_time": "2022-03-27T04:06:31.584Z"
   },
   {
    "duration": 388,
    "start_time": "2022-03-27T04:06:32.080Z"
   },
   {
    "duration": 511,
    "start_time": "2022-03-27T04:06:32.470Z"
   },
   {
    "duration": 268,
    "start_time": "2022-03-27T04:06:32.985Z"
   },
   {
    "duration": 216,
    "start_time": "2022-03-27T04:06:33.255Z"
   },
   {
    "duration": 13,
    "start_time": "2022-03-27T04:06:33.474Z"
   },
   {
    "duration": 735,
    "start_time": "2022-03-27T04:06:33.490Z"
   },
   {
    "duration": 6,
    "start_time": "2022-03-27T04:06:34.227Z"
   },
   {
    "duration": 356,
    "start_time": "2022-03-27T04:06:34.235Z"
   },
   {
    "duration": 296,
    "start_time": "2022-03-27T04:06:34.593Z"
   },
   {
    "duration": 6,
    "start_time": "2022-03-27T04:06:34.891Z"
   },
   {
    "duration": 12,
    "start_time": "2022-03-27T04:06:34.899Z"
   },
   {
    "duration": 17,
    "start_time": "2022-03-27T04:06:34.913Z"
   },
   {
    "duration": 14,
    "start_time": "2022-03-27T04:06:34.932Z"
   },
   {
    "duration": 40,
    "start_time": "2022-03-27T04:06:34.951Z"
   },
   {
    "duration": 16,
    "start_time": "2022-03-27T04:06:34.994Z"
   },
   {
    "duration": 42,
    "start_time": "2022-03-27T04:06:35.013Z"
   },
   {
    "duration": 32,
    "start_time": "2022-03-27T04:06:35.057Z"
   },
   {
    "duration": 15,
    "start_time": "2022-03-27T04:06:35.092Z"
   },
   {
    "duration": 24,
    "start_time": "2022-03-27T04:06:35.110Z"
   },
   {
    "duration": 56,
    "start_time": "2022-03-27T04:06:35.137Z"
   },
   {
    "duration": 6,
    "start_time": "2022-03-27T04:16:14.242Z"
   },
   {
    "duration": 1508,
    "start_time": "2022-03-27T04:16:38.242Z"
   },
   {
    "duration": 94,
    "start_time": "2022-03-27T04:16:39.752Z"
   },
   {
    "duration": 87,
    "start_time": "2022-03-27T04:16:39.848Z"
   },
   {
    "duration": 47,
    "start_time": "2022-03-27T04:16:39.938Z"
   },
   {
    "duration": 23,
    "start_time": "2022-03-27T04:16:39.988Z"
   },
   {
    "duration": 22,
    "start_time": "2022-03-27T04:16:40.013Z"
   },
   {
    "duration": 47,
    "start_time": "2022-03-27T04:16:40.038Z"
   },
   {
    "duration": 137,
    "start_time": "2022-03-27T04:16:40.088Z"
   },
   {
    "duration": 442,
    "start_time": "2022-03-27T04:16:40.228Z"
   },
   {
    "duration": 13,
    "start_time": "2022-03-27T04:16:40.675Z"
   },
   {
    "duration": 16,
    "start_time": "2022-03-27T04:16:40.691Z"
   },
   {
    "duration": 485,
    "start_time": "2022-03-27T04:16:40.710Z"
   },
   {
    "duration": 333,
    "start_time": "2022-03-27T04:16:41.197Z"
   },
   {
    "duration": 493,
    "start_time": "2022-03-27T04:16:41.532Z"
   },
   {
    "duration": 377,
    "start_time": "2022-03-27T04:16:42.027Z"
   },
   {
    "duration": 477,
    "start_time": "2022-03-27T04:16:42.406Z"
   },
   {
    "duration": 225,
    "start_time": "2022-03-27T04:16:42.886Z"
   },
   {
    "duration": 219,
    "start_time": "2022-03-27T04:16:43.113Z"
   },
   {
    "duration": 6,
    "start_time": "2022-03-27T04:16:43.334Z"
   },
   {
    "duration": 734,
    "start_time": "2022-03-27T04:16:43.343Z"
   },
   {
    "duration": 6,
    "start_time": "2022-03-27T04:16:44.083Z"
   },
   {
    "duration": 356,
    "start_time": "2022-03-27T04:16:44.091Z"
   },
   {
    "duration": 305,
    "start_time": "2022-03-27T04:16:44.450Z"
   },
   {
    "duration": 6,
    "start_time": "2022-03-27T04:16:44.757Z"
   },
   {
    "duration": 19,
    "start_time": "2022-03-27T04:16:44.766Z"
   },
   {
    "duration": 16,
    "start_time": "2022-03-27T04:16:44.787Z"
   },
   {
    "duration": 7,
    "start_time": "2022-03-27T04:16:44.805Z"
   },
   {
    "duration": 7,
    "start_time": "2022-03-27T04:16:44.817Z"
   },
   {
    "duration": 13,
    "start_time": "2022-03-27T04:16:44.826Z"
   },
   {
    "duration": 81,
    "start_time": "2022-03-27T04:16:44.841Z"
   },
   {
    "duration": 5,
    "start_time": "2022-03-27T04:16:44.924Z"
   },
   {
    "duration": 9,
    "start_time": "2022-03-27T04:16:44.931Z"
   },
   {
    "duration": 54,
    "start_time": "2022-03-27T04:16:44.942Z"
   },
   {
    "duration": 13,
    "start_time": "2022-03-27T04:16:44.998Z"
   },
   {
    "duration": 21,
    "start_time": "2022-03-27T04:17:04.182Z"
   },
   {
    "duration": 21,
    "start_time": "2022-03-27T04:17:09.072Z"
   },
   {
    "duration": 42,
    "start_time": "2022-03-27T04:17:41.646Z"
   },
   {
    "duration": 42,
    "start_time": "2022-03-27T04:17:50.617Z"
   },
   {
    "duration": 6,
    "start_time": "2022-03-27T04:18:01.624Z"
   },
   {
    "duration": 1526,
    "start_time": "2022-03-27T11:36:34.906Z"
   },
   {
    "duration": 153,
    "start_time": "2022-03-27T11:36:36.434Z"
   },
   {
    "duration": 114,
    "start_time": "2022-03-27T11:36:36.588Z"
   },
   {
    "duration": 84,
    "start_time": "2022-03-27T11:36:36.704Z"
   },
   {
    "duration": 14,
    "start_time": "2022-03-27T11:36:36.789Z"
   },
   {
    "duration": 15,
    "start_time": "2022-03-27T11:36:36.805Z"
   },
   {
    "duration": 5,
    "start_time": "2022-03-27T11:36:36.821Z"
   },
   {
    "duration": 86,
    "start_time": "2022-03-27T11:36:36.828Z"
   },
   {
    "duration": 244,
    "start_time": "2022-03-27T11:36:36.916Z"
   },
   {
    "duration": 5,
    "start_time": "2022-03-27T11:36:37.162Z"
   },
   {
    "duration": 10,
    "start_time": "2022-03-27T11:36:37.180Z"
   },
   {
    "duration": 385,
    "start_time": "2022-03-27T11:36:37.191Z"
   },
   {
    "duration": 255,
    "start_time": "2022-03-27T11:36:37.581Z"
   },
   {
    "duration": 431,
    "start_time": "2022-03-27T11:36:37.839Z"
   },
   {
    "duration": 191,
    "start_time": "2022-03-27T11:36:38.272Z"
   },
   {
    "duration": 393,
    "start_time": "2022-03-27T11:36:38.465Z"
   },
   {
    "duration": 168,
    "start_time": "2022-03-27T11:36:38.860Z"
   },
   {
    "duration": 158,
    "start_time": "2022-03-27T11:36:39.030Z"
   },
   {
    "duration": 4,
    "start_time": "2022-03-27T11:36:39.190Z"
   },
   {
    "duration": 439,
    "start_time": "2022-03-27T11:36:39.196Z"
   },
   {
    "duration": 4,
    "start_time": "2022-03-27T11:36:39.637Z"
   },
   {
    "duration": 191,
    "start_time": "2022-03-27T11:36:39.643Z"
   },
   {
    "duration": 245,
    "start_time": "2022-03-27T11:36:39.836Z"
   },
   {
    "duration": 4,
    "start_time": "2022-03-27T11:36:40.082Z"
   },
   {
    "duration": 11,
    "start_time": "2022-03-27T11:36:40.088Z"
   },
   {
    "duration": 17,
    "start_time": "2022-03-27T11:36:40.100Z"
   },
   {
    "duration": 6,
    "start_time": "2022-03-27T11:36:40.119Z"
   },
   {
    "duration": 19,
    "start_time": "2022-03-27T11:36:40.129Z"
   },
   {
    "duration": 48,
    "start_time": "2022-03-27T11:36:40.149Z"
   },
   {
    "duration": 27,
    "start_time": "2022-03-27T11:36:40.199Z"
   },
   {
    "duration": 3,
    "start_time": "2022-03-27T11:36:40.228Z"
   },
   {
    "duration": 6,
    "start_time": "2022-03-27T11:36:40.232Z"
   },
   {
    "duration": 12,
    "start_time": "2022-03-27T11:36:40.240Z"
   },
   {
    "duration": 13,
    "start_time": "2022-03-27T11:36:40.254Z"
   },
   {
    "duration": 1118,
    "start_time": "2022-03-28T03:30:30.274Z"
   },
   {
    "duration": 121,
    "start_time": "2022-03-28T03:30:31.394Z"
   },
   {
    "duration": 112,
    "start_time": "2022-03-28T03:30:31.517Z"
   },
   {
    "duration": 91,
    "start_time": "2022-03-28T03:30:31.631Z"
   },
   {
    "duration": 14,
    "start_time": "2022-03-28T03:30:31.724Z"
   },
   {
    "duration": 20,
    "start_time": "2022-03-28T03:30:31.740Z"
   },
   {
    "duration": 9,
    "start_time": "2022-03-28T03:30:31.762Z"
   },
   {
    "duration": 78,
    "start_time": "2022-03-28T03:30:31.773Z"
   },
   {
    "duration": 247,
    "start_time": "2022-03-28T03:30:31.854Z"
   },
   {
    "duration": 5,
    "start_time": "2022-03-28T03:30:32.104Z"
   },
   {
    "duration": 12,
    "start_time": "2022-03-28T03:30:32.110Z"
   },
   {
    "duration": 284,
    "start_time": "2022-03-28T03:30:32.123Z"
   },
   {
    "duration": 196,
    "start_time": "2022-03-28T03:30:32.408Z"
   },
   {
    "duration": 315,
    "start_time": "2022-03-28T03:30:32.605Z"
   },
   {
    "duration": 215,
    "start_time": "2022-03-28T03:30:32.922Z"
   },
   {
    "duration": 326,
    "start_time": "2022-03-28T03:30:33.139Z"
   },
   {
    "duration": 131,
    "start_time": "2022-03-28T03:30:33.467Z"
   },
   {
    "duration": 129,
    "start_time": "2022-03-28T03:30:33.600Z"
   },
   {
    "duration": 9,
    "start_time": "2022-03-28T03:30:33.731Z"
   },
   {
    "duration": 458,
    "start_time": "2022-03-28T03:30:33.741Z"
   },
   {
    "duration": 4,
    "start_time": "2022-03-28T03:30:34.200Z"
   },
   {
    "duration": 196,
    "start_time": "2022-03-28T03:30:34.206Z"
   },
   {
    "duration": 165,
    "start_time": "2022-03-28T03:30:34.405Z"
   },
   {
    "duration": 4,
    "start_time": "2022-03-28T03:30:34.572Z"
   },
   {
    "duration": 29,
    "start_time": "2022-03-28T03:30:34.578Z"
   },
   {
    "duration": 16,
    "start_time": "2022-03-28T03:30:34.609Z"
   },
   {
    "duration": 31,
    "start_time": "2022-03-28T03:30:34.627Z"
   },
   {
    "duration": 12,
    "start_time": "2022-03-28T03:30:34.662Z"
   },
   {
    "duration": 15,
    "start_time": "2022-03-28T03:30:34.676Z"
   },
   {
    "duration": 40,
    "start_time": "2022-03-28T03:30:34.693Z"
   },
   {
    "duration": 18,
    "start_time": "2022-03-28T03:30:34.735Z"
   },
   {
    "duration": 19,
    "start_time": "2022-03-28T03:30:34.754Z"
   },
   {
    "duration": 28,
    "start_time": "2022-03-28T03:30:34.775Z"
   },
   {
    "duration": 32,
    "start_time": "2022-03-28T03:30:34.804Z"
   },
   {
    "duration": 69,
    "start_time": "2022-03-28T04:08:08.452Z"
   },
   {
    "duration": 10,
    "start_time": "2022-03-28T04:08:11.489Z"
   },
   {
    "duration": 10,
    "start_time": "2022-03-28T04:08:12.381Z"
   },
   {
    "duration": 1063,
    "start_time": "2022-04-08T17:24:47.037Z"
   },
   {
    "duration": 326,
    "start_time": "2022-04-08T17:24:48.101Z"
   },
   {
    "duration": 91,
    "start_time": "2022-04-08T17:24:48.428Z"
   },
   {
    "duration": 116,
    "start_time": "2022-04-08T17:24:48.521Z"
   },
   {
    "duration": 12,
    "start_time": "2022-04-08T17:24:48.638Z"
   },
   {
    "duration": 10,
    "start_time": "2022-04-08T17:24:48.652Z"
   },
   {
    "duration": 6,
    "start_time": "2022-04-08T17:24:48.663Z"
   },
   {
    "duration": 60,
    "start_time": "2022-04-08T17:24:48.671Z"
   },
   {
    "duration": 251,
    "start_time": "2022-04-08T17:24:48.733Z"
   },
   {
    "duration": 5,
    "start_time": "2022-04-08T17:24:48.986Z"
   },
   {
    "duration": 12,
    "start_time": "2022-04-08T17:24:48.992Z"
   },
   {
    "duration": 252,
    "start_time": "2022-04-08T17:24:49.005Z"
   },
   {
    "duration": 182,
    "start_time": "2022-04-08T17:24:49.259Z"
   },
   {
    "duration": 307,
    "start_time": "2022-04-08T17:24:49.442Z"
   },
   {
    "duration": 197,
    "start_time": "2022-04-08T17:24:49.751Z"
   },
   {
    "duration": 358,
    "start_time": "2022-04-08T17:24:49.950Z"
   },
   {
    "duration": 120,
    "start_time": "2022-04-08T17:24:50.310Z"
   },
   {
    "duration": 121,
    "start_time": "2022-04-08T17:24:50.431Z"
   },
   {
    "duration": 4,
    "start_time": "2022-04-08T17:24:50.554Z"
   },
   {
    "duration": 401,
    "start_time": "2022-04-08T17:24:50.560Z"
   },
   {
    "duration": 4,
    "start_time": "2022-04-08T17:24:50.963Z"
   },
   {
    "duration": 195,
    "start_time": "2022-04-08T17:24:50.968Z"
   },
   {
    "duration": 159,
    "start_time": "2022-04-08T17:24:51.165Z"
   },
   {
    "duration": 4,
    "start_time": "2022-04-08T17:24:51.326Z"
   },
   {
    "duration": 6,
    "start_time": "2022-04-08T17:24:51.332Z"
   },
   {
    "duration": 10,
    "start_time": "2022-04-08T17:24:51.340Z"
   },
   {
    "duration": 5,
    "start_time": "2022-04-08T17:24:51.351Z"
   },
   {
    "duration": 5,
    "start_time": "2022-04-08T17:24:51.380Z"
   },
   {
    "duration": 10,
    "start_time": "2022-04-08T17:24:51.386Z"
   },
   {
    "duration": 27,
    "start_time": "2022-04-08T17:24:51.397Z"
   },
   {
    "duration": 3,
    "start_time": "2022-04-08T17:24:51.426Z"
   },
   {
    "duration": 8,
    "start_time": "2022-04-08T17:24:51.431Z"
   },
   {
    "duration": 19,
    "start_time": "2022-04-08T17:24:51.440Z"
   },
   {
    "duration": 27,
    "start_time": "2022-04-08T17:24:51.460Z"
   }
  ],
  "colab": {
   "name": "Копия блокнота \"5. Анализ результатов A/B теста в интернет магазине\"",
   "provenance": [],
   "toc_visible": true
  },
  "kernelspec": {
   "display_name": "Python 3 (ipykernel)",
   "language": "python",
   "name": "python3"
  },
  "language_info": {
   "codemirror_mode": {
    "name": "ipython",
    "version": 3
   },
   "file_extension": ".py",
   "mimetype": "text/x-python",
   "name": "python",
   "nbconvert_exporter": "python",
   "pygments_lexer": "ipython3",
   "version": "3.10.5"
  },
  "toc": {
   "base_numbering": 1,
   "nav_menu": {},
   "number_sections": true,
   "sideBar": true,
   "skip_h1_title": false,
   "title_cell": "Table of Contents",
   "title_sidebar": "Contents",
   "toc_cell": false,
   "toc_position": {},
   "toc_section_display": true,
   "toc_window_display": true
  },
  "vscode": {
   "interpreter": {
    "hash": "5688e94b3c9c02417cdb2a677651119fe6849ebffb07f3cd02c275e21b63d781"
   }
  }
 },
 "nbformat": 4,
 "nbformat_minor": 1
}
