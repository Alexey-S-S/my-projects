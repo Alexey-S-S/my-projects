{
 "cells": [
  {
   "cell_type": "markdown",
   "metadata": {},
   "source": [
    "# описание"
   ]
  },
  {
   "cell_type": "markdown",
   "metadata": {},
   "source": [
    "Вы аналитик компании «Мегалайн» — федерального оператора сотовой связи.<br>\n",
    "Клиентам предлагают два тарифных плана: «Смарт» и «Ультра».<br> \n",
    "Чтобы скорректировать рекламный бюджет, коммерческий департамент хочет понять, какой тариф приносит больше денег.\n",
    "\n",
    "\n",
    "Вам предстоит сделать предварительный анализ тарифов на небольшой выборке клиентов.<br> \n",
    "В вашем распоряжении данные 500 пользователей «Мегалайна»: кто они, откуда, каким тарифом пользуются, сколько звонков и сообщений каждый отправил за 2018 год. \n",
    "\n",
    "Нужно проанализировать поведение клиентов и сделать вывод — какой тариф лучше."
   ]
  },
  {
   "cell_type": "markdown",
   "metadata": {},
   "source": [
    "## Описание данных\n",
    "**Таблица users (информация о пользователях):**\n",
    "    \n",
    "    user_id — уникальный идентификатор пользователя\n",
    "    first_name — имя пользователя\n",
    "    last_name — фамилия пользователя\n",
    "    age — возраст пользователя (годы)\n",
    "    reg_date — дата подключения тарифа (день, месяц, год)\n",
    "    churn_date — дата прекращения пользования тарифом (если значение пропущено, то тариф ещё действовал на момент выгрузки данных)\n",
    "    city — город проживания пользователя\n",
    "    tariff — название тарифного плана\n",
    "\n",
    "**Таблица calls (информация о звонках):**\n",
    "\n",
    "    id — уникальный номер звонка\n",
    "    call_date — дата звонка\n",
    "    duration — длительность звонка в минутах\n",
    "    user_id — идентификатор пользователя, сделавшего звонок\n",
    "\n",
    "**Таблица messages (информация о сообщениях):**\n",
    "\n",
    "    id — уникальный номер сообщения\n",
    "    message_date — дата сообщения\n",
    "    user_id — идентификатор пользователя, отправившего сообщение\n",
    "\n",
    "**Таблица internet (информация об интернет-сессиях):**\n",
    "\n",
    "    id — уникальный номер сессии\n",
    "    mb_used — объём потраченного за сессию интернет-трафика (в мегабайтах)\n",
    "    session_date — дата интернет-сессии\n",
    "    user_id — идентификатор пользователя\n",
    "\n",
    "**Таблица tariffs (информация о тарифах):**\n",
    "\n",
    "    tariff_name — название тарифа\n",
    "    rub_monthly_fee — ежемесячная абонентская плата в рублях\n",
    "    minutes_included — количество минут разговора в месяц, включённых в абонентскую плату\n",
    "    messages_included — количество сообщений в месяц, включённых в абонентскую плату\n",
    "    mb_per_month_included — объём интернет-трафика, включённого в абонентскую плату (в мегабайтах)\n",
    "    rub_per_minute — стоимость минуты разговора сверх тарифного пакета (например, если в тарифе 100 минут разговора в месяц, то со 101 минуты будет взиматься плата)\n",
    "    rub_per_message — стоимость отправки сообщения сверх тарифного пакета\n",
    "    rub_per_gb — стоимость дополнительного гигабайта интернет-трафика сверх тарифного пакета (1 гигабайт = 1024 мегабайта)"
   ]
  },
  {
   "cell_type": "markdown",
   "metadata": {},
   "source": [
    "# импорт и загрузка данных"
   ]
  },
  {
   "cell_type": "code",
   "execution_count": 46,
   "metadata": {},
   "outputs": [],
   "source": [
    "import pandas as pd\n",
    "import numpy as np\n",
    "import matplotlib.pyplot as plt\n",
    "from scipy import stats as st"
   ]
  },
  {
   "cell_type": "code",
   "execution_count": 47,
   "metadata": {},
   "outputs": [],
   "source": [
    "df_calls = pd.read_csv('calls.csv')\n",
    "df_internet = pd.read_csv('internet.csv')\n",
    "df_mess = pd.read_csv('messages.csv')\n",
    "df_tariffs = pd.read_csv('tariffs.csv')\n",
    "df_users = pd.read_csv('users.csv')"
   ]
  },
  {
   "cell_type": "markdown",
   "metadata": {},
   "source": [
    "# предварительный просмотр"
   ]
  },
  {
   "cell_type": "markdown",
   "metadata": {},
   "source": [
    "## df_calls"
   ]
  },
  {
   "cell_type": "code",
   "execution_count": 48,
   "metadata": {},
   "outputs": [
    {
     "name": "stdout",
     "output_type": "stream",
     "text": [
      "<class 'pandas.core.frame.DataFrame'>\n",
      "RangeIndex: 202607 entries, 0 to 202606\n",
      "Data columns (total 4 columns):\n",
      " #   Column     Non-Null Count   Dtype  \n",
      "---  ------     --------------   -----  \n",
      " 0   id         202607 non-null  object \n",
      " 1   call_date  202607 non-null  object \n",
      " 2   duration   202607 non-null  float64\n",
      " 3   user_id    202607 non-null  int64  \n",
      "dtypes: float64(1), int64(1), object(2)\n",
      "memory usage: 6.2+ MB\n"
     ]
    },
    {
     "data": {
      "text/html": [
       "<div>\n",
       "<style scoped>\n",
       "    .dataframe tbody tr th:only-of-type {\n",
       "        vertical-align: middle;\n",
       "    }\n",
       "\n",
       "    .dataframe tbody tr th {\n",
       "        vertical-align: top;\n",
       "    }\n",
       "\n",
       "    .dataframe thead th {\n",
       "        text-align: right;\n",
       "    }\n",
       "</style>\n",
       "<table border=\"1\" class=\"dataframe\">\n",
       "  <thead>\n",
       "    <tr style=\"text-align: right;\">\n",
       "      <th></th>\n",
       "      <th>id</th>\n",
       "      <th>call_date</th>\n",
       "      <th>duration</th>\n",
       "      <th>user_id</th>\n",
       "    </tr>\n",
       "  </thead>\n",
       "  <tbody>\n",
       "    <tr>\n",
       "      <th>0</th>\n",
       "      <td>1000_0</td>\n",
       "      <td>2018-07-25</td>\n",
       "      <td>0.00</td>\n",
       "      <td>1000</td>\n",
       "    </tr>\n",
       "    <tr>\n",
       "      <th>1</th>\n",
       "      <td>1000_1</td>\n",
       "      <td>2018-08-17</td>\n",
       "      <td>0.00</td>\n",
       "      <td>1000</td>\n",
       "    </tr>\n",
       "    <tr>\n",
       "      <th>2</th>\n",
       "      <td>1000_2</td>\n",
       "      <td>2018-06-11</td>\n",
       "      <td>2.85</td>\n",
       "      <td>1000</td>\n",
       "    </tr>\n",
       "    <tr>\n",
       "      <th>3</th>\n",
       "      <td>1000_3</td>\n",
       "      <td>2018-09-21</td>\n",
       "      <td>13.80</td>\n",
       "      <td>1000</td>\n",
       "    </tr>\n",
       "    <tr>\n",
       "      <th>4</th>\n",
       "      <td>1000_4</td>\n",
       "      <td>2018-12-15</td>\n",
       "      <td>5.18</td>\n",
       "      <td>1000</td>\n",
       "    </tr>\n",
       "    <tr>\n",
       "      <th>5</th>\n",
       "      <td>1000_5</td>\n",
       "      <td>2018-11-02</td>\n",
       "      <td>0.00</td>\n",
       "      <td>1000</td>\n",
       "    </tr>\n",
       "    <tr>\n",
       "      <th>6</th>\n",
       "      <td>1000_6</td>\n",
       "      <td>2018-10-18</td>\n",
       "      <td>0.00</td>\n",
       "      <td>1000</td>\n",
       "    </tr>\n",
       "    <tr>\n",
       "      <th>7</th>\n",
       "      <td>1000_7</td>\n",
       "      <td>2018-08-22</td>\n",
       "      <td>18.31</td>\n",
       "      <td>1000</td>\n",
       "    </tr>\n",
       "    <tr>\n",
       "      <th>8</th>\n",
       "      <td>1000_8</td>\n",
       "      <td>2018-09-15</td>\n",
       "      <td>18.44</td>\n",
       "      <td>1000</td>\n",
       "    </tr>\n",
       "    <tr>\n",
       "      <th>9</th>\n",
       "      <td>1000_9</td>\n",
       "      <td>2018-08-15</td>\n",
       "      <td>0.00</td>\n",
       "      <td>1000</td>\n",
       "    </tr>\n",
       "  </tbody>\n",
       "</table>\n",
       "</div>"
      ],
      "text/plain": [
       "       id   call_date  duration  user_id\n",
       "0  1000_0  2018-07-25      0.00     1000\n",
       "1  1000_1  2018-08-17      0.00     1000\n",
       "2  1000_2  2018-06-11      2.85     1000\n",
       "3  1000_3  2018-09-21     13.80     1000\n",
       "4  1000_4  2018-12-15      5.18     1000\n",
       "5  1000_5  2018-11-02      0.00     1000\n",
       "6  1000_6  2018-10-18      0.00     1000\n",
       "7  1000_7  2018-08-22     18.31     1000\n",
       "8  1000_8  2018-09-15     18.44     1000\n",
       "9  1000_9  2018-08-15      0.00     1000"
      ]
     },
     "execution_count": 48,
     "metadata": {},
     "output_type": "execute_result"
    }
   ],
   "source": [
    "df_calls.info()\n",
    "df_calls.head(10)"
   ]
  },
  {
   "cell_type": "markdown",
   "metadata": {},
   "source": [
    "## df_internet"
   ]
  },
  {
   "cell_type": "code",
   "execution_count": 49,
   "metadata": {},
   "outputs": [
    {
     "name": "stdout",
     "output_type": "stream",
     "text": [
      "<class 'pandas.core.frame.DataFrame'>\n",
      "RangeIndex: 149396 entries, 0 to 149395\n",
      "Data columns (total 5 columns):\n",
      " #   Column        Non-Null Count   Dtype  \n",
      "---  ------        --------------   -----  \n",
      " 0   Unnamed: 0    149396 non-null  int64  \n",
      " 1   id            149396 non-null  object \n",
      " 2   mb_used       149396 non-null  float64\n",
      " 3   session_date  149396 non-null  object \n",
      " 4   user_id       149396 non-null  int64  \n",
      "dtypes: float64(1), int64(2), object(2)\n",
      "memory usage: 5.7+ MB\n"
     ]
    },
    {
     "data": {
      "text/html": [
       "<div>\n",
       "<style scoped>\n",
       "    .dataframe tbody tr th:only-of-type {\n",
       "        vertical-align: middle;\n",
       "    }\n",
       "\n",
       "    .dataframe tbody tr th {\n",
       "        vertical-align: top;\n",
       "    }\n",
       "\n",
       "    .dataframe thead th {\n",
       "        text-align: right;\n",
       "    }\n",
       "</style>\n",
       "<table border=\"1\" class=\"dataframe\">\n",
       "  <thead>\n",
       "    <tr style=\"text-align: right;\">\n",
       "      <th></th>\n",
       "      <th>Unnamed: 0</th>\n",
       "      <th>id</th>\n",
       "      <th>mb_used</th>\n",
       "      <th>session_date</th>\n",
       "      <th>user_id</th>\n",
       "    </tr>\n",
       "  </thead>\n",
       "  <tbody>\n",
       "    <tr>\n",
       "      <th>0</th>\n",
       "      <td>0</td>\n",
       "      <td>1000_0</td>\n",
       "      <td>112.95</td>\n",
       "      <td>2018-11-25</td>\n",
       "      <td>1000</td>\n",
       "    </tr>\n",
       "    <tr>\n",
       "      <th>1</th>\n",
       "      <td>1</td>\n",
       "      <td>1000_1</td>\n",
       "      <td>1052.81</td>\n",
       "      <td>2018-09-07</td>\n",
       "      <td>1000</td>\n",
       "    </tr>\n",
       "    <tr>\n",
       "      <th>2</th>\n",
       "      <td>2</td>\n",
       "      <td>1000_2</td>\n",
       "      <td>1197.26</td>\n",
       "      <td>2018-06-25</td>\n",
       "      <td>1000</td>\n",
       "    </tr>\n",
       "    <tr>\n",
       "      <th>3</th>\n",
       "      <td>3</td>\n",
       "      <td>1000_3</td>\n",
       "      <td>550.27</td>\n",
       "      <td>2018-08-22</td>\n",
       "      <td>1000</td>\n",
       "    </tr>\n",
       "    <tr>\n",
       "      <th>4</th>\n",
       "      <td>4</td>\n",
       "      <td>1000_4</td>\n",
       "      <td>302.56</td>\n",
       "      <td>2018-09-24</td>\n",
       "      <td>1000</td>\n",
       "    </tr>\n",
       "  </tbody>\n",
       "</table>\n",
       "</div>"
      ],
      "text/plain": [
       "   Unnamed: 0      id  mb_used session_date  user_id\n",
       "0           0  1000_0   112.95   2018-11-25     1000\n",
       "1           1  1000_1  1052.81   2018-09-07     1000\n",
       "2           2  1000_2  1197.26   2018-06-25     1000\n",
       "3           3  1000_3   550.27   2018-08-22     1000\n",
       "4           4  1000_4   302.56   2018-09-24     1000"
      ]
     },
     "execution_count": 49,
     "metadata": {},
     "output_type": "execute_result"
    }
   ],
   "source": [
    "df_internet.info()\n",
    "df_internet.head()"
   ]
  },
  {
   "cell_type": "markdown",
   "metadata": {},
   "source": [
    "## df_mess"
   ]
  },
  {
   "cell_type": "code",
   "execution_count": 50,
   "metadata": {},
   "outputs": [
    {
     "name": "stdout",
     "output_type": "stream",
     "text": [
      "<class 'pandas.core.frame.DataFrame'>\n",
      "RangeIndex: 123036 entries, 0 to 123035\n",
      "Data columns (total 3 columns):\n",
      " #   Column        Non-Null Count   Dtype \n",
      "---  ------        --------------   ----- \n",
      " 0   id            123036 non-null  object\n",
      " 1   message_date  123036 non-null  object\n",
      " 2   user_id       123036 non-null  int64 \n",
      "dtypes: int64(1), object(2)\n",
      "memory usage: 2.8+ MB\n"
     ]
    },
    {
     "data": {
      "text/html": [
       "<div>\n",
       "<style scoped>\n",
       "    .dataframe tbody tr th:only-of-type {\n",
       "        vertical-align: middle;\n",
       "    }\n",
       "\n",
       "    .dataframe tbody tr th {\n",
       "        vertical-align: top;\n",
       "    }\n",
       "\n",
       "    .dataframe thead th {\n",
       "        text-align: right;\n",
       "    }\n",
       "</style>\n",
       "<table border=\"1\" class=\"dataframe\">\n",
       "  <thead>\n",
       "    <tr style=\"text-align: right;\">\n",
       "      <th></th>\n",
       "      <th>id</th>\n",
       "      <th>message_date</th>\n",
       "      <th>user_id</th>\n",
       "    </tr>\n",
       "  </thead>\n",
       "  <tbody>\n",
       "    <tr>\n",
       "      <th>0</th>\n",
       "      <td>1000_0</td>\n",
       "      <td>2018-06-27</td>\n",
       "      <td>1000</td>\n",
       "    </tr>\n",
       "    <tr>\n",
       "      <th>1</th>\n",
       "      <td>1000_1</td>\n",
       "      <td>2018-10-08</td>\n",
       "      <td>1000</td>\n",
       "    </tr>\n",
       "    <tr>\n",
       "      <th>2</th>\n",
       "      <td>1000_2</td>\n",
       "      <td>2018-08-04</td>\n",
       "      <td>1000</td>\n",
       "    </tr>\n",
       "    <tr>\n",
       "      <th>3</th>\n",
       "      <td>1000_3</td>\n",
       "      <td>2018-06-16</td>\n",
       "      <td>1000</td>\n",
       "    </tr>\n",
       "    <tr>\n",
       "      <th>4</th>\n",
       "      <td>1000_4</td>\n",
       "      <td>2018-12-05</td>\n",
       "      <td>1000</td>\n",
       "    </tr>\n",
       "  </tbody>\n",
       "</table>\n",
       "</div>"
      ],
      "text/plain": [
       "       id message_date  user_id\n",
       "0  1000_0   2018-06-27     1000\n",
       "1  1000_1   2018-10-08     1000\n",
       "2  1000_2   2018-08-04     1000\n",
       "3  1000_3   2018-06-16     1000\n",
       "4  1000_4   2018-12-05     1000"
      ]
     },
     "execution_count": 50,
     "metadata": {},
     "output_type": "execute_result"
    }
   ],
   "source": [
    "df_mess.info()\n",
    "df_mess.head()"
   ]
  },
  {
   "cell_type": "markdown",
   "metadata": {},
   "source": [
    "## df_tariffs"
   ]
  },
  {
   "cell_type": "code",
   "execution_count": 51,
   "metadata": {},
   "outputs": [
    {
     "data": {
      "text/html": [
       "<div>\n",
       "<style scoped>\n",
       "    .dataframe tbody tr th:only-of-type {\n",
       "        vertical-align: middle;\n",
       "    }\n",
       "\n",
       "    .dataframe tbody tr th {\n",
       "        vertical-align: top;\n",
       "    }\n",
       "\n",
       "    .dataframe thead th {\n",
       "        text-align: right;\n",
       "    }\n",
       "</style>\n",
       "<table border=\"1\" class=\"dataframe\">\n",
       "  <thead>\n",
       "    <tr style=\"text-align: right;\">\n",
       "      <th></th>\n",
       "      <th>messages_included</th>\n",
       "      <th>mb_per_month_included</th>\n",
       "      <th>minutes_included</th>\n",
       "      <th>rub_monthly_fee</th>\n",
       "      <th>rub_per_gb</th>\n",
       "      <th>rub_per_message</th>\n",
       "      <th>rub_per_minute</th>\n",
       "      <th>tariff_name</th>\n",
       "    </tr>\n",
       "  </thead>\n",
       "  <tbody>\n",
       "    <tr>\n",
       "      <th>0</th>\n",
       "      <td>50</td>\n",
       "      <td>15360</td>\n",
       "      <td>500</td>\n",
       "      <td>550</td>\n",
       "      <td>200</td>\n",
       "      <td>3</td>\n",
       "      <td>3</td>\n",
       "      <td>smart</td>\n",
       "    </tr>\n",
       "    <tr>\n",
       "      <th>1</th>\n",
       "      <td>1000</td>\n",
       "      <td>30720</td>\n",
       "      <td>3000</td>\n",
       "      <td>1950</td>\n",
       "      <td>150</td>\n",
       "      <td>1</td>\n",
       "      <td>1</td>\n",
       "      <td>ultra</td>\n",
       "    </tr>\n",
       "  </tbody>\n",
       "</table>\n",
       "</div>"
      ],
      "text/plain": [
       "   messages_included  mb_per_month_included  minutes_included  \\\n",
       "0                 50                  15360               500   \n",
       "1               1000                  30720              3000   \n",
       "\n",
       "   rub_monthly_fee  rub_per_gb  rub_per_message  rub_per_minute tariff_name  \n",
       "0              550         200                3               3       smart  \n",
       "1             1950         150                1               1       ultra  "
      ]
     },
     "execution_count": 51,
     "metadata": {},
     "output_type": "execute_result"
    }
   ],
   "source": [
    "df_tariffs"
   ]
  },
  {
   "cell_type": "markdown",
   "metadata": {},
   "source": [
    "## df_users"
   ]
  },
  {
   "cell_type": "code",
   "execution_count": 52,
   "metadata": {},
   "outputs": [
    {
     "name": "stdout",
     "output_type": "stream",
     "text": [
      "<class 'pandas.core.frame.DataFrame'>\n",
      "RangeIndex: 500 entries, 0 to 499\n",
      "Data columns (total 8 columns):\n",
      " #   Column      Non-Null Count  Dtype \n",
      "---  ------      --------------  ----- \n",
      " 0   user_id     500 non-null    int64 \n",
      " 1   age         500 non-null    int64 \n",
      " 2   churn_date  38 non-null     object\n",
      " 3   city        500 non-null    object\n",
      " 4   first_name  500 non-null    object\n",
      " 5   last_name   500 non-null    object\n",
      " 6   reg_date    500 non-null    object\n",
      " 7   tariff      500 non-null    object\n",
      "dtypes: int64(2), object(6)\n",
      "memory usage: 31.4+ KB\n"
     ]
    },
    {
     "data": {
      "text/html": [
       "<div>\n",
       "<style scoped>\n",
       "    .dataframe tbody tr th:only-of-type {\n",
       "        vertical-align: middle;\n",
       "    }\n",
       "\n",
       "    .dataframe tbody tr th {\n",
       "        vertical-align: top;\n",
       "    }\n",
       "\n",
       "    .dataframe thead th {\n",
       "        text-align: right;\n",
       "    }\n",
       "</style>\n",
       "<table border=\"1\" class=\"dataframe\">\n",
       "  <thead>\n",
       "    <tr style=\"text-align: right;\">\n",
       "      <th></th>\n",
       "      <th>user_id</th>\n",
       "      <th>age</th>\n",
       "      <th>churn_date</th>\n",
       "      <th>city</th>\n",
       "      <th>first_name</th>\n",
       "      <th>last_name</th>\n",
       "      <th>reg_date</th>\n",
       "      <th>tariff</th>\n",
       "    </tr>\n",
       "  </thead>\n",
       "  <tbody>\n",
       "    <tr>\n",
       "      <th>0</th>\n",
       "      <td>1000</td>\n",
       "      <td>52</td>\n",
       "      <td>NaN</td>\n",
       "      <td>Краснодар</td>\n",
       "      <td>Рафаил</td>\n",
       "      <td>Верещагин</td>\n",
       "      <td>2018-05-25</td>\n",
       "      <td>ultra</td>\n",
       "    </tr>\n",
       "    <tr>\n",
       "      <th>1</th>\n",
       "      <td>1001</td>\n",
       "      <td>41</td>\n",
       "      <td>NaN</td>\n",
       "      <td>Москва</td>\n",
       "      <td>Иван</td>\n",
       "      <td>Ежов</td>\n",
       "      <td>2018-11-01</td>\n",
       "      <td>smart</td>\n",
       "    </tr>\n",
       "    <tr>\n",
       "      <th>2</th>\n",
       "      <td>1002</td>\n",
       "      <td>59</td>\n",
       "      <td>NaN</td>\n",
       "      <td>Стерлитамак</td>\n",
       "      <td>Евгений</td>\n",
       "      <td>Абрамович</td>\n",
       "      <td>2018-06-17</td>\n",
       "      <td>smart</td>\n",
       "    </tr>\n",
       "    <tr>\n",
       "      <th>3</th>\n",
       "      <td>1003</td>\n",
       "      <td>23</td>\n",
       "      <td>NaN</td>\n",
       "      <td>Москва</td>\n",
       "      <td>Белла</td>\n",
       "      <td>Белякова</td>\n",
       "      <td>2018-08-17</td>\n",
       "      <td>ultra</td>\n",
       "    </tr>\n",
       "    <tr>\n",
       "      <th>4</th>\n",
       "      <td>1004</td>\n",
       "      <td>68</td>\n",
       "      <td>NaN</td>\n",
       "      <td>Новокузнецк</td>\n",
       "      <td>Татьяна</td>\n",
       "      <td>Авдеенко</td>\n",
       "      <td>2018-05-14</td>\n",
       "      <td>ultra</td>\n",
       "    </tr>\n",
       "  </tbody>\n",
       "</table>\n",
       "</div>"
      ],
      "text/plain": [
       "   user_id  age churn_date         city first_name  last_name    reg_date  \\\n",
       "0     1000   52        NaN    Краснодар     Рафаил  Верещагин  2018-05-25   \n",
       "1     1001   41        NaN       Москва       Иван       Ежов  2018-11-01   \n",
       "2     1002   59        NaN  Стерлитамак    Евгений  Абрамович  2018-06-17   \n",
       "3     1003   23        NaN       Москва      Белла   Белякова  2018-08-17   \n",
       "4     1004   68        NaN  Новокузнецк    Татьяна   Авдеенко  2018-05-14   \n",
       "\n",
       "  tariff  \n",
       "0  ultra  \n",
       "1  smart  \n",
       "2  smart  \n",
       "3  ultra  \n",
       "4  ultra  "
      ]
     },
     "execution_count": 52,
     "metadata": {},
     "output_type": "execute_result"
    }
   ],
   "source": [
    "df_users.info()\n",
    "df_users.head()"
   ]
  },
  {
   "cell_type": "markdown",
   "metadata": {},
   "source": [
    "- пропуски присутстсвуют только в df_users['churn_date'] - тариф еще действовал на момент выгрузки\n",
    "- можно заменить типы данных для уменьшения нагрузки на память\n",
    "- в остальном данные пригодны для работы"
   ]
  },
  {
   "cell_type": "markdown",
   "metadata": {},
   "source": [
    "# Подготовка данных"
   ]
  },
  {
   "cell_type": "markdown",
   "metadata": {},
   "source": [
    "## замена типов данных и удаление столбцов"
   ]
  },
  {
   "cell_type": "code",
   "execution_count": 53,
   "metadata": {},
   "outputs": [
    {
     "name": "stderr",
     "output_type": "stream",
     "text": [
      "C:\\Users\\Алексей Савелов\\AppData\\Local\\Temp\\ipykernel_11336\\1308017100.py:5: FutureWarning: In a future version of pandas all arguments of DataFrame.drop except for the argument 'labels' will be keyword-only.\n",
      "  df_calls = df_calls.drop('id', 1)\n"
     ]
    }
   ],
   "source": [
    "# df_calls\n",
    "df_calls['duration'] = df_calls['duration'].apply(np.ceil).astype('int8')\n",
    "df_calls['call_date'] = df_calls['call_date'].astype('datetime64')\n",
    "df_calls['user_id'] = df_calls['user_id'].astype('int16')\n",
    "df_calls = df_calls.drop('id', 1)"
   ]
  },
  {
   "cell_type": "code",
   "execution_count": 54,
   "metadata": {},
   "outputs": [
    {
     "name": "stderr",
     "output_type": "stream",
     "text": [
      "C:\\Users\\Алексей Савелов\\AppData\\Local\\Temp\\ipykernel_11336\\3988823379.py:5: FutureWarning: In a future version of pandas all arguments of DataFrame.drop except for the argument 'labels' will be keyword-only.\n",
      "  df_internet = df_internet.drop(['Unnamed: 0', 'id'], 1)\n"
     ]
    }
   ],
   "source": [
    "# df_internet\n",
    "df_internet['mb_used'] = df_internet['mb_used'].astype('int32')\n",
    "df_internet['session_date'] = df_internet['session_date'].astype('datetime64')\n",
    "df_internet['user_id'] = df_internet['user_id'].astype('int16')\n",
    "df_internet = df_internet.drop(['Unnamed: 0', 'id'], 1)"
   ]
  },
  {
   "cell_type": "code",
   "execution_count": 55,
   "metadata": {},
   "outputs": [
    {
     "name": "stderr",
     "output_type": "stream",
     "text": [
      "C:\\Users\\Алексей Савелов\\AppData\\Local\\Temp\\ipykernel_11336\\1137058989.py:4: FutureWarning: In a future version of pandas all arguments of DataFrame.drop except for the argument 'labels' will be keyword-only.\n",
      "  df_mess = df_mess.drop('id',1)\n"
     ]
    }
   ],
   "source": [
    "# df_mess\n",
    "df_mess['message_date'] = df_mess['message_date'].astype('datetime64')\n",
    "df_mess['user_id'] = df_mess['user_id'].astype('int16')\n",
    "df_mess = df_mess.drop('id',1)"
   ]
  },
  {
   "cell_type": "code",
   "execution_count": 56,
   "metadata": {},
   "outputs": [],
   "source": [
    "# df_users\n",
    "df_users['user_id'] = df_users['user_id'].astype('int16')\n",
    "df_users['age'] = df_users['age'].astype('int8')\n",
    "df_users['churn_date'] = df_users['churn_date'].fillna('unknown')\n",
    "df_users['reg_date'] = df_users['reg_date'].astype('datetime64')"
   ]
  },
  {
   "cell_type": "markdown",
   "metadata": {},
   "source": [
    "- проведена замена типов данных, для экономии ресурсов(в этом проекте можно было и не делать этого, но на больших данных необходимо)\n",
    "- удалены столбцы 'id', так как в них нет необходимости\n",
    "- пропуски в df_users['churn_date'] заменены на 'unknown'"
   ]
  },
  {
   "cell_type": "markdown",
   "metadata": {},
   "source": [
    "## добавление столбцов"
   ]
  },
  {
   "cell_type": "code",
   "execution_count": 57,
   "metadata": {},
   "outputs": [],
   "source": [
    "df_calls['m'] = df_calls['call_date'].dt.month\n",
    "df_internet['m'] = df_internet['session_date'].dt.month\n",
    "df_mess['m'] = df_mess['message_date'].dt.month"
   ]
  },
  {
   "cell_type": "markdown",
   "metadata": {},
   "source": [
    "- добавлены столбцы с месяцем подключения для группировки"
   ]
  },
  {
   "cell_type": "markdown",
   "metadata": {},
   "source": [
    "## группировка данных"
   ]
  },
  {
   "cell_type": "code",
   "execution_count": 58,
   "metadata": {},
   "outputs": [
    {
     "data": {
      "text/html": [
       "<div>\n",
       "<style scoped>\n",
       "    .dataframe tbody tr th:only-of-type {\n",
       "        vertical-align: middle;\n",
       "    }\n",
       "\n",
       "    .dataframe tbody tr th {\n",
       "        vertical-align: top;\n",
       "    }\n",
       "\n",
       "    .dataframe thead th {\n",
       "        text-align: right;\n",
       "    }\n",
       "</style>\n",
       "<table border=\"1\" class=\"dataframe\">\n",
       "  <thead>\n",
       "    <tr style=\"text-align: right;\">\n",
       "      <th></th>\n",
       "      <th>user_id</th>\n",
       "      <th>m</th>\n",
       "      <th>duration</th>\n",
       "    </tr>\n",
       "  </thead>\n",
       "  <tbody>\n",
       "    <tr>\n",
       "      <th>0</th>\n",
       "      <td>1000</td>\n",
       "      <td>5</td>\n",
       "      <td>159.0</td>\n",
       "    </tr>\n",
       "    <tr>\n",
       "      <th>1</th>\n",
       "      <td>1000</td>\n",
       "      <td>6</td>\n",
       "      <td>172.0</td>\n",
       "    </tr>\n",
       "    <tr>\n",
       "      <th>2</th>\n",
       "      <td>1000</td>\n",
       "      <td>7</td>\n",
       "      <td>340.0</td>\n",
       "    </tr>\n",
       "    <tr>\n",
       "      <th>3</th>\n",
       "      <td>1000</td>\n",
       "      <td>8</td>\n",
       "      <td>408.0</td>\n",
       "    </tr>\n",
       "    <tr>\n",
       "      <th>4</th>\n",
       "      <td>1000</td>\n",
       "      <td>9</td>\n",
       "      <td>466.0</td>\n",
       "    </tr>\n",
       "  </tbody>\n",
       "</table>\n",
       "</div>"
      ],
      "text/plain": [
       "   user_id  m  duration\n",
       "0     1000  5     159.0\n",
       "1     1000  6     172.0\n",
       "2     1000  7     340.0\n",
       "3     1000  8     408.0\n",
       "4     1000  9     466.0"
      ]
     },
     "execution_count": 58,
     "metadata": {},
     "output_type": "execute_result"
    }
   ],
   "source": [
    "calls = df_calls.pivot_table(index=['user_id', 'm'], values='duration', aggfunc='sum').reset_index()\n",
    "calls.head()"
   ]
  },
  {
   "cell_type": "code",
   "execution_count": 59,
   "metadata": {},
   "outputs": [
    {
     "data": {
      "text/html": [
       "<div>\n",
       "<style scoped>\n",
       "    .dataframe tbody tr th:only-of-type {\n",
       "        vertical-align: middle;\n",
       "    }\n",
       "\n",
       "    .dataframe tbody tr th {\n",
       "        vertical-align: top;\n",
       "    }\n",
       "\n",
       "    .dataframe thead th {\n",
       "        text-align: right;\n",
       "    }\n",
       "</style>\n",
       "<table border=\"1\" class=\"dataframe\">\n",
       "  <thead>\n",
       "    <tr style=\"text-align: right;\">\n",
       "      <th></th>\n",
       "      <th>user_id</th>\n",
       "      <th>m</th>\n",
       "      <th>mb_used</th>\n",
       "    </tr>\n",
       "  </thead>\n",
       "  <tbody>\n",
       "    <tr>\n",
       "      <th>0</th>\n",
       "      <td>1000</td>\n",
       "      <td>5</td>\n",
       "      <td>2252</td>\n",
       "    </tr>\n",
       "    <tr>\n",
       "      <th>1</th>\n",
       "      <td>1000</td>\n",
       "      <td>6</td>\n",
       "      <td>23213</td>\n",
       "    </tr>\n",
       "    <tr>\n",
       "      <th>2</th>\n",
       "      <td>1000</td>\n",
       "      <td>7</td>\n",
       "      <td>13988</td>\n",
       "    </tr>\n",
       "    <tr>\n",
       "      <th>3</th>\n",
       "      <td>1000</td>\n",
       "      <td>8</td>\n",
       "      <td>14043</td>\n",
       "    </tr>\n",
       "    <tr>\n",
       "      <th>4</th>\n",
       "      <td>1000</td>\n",
       "      <td>9</td>\n",
       "      <td>14556</td>\n",
       "    </tr>\n",
       "  </tbody>\n",
       "</table>\n",
       "</div>"
      ],
      "text/plain": [
       "   user_id  m  mb_used\n",
       "0     1000  5     2252\n",
       "1     1000  6    23213\n",
       "2     1000  7    13988\n",
       "3     1000  8    14043\n",
       "4     1000  9    14556"
      ]
     },
     "execution_count": 59,
     "metadata": {},
     "output_type": "execute_result"
    }
   ],
   "source": [
    "internet = df_internet.pivot_table(index=['user_id', 'm'], \n",
    "                                   values='mb_used', aggfunc='sum'\n",
    "                                  ).apply(np.ceil).astype('int16').reset_index()\n",
    "internet.head()"
   ]
  },
  {
   "cell_type": "code",
   "execution_count": 60,
   "metadata": {},
   "outputs": [
    {
     "data": {
      "text/html": [
       "<div>\n",
       "<style scoped>\n",
       "    .dataframe tbody tr th:only-of-type {\n",
       "        vertical-align: middle;\n",
       "    }\n",
       "\n",
       "    .dataframe tbody tr th {\n",
       "        vertical-align: top;\n",
       "    }\n",
       "\n",
       "    .dataframe thead th {\n",
       "        text-align: right;\n",
       "    }\n",
       "</style>\n",
       "<table border=\"1\" class=\"dataframe\">\n",
       "  <thead>\n",
       "    <tr style=\"text-align: right;\">\n",
       "      <th></th>\n",
       "      <th>user_id</th>\n",
       "      <th>m</th>\n",
       "      <th>message_date</th>\n",
       "    </tr>\n",
       "  </thead>\n",
       "  <tbody>\n",
       "    <tr>\n",
       "      <th>0</th>\n",
       "      <td>1000</td>\n",
       "      <td>5</td>\n",
       "      <td>22</td>\n",
       "    </tr>\n",
       "    <tr>\n",
       "      <th>1</th>\n",
       "      <td>1000</td>\n",
       "      <td>6</td>\n",
       "      <td>60</td>\n",
       "    </tr>\n",
       "    <tr>\n",
       "      <th>2</th>\n",
       "      <td>1000</td>\n",
       "      <td>7</td>\n",
       "      <td>75</td>\n",
       "    </tr>\n",
       "    <tr>\n",
       "      <th>3</th>\n",
       "      <td>1000</td>\n",
       "      <td>8</td>\n",
       "      <td>81</td>\n",
       "    </tr>\n",
       "    <tr>\n",
       "      <th>4</th>\n",
       "      <td>1000</td>\n",
       "      <td>9</td>\n",
       "      <td>57</td>\n",
       "    </tr>\n",
       "  </tbody>\n",
       "</table>\n",
       "</div>"
      ],
      "text/plain": [
       "   user_id  m  message_date\n",
       "0     1000  5            22\n",
       "1     1000  6            60\n",
       "2     1000  7            75\n",
       "3     1000  8            81\n",
       "4     1000  9            57"
      ]
     },
     "execution_count": 60,
     "metadata": {},
     "output_type": "execute_result"
    }
   ],
   "source": [
    "mess = df_mess.pivot_table(index=['user_id', 'm'], values='message_date', aggfunc='count').reset_index()\n",
    "mess.head()"
   ]
  },
  {
   "cell_type": "markdown",
   "metadata": {},
   "source": [
    "- данные сгруппированы по 'user_id' и  'm', посчитаны суммы звонков смс и трафика."
   ]
  },
  {
   "cell_type": "markdown",
   "metadata": {},
   "source": [
    "## объединяем таблицы"
   ]
  },
  {
   "cell_type": "code",
   "execution_count": 61,
   "metadata": {},
   "outputs": [],
   "source": [
    "df = calls.merge(internet, on=['user_id', 'm'], how='outer').merge(mess, on=['user_id', 'm'], how='outer')"
   ]
  },
  {
   "cell_type": "code",
   "execution_count": 62,
   "metadata": {},
   "outputs": [],
   "source": [
    "df = df.merge(df_users[['city', 'user_id', 'tariff']], on='user_id', how='outer')\n",
    "df = df.rename(columns = {'tariff': 'tariff_name',\n",
    "                         'message_date': 'message'})"
   ]
  },
  {
   "cell_type": "code",
   "execution_count": 63,
   "metadata": {},
   "outputs": [],
   "source": [
    "df = df.merge(df_tariffs, on='tariff_name', how='left')"
   ]
  },
  {
   "cell_type": "code",
   "execution_count": 64,
   "metadata": {},
   "outputs": [
    {
     "name": "stdout",
     "output_type": "stream",
     "text": [
      "<class 'pandas.core.frame.DataFrame'>\n",
      "Int64Index: 3163 entries, 0 to 3175\n",
      "Data columns (total 14 columns):\n",
      " #   Column                 Non-Null Count  Dtype  \n",
      "---  ------                 --------------  -----  \n",
      " 0   user_id                3163 non-null   int64  \n",
      " 1   m                      3163 non-null   float64\n",
      " 2   duration               3163 non-null   float64\n",
      " 3   mb_used                3163 non-null   int32  \n",
      " 4   message                2667 non-null   float64\n",
      " 5   city                   3163 non-null   object \n",
      " 6   tariff_name            3163 non-null   object \n",
      " 7   messages_included      3163 non-null   int64  \n",
      " 8   mb_per_month_included  3163 non-null   int32  \n",
      " 9   minutes_included       3163 non-null   int64  \n",
      " 10  rub_monthly_fee        3163 non-null   int64  \n",
      " 11  rub_per_gb             3163 non-null   int64  \n",
      " 12  rub_per_message        3163 non-null   int64  \n",
      " 13  rub_per_minute         3163 non-null   int64  \n",
      "dtypes: float64(3), int32(2), int64(7), object(2)\n",
      "memory usage: 346.0+ KB\n"
     ]
    },
    {
     "data": {
      "text/html": [
       "<div>\n",
       "<style scoped>\n",
       "    .dataframe tbody tr th:only-of-type {\n",
       "        vertical-align: middle;\n",
       "    }\n",
       "\n",
       "    .dataframe tbody tr th {\n",
       "        vertical-align: top;\n",
       "    }\n",
       "\n",
       "    .dataframe thead th {\n",
       "        text-align: right;\n",
       "    }\n",
       "</style>\n",
       "<table border=\"1\" class=\"dataframe\">\n",
       "  <thead>\n",
       "    <tr style=\"text-align: right;\">\n",
       "      <th></th>\n",
       "      <th>user_id</th>\n",
       "      <th>m</th>\n",
       "      <th>duration</th>\n",
       "      <th>mb_used</th>\n",
       "      <th>message</th>\n",
       "      <th>city</th>\n",
       "      <th>tariff_name</th>\n",
       "      <th>messages_included</th>\n",
       "      <th>mb_per_month_included</th>\n",
       "      <th>minutes_included</th>\n",
       "      <th>rub_monthly_fee</th>\n",
       "      <th>rub_per_gb</th>\n",
       "      <th>rub_per_message</th>\n",
       "      <th>rub_per_minute</th>\n",
       "    </tr>\n",
       "  </thead>\n",
       "  <tbody>\n",
       "    <tr>\n",
       "      <th>0</th>\n",
       "      <td>1000</td>\n",
       "      <td>5.0</td>\n",
       "      <td>159.0</td>\n",
       "      <td>3</td>\n",
       "      <td>22.0</td>\n",
       "      <td>Краснодар</td>\n",
       "      <td>ultra</td>\n",
       "      <td>1000</td>\n",
       "      <td>30</td>\n",
       "      <td>3000</td>\n",
       "      <td>1950</td>\n",
       "      <td>150</td>\n",
       "      <td>1</td>\n",
       "      <td>1</td>\n",
       "    </tr>\n",
       "    <tr>\n",
       "      <th>1</th>\n",
       "      <td>1000</td>\n",
       "      <td>6.0</td>\n",
       "      <td>172.0</td>\n",
       "      <td>23</td>\n",
       "      <td>60.0</td>\n",
       "      <td>Краснодар</td>\n",
       "      <td>ultra</td>\n",
       "      <td>1000</td>\n",
       "      <td>30</td>\n",
       "      <td>3000</td>\n",
       "      <td>1950</td>\n",
       "      <td>150</td>\n",
       "      <td>1</td>\n",
       "      <td>1</td>\n",
       "    </tr>\n",
       "    <tr>\n",
       "      <th>2</th>\n",
       "      <td>1000</td>\n",
       "      <td>7.0</td>\n",
       "      <td>340.0</td>\n",
       "      <td>14</td>\n",
       "      <td>75.0</td>\n",
       "      <td>Краснодар</td>\n",
       "      <td>ultra</td>\n",
       "      <td>1000</td>\n",
       "      <td>30</td>\n",
       "      <td>3000</td>\n",
       "      <td>1950</td>\n",
       "      <td>150</td>\n",
       "      <td>1</td>\n",
       "      <td>1</td>\n",
       "    </tr>\n",
       "    <tr>\n",
       "      <th>3</th>\n",
       "      <td>1000</td>\n",
       "      <td>8.0</td>\n",
       "      <td>408.0</td>\n",
       "      <td>14</td>\n",
       "      <td>81.0</td>\n",
       "      <td>Краснодар</td>\n",
       "      <td>ultra</td>\n",
       "      <td>1000</td>\n",
       "      <td>30</td>\n",
       "      <td>3000</td>\n",
       "      <td>1950</td>\n",
       "      <td>150</td>\n",
       "      <td>1</td>\n",
       "      <td>1</td>\n",
       "    </tr>\n",
       "    <tr>\n",
       "      <th>4</th>\n",
       "      <td>1000</td>\n",
       "      <td>9.0</td>\n",
       "      <td>466.0</td>\n",
       "      <td>15</td>\n",
       "      <td>57.0</td>\n",
       "      <td>Краснодар</td>\n",
       "      <td>ultra</td>\n",
       "      <td>1000</td>\n",
       "      <td>30</td>\n",
       "      <td>3000</td>\n",
       "      <td>1950</td>\n",
       "      <td>150</td>\n",
       "      <td>1</td>\n",
       "      <td>1</td>\n",
       "    </tr>\n",
       "  </tbody>\n",
       "</table>\n",
       "</div>"
      ],
      "text/plain": [
       "   user_id    m  duration  mb_used  message       city tariff_name  \\\n",
       "0     1000  5.0     159.0        3     22.0  Краснодар       ultra   \n",
       "1     1000  6.0     172.0       23     60.0  Краснодар       ultra   \n",
       "2     1000  7.0     340.0       14     75.0  Краснодар       ultra   \n",
       "3     1000  8.0     408.0       14     81.0  Краснодар       ultra   \n",
       "4     1000  9.0     466.0       15     57.0  Краснодар       ultra   \n",
       "\n",
       "   messages_included  mb_per_month_included  minutes_included  \\\n",
       "0               1000                     30              3000   \n",
       "1               1000                     30              3000   \n",
       "2               1000                     30              3000   \n",
       "3               1000                     30              3000   \n",
       "4               1000                     30              3000   \n",
       "\n",
       "   rub_monthly_fee  rub_per_gb  rub_per_message  rub_per_minute  \n",
       "0             1950         150                1               1  \n",
       "1             1950         150                1               1  \n",
       "2             1950         150                1               1  \n",
       "3             1950         150                1               1  \n",
       "4             1950         150                1               1  "
      ]
     },
     "execution_count": 64,
     "metadata": {},
     "output_type": "execute_result"
    }
   ],
   "source": [
    "#удаление пропусков и замена мегабайт на округленные гигабайты\n",
    "df = df.dropna(subset=['duration', 'mb_used'], axis=0)\n",
    "df['mb_used'] = (df['mb_used'] / 1024).apply(np.ceil).astype('int32')\n",
    "df['mb_per_month_included'] = (df['mb_per_month_included'] / 1024).astype('int32')\n",
    "df.info()\n",
    "df.head()"
   ]
  },
  {
   "cell_type": "markdown",
   "metadata": {},
   "source": [
    "объеденили все таблицы в одну общую"
   ]
  },
  {
   "cell_type": "markdown",
   "metadata": {},
   "source": [
    "## считаем выручку"
   ]
  },
  {
   "cell_type": "code",
   "execution_count": 65,
   "metadata": {},
   "outputs": [],
   "source": [
    "# функция расчета выручки за месяц\n",
    "def rev (row):\n",
    "    price = row['rub_monthly_fee']\n",
    "    \n",
    "    call = row['minutes_included'] - row['duration']\n",
    "    if call < 0:\n",
    "        price += abs(call) * row['rub_per_minute']\n",
    "    internet = row['mb_per_month_included'] - row['mb_used'] \n",
    "    if internet < 0:\n",
    "        price += abs(internet) * row['rub_per_gb']\n",
    "    mess = row['messages_included'] - row['message']   \n",
    "    if mess < 0:\n",
    "        price += abs(mess) * row['rub_per_message']\n",
    "    return price"
   ]
  },
  {
   "cell_type": "code",
   "execution_count": 66,
   "metadata": {},
   "outputs": [],
   "source": [
    "# добавление данных\n",
    "df['revenue'] = df.apply(rev, axis=1)"
   ]
  },
  {
   "cell_type": "code",
   "execution_count": 67,
   "metadata": {},
   "outputs": [
    {
     "data": {
      "text/html": [
       "<div>\n",
       "<style scoped>\n",
       "    .dataframe tbody tr th:only-of-type {\n",
       "        vertical-align: middle;\n",
       "    }\n",
       "\n",
       "    .dataframe tbody tr th {\n",
       "        vertical-align: top;\n",
       "    }\n",
       "\n",
       "    .dataframe thead th {\n",
       "        text-align: right;\n",
       "    }\n",
       "</style>\n",
       "<table border=\"1\" class=\"dataframe\">\n",
       "  <thead>\n",
       "    <tr style=\"text-align: right;\">\n",
       "      <th></th>\n",
       "      <th>user_id</th>\n",
       "      <th>m</th>\n",
       "      <th>duration</th>\n",
       "      <th>mb_used</th>\n",
       "      <th>message</th>\n",
       "      <th>city</th>\n",
       "      <th>tariff_name</th>\n",
       "      <th>messages_included</th>\n",
       "      <th>mb_per_month_included</th>\n",
       "      <th>minutes_included</th>\n",
       "      <th>rub_monthly_fee</th>\n",
       "      <th>rub_per_gb</th>\n",
       "      <th>rub_per_message</th>\n",
       "      <th>rub_per_minute</th>\n",
       "      <th>revenue</th>\n",
       "    </tr>\n",
       "  </thead>\n",
       "  <tbody>\n",
       "    <tr>\n",
       "      <th>0</th>\n",
       "      <td>1000</td>\n",
       "      <td>5.0</td>\n",
       "      <td>159.0</td>\n",
       "      <td>3</td>\n",
       "      <td>22.0</td>\n",
       "      <td>Краснодар</td>\n",
       "      <td>ultra</td>\n",
       "      <td>1000</td>\n",
       "      <td>30</td>\n",
       "      <td>3000</td>\n",
       "      <td>1950</td>\n",
       "      <td>150</td>\n",
       "      <td>1</td>\n",
       "      <td>1</td>\n",
       "      <td>1950.0</td>\n",
       "    </tr>\n",
       "    <tr>\n",
       "      <th>1</th>\n",
       "      <td>1000</td>\n",
       "      <td>6.0</td>\n",
       "      <td>172.0</td>\n",
       "      <td>23</td>\n",
       "      <td>60.0</td>\n",
       "      <td>Краснодар</td>\n",
       "      <td>ultra</td>\n",
       "      <td>1000</td>\n",
       "      <td>30</td>\n",
       "      <td>3000</td>\n",
       "      <td>1950</td>\n",
       "      <td>150</td>\n",
       "      <td>1</td>\n",
       "      <td>1</td>\n",
       "      <td>1950.0</td>\n",
       "    </tr>\n",
       "    <tr>\n",
       "      <th>2</th>\n",
       "      <td>1000</td>\n",
       "      <td>7.0</td>\n",
       "      <td>340.0</td>\n",
       "      <td>14</td>\n",
       "      <td>75.0</td>\n",
       "      <td>Краснодар</td>\n",
       "      <td>ultra</td>\n",
       "      <td>1000</td>\n",
       "      <td>30</td>\n",
       "      <td>3000</td>\n",
       "      <td>1950</td>\n",
       "      <td>150</td>\n",
       "      <td>1</td>\n",
       "      <td>1</td>\n",
       "      <td>1950.0</td>\n",
       "    </tr>\n",
       "    <tr>\n",
       "      <th>3</th>\n",
       "      <td>1000</td>\n",
       "      <td>8.0</td>\n",
       "      <td>408.0</td>\n",
       "      <td>14</td>\n",
       "      <td>81.0</td>\n",
       "      <td>Краснодар</td>\n",
       "      <td>ultra</td>\n",
       "      <td>1000</td>\n",
       "      <td>30</td>\n",
       "      <td>3000</td>\n",
       "      <td>1950</td>\n",
       "      <td>150</td>\n",
       "      <td>1</td>\n",
       "      <td>1</td>\n",
       "      <td>1950.0</td>\n",
       "    </tr>\n",
       "    <tr>\n",
       "      <th>4</th>\n",
       "      <td>1000</td>\n",
       "      <td>9.0</td>\n",
       "      <td>466.0</td>\n",
       "      <td>15</td>\n",
       "      <td>57.0</td>\n",
       "      <td>Краснодар</td>\n",
       "      <td>ultra</td>\n",
       "      <td>1000</td>\n",
       "      <td>30</td>\n",
       "      <td>3000</td>\n",
       "      <td>1950</td>\n",
       "      <td>150</td>\n",
       "      <td>1</td>\n",
       "      <td>1</td>\n",
       "      <td>1950.0</td>\n",
       "    </tr>\n",
       "  </tbody>\n",
       "</table>\n",
       "</div>"
      ],
      "text/plain": [
       "   user_id    m  duration  mb_used  message       city tariff_name  \\\n",
       "0     1000  5.0     159.0        3     22.0  Краснодар       ultra   \n",
       "1     1000  6.0     172.0       23     60.0  Краснодар       ultra   \n",
       "2     1000  7.0     340.0       14     75.0  Краснодар       ultra   \n",
       "3     1000  8.0     408.0       14     81.0  Краснодар       ultra   \n",
       "4     1000  9.0     466.0       15     57.0  Краснодар       ultra   \n",
       "\n",
       "   messages_included  mb_per_month_included  minutes_included  \\\n",
       "0               1000                     30              3000   \n",
       "1               1000                     30              3000   \n",
       "2               1000                     30              3000   \n",
       "3               1000                     30              3000   \n",
       "4               1000                     30              3000   \n",
       "\n",
       "   rub_monthly_fee  rub_per_gb  rub_per_message  rub_per_minute  revenue  \n",
       "0             1950         150                1               1   1950.0  \n",
       "1             1950         150                1               1   1950.0  \n",
       "2             1950         150                1               1   1950.0  \n",
       "3             1950         150                1               1   1950.0  \n",
       "4             1950         150                1               1   1950.0  "
      ]
     },
     "execution_count": 67,
     "metadata": {},
     "output_type": "execute_result"
    }
   ],
   "source": [
    "df.head()"
   ]
  },
  {
   "cell_type": "markdown",
   "metadata": {},
   "source": [
    "добавлен столбец с выручкой по месяцам"
   ]
  },
  {
   "cell_type": "markdown",
   "metadata": {},
   "source": [
    "# анализ данных"
   ]
  },
  {
   "cell_type": "code",
   "execution_count": 68,
   "metadata": {},
   "outputs": [],
   "source": [
    "# разбиваем пользователей на 2 таблицы по тарифу\n",
    "\n",
    "smart = df.query('tariff_name == \"smart\"')\n",
    "ultra = df.query('tariff_name == \"ultra\"')"
   ]
  },
  {
   "cell_type": "markdown",
   "metadata": {},
   "source": [
    "## среднее, дисперсия, среднее отклонение"
   ]
  },
  {
   "cell_type": "code",
   "execution_count": 69,
   "metadata": {},
   "outputs": [],
   "source": [
    "# duration\n",
    "duration = df.pivot_table(index='tariff_name', values='duration', aggfunc=['mean', np.var, np.std]).astype(int)\n",
    "duration.columns = ['mean','var','std']"
   ]
  },
  {
   "cell_type": "code",
   "execution_count": 70,
   "metadata": {},
   "outputs": [],
   "source": [
    "# message\n",
    "message = df.pivot_table(index='tariff_name', values='message', aggfunc=['mean', np.var, np.std]).astype(int)\n",
    "message.columns = ['mean','var','std']"
   ]
  },
  {
   "cell_type": "code",
   "execution_count": 71,
   "metadata": {},
   "outputs": [],
   "source": [
    "# internet\n",
    "internet = df.pivot_table(index='tariff_name', values='mb_used', aggfunc=['mean', np.var, np.std]).astype(int)\n",
    "internet.columns = ['mean','var','std']"
   ]
  },
  {
   "cell_type": "code",
   "execution_count": 72,
   "metadata": {},
   "outputs": [],
   "source": [
    "# revenue\n",
    "revenue = df.pivot_table(index='tariff_name', values='revenue', aggfunc=['mean', np.var, np.std]).astype(int)\n",
    "revenue.columns = ['mean','var','std']\n",
    "\n",
    "revenue_sum = df.pivot_table(index='tariff_name', values='revenue', aggfunc=['sum', 'count']).astype(int)\n",
    "revenue_sum.columns = ['sum','count']"
   ]
  },
  {
   "cell_type": "code",
   "execution_count": 73,
   "metadata": {},
   "outputs": [
    {
     "data": {
      "text/html": [
       "<div>\n",
       "<style scoped>\n",
       "    .dataframe tbody tr th:only-of-type {\n",
       "        vertical-align: middle;\n",
       "    }\n",
       "\n",
       "    .dataframe tbody tr th {\n",
       "        vertical-align: top;\n",
       "    }\n",
       "\n",
       "    .dataframe thead th {\n",
       "        text-align: right;\n",
       "    }\n",
       "</style>\n",
       "<table border=\"1\" class=\"dataframe\">\n",
       "  <thead>\n",
       "    <tr style=\"text-align: right;\">\n",
       "      <th></th>\n",
       "      <th>mean</th>\n",
       "      <th>var</th>\n",
       "      <th>std</th>\n",
       "    </tr>\n",
       "    <tr>\n",
       "      <th>tariff_name</th>\n",
       "      <th></th>\n",
       "      <th></th>\n",
       "      <th></th>\n",
       "    </tr>\n",
       "  </thead>\n",
       "  <tbody>\n",
       "    <tr>\n",
       "      <th>smart</th>\n",
       "      <td>419</td>\n",
       "      <td>35798</td>\n",
       "      <td>189</td>\n",
       "    </tr>\n",
       "    <tr>\n",
       "      <th>ultra</th>\n",
       "      <td>548</td>\n",
       "      <td>94015</td>\n",
       "      <td>306</td>\n",
       "    </tr>\n",
       "  </tbody>\n",
       "</table>\n",
       "</div>"
      ],
      "text/plain": [
       "             mean    var  std\n",
       "tariff_name                  \n",
       "smart         419  35798  189\n",
       "ultra         548  94015  306"
      ]
     },
     "execution_count": 73,
     "metadata": {},
     "output_type": "execute_result"
    }
   ],
   "source": [
    "duration"
   ]
  },
  {
   "cell_type": "code",
   "execution_count": 74,
   "metadata": {},
   "outputs": [
    {
     "data": {
      "text/html": [
       "<div>\n",
       "<style scoped>\n",
       "    .dataframe tbody tr th:only-of-type {\n",
       "        vertical-align: middle;\n",
       "    }\n",
       "\n",
       "    .dataframe tbody tr th {\n",
       "        vertical-align: top;\n",
       "    }\n",
       "\n",
       "    .dataframe thead th {\n",
       "        text-align: right;\n",
       "    }\n",
       "</style>\n",
       "<table border=\"1\" class=\"dataframe\">\n",
       "  <thead>\n",
       "    <tr style=\"text-align: right;\">\n",
       "      <th></th>\n",
       "      <th>mean</th>\n",
       "      <th>var</th>\n",
       "      <th>std</th>\n",
       "    </tr>\n",
       "    <tr>\n",
       "      <th>tariff_name</th>\n",
       "      <th></th>\n",
       "      <th></th>\n",
       "      <th></th>\n",
       "    </tr>\n",
       "  </thead>\n",
       "  <tbody>\n",
       "    <tr>\n",
       "      <th>smart</th>\n",
       "      <td>38</td>\n",
       "      <td>718</td>\n",
       "      <td>26</td>\n",
       "    </tr>\n",
       "    <tr>\n",
       "      <th>ultra</th>\n",
       "      <td>61</td>\n",
       "      <td>2008</td>\n",
       "      <td>44</td>\n",
       "    </tr>\n",
       "  </tbody>\n",
       "</table>\n",
       "</div>"
      ],
      "text/plain": [
       "             mean   var  std\n",
       "tariff_name                 \n",
       "smart          38   718   26\n",
       "ultra          61  2008   44"
      ]
     },
     "execution_count": 74,
     "metadata": {},
     "output_type": "execute_result"
    }
   ],
   "source": [
    "message"
   ]
  },
  {
   "cell_type": "code",
   "execution_count": 75,
   "metadata": {},
   "outputs": [
    {
     "data": {
      "text/html": [
       "<div>\n",
       "<style scoped>\n",
       "    .dataframe tbody tr th:only-of-type {\n",
       "        vertical-align: middle;\n",
       "    }\n",
       "\n",
       "    .dataframe tbody tr th {\n",
       "        vertical-align: top;\n",
       "    }\n",
       "\n",
       "    .dataframe thead th {\n",
       "        text-align: right;\n",
       "    }\n",
       "</style>\n",
       "<table border=\"1\" class=\"dataframe\">\n",
       "  <thead>\n",
       "    <tr style=\"text-align: right;\">\n",
       "      <th></th>\n",
       "      <th>mean</th>\n",
       "      <th>var</th>\n",
       "      <th>std</th>\n",
       "    </tr>\n",
       "    <tr>\n",
       "      <th>tariff_name</th>\n",
       "      <th></th>\n",
       "      <th></th>\n",
       "      <th></th>\n",
       "    </tr>\n",
       "  </thead>\n",
       "  <tbody>\n",
       "    <tr>\n",
       "      <th>smart</th>\n",
       "      <td>16</td>\n",
       "      <td>38</td>\n",
       "      <td>6</td>\n",
       "    </tr>\n",
       "    <tr>\n",
       "      <th>ultra</th>\n",
       "      <td>13</td>\n",
       "      <td>242</td>\n",
       "      <td>15</td>\n",
       "    </tr>\n",
       "  </tbody>\n",
       "</table>\n",
       "</div>"
      ],
      "text/plain": [
       "             mean  var  std\n",
       "tariff_name                \n",
       "smart          16   38    6\n",
       "ultra          13  242   15"
      ]
     },
     "execution_count": 75,
     "metadata": {},
     "output_type": "execute_result"
    }
   ],
   "source": [
    "internet"
   ]
  },
  {
   "cell_type": "code",
   "execution_count": 76,
   "metadata": {},
   "outputs": [
    {
     "data": {
      "text/html": [
       "<div>\n",
       "<style scoped>\n",
       "    .dataframe tbody tr th:only-of-type {\n",
       "        vertical-align: middle;\n",
       "    }\n",
       "\n",
       "    .dataframe tbody tr th {\n",
       "        vertical-align: top;\n",
       "    }\n",
       "\n",
       "    .dataframe thead th {\n",
       "        text-align: right;\n",
       "    }\n",
       "</style>\n",
       "<table border=\"1\" class=\"dataframe\">\n",
       "  <thead>\n",
       "    <tr style=\"text-align: right;\">\n",
       "      <th></th>\n",
       "      <th>sum</th>\n",
       "      <th>count</th>\n",
       "    </tr>\n",
       "    <tr>\n",
       "      <th>tariff_name</th>\n",
       "      <th></th>\n",
       "      <th></th>\n",
       "    </tr>\n",
       "  </thead>\n",
       "  <tbody>\n",
       "    <tr>\n",
       "      <th>smart</th>\n",
       "      <td>2828301</td>\n",
       "      <td>2222</td>\n",
       "    </tr>\n",
       "    <tr>\n",
       "      <th>ultra</th>\n",
       "      <td>1842300</td>\n",
       "      <td>941</td>\n",
       "    </tr>\n",
       "  </tbody>\n",
       "</table>\n",
       "</div>"
      ],
      "text/plain": [
       "                 sum  count\n",
       "tariff_name                \n",
       "smart        2828301   2222\n",
       "ultra        1842300    941"
      ]
     },
     "execution_count": 76,
     "metadata": {},
     "output_type": "execute_result"
    }
   ],
   "source": [
    "revenue_sum"
   ]
  },
  {
   "cell_type": "markdown",
   "metadata": {},
   "source": [
    "## графики"
   ]
  },
  {
   "cell_type": "code",
   "execution_count": 77,
   "metadata": {},
   "outputs": [
    {
     "data": {
      "image/png": "[encoded data removed]",
      "text/plain": [
       "<Figure size 432x288 with 1 Axes>"
      ]
     },
     "metadata": {
      "needs_background": "light"
     },
     "output_type": "display_data"
    }
   ],
   "source": [
    "duration[['mean','std']].plot(kind='bar', title='среднее расхование минут за месяц')\n",
    "plt.legend(['среднее', 'стд.отклонение'])\n",
    "plt.show()"
   ]
  },
  {
   "cell_type": "code",
   "execution_count": 78,
   "metadata": {},
   "outputs": [
    {
     "data": {
      "image/png": "[encoded data removed]",
      "text/plain": [
       "<Figure size 432x288 with 1 Axes>"
      ]
     },
     "metadata": {
      "needs_background": "light"
     },
     "output_type": "display_data"
    }
   ],
   "source": [
    "message[['mean','std']].plot( kind='bar', title='среднее расходование сообщений за месяц')\n",
    "plt.legend(['среднее', 'стд.отклонение'])\n",
    "plt.show()"
   ]
  },
  {
   "cell_type": "code",
   "execution_count": 79,
   "metadata": {},
   "outputs": [
    {
     "data": {
      "image/png": "[encoded data removed]",
      "text/plain": [
       "<Figure size 432x288 with 1 Axes>"
      ]
     },
     "metadata": {
      "needs_background": "light"
     },
     "output_type": "display_data"
    }
   ],
   "source": [
    "internet[['mean','std']].plot(kind='bar', title='среднее расхование интернета за месяц')\n",
    "plt.legend(['среднее', 'стд.отклонение'])\n",
    "plt.show()"
   ]
  },
  {
   "cell_type": "code",
   "execution_count": 80,
   "metadata": {},
   "outputs": [
    {
     "data": {
      "image/png": "[encoded data removed]",
      "text/plain": [
       "<Figure size 432x288 with 1 Axes>"
      ]
     },
     "metadata": {
      "needs_background": "light"
     },
     "output_type": "display_data"
    }
   ],
   "source": [
    "revenue[['mean','std']].plot(kind='bar', title='средняя выручка за месяц')\n",
    "plt.legend(['среднее', 'стд.отклонение'])\n",
    "plt.show()"
   ]
  },
  {
   "cell_type": "code",
   "execution_count": 81,
   "metadata": {},
   "outputs": [
    {
     "data": {
      "image/png": "[encoded data removed]",
      "text/plain": [
       "<Figure size 432x288 with 1 Axes>"
      ]
     },
     "metadata": {
      "needs_background": "light"
     },
     "output_type": "display_data"
    },
    {
     "data": {
      "image/png": "[encoded data removed]",
      "text/plain": [
       "<Figure size 432x288 with 1 Axes>"
      ]
     },
     "metadata": {
      "needs_background": "light"
     },
     "output_type": "display_data"
    }
   ],
   "source": [
    "revenue_sum['sum'].plot(kind='bar', title='выручка за год')\n",
    "plt.show()\n",
    "revenue_sum['count'].plot(kind='bar', title='количество абонентов')\n",
    "plt.show()"
   ]
  },
  {
   "cell_type": "code",
   "execution_count": 82,
   "metadata": {},
   "outputs": [
    {
     "data": {
      "image/png": "[encoded data removed]",
      "text/plain": [
       "<Figure size 432x288 with 1 Axes>"
      ]
     },
     "metadata": {
      "needs_background": "light"
     },
     "output_type": "display_data"
    },
    {
     "data": {
      "image/png": "[encoded data removed]",
      "text/plain": [
       "<Figure size 432x288 with 1 Axes>"
      ]
     },
     "metadata": {
      "needs_background": "light"
     },
     "output_type": "display_data"
    }
   ],
   "source": [
    "df[df.tariff_name=='ultra'].groupby('user_id'\n",
    "                                   )['duration'].agg(['mean']\n",
    "                                                    ).sort_values(by='mean', ascending=False\n",
    "                                                                 ).plot(kind='hist',bins=40\n",
    "                                                                       )\n",
    "plt.title('Распределение тарифа ultra по среднемесячной длительности звонков')\n",
    "plt.xlabel('Длительность звонков')\n",
    "plt.ylabel('Число абонентов')\n",
    "\n",
    "df[df.tariff_name=='smart'].groupby('user_id'\n",
    "                                   )['duration'].agg(['mean']\n",
    "                                                    ).sort_values(by='mean', ascending=False\n",
    "                                                                 ).plot(kind='hist',bins=40\n",
    "                                                                       )\n",
    "plt.title('Распределение тарифа smart по среднемесячной длительности звонков')\n",
    "plt.xlabel('Длительность звонков')\n",
    "plt.ylabel('Число абонентов')\n",
    "plt.show()"
   ]
  },
  {
   "cell_type": "markdown",
   "metadata": {},
   "source": [
    "### количество абонентов разных тарифов"
   ]
  },
  {
   "cell_type": "code",
   "execution_count": 83,
   "metadata": {},
   "outputs": [
    {
     "data": {
      "image/png": "[encoded data removed]",
      "text/plain": [
       "<Figure size 432x288 with 1 Axes>"
      ]
     },
     "metadata": {
      "needs_background": "light"
     },
     "output_type": "display_data"
    }
   ],
   "source": [
    "df.groupby('tariff_name').agg({'tariff_name': 'count'}).plot(kind='bar', title='количество абонентов за год')\n",
    "plt.legend(['количество абонентов'])\n",
    "plt.show()"
   ]
  },
  {
   "cell_type": "markdown",
   "metadata": {},
   "source": [
    "### количество пользоватей по городам"
   ]
  },
  {
   "cell_type": "code",
   "execution_count": 84,
   "metadata": {},
   "outputs": [
    {
     "data": {
      "image/png": "[encoded data removed]",
      "text/plain": [
       "<Figure size 432x288 with 1 Axes>"
      ]
     },
     "metadata": {
      "needs_background": "light"
     },
     "output_type": "display_data"
    },
    {
     "data": {
      "image/png": "[encoded data removed]",
      "text/plain": [
       "<Figure size 432x288 with 1 Axes>"
      ]
     },
     "metadata": {
      "needs_background": "light"
     },
     "output_type": "display_data"
    }
   ],
   "source": [
    "df_users.pivot_table(index='city', columns='tariff', values='user_id', aggfunc='count'\n",
    "                    ).sort_values(by='smart', ascending=False\n",
    "                                 ).head(10).plot(kind='bar', title='топ 10 количества пользователей smart по городам')\n",
    "plt.show()\n",
    "\n",
    "df_users.pivot_table(index='city', columns='tariff', values='user_id', aggfunc='count'\n",
    "                    ).sort_values(by='ultra', ascending=False\n",
    "                                 ).head(10).plot(kind='bar', title='топ 10 количества пользователей ultra по городам')\n",
    "plt.show()"
   ]
  },
  {
   "cell_type": "markdown",
   "metadata": {},
   "source": [
    "### средний чек по городам топ 10"
   ]
  },
  {
   "cell_type": "code",
   "execution_count": 85,
   "metadata": {},
   "outputs": [
    {
     "data": {
      "image/png": "[encoded data removed]",
      "text/plain": [
       "<Figure size 432x288 with 1 Axes>"
      ]
     },
     "metadata": {
      "needs_background": "light"
     },
     "output_type": "display_data"
    }
   ],
   "source": [
    "df.pivot_table(index='city', values='revenue', aggfunc='mean'\n",
    "              ).sort_values(by='revenue', ascending=False\n",
    "                           ).head(10).plot(kind='bar', title='средний чек по городам топ 10')\n",
    "plt.ylim(1700,)\n",
    "plt.show()"
   ]
  },
  {
   "cell_type": "markdown",
   "metadata": {},
   "source": [
    "# Гипотезы"
   ]
  },
  {
   "cell_type": "markdown",
   "metadata": {},
   "source": [
    "## выручка от пользователей тарифов «Ультра» и «Смарт» равны"
   ]
  },
  {
   "cell_type": "markdown",
   "metadata": {},
   "source": [
    "Н0: **средняя выручка тарифов равна**\n",
    "\n",
    "Н1: средняя выручка по тарифам не равна"
   ]
  },
  {
   "cell_type": "code",
   "execution_count": 86,
   "metadata": {},
   "outputs": [
    {
     "name": "stdout",
     "output_type": "stream",
     "text": [
      "p-значение: 9.517687449727398e-278\n",
      "Отвергаем нулевую гипотезу\n"
     ]
    }
   ],
   "source": [
    "alpha = 0.05\n",
    "results = st.ttest_ind(smart['revenue'], ultra['revenue'], equal_var=False)\n",
    "\n",
    "print('p-значение:', results.pvalue)\n",
    "\n",
    "if results.pvalue < alpha:\n",
    "    print(\"Отвергаем нулевую гипотезу\")\n",
    "else:\n",
    "    print(\"Не получилось отвергнуть нулевую гипотезу\") "
   ]
  },
  {
   "cell_type": "markdown",
   "metadata": {},
   "source": [
    "тест подтверждает что выручка не равна."
   ]
  },
  {
   "cell_type": "code",
   "execution_count": 87,
   "metadata": {},
   "outputs": [
    {
     "data": {
      "image/png": "[encoded data removed]",
      "text/plain": [
       "<Figure size 432x288 with 1 Axes>"
      ]
     },
     "metadata": {
      "needs_background": "light"
     },
     "output_type": "display_data"
    },
    {
     "data": {
      "image/png": "[encoded data removed]",
      "text/plain": [
       "<Figure size 432x288 with 1 Axes>"
      ]
     },
     "metadata": {
      "needs_background": "light"
     },
     "output_type": "display_data"
    }
   ],
   "source": [
    "ultra.boxplot(column='revenue')\n",
    "plt.show()\n",
    "smart.boxplot(column='revenue')\n",
    "plt.show()"
   ]
  },
  {
   "cell_type": "markdown",
   "metadata": {},
   "source": [
    "## выручка по регионам равна"
   ]
  },
  {
   "cell_type": "code",
   "execution_count": 88,
   "metadata": {},
   "outputs": [],
   "source": [
    "moscow = df[df['city'] == 'Москва']\n",
    "region = df[~(df['city'] == 'Москва')]"
   ]
  },
  {
   "cell_type": "code",
   "execution_count": 89,
   "metadata": {},
   "outputs": [
    {
     "name": "stdout",
     "output_type": "stream",
     "text": [
      "p-значение: 0.4460858778892436\n",
      "Не получилось отвергнуть нулевую гипотезу\n"
     ]
    }
   ],
   "source": [
    "alpha = 0.05\n",
    "results = st.ttest_ind(region['revenue'], moscow['revenue'],equal_var=False)\n",
    "\n",
    "print('p-значение:', results.pvalue)\n",
    "\n",
    "if results.pvalue < alpha:\n",
    "    print(\"Отвергаем нулевую гипотезу\")\n",
    "else:\n",
    "    print(\"Не получилось отвергнуть нулевую гипотезу\") "
   ]
  },
  {
   "cell_type": "markdown",
   "metadata": {},
   "source": [
    "тест не позволил отклонить нулевую гипотезу. Это говорит о том что выручка примерно равна. При ручной проверке это подтверждается."
   ]
  },
  {
   "cell_type": "code",
   "execution_count": 90,
   "metadata": {},
   "outputs": [
    {
     "data": {
      "image/png": "[encoded data removed]",
      "text/plain": [
       "<Figure size 432x288 with 1 Axes>"
      ]
     },
     "metadata": {
      "needs_background": "light"
     },
     "output_type": "display_data"
    },
    {
     "data": {
      "image/png": "[encoded data removed]",
      "text/plain": [
       "<Figure size 432x288 with 1 Axes>"
      ]
     },
     "metadata": {
      "needs_background": "light"
     },
     "output_type": "display_data"
    }
   ],
   "source": [
    "moscow.boxplot(column='revenue')\n",
    "plt.show()\n",
    "region.boxplot(column='revenue')\n",
    "plt.show()"
   ]
  },
  {
   "cell_type": "markdown",
   "metadata": {},
   "source": [
    "# общий вывод"
   ]
  },
  {
   "cell_type": "markdown",
   "metadata": {},
   "source": [
    "**из проведенного анализа видно:**\n",
    "- в среднем пользователям хватает минут в рамках тарифа\n",
    "- некоторое количество пользователей тарифа смарт выходят за рамки предоставленных минут оплачивая услуги дополнительно, пользователи тарифа смарт укладываются в лимит\n",
    "- с использованием сообщений ситуация похожая\n",
    "- интернета в ключенного в тариф пользователям смарт не хватает\n",
    "- средняя выручка от пользователей смарт в среднем 1250, но у нее большой уроветь стандартного отклонения и она не стабильна.\n",
    "- выручка тарифа ультра на уровне 2000, с незначительным уровнем отклонения говорит о том что этому среднему можно доверять\n",
    "- выручка за год от абонентов смарт выше выручки ультра, за счет бОльшего количества пользователей. \n",
    "- если посмотреть соотношение выручка/количество пользователей то выручка от тарифа ультра выше более чем в 2 раза.\n",
    "- выручка от пользователей ультра и смарт не равна\n",
    "- выручка от пользователей из Москвы равна выручке пользователей из регионов, за счет большего среднего и медианного чека в Москве."
   ]
  }
 ],
 "metadata": {
  "ExecuteTimeLog": [
   {
    "duration": 442,
    "start_time": "2022-01-17T19:34:43.399Z"
   },
   {
    "duration": 614,
    "start_time": "2022-01-17T19:34:49.026Z"
   },
   {
    "duration": 146,
    "start_time": "2022-01-17T19:34:49.642Z"
   },
   {
    "duration": 381,
    "start_time": "2022-01-17T19:37:29.649Z"
   },
   {
    "duration": 3,
    "start_time": "2022-01-17T19:37:34.029Z"
   },
   {
    "duration": 379,
    "start_time": "2022-01-17T19:37:34.737Z"
   },
   {
    "duration": 15,
    "start_time": "2022-01-17T19:37:52.488Z"
   },
   {
    "duration": 18,
    "start_time": "2022-01-17T19:38:05.749Z"
   },
   {
    "duration": 10,
    "start_time": "2022-01-17T19:38:13.337Z"
   },
   {
    "duration": 7,
    "start_time": "2022-01-17T19:38:21.767Z"
   },
   {
    "duration": 12,
    "start_time": "2022-01-17T19:38:33.409Z"
   },
   {
    "duration": 22,
    "start_time": "2022-01-17T19:47:08.356Z"
   },
   {
    "duration": 18,
    "start_time": "2022-01-17T19:47:14.081Z"
   },
   {
    "duration": 124,
    "start_time": "2022-01-17T19:47:31.382Z"
   },
   {
    "duration": 15,
    "start_time": "2022-01-17T19:47:40.423Z"
   },
   {
    "duration": 14,
    "start_time": "2022-01-17T19:48:01.181Z"
   },
   {
    "duration": 350,
    "start_time": "2022-01-17T19:49:19.961Z"
   },
   {
    "duration": 24,
    "start_time": "2022-01-17T19:49:43.644Z"
   },
   {
    "duration": 7,
    "start_time": "2022-01-17T19:51:49.445Z"
   },
   {
    "duration": 20,
    "start_time": "2022-01-17T19:51:55.182Z"
   },
   {
    "duration": 16,
    "start_time": "2022-01-17T19:58:26.767Z"
   },
   {
    "duration": 14,
    "start_time": "2022-01-17T19:58:37.901Z"
   },
   {
    "duration": 6,
    "start_time": "2022-01-17T19:58:53.335Z"
   },
   {
    "duration": 11,
    "start_time": "2022-01-17T20:03:42.422Z"
   },
   {
    "duration": 304,
    "start_time": "2022-01-18T06:40:21.713Z"
   },
   {
    "duration": 814,
    "start_time": "2022-01-18T06:40:29.589Z"
   },
   {
    "duration": 587,
    "start_time": "2022-01-18T06:40:30.406Z"
   },
   {
    "duration": 45,
    "start_time": "2022-01-18T06:40:31.002Z"
   },
   {
    "duration": 39,
    "start_time": "2022-01-18T06:40:31.051Z"
   },
   {
    "duration": 56,
    "start_time": "2022-01-18T06:40:31.093Z"
   },
   {
    "duration": 38,
    "start_time": "2022-01-18T06:40:31.152Z"
   },
   {
    "duration": 42,
    "start_time": "2022-01-18T06:40:31.195Z"
   },
   {
    "duration": 32,
    "start_time": "2022-01-18T06:40:31.241Z"
   },
   {
    "duration": 33,
    "start_time": "2022-01-18T06:40:31.276Z"
   },
   {
    "duration": 14,
    "start_time": "2022-01-18T06:41:43.709Z"
   },
   {
    "duration": 346,
    "start_time": "2022-01-18T06:50:54.014Z"
   },
   {
    "duration": 258,
    "start_time": "2022-01-18T06:51:09.763Z"
   },
   {
    "duration": 249,
    "start_time": "2022-01-18T06:51:18.447Z"
   },
   {
    "duration": 3,
    "start_time": "2022-01-18T06:54:00.470Z"
   },
   {
    "duration": 256,
    "start_time": "2022-01-18T06:54:04.820Z"
   },
   {
    "duration": 751,
    "start_time": "2022-01-18T06:56:36.189Z"
   },
   {
    "duration": 246,
    "start_time": "2022-01-18T07:00:33.317Z"
   },
   {
    "duration": 3,
    "start_time": "2022-01-18T07:01:35.594Z"
   },
   {
    "duration": 6,
    "start_time": "2022-01-18T07:01:43.075Z"
   },
   {
    "duration": 16,
    "start_time": "2022-01-18T07:01:53.547Z"
   },
   {
    "duration": 38,
    "start_time": "2022-01-18T07:03:03.294Z"
   },
   {
    "duration": 260,
    "start_time": "2022-01-18T07:03:29.032Z"
   },
   {
    "duration": 5,
    "start_time": "2022-01-18T07:03:34.322Z"
   },
   {
    "duration": 14,
    "start_time": "2022-01-18T07:03:36.555Z"
   },
   {
    "duration": 27,
    "start_time": "2022-01-18T10:43:11.375Z"
   },
   {
    "duration": 15,
    "start_time": "2022-01-18T10:43:29.849Z"
   },
   {
    "duration": 26,
    "start_time": "2022-01-18T11:15:49.931Z"
   },
   {
    "duration": 272,
    "start_time": "2022-01-18T11:17:14.044Z"
   },
   {
    "duration": 247,
    "start_time": "2022-01-18T11:17:41.816Z"
   },
   {
    "duration": 311,
    "start_time": "2022-01-18T11:17:50.586Z"
   },
   {
    "duration": 996,
    "start_time": "2022-01-18T11:18:16.235Z"
   },
   {
    "duration": 253,
    "start_time": "2022-01-18T11:18:24.607Z"
   },
   {
    "duration": 267,
    "start_time": "2022-01-18T11:20:02.914Z"
   },
   {
    "duration": 54,
    "start_time": "2022-01-18T11:20:13.670Z"
   },
   {
    "duration": 20,
    "start_time": "2022-01-18T11:20:16.751Z"
   },
   {
    "duration": 706,
    "start_time": "2022-01-18T11:21:16.440Z"
   },
   {
    "duration": 493,
    "start_time": "2022-01-18T11:21:17.149Z"
   },
   {
    "duration": 28,
    "start_time": "2022-01-18T11:21:17.648Z"
   },
   {
    "duration": 22,
    "start_time": "2022-01-18T11:21:17.678Z"
   },
   {
    "duration": 58,
    "start_time": "2022-01-18T11:21:17.702Z"
   },
   {
    "duration": 21,
    "start_time": "2022-01-18T11:21:17.762Z"
   },
   {
    "duration": 45,
    "start_time": "2022-01-18T11:21:17.787Z"
   },
   {
    "duration": 11,
    "start_time": "2022-01-18T11:21:17.835Z"
   },
   {
    "duration": 12,
    "start_time": "2022-01-18T11:21:17.848Z"
   },
   {
    "duration": 72,
    "start_time": "2022-01-18T11:21:17.862Z"
   },
   {
    "duration": 18,
    "start_time": "2022-01-18T11:21:17.937Z"
   },
   {
    "duration": 16,
    "start_time": "2022-01-18T11:23:04.228Z"
   },
   {
    "duration": 19,
    "start_time": "2022-01-18T11:23:05.177Z"
   },
   {
    "duration": 15,
    "start_time": "2022-01-18T11:23:32.306Z"
   },
   {
    "duration": 19,
    "start_time": "2022-01-18T12:09:58.159Z"
   },
   {
    "duration": 21,
    "start_time": "2022-01-18T12:11:26.476Z"
   },
   {
    "duration": 22,
    "start_time": "2022-01-18T12:15:56.597Z"
   },
   {
    "duration": 14,
    "start_time": "2022-01-18T12:16:07.851Z"
   },
   {
    "duration": 20,
    "start_time": "2022-01-18T12:16:44.771Z"
   },
   {
    "duration": 37,
    "start_time": "2022-01-18T12:27:26.998Z"
   },
   {
    "duration": 16,
    "start_time": "2022-01-18T12:27:28.239Z"
   },
   {
    "duration": 18,
    "start_time": "2022-01-18T12:27:42.162Z"
   },
   {
    "duration": 733,
    "start_time": "2022-01-18T12:28:14.720Z"
   },
   {
    "duration": 492,
    "start_time": "2022-01-18T12:28:15.455Z"
   },
   {
    "duration": 28,
    "start_time": "2022-01-18T12:28:15.950Z"
   },
   {
    "duration": 19,
    "start_time": "2022-01-18T12:28:15.981Z"
   },
   {
    "duration": 53,
    "start_time": "2022-01-18T12:28:16.002Z"
   },
   {
    "duration": 24,
    "start_time": "2022-01-18T12:28:16.058Z"
   },
   {
    "duration": 21,
    "start_time": "2022-01-18T12:28:16.085Z"
   },
   {
    "duration": 12,
    "start_time": "2022-01-18T12:28:16.135Z"
   },
   {
    "duration": 13,
    "start_time": "2022-01-18T12:28:16.150Z"
   },
   {
    "duration": 90,
    "start_time": "2022-01-18T12:28:16.166Z"
   },
   {
    "duration": 40,
    "start_time": "2022-01-18T12:28:16.259Z"
   },
   {
    "duration": 34,
    "start_time": "2022-01-18T12:28:16.302Z"
   },
   {
    "duration": 21,
    "start_time": "2022-01-18T12:28:16.339Z"
   },
   {
    "duration": 11,
    "start_time": "2022-01-18T12:30:05.417Z"
   },
   {
    "duration": 15,
    "start_time": "2022-01-18T12:30:06.871Z"
   },
   {
    "duration": 10,
    "start_time": "2022-01-18T12:30:13.630Z"
   },
   {
    "duration": 15,
    "start_time": "2022-01-18T12:32:12.232Z"
   },
   {
    "duration": 19,
    "start_time": "2022-01-18T12:32:31.315Z"
   },
   {
    "duration": 32,
    "start_time": "2022-01-18T12:35:46.580Z"
   },
   {
    "duration": 13,
    "start_time": "2022-01-18T12:35:47.026Z"
   },
   {
    "duration": 10,
    "start_time": "2022-01-18T12:35:48.029Z"
   },
   {
    "duration": 19,
    "start_time": "2022-01-18T12:36:25.794Z"
   },
   {
    "duration": 8,
    "start_time": "2022-01-18T12:36:38.068Z"
   },
   {
    "duration": 10,
    "start_time": "2022-01-18T12:40:48.554Z"
   },
   {
    "duration": 10,
    "start_time": "2022-01-18T12:41:04.140Z"
   },
   {
    "duration": 15,
    "start_time": "2022-01-18T12:41:36.077Z"
   },
   {
    "duration": 807,
    "start_time": "2022-01-18T12:41:45.426Z"
   },
   {
    "duration": 484,
    "start_time": "2022-01-18T12:41:46.236Z"
   },
   {
    "duration": 27,
    "start_time": "2022-01-18T12:41:46.726Z"
   },
   {
    "duration": 21,
    "start_time": "2022-01-18T12:41:46.756Z"
   },
   {
    "duration": 22,
    "start_time": "2022-01-18T12:41:46.779Z"
   },
   {
    "duration": 37,
    "start_time": "2022-01-18T12:41:46.804Z"
   },
   {
    "duration": 26,
    "start_time": "2022-01-18T12:41:46.846Z"
   },
   {
    "duration": 11,
    "start_time": "2022-01-18T12:41:46.876Z"
   },
   {
    "duration": 50,
    "start_time": "2022-01-18T12:41:46.890Z"
   },
   {
    "duration": 16,
    "start_time": "2022-01-18T12:41:46.942Z"
   },
   {
    "duration": 26,
    "start_time": "2022-01-18T12:41:46.961Z"
   },
   {
    "duration": 69,
    "start_time": "2022-01-18T12:41:46.989Z"
   },
   {
    "duration": 44,
    "start_time": "2022-01-18T12:41:47.060Z"
   },
   {
    "duration": 50,
    "start_time": "2022-01-18T12:41:47.107Z"
   },
   {
    "duration": 18,
    "start_time": "2022-01-18T12:41:47.159Z"
   },
   {
    "duration": 17,
    "start_time": "2022-01-18T12:41:47.180Z"
   },
   {
    "duration": 6,
    "start_time": "2022-01-18T12:45:48.843Z"
   },
   {
    "duration": 20,
    "start_time": "2022-01-18T12:45:49.612Z"
   },
   {
    "duration": 9,
    "start_time": "2022-01-18T12:45:59.300Z"
   },
   {
    "duration": 9,
    "start_time": "2022-01-18T12:48:40.324Z"
   },
   {
    "duration": 22,
    "start_time": "2022-01-18T12:48:41.126Z"
   },
   {
    "duration": 9,
    "start_time": "2022-01-18T12:48:41.788Z"
   },
   {
    "duration": 14,
    "start_time": "2022-01-18T13:40:24.425Z"
   },
   {
    "duration": 50,
    "start_time": "2022-01-18T13:44:58.582Z"
   },
   {
    "duration": 27,
    "start_time": "2022-01-18T13:45:06.040Z"
   },
   {
    "duration": 335,
    "start_time": "2022-01-18T13:46:02.045Z"
   },
   {
    "duration": 295,
    "start_time": "2022-01-18T13:46:11.911Z"
   },
   {
    "duration": 249,
    "start_time": "2022-01-18T13:46:16.487Z"
   },
   {
    "duration": 684,
    "start_time": "2022-01-18T13:46:28.065Z"
   },
   {
    "duration": 480,
    "start_time": "2022-01-18T13:46:28.752Z"
   },
   {
    "duration": 27,
    "start_time": "2022-01-18T13:46:29.238Z"
   },
   {
    "duration": 20,
    "start_time": "2022-01-18T13:46:29.268Z"
   },
   {
    "duration": 54,
    "start_time": "2022-01-18T13:46:29.290Z"
   },
   {
    "duration": 11,
    "start_time": "2022-01-18T13:46:29.347Z"
   },
   {
    "duration": 17,
    "start_time": "2022-01-18T13:46:29.362Z"
   },
   {
    "duration": 10,
    "start_time": "2022-01-18T13:46:29.382Z"
   },
   {
    "duration": 12,
    "start_time": "2022-01-18T13:46:29.433Z"
   },
   {
    "duration": 10,
    "start_time": "2022-01-18T13:46:29.448Z"
   },
   {
    "duration": 21,
    "start_time": "2022-01-18T13:46:29.460Z"
   },
   {
    "duration": 91,
    "start_time": "2022-01-18T13:46:29.483Z"
   },
   {
    "duration": 44,
    "start_time": "2022-01-18T13:46:29.576Z"
   },
   {
    "duration": 37,
    "start_time": "2022-01-18T13:46:29.622Z"
   },
   {
    "duration": 8,
    "start_time": "2022-01-18T13:46:29.662Z"
   },
   {
    "duration": 336,
    "start_time": "2022-01-18T13:46:29.673Z"
   },
   {
    "duration": 391,
    "start_time": "2022-01-18T13:46:29.620Z"
   },
   {
    "duration": 50,
    "start_time": "2022-01-18T13:46:39.137Z"
   },
   {
    "duration": 28,
    "start_time": "2022-01-18T13:46:43.444Z"
   },
   {
    "duration": 180,
    "start_time": "2022-01-18T13:47:25.579Z"
   },
   {
    "duration": 33,
    "start_time": "2022-01-18T13:47:27.539Z"
   },
   {
    "duration": 782,
    "start_time": "2022-01-18T13:48:56.621Z"
   },
   {
    "duration": 540,
    "start_time": "2022-01-18T13:48:57.406Z"
   },
   {
    "duration": 28,
    "start_time": "2022-01-18T13:48:57.950Z"
   },
   {
    "duration": 24,
    "start_time": "2022-01-18T13:48:57.981Z"
   },
   {
    "duration": 42,
    "start_time": "2022-01-18T13:48:58.009Z"
   },
   {
    "duration": 14,
    "start_time": "2022-01-18T13:48:58.054Z"
   },
   {
    "duration": 21,
    "start_time": "2022-01-18T13:48:58.070Z"
   },
   {
    "duration": 38,
    "start_time": "2022-01-18T13:48:58.094Z"
   },
   {
    "duration": 12,
    "start_time": "2022-01-18T13:48:58.135Z"
   },
   {
    "duration": 14,
    "start_time": "2022-01-18T13:48:58.150Z"
   },
   {
    "duration": 17,
    "start_time": "2022-01-18T13:48:58.167Z"
   },
   {
    "duration": 96,
    "start_time": "2022-01-18T13:48:58.186Z"
   },
   {
    "duration": 77,
    "start_time": "2022-01-18T13:48:58.285Z"
   },
   {
    "duration": 44,
    "start_time": "2022-01-18T13:48:58.365Z"
   },
   {
    "duration": 32,
    "start_time": "2022-01-18T13:48:58.412Z"
   },
   {
    "duration": 306,
    "start_time": "2022-01-18T13:49:51.683Z"
   },
   {
    "duration": 779,
    "start_time": "2022-01-18T13:50:00.056Z"
   },
   {
    "duration": 512,
    "start_time": "2022-01-18T13:50:00.838Z"
   },
   {
    "duration": 28,
    "start_time": "2022-01-18T13:50:01.354Z"
   },
   {
    "duration": 51,
    "start_time": "2022-01-18T13:50:01.385Z"
   },
   {
    "duration": 31,
    "start_time": "2022-01-18T13:50:01.439Z"
   },
   {
    "duration": 12,
    "start_time": "2022-01-18T13:50:01.472Z"
   },
   {
    "duration": 30,
    "start_time": "2022-01-18T13:50:01.486Z"
   },
   {
    "duration": 10,
    "start_time": "2022-01-18T13:50:01.531Z"
   },
   {
    "duration": 20,
    "start_time": "2022-01-18T13:50:01.543Z"
   },
   {
    "duration": 15,
    "start_time": "2022-01-18T13:50:01.565Z"
   },
   {
    "duration": 24,
    "start_time": "2022-01-18T13:50:01.582Z"
   },
   {
    "duration": 71,
    "start_time": "2022-01-18T13:50:01.608Z"
   },
   {
    "duration": 58,
    "start_time": "2022-01-18T13:50:01.681Z"
   },
   {
    "duration": 30,
    "start_time": "2022-01-18T13:50:01.741Z"
   },
   {
    "duration": 9,
    "start_time": "2022-01-18T13:50:01.773Z"
   },
   {
    "duration": 74,
    "start_time": "2022-01-18T13:50:01.784Z"
   },
   {
    "duration": 28,
    "start_time": "2022-01-18T13:50:01.861Z"
   },
   {
    "duration": 315,
    "start_time": "2022-01-18T13:53:55.818Z"
   },
   {
    "duration": 746,
    "start_time": "2022-01-18T13:54:02.439Z"
   },
   {
    "duration": 507,
    "start_time": "2022-01-18T13:54:03.193Z"
   },
   {
    "duration": 27,
    "start_time": "2022-01-18T13:54:03.703Z"
   },
   {
    "duration": 21,
    "start_time": "2022-01-18T13:54:03.733Z"
   },
   {
    "duration": 22,
    "start_time": "2022-01-18T13:54:03.756Z"
   },
   {
    "duration": 11,
    "start_time": "2022-01-18T13:54:03.781Z"
   },
   {
    "duration": 20,
    "start_time": "2022-01-18T13:54:03.831Z"
   },
   {
    "duration": 11,
    "start_time": "2022-01-18T13:54:03.855Z"
   },
   {
    "duration": 11,
    "start_time": "2022-01-18T13:54:03.869Z"
   },
   {
    "duration": 51,
    "start_time": "2022-01-18T13:54:03.883Z"
   },
   {
    "duration": 17,
    "start_time": "2022-01-18T13:54:03.937Z"
   },
   {
    "duration": 80,
    "start_time": "2022-01-18T13:54:03.957Z"
   },
   {
    "duration": 41,
    "start_time": "2022-01-18T13:54:04.040Z"
   },
   {
    "duration": 52,
    "start_time": "2022-01-18T13:54:04.083Z"
   },
   {
    "duration": 9,
    "start_time": "2022-01-18T13:54:04.138Z"
   },
   {
    "duration": 341,
    "start_time": "2022-01-18T13:54:04.149Z"
   },
   {
    "duration": 393,
    "start_time": "2022-01-18T13:54:04.100Z"
   },
   {
    "duration": 413,
    "start_time": "2022-01-18T13:58:07.854Z"
   },
   {
    "duration": 288,
    "start_time": "2022-01-18T14:00:33.510Z"
   },
   {
    "duration": 263,
    "start_time": "2022-01-18T14:01:33.569Z"
   },
   {
    "duration": 3999,
    "start_time": "2022-01-18T14:03:21.362Z"
   },
   {
    "duration": 20,
    "start_time": "2022-01-18T14:03:25.363Z"
   },
   {
    "duration": 35,
    "start_time": "2022-01-18T14:21:13.600Z"
   },
   {
    "duration": 15,
    "start_time": "2022-01-18T14:21:21.535Z"
   },
   {
    "duration": 72,
    "start_time": "2022-01-18T14:23:04.042Z"
   },
   {
    "duration": 16,
    "start_time": "2022-01-18T14:23:08.565Z"
   },
   {
    "duration": 16,
    "start_time": "2022-01-18T14:23:20.019Z"
   },
   {
    "duration": 14,
    "start_time": "2022-01-18T14:23:29.729Z"
   },
   {
    "duration": 51,
    "start_time": "2022-01-18T14:25:54.592Z"
   },
   {
    "duration": 47,
    "start_time": "2022-01-18T14:26:09.834Z"
   },
   {
    "duration": 49,
    "start_time": "2022-01-18T14:27:21.078Z"
   },
   {
    "duration": 15,
    "start_time": "2022-01-18T14:28:08.595Z"
   },
   {
    "duration": 39,
    "start_time": "2022-01-18T14:32:52.235Z"
   },
   {
    "duration": 41,
    "start_time": "2022-01-18T14:33:33.256Z"
   },
   {
    "duration": 40,
    "start_time": "2022-01-18T14:34:08.492Z"
   },
   {
    "duration": 41,
    "start_time": "2022-01-18T14:35:03.816Z"
   },
   {
    "duration": 42,
    "start_time": "2022-01-18T14:35:14.636Z"
   },
   {
    "duration": 45,
    "start_time": "2022-01-18T14:35:23.774Z"
   },
   {
    "duration": 40,
    "start_time": "2022-01-18T14:35:38.241Z"
   },
   {
    "duration": 41,
    "start_time": "2022-01-18T14:35:49.986Z"
   },
   {
    "duration": 1745,
    "start_time": "2022-01-18T14:36:37.081Z"
   },
   {
    "duration": 31,
    "start_time": "2022-01-18T14:36:58.146Z"
   },
   {
    "duration": 40,
    "start_time": "2022-01-18T14:38:27.622Z"
   },
   {
    "duration": 37,
    "start_time": "2022-01-18T14:38:36.299Z"
   },
   {
    "duration": 25,
    "start_time": "2022-01-18T14:38:45.434Z"
   },
   {
    "duration": 37,
    "start_time": "2022-01-18T14:39:34.731Z"
   },
   {
    "duration": 27,
    "start_time": "2022-01-18T14:39:35.200Z"
   },
   {
    "duration": 246,
    "start_time": "2022-01-18T14:42:02.313Z"
   },
   {
    "duration": 31,
    "start_time": "2022-01-18T14:42:28.171Z"
   },
   {
    "duration": 921,
    "start_time": "2022-01-18T14:43:39.823Z"
   },
   {
    "duration": 10,
    "start_time": "2022-01-18T14:44:18.176Z"
   },
   {
    "duration": 14,
    "start_time": "2022-01-18T14:44:22.139Z"
   },
   {
    "duration": 39,
    "start_time": "2022-01-18T14:45:15.349Z"
   },
   {
    "duration": 36,
    "start_time": "2022-01-18T14:45:16.099Z"
   },
   {
    "duration": 34,
    "start_time": "2022-01-18T14:45:16.727Z"
   },
   {
    "duration": 10,
    "start_time": "2022-01-18T14:45:19.362Z"
   },
   {
    "duration": 13,
    "start_time": "2022-01-18T14:45:19.875Z"
   },
   {
    "duration": 330,
    "start_time": "2022-01-18T14:45:46.974Z"
   },
   {
    "duration": 254,
    "start_time": "2022-01-18T14:46:07.825Z"
   },
   {
    "duration": 240,
    "start_time": "2022-01-18T14:46:38.731Z"
   },
   {
    "duration": 274,
    "start_time": "2022-01-18T14:46:46.790Z"
   },
   {
    "duration": 762,
    "start_time": "2022-01-18T18:06:10.986Z"
   },
   {
    "duration": 510,
    "start_time": "2022-01-18T18:06:11.751Z"
   },
   {
    "duration": 26,
    "start_time": "2022-01-18T18:06:12.264Z"
   },
   {
    "duration": 21,
    "start_time": "2022-01-18T18:06:12.293Z"
   },
   {
    "duration": 34,
    "start_time": "2022-01-18T18:06:12.317Z"
   },
   {
    "duration": 11,
    "start_time": "2022-01-18T18:06:12.354Z"
   },
   {
    "duration": 19,
    "start_time": "2022-01-18T18:06:12.368Z"
   },
   {
    "duration": 35,
    "start_time": "2022-01-18T18:06:12.390Z"
   },
   {
    "duration": 13,
    "start_time": "2022-01-18T18:06:12.427Z"
   },
   {
    "duration": 11,
    "start_time": "2022-01-18T18:06:12.443Z"
   },
   {
    "duration": 15,
    "start_time": "2022-01-18T18:06:12.456Z"
   },
   {
    "duration": 92,
    "start_time": "2022-01-18T18:06:12.474Z"
   },
   {
    "duration": 40,
    "start_time": "2022-01-18T18:06:12.569Z"
   },
   {
    "duration": 29,
    "start_time": "2022-01-18T18:06:12.623Z"
   },
   {
    "duration": 8,
    "start_time": "2022-01-18T18:06:12.655Z"
   },
   {
    "duration": 88,
    "start_time": "2022-01-18T18:06:12.665Z"
   },
   {
    "duration": 40,
    "start_time": "2022-01-18T18:06:12.756Z"
   },
   {
    "duration": 46,
    "start_time": "2022-01-18T18:06:12.798Z"
   },
   {
    "duration": 32,
    "start_time": "2022-01-18T18:06:12.846Z"
   },
   {
    "duration": 394,
    "start_time": "2022-01-18T18:06:12.880Z"
   },
   {
    "duration": 771,
    "start_time": "2022-01-18T18:06:12.507Z"
   },
   {
    "duration": 321,
    "start_time": "2022-01-18T18:06:54.955Z"
   },
   {
    "duration": 9,
    "start_time": "2022-01-18T18:07:09.118Z"
   },
   {
    "duration": 27,
    "start_time": "2022-01-18T18:07:11.838Z"
   },
   {
    "duration": 62,
    "start_time": "2022-01-18T18:07:54.256Z"
   },
   {
    "duration": 47,
    "start_time": "2022-01-18T18:08:15.060Z"
   },
   {
    "duration": 14,
    "start_time": "2022-01-18T18:10:56.396Z"
   },
   {
    "duration": 17,
    "start_time": "2022-01-18T18:10:56.851Z"
   },
   {
    "duration": 12,
    "start_time": "2022-01-18T18:12:28.194Z"
   },
   {
    "duration": 32,
    "start_time": "2022-01-18T18:12:29.509Z"
   },
   {
    "duration": 22,
    "start_time": "2022-01-18T18:15:03.507Z"
   },
   {
    "duration": 298,
    "start_time": "2022-01-18T18:17:26.953Z"
   },
   {
    "duration": 10,
    "start_time": "2022-01-18T18:17:53.840Z"
   },
   {
    "duration": 34,
    "start_time": "2022-01-18T18:18:41.028Z"
   },
   {
    "duration": 15,
    "start_time": "2022-01-18T18:18:44.960Z"
   },
   {
    "duration": 15,
    "start_time": "2022-01-18T18:23:14.375Z"
   },
   {
    "duration": 15,
    "start_time": "2022-01-18T18:23:16.302Z"
   },
   {
    "duration": 13,
    "start_time": "2022-01-18T18:23:25.021Z"
   },
   {
    "duration": 17,
    "start_time": "2022-01-18T18:23:27.106Z"
   },
   {
    "duration": 17,
    "start_time": "2022-01-18T18:25:27.289Z"
   },
   {
    "duration": 22,
    "start_time": "2022-01-18T18:25:27.975Z"
   },
   {
    "duration": 38,
    "start_time": "2022-01-18T18:28:18.814Z"
   },
   {
    "duration": 31,
    "start_time": "2022-01-18T18:28:19.430Z"
   },
   {
    "duration": 48,
    "start_time": "2022-01-18T18:29:12.330Z"
   },
   {
    "duration": 32,
    "start_time": "2022-01-18T18:29:17.079Z"
   },
   {
    "duration": 21,
    "start_time": "2022-01-18T18:29:20.894Z"
   },
   {
    "duration": 21,
    "start_time": "2022-01-18T18:34:06.561Z"
   },
   {
    "duration": 24,
    "start_time": "2022-01-18T18:34:12.276Z"
   },
   {
    "duration": 14,
    "start_time": "2022-01-18T18:35:04.106Z"
   },
   {
    "duration": 31,
    "start_time": "2022-01-18T18:35:04.502Z"
   },
   {
    "duration": 9,
    "start_time": "2022-01-18T18:37:38.520Z"
   },
   {
    "duration": 38,
    "start_time": "2022-01-18T18:43:00.317Z"
   },
   {
    "duration": 31,
    "start_time": "2022-01-18T18:43:00.698Z"
   },
   {
    "duration": 23,
    "start_time": "2022-01-18T18:43:01.131Z"
   },
   {
    "duration": 20,
    "start_time": "2022-01-18T18:43:21.744Z"
   },
   {
    "duration": 15,
    "start_time": "2022-01-18T18:43:25.912Z"
   },
   {
    "duration": 27,
    "start_time": "2022-01-18T18:43:26.588Z"
   },
   {
    "duration": 9,
    "start_time": "2022-01-18T18:43:32.998Z"
   },
   {
    "duration": 15,
    "start_time": "2022-01-18T18:44:22.978Z"
   },
   {
    "duration": 41,
    "start_time": "2022-01-18T18:44:23.413Z"
   },
   {
    "duration": 20,
    "start_time": "2022-01-18T18:44:29.989Z"
   },
   {
    "duration": 16,
    "start_time": "2022-01-18T18:44:30.425Z"
   },
   {
    "duration": 30,
    "start_time": "2022-01-18T18:44:30.797Z"
   },
   {
    "duration": 34,
    "start_time": "2022-01-18T18:45:18.516Z"
   },
   {
    "duration": 14,
    "start_time": "2022-01-18T18:45:41.254Z"
   },
   {
    "duration": 28,
    "start_time": "2022-01-18T18:45:41.702Z"
   },
   {
    "duration": 28,
    "start_time": "2022-01-18T18:45:51.872Z"
   },
   {
    "duration": 26,
    "start_time": "2022-01-18T18:45:59.499Z"
   },
   {
    "duration": 36,
    "start_time": "2022-01-18T18:46:06.402Z"
   },
   {
    "duration": 20,
    "start_time": "2022-01-18T18:46:31.500Z"
   },
   {
    "duration": 23,
    "start_time": "2022-01-18T18:46:36.007Z"
   },
   {
    "duration": 29,
    "start_time": "2022-01-18T18:46:44.818Z"
   },
   {
    "duration": 298,
    "start_time": "2022-01-18T18:47:29.589Z"
   },
   {
    "duration": 20,
    "start_time": "2022-01-18T18:48:13.907Z"
   },
   {
    "duration": 40,
    "start_time": "2022-01-18T18:48:29.059Z"
   },
   {
    "duration": 32,
    "start_time": "2022-01-18T18:50:47.951Z"
   },
   {
    "duration": 12,
    "start_time": "2022-01-18T18:51:29.401Z"
   },
   {
    "duration": 12,
    "start_time": "2022-01-18T18:51:51.629Z"
   },
   {
    "duration": 11,
    "start_time": "2022-01-18T18:52:05.996Z"
   },
   {
    "duration": 33,
    "start_time": "2022-01-18T18:54:13.903Z"
   },
   {
    "duration": 21,
    "start_time": "2022-01-18T18:54:31.314Z"
   },
   {
    "duration": 754,
    "start_time": "2022-01-18T18:58:11.839Z"
   },
   {
    "duration": 523,
    "start_time": "2022-01-18T18:58:12.596Z"
   },
   {
    "duration": 27,
    "start_time": "2022-01-18T18:58:13.121Z"
   },
   {
    "duration": 22,
    "start_time": "2022-01-18T18:58:13.152Z"
   },
   {
    "duration": 47,
    "start_time": "2022-01-18T18:58:13.176Z"
   },
   {
    "duration": 13,
    "start_time": "2022-01-18T18:58:13.226Z"
   },
   {
    "duration": 19,
    "start_time": "2022-01-18T18:58:13.242Z"
   },
   {
    "duration": 11,
    "start_time": "2022-01-18T18:58:13.265Z"
   },
   {
    "duration": 47,
    "start_time": "2022-01-18T18:58:13.279Z"
   },
   {
    "duration": 11,
    "start_time": "2022-01-18T18:58:13.328Z"
   },
   {
    "duration": 21,
    "start_time": "2022-01-18T18:58:13.341Z"
   },
   {
    "duration": 99,
    "start_time": "2022-01-18T18:58:13.365Z"
   },
   {
    "duration": 59,
    "start_time": "2022-01-18T18:58:13.467Z"
   },
   {
    "duration": 34,
    "start_time": "2022-01-18T18:58:13.530Z"
   },
   {
    "duration": 9,
    "start_time": "2022-01-18T18:58:13.567Z"
   },
   {
    "duration": 102,
    "start_time": "2022-01-18T18:58:13.578Z"
   },
   {
    "duration": 58,
    "start_time": "2022-01-18T18:58:13.683Z"
   },
   {
    "duration": 14,
    "start_time": "2022-01-18T18:58:13.744Z"
   },
   {
    "duration": 62,
    "start_time": "2022-01-18T18:58:13.761Z"
   },
   {
    "duration": 9,
    "start_time": "2022-01-18T18:58:13.825Z"
   },
   {
    "duration": 27,
    "start_time": "2022-01-18T18:58:13.836Z"
   },
   {
    "duration": 11,
    "start_time": "2022-01-18T18:58:13.866Z"
   },
   {
    "duration": 60,
    "start_time": "2022-01-18T18:58:13.883Z"
   },
   {
    "duration": 14,
    "start_time": "2022-01-18T18:58:13.946Z"
   },
   {
    "duration": 60,
    "start_time": "2022-01-18T18:58:13.963Z"
   },
   {
    "duration": 10,
    "start_time": "2022-01-18T18:58:14.025Z"
   },
   {
    "duration": 21,
    "start_time": "2022-01-18T18:59:07.076Z"
   },
   {
    "duration": 13,
    "start_time": "2022-01-18T18:59:28.349Z"
   },
   {
    "duration": 27,
    "start_time": "2022-01-18T18:59:29.000Z"
   },
   {
    "duration": 8,
    "start_time": "2022-01-18T19:00:02.533Z"
   },
   {
    "duration": 28,
    "start_time": "2022-01-18T19:04:44.973Z"
   },
   {
    "duration": 18,
    "start_time": "2022-01-18T19:11:24.299Z"
   },
   {
    "duration": 31,
    "start_time": "2022-01-18T19:11:25.227Z"
   },
   {
    "duration": 18,
    "start_time": "2022-01-18T19:11:38.266Z"
   },
   {
    "duration": 27,
    "start_time": "2022-01-18T19:11:38.843Z"
   },
   {
    "duration": 1117,
    "start_time": "2022-01-18T19:11:57.738Z"
   },
   {
    "duration": 376,
    "start_time": "2022-01-18T19:12:43.895Z"
   },
   {
    "duration": 429,
    "start_time": "2022-01-18T19:12:59.172Z"
   },
   {
    "duration": 15,
    "start_time": "2022-01-18T19:13:13.794Z"
   },
   {
    "duration": 29,
    "start_time": "2022-01-18T19:13:15.496Z"
   },
   {
    "duration": 15,
    "start_time": "2022-01-18T19:14:14.375Z"
   },
   {
    "duration": 9,
    "start_time": "2022-01-18T19:14:17.065Z"
   },
   {
    "duration": 10,
    "start_time": "2022-01-18T19:16:27.300Z"
   },
   {
    "duration": 29,
    "start_time": "2022-01-18T19:16:33.326Z"
   },
   {
    "duration": 12,
    "start_time": "2022-01-18T19:37:10.752Z"
   },
   {
    "duration": 17,
    "start_time": "2022-01-18T19:37:14.415Z"
   },
   {
    "duration": 10,
    "start_time": "2022-01-18T19:37:23.868Z"
   },
   {
    "duration": 29,
    "start_time": "2022-01-18T19:37:26.387Z"
   },
   {
    "duration": 20,
    "start_time": "2022-01-18T19:39:54.371Z"
   },
   {
    "duration": 17,
    "start_time": "2022-01-18T19:40:08.692Z"
   },
   {
    "duration": 16,
    "start_time": "2022-01-18T19:40:09.599Z"
   },
   {
    "duration": 9,
    "start_time": "2022-01-18T19:40:09.972Z"
   },
   {
    "duration": 20,
    "start_time": "2022-01-18T19:40:10.372Z"
   },
   {
    "duration": 15,
    "start_time": "2022-01-18T19:52:40.776Z"
   },
   {
    "duration": 304,
    "start_time": "2022-01-18T19:52:41.385Z"
   },
   {
    "duration": 768,
    "start_time": "2022-01-18T19:52:57.712Z"
   },
   {
    "duration": 535,
    "start_time": "2022-01-18T19:52:58.483Z"
   },
   {
    "duration": 30,
    "start_time": "2022-01-18T19:52:59.025Z"
   },
   {
    "duration": 23,
    "start_time": "2022-01-18T19:52:59.058Z"
   },
   {
    "duration": 43,
    "start_time": "2022-01-18T19:52:59.083Z"
   },
   {
    "duration": 12,
    "start_time": "2022-01-18T19:52:59.128Z"
   },
   {
    "duration": 18,
    "start_time": "2022-01-18T19:52:59.144Z"
   },
   {
    "duration": 9,
    "start_time": "2022-01-18T19:52:59.166Z"
   },
   {
    "duration": 51,
    "start_time": "2022-01-18T19:52:59.178Z"
   },
   {
    "duration": 12,
    "start_time": "2022-01-18T19:52:59.232Z"
   },
   {
    "duration": 17,
    "start_time": "2022-01-18T19:52:59.247Z"
   },
   {
    "duration": 77,
    "start_time": "2022-01-18T19:52:59.267Z"
   },
   {
    "duration": 45,
    "start_time": "2022-01-18T19:52:59.347Z"
   },
   {
    "duration": 53,
    "start_time": "2022-01-18T19:52:59.395Z"
   },
   {
    "duration": 9,
    "start_time": "2022-01-18T19:52:59.451Z"
   },
   {
    "duration": 90,
    "start_time": "2022-01-18T19:52:59.463Z"
   },
   {
    "duration": 47,
    "start_time": "2022-01-18T19:52:59.556Z"
   },
   {
    "duration": 25,
    "start_time": "2022-01-18T19:52:59.605Z"
   },
   {
    "duration": 40,
    "start_time": "2022-01-18T19:52:59.633Z"
   },
   {
    "duration": 8,
    "start_time": "2022-01-18T19:52:59.676Z"
   },
   {
    "duration": 66,
    "start_time": "2022-01-18T19:52:59.687Z"
   },
   {
    "duration": 11,
    "start_time": "2022-01-18T19:52:59.757Z"
   },
   {
    "duration": 16,
    "start_time": "2022-01-18T19:52:59.770Z"
   },
   {
    "duration": 45,
    "start_time": "2022-01-18T19:52:59.789Z"
   },
   {
    "duration": 12,
    "start_time": "2022-01-18T19:52:59.837Z"
   },
   {
    "duration": 28,
    "start_time": "2022-01-18T19:52:59.853Z"
   },
   {
    "duration": 123,
    "start_time": "2022-01-18T19:52:59.885Z"
   },
   {
    "duration": 13,
    "start_time": "2022-01-18T19:55:41.744Z"
   },
   {
    "duration": 39,
    "start_time": "2022-01-18T19:55:43.081Z"
   },
   {
    "duration": 15,
    "start_time": "2022-01-18T19:58:24.811Z"
   },
   {
    "duration": 41,
    "start_time": "2022-01-18T19:58:25.423Z"
   },
   {
    "duration": 13,
    "start_time": "2022-01-18T19:58:43.807Z"
   },
   {
    "duration": 26,
    "start_time": "2022-01-18T19:58:44.217Z"
   },
   {
    "duration": 15,
    "start_time": "2022-01-18T19:59:41.013Z"
   },
   {
    "duration": 26,
    "start_time": "2022-01-18T19:59:41.806Z"
   },
   {
    "duration": 810,
    "start_time": "2022-01-18T20:00:51.930Z"
   },
   {
    "duration": 701,
    "start_time": "2022-01-18T20:00:52.743Z"
   },
   {
    "duration": 29,
    "start_time": "2022-01-18T20:00:53.447Z"
   },
   {
    "duration": 32,
    "start_time": "2022-01-18T20:00:53.480Z"
   },
   {
    "duration": 28,
    "start_time": "2022-01-18T20:00:53.515Z"
   },
   {
    "duration": 12,
    "start_time": "2022-01-18T20:00:53.545Z"
   },
   {
    "duration": 22,
    "start_time": "2022-01-18T20:00:53.560Z"
   },
   {
    "duration": 12,
    "start_time": "2022-01-18T20:00:53.627Z"
   },
   {
    "duration": 17,
    "start_time": "2022-01-18T20:00:53.643Z"
   },
   {
    "duration": 19,
    "start_time": "2022-01-18T20:00:53.663Z"
   },
   {
    "duration": 47,
    "start_time": "2022-01-18T20:00:53.685Z"
   },
   {
    "duration": 58,
    "start_time": "2022-01-18T20:00:53.735Z"
   },
   {
    "duration": 70,
    "start_time": "2022-01-18T20:00:53.795Z"
   },
   {
    "duration": 33,
    "start_time": "2022-01-18T20:00:53.867Z"
   },
   {
    "duration": 26,
    "start_time": "2022-01-18T20:00:53.902Z"
   },
   {
    "duration": 72,
    "start_time": "2022-01-18T20:00:53.931Z"
   },
   {
    "duration": 57,
    "start_time": "2022-01-18T20:00:54.005Z"
   },
   {
    "duration": 8,
    "start_time": "2022-01-18T20:00:54.064Z"
   },
   {
    "duration": 64,
    "start_time": "2022-01-18T20:00:54.074Z"
   },
   {
    "duration": 9,
    "start_time": "2022-01-18T20:00:54.140Z"
   },
   {
    "duration": 26,
    "start_time": "2022-01-18T20:00:54.152Z"
   },
   {
    "duration": 43,
    "start_time": "2022-01-18T20:00:54.181Z"
   },
   {
    "duration": 17,
    "start_time": "2022-01-18T20:00:54.230Z"
   },
   {
    "duration": 13,
    "start_time": "2022-01-18T20:00:54.250Z"
   },
   {
    "duration": 9,
    "start_time": "2022-01-18T20:00:54.266Z"
   },
   {
    "duration": 52,
    "start_time": "2022-01-18T20:00:54.277Z"
   },
   {
    "duration": 102,
    "start_time": "2022-01-18T20:00:54.332Z"
   },
   {
    "duration": 857,
    "start_time": "2022-01-19T06:25:50.940Z"
   },
   {
    "duration": 526,
    "start_time": "2022-01-19T06:25:51.800Z"
   },
   {
    "duration": 29,
    "start_time": "2022-01-19T06:25:52.330Z"
   },
   {
    "duration": 21,
    "start_time": "2022-01-19T06:25:52.362Z"
   },
   {
    "duration": 23,
    "start_time": "2022-01-19T06:25:52.386Z"
   },
   {
    "duration": 12,
    "start_time": "2022-01-19T06:25:52.412Z"
   },
   {
    "duration": 54,
    "start_time": "2022-01-19T06:25:52.426Z"
   },
   {
    "duration": 10,
    "start_time": "2022-01-19T06:25:52.485Z"
   },
   {
    "duration": 12,
    "start_time": "2022-01-19T06:25:52.498Z"
   },
   {
    "duration": 12,
    "start_time": "2022-01-19T06:25:52.513Z"
   },
   {
    "duration": 45,
    "start_time": "2022-01-19T06:25:52.527Z"
   },
   {
    "duration": 51,
    "start_time": "2022-01-19T06:25:52.575Z"
   },
   {
    "duration": 68,
    "start_time": "2022-01-19T06:25:52.629Z"
   },
   {
    "duration": 31,
    "start_time": "2022-01-19T06:25:52.700Z"
   },
   {
    "duration": 9,
    "start_time": "2022-01-19T06:25:52.734Z"
   },
   {
    "duration": 88,
    "start_time": "2022-01-19T06:25:52.745Z"
   },
   {
    "duration": 62,
    "start_time": "2022-01-19T06:25:52.836Z"
   },
   {
    "duration": 11,
    "start_time": "2022-01-19T06:25:52.900Z"
   },
   {
    "duration": 60,
    "start_time": "2022-01-19T06:25:52.913Z"
   },
   {
    "duration": 9,
    "start_time": "2022-01-19T06:25:52.976Z"
   },
   {
    "duration": 31,
    "start_time": "2022-01-19T06:25:52.988Z"
   },
   {
    "duration": 9,
    "start_time": "2022-01-19T06:25:53.021Z"
   },
   {
    "duration": 16,
    "start_time": "2022-01-19T06:25:53.067Z"
   },
   {
    "duration": 14,
    "start_time": "2022-01-19T06:25:53.086Z"
   },
   {
    "duration": 10,
    "start_time": "2022-01-19T06:25:53.102Z"
   },
   {
    "duration": 57,
    "start_time": "2022-01-19T06:25:53.114Z"
   },
   {
    "duration": 121,
    "start_time": "2022-01-19T06:25:53.174Z"
   },
   {
    "duration": 426,
    "start_time": "2022-01-19T06:38:23.682Z"
   },
   {
    "duration": 731,
    "start_time": "2022-01-19T06:38:48.767Z"
   },
   {
    "duration": 498,
    "start_time": "2022-01-19T06:38:49.501Z"
   },
   {
    "duration": 27,
    "start_time": "2022-01-19T06:38:50.003Z"
   },
   {
    "duration": 51,
    "start_time": "2022-01-19T06:38:50.033Z"
   },
   {
    "duration": 45,
    "start_time": "2022-01-19T06:38:50.087Z"
   },
   {
    "duration": 27,
    "start_time": "2022-01-19T06:38:50.135Z"
   },
   {
    "duration": 41,
    "start_time": "2022-01-19T06:38:50.165Z"
   },
   {
    "duration": 29,
    "start_time": "2022-01-19T06:38:50.210Z"
   },
   {
    "duration": 39,
    "start_time": "2022-01-19T06:38:50.243Z"
   },
   {
    "duration": 36,
    "start_time": "2022-01-19T06:38:50.285Z"
   },
   {
    "duration": 37,
    "start_time": "2022-01-19T06:38:50.323Z"
   },
   {
    "duration": 83,
    "start_time": "2022-01-19T06:38:50.362Z"
   },
   {
    "duration": 40,
    "start_time": "2022-01-19T06:38:50.447Z"
   },
   {
    "duration": 39,
    "start_time": "2022-01-19T06:38:50.490Z"
   },
   {
    "duration": 41,
    "start_time": "2022-01-19T06:38:50.531Z"
   },
   {
    "duration": 97,
    "start_time": "2022-01-19T06:38:50.574Z"
   },
   {
    "duration": 41,
    "start_time": "2022-01-19T06:38:50.673Z"
   },
   {
    "duration": 21,
    "start_time": "2022-01-19T06:38:50.716Z"
   },
   {
    "duration": 67,
    "start_time": "2022-01-19T06:38:50.739Z"
   },
   {
    "duration": 8,
    "start_time": "2022-01-19T06:38:50.809Z"
   },
   {
    "duration": 51,
    "start_time": "2022-01-19T06:38:50.820Z"
   },
   {
    "duration": 8,
    "start_time": "2022-01-19T06:38:50.873Z"
   },
   {
    "duration": 38,
    "start_time": "2022-01-19T06:38:50.884Z"
   },
   {
    "duration": 25,
    "start_time": "2022-01-19T06:38:50.924Z"
   },
   {
    "duration": 28,
    "start_time": "2022-01-19T06:38:50.951Z"
   },
   {
    "duration": 41,
    "start_time": "2022-01-19T06:38:50.981Z"
   },
   {
    "duration": 24,
    "start_time": "2022-01-19T06:38:51.024Z"
   },
   {
    "duration": 720,
    "start_time": "2022-01-19T06:39:46.762Z"
   },
   {
    "duration": 487,
    "start_time": "2022-01-19T06:39:47.485Z"
   },
   {
    "duration": 27,
    "start_time": "2022-01-19T06:39:47.976Z"
   },
   {
    "duration": 24,
    "start_time": "2022-01-19T06:39:48.006Z"
   },
   {
    "duration": 47,
    "start_time": "2022-01-19T06:39:48.033Z"
   },
   {
    "duration": 11,
    "start_time": "2022-01-19T06:39:48.083Z"
   },
   {
    "duration": 20,
    "start_time": "2022-01-19T06:39:48.096Z"
   },
   {
    "duration": 11,
    "start_time": "2022-01-19T06:39:48.119Z"
   },
   {
    "duration": 39,
    "start_time": "2022-01-19T06:39:48.134Z"
   },
   {
    "duration": 21,
    "start_time": "2022-01-19T06:39:48.177Z"
   },
   {
    "duration": 30,
    "start_time": "2022-01-19T06:39:48.201Z"
   },
   {
    "duration": 63,
    "start_time": "2022-01-19T06:39:48.234Z"
   },
   {
    "duration": 41,
    "start_time": "2022-01-19T06:39:48.300Z"
   },
   {
    "duration": 42,
    "start_time": "2022-01-19T06:39:48.344Z"
   },
   {
    "duration": 8,
    "start_time": "2022-01-19T06:39:48.389Z"
   },
   {
    "duration": 97,
    "start_time": "2022-01-19T06:39:48.399Z"
   },
   {
    "duration": 44,
    "start_time": "2022-01-19T06:39:48.499Z"
   },
   {
    "duration": 24,
    "start_time": "2022-01-19T06:39:48.545Z"
   },
   {
    "duration": 46,
    "start_time": "2022-01-19T06:39:48.572Z"
   },
   {
    "duration": 8,
    "start_time": "2022-01-19T06:39:48.621Z"
   },
   {
    "duration": 49,
    "start_time": "2022-01-19T06:39:48.632Z"
   },
   {
    "duration": 8,
    "start_time": "2022-01-19T06:39:48.684Z"
   },
   {
    "duration": 24,
    "start_time": "2022-01-19T06:39:48.694Z"
   },
   {
    "duration": 14,
    "start_time": "2022-01-19T06:39:48.720Z"
   },
   {
    "duration": 35,
    "start_time": "2022-01-19T06:39:48.736Z"
   },
   {
    "duration": 25,
    "start_time": "2022-01-19T06:39:48.773Z"
   },
   {
    "duration": 4,
    "start_time": "2022-01-19T06:39:48.803Z"
   },
   {
    "duration": 383,
    "start_time": "2022-01-19T06:41:38.412Z"
   },
   {
    "duration": 12,
    "start_time": "2022-01-19T06:42:10.095Z"
   },
   {
    "duration": 95,
    "start_time": "2022-01-19T06:42:33.271Z"
   },
   {
    "duration": 9,
    "start_time": "2022-01-19T06:42:40.259Z"
   },
   {
    "duration": 454,
    "start_time": "2022-01-19T06:44:10.368Z"
   },
   {
    "duration": 289,
    "start_time": "2022-01-19T06:44:29.383Z"
   },
   {
    "duration": 8,
    "start_time": "2022-01-19T06:45:47.041Z"
   },
   {
    "duration": 9,
    "start_time": "2022-01-19T06:45:48.467Z"
   },
   {
    "duration": 27,
    "start_time": "2022-01-19T06:46:18.390Z"
   },
   {
    "duration": 10,
    "start_time": "2022-01-19T06:46:36.760Z"
   },
   {
    "duration": 26,
    "start_time": "2022-01-19T06:46:37.266Z"
   },
   {
    "duration": 11,
    "start_time": "2022-01-19T06:47:08.123Z"
   },
   {
    "duration": 25,
    "start_time": "2022-01-19T06:47:09.075Z"
   },
   {
    "duration": 722,
    "start_time": "2022-01-19T06:47:55.495Z"
   },
   {
    "duration": 493,
    "start_time": "2022-01-19T06:47:56.220Z"
   },
   {
    "duration": 27,
    "start_time": "2022-01-19T06:47:56.715Z"
   },
   {
    "duration": 38,
    "start_time": "2022-01-19T06:47:56.745Z"
   },
   {
    "duration": 22,
    "start_time": "2022-01-19T06:47:56.786Z"
   },
   {
    "duration": 16,
    "start_time": "2022-01-19T06:47:56.810Z"
   },
   {
    "duration": 36,
    "start_time": "2022-01-19T06:47:56.828Z"
   },
   {
    "duration": 10,
    "start_time": "2022-01-19T06:47:56.868Z"
   },
   {
    "duration": 14,
    "start_time": "2022-01-19T06:47:56.883Z"
   },
   {
    "duration": 12,
    "start_time": "2022-01-19T06:47:56.900Z"
   },
   {
    "duration": 52,
    "start_time": "2022-01-19T06:47:56.915Z"
   },
   {
    "duration": 53,
    "start_time": "2022-01-19T06:47:56.970Z"
   },
   {
    "duration": 68,
    "start_time": "2022-01-19T06:47:57.025Z"
   },
   {
    "duration": 34,
    "start_time": "2022-01-19T06:47:57.095Z"
   },
   {
    "duration": 32,
    "start_time": "2022-01-19T06:47:57.132Z"
   },
   {
    "duration": 69,
    "start_time": "2022-01-19T06:47:57.167Z"
   },
   {
    "duration": 63,
    "start_time": "2022-01-19T06:47:57.238Z"
   },
   {
    "duration": 8,
    "start_time": "2022-01-19T06:47:57.304Z"
   },
   {
    "duration": 61,
    "start_time": "2022-01-19T06:47:57.314Z"
   },
   {
    "duration": 10,
    "start_time": "2022-01-19T06:47:57.377Z"
   },
   {
    "duration": 29,
    "start_time": "2022-01-19T06:47:57.390Z"
   },
   {
    "duration": 8,
    "start_time": "2022-01-19T06:47:57.422Z"
   },
   {
    "duration": 46,
    "start_time": "2022-01-19T06:47:57.435Z"
   },
   {
    "duration": 14,
    "start_time": "2022-01-19T06:47:57.483Z"
   },
   {
    "duration": 10,
    "start_time": "2022-01-19T06:47:57.500Z"
   },
   {
    "duration": 9,
    "start_time": "2022-01-19T06:47:57.513Z"
   },
   {
    "duration": 53,
    "start_time": "2022-01-19T06:47:57.524Z"
   },
   {
    "duration": 12,
    "start_time": "2022-01-19T06:47:57.579Z"
   },
   {
    "duration": 16,
    "start_time": "2022-01-19T06:51:06.899Z"
   },
   {
    "duration": 18,
    "start_time": "2022-01-19T06:51:08.479Z"
   },
   {
    "duration": 10,
    "start_time": "2022-01-19T06:52:06.489Z"
   },
   {
    "duration": 13,
    "start_time": "2022-01-19T06:55:55.146Z"
   },
   {
    "duration": 19,
    "start_time": "2022-01-19T06:55:55.949Z"
   },
   {
    "duration": 5,
    "start_time": "2022-01-19T07:02:58.772Z"
   },
   {
    "duration": 1308,
    "start_time": "2022-01-19T07:02:59.964Z"
   },
   {
    "duration": 21,
    "start_time": "2022-01-19T07:05:10.797Z"
   },
   {
    "duration": 29,
    "start_time": "2022-01-19T07:05:11.812Z"
   },
   {
    "duration": 1054,
    "start_time": "2022-01-19T07:05:26.500Z"
   },
   {
    "duration": 767,
    "start_time": "2022-01-19T07:05:27.559Z"
   },
   {
    "duration": 49,
    "start_time": "2022-01-19T07:05:28.332Z"
   },
   {
    "duration": 36,
    "start_time": "2022-01-19T07:05:28.385Z"
   },
   {
    "duration": 60,
    "start_time": "2022-01-19T07:05:28.425Z"
   },
   {
    "duration": 18,
    "start_time": "2022-01-19T07:05:28.488Z"
   },
   {
    "duration": 59,
    "start_time": "2022-01-19T07:05:28.510Z"
   },
   {
    "duration": 15,
    "start_time": "2022-01-19T07:05:28.573Z"
   },
   {
    "duration": 19,
    "start_time": "2022-01-19T07:05:28.596Z"
   },
   {
    "duration": 46,
    "start_time": "2022-01-19T07:05:28.622Z"
   },
   {
    "duration": 24,
    "start_time": "2022-01-19T07:05:28.672Z"
   },
   {
    "duration": 115,
    "start_time": "2022-01-19T07:05:28.700Z"
   },
   {
    "duration": 78,
    "start_time": "2022-01-19T07:05:28.819Z"
   },
   {
    "duration": 49,
    "start_time": "2022-01-19T07:05:28.901Z"
   },
   {
    "duration": 16,
    "start_time": "2022-01-19T07:05:28.965Z"
   },
   {
    "duration": 100,
    "start_time": "2022-01-19T07:05:28.985Z"
   },
   {
    "duration": 64,
    "start_time": "2022-01-19T07:05:29.089Z"
   },
   {
    "duration": 14,
    "start_time": "2022-01-19T07:05:29.166Z"
   },
   {
    "duration": 57,
    "start_time": "2022-01-19T07:05:29.184Z"
   },
   {
    "duration": 16,
    "start_time": "2022-01-19T07:05:29.264Z"
   },
   {
    "duration": 39,
    "start_time": "2022-01-19T07:05:29.284Z"
   },
   {
    "duration": 40,
    "start_time": "2022-01-19T07:05:29.326Z"
   },
   {
    "duration": 30,
    "start_time": "2022-01-19T07:05:29.370Z"
   },
   {
    "duration": 20,
    "start_time": "2022-01-19T07:05:29.404Z"
   },
   {
    "duration": 38,
    "start_time": "2022-01-19T07:05:29.427Z"
   },
   {
    "duration": 19,
    "start_time": "2022-01-19T07:05:29.467Z"
   },
   {
    "duration": 19,
    "start_time": "2022-01-19T07:05:29.490Z"
   },
   {
    "duration": 10,
    "start_time": "2022-01-19T07:05:29.511Z"
   },
   {
    "duration": 1947,
    "start_time": "2022-01-19T07:05:29.524Z"
   },
   {
    "duration": 267,
    "start_time": "2022-01-19T07:08:43.488Z"
   },
   {
    "duration": 20,
    "start_time": "2022-01-19T07:08:56.034Z"
   },
   {
    "duration": 20,
    "start_time": "2022-01-19T07:09:09.134Z"
   },
   {
    "duration": 766,
    "start_time": "2022-01-19T07:11:32.974Z"
   },
   {
    "duration": 527,
    "start_time": "2022-01-19T07:11:33.743Z"
   },
   {
    "duration": 30,
    "start_time": "2022-01-19T07:11:34.279Z"
   },
   {
    "duration": 23,
    "start_time": "2022-01-19T07:11:34.312Z"
   },
   {
    "duration": 23,
    "start_time": "2022-01-19T07:11:34.366Z"
   },
   {
    "duration": 12,
    "start_time": "2022-01-19T07:11:34.392Z"
   },
   {
    "duration": 23,
    "start_time": "2022-01-19T07:11:34.408Z"
   },
   {
    "duration": 10,
    "start_time": "2022-01-19T07:11:34.466Z"
   },
   {
    "duration": 19,
    "start_time": "2022-01-19T07:11:34.479Z"
   },
   {
    "duration": 14,
    "start_time": "2022-01-19T07:11:34.501Z"
   },
   {
    "duration": 17,
    "start_time": "2022-01-19T07:11:34.518Z"
   },
   {
    "duration": 51,
    "start_time": "2022-01-19T07:11:34.565Z"
   },
   {
    "duration": 59,
    "start_time": "2022-01-19T07:11:34.619Z"
   },
   {
    "duration": 32,
    "start_time": "2022-01-19T07:11:34.681Z"
   },
   {
    "duration": 9,
    "start_time": "2022-01-19T07:11:34.716Z"
   },
   {
    "duration": 99,
    "start_time": "2022-01-19T07:11:34.728Z"
   },
   {
    "duration": 51,
    "start_time": "2022-01-19T07:11:34.829Z"
   },
   {
    "duration": 11,
    "start_time": "2022-01-19T07:11:34.882Z"
   },
   {
    "duration": 38,
    "start_time": "2022-01-19T07:11:34.895Z"
   },
   {
    "duration": 37,
    "start_time": "2022-01-19T07:11:34.935Z"
   },
   {
    "duration": 41,
    "start_time": "2022-01-19T07:11:34.975Z"
   },
   {
    "duration": 9,
    "start_time": "2022-01-19T07:11:35.021Z"
   },
   {
    "duration": 46,
    "start_time": "2022-01-19T07:11:35.033Z"
   },
   {
    "duration": 15,
    "start_time": "2022-01-19T07:11:35.082Z"
   },
   {
    "duration": 9,
    "start_time": "2022-01-19T07:11:35.100Z"
   },
   {
    "duration": 54,
    "start_time": "2022-01-19T07:11:35.112Z"
   },
   {
    "duration": 32,
    "start_time": "2022-01-19T07:11:35.168Z"
   },
   {
    "duration": 19,
    "start_time": "2022-01-19T07:11:35.203Z"
   },
   {
    "duration": 297,
    "start_time": "2022-01-19T07:11:35.224Z"
   },
   {
    "duration": 22,
    "start_time": "2022-01-19T07:11:35.524Z"
   },
   {
    "duration": 32,
    "start_time": "2022-01-19T07:17:39.462Z"
   },
   {
    "duration": 497,
    "start_time": "2022-01-19T07:20:18.760Z"
   },
   {
    "duration": 19,
    "start_time": "2022-01-19T07:20:33.652Z"
   },
   {
    "duration": 16,
    "start_time": "2022-01-19T07:20:42.404Z"
   },
   {
    "duration": 20,
    "start_time": "2022-01-19T07:21:05.323Z"
   },
   {
    "duration": 17,
    "start_time": "2022-01-19T07:21:06.960Z"
   },
   {
    "duration": 21,
    "start_time": "2022-01-19T07:23:38.321Z"
   },
   {
    "duration": 20,
    "start_time": "2022-01-19T07:23:38.711Z"
   },
   {
    "duration": 23,
    "start_time": "2022-01-19T07:24:36.195Z"
   },
   {
    "duration": 19,
    "start_time": "2022-01-19T07:24:37.104Z"
   },
   {
    "duration": 19,
    "start_time": "2022-01-19T07:45:10.551Z"
   },
   {
    "duration": 12,
    "start_time": "2022-01-19T07:45:11.477Z"
   },
   {
    "duration": 26,
    "start_time": "2022-01-19T07:45:32.603Z"
   },
   {
    "duration": 12,
    "start_time": "2022-01-19T07:45:33.438Z"
   },
   {
    "duration": 5,
    "start_time": "2022-01-19T07:47:47.648Z"
   },
   {
    "duration": 7,
    "start_time": "2022-01-19T07:47:55.594Z"
   },
   {
    "duration": 20,
    "start_time": "2022-01-19T07:48:33.546Z"
   },
   {
    "duration": 7,
    "start_time": "2022-01-19T07:48:42.481Z"
   },
   {
    "duration": 39,
    "start_time": "2022-01-19T07:49:36.675Z"
   },
   {
    "duration": 8427,
    "start_time": "2022-01-19T07:50:08.370Z"
   },
   {
    "duration": 332,
    "start_time": "2022-01-19T07:53:40.811Z"
   },
   {
    "duration": 428,
    "start_time": "2022-01-19T07:54:00.294Z"
   },
   {
    "duration": 10,
    "start_time": "2022-01-19T07:54:50.743Z"
   },
   {
    "duration": 33,
    "start_time": "2022-01-19T07:59:43.283Z"
   },
   {
    "duration": 12,
    "start_time": "2022-01-19T07:59:53.274Z"
   },
   {
    "duration": 7,
    "start_time": "2022-01-19T08:02:47.526Z"
   },
   {
    "duration": 7,
    "start_time": "2022-01-19T08:04:33.955Z"
   },
   {
    "duration": 6,
    "start_time": "2022-01-19T08:07:41.578Z"
   },
   {
    "duration": 7,
    "start_time": "2022-01-19T08:10:22.837Z"
   },
   {
    "duration": 6,
    "start_time": "2022-01-19T08:12:33.211Z"
   },
   {
    "duration": 9,
    "start_time": "2022-01-19T08:13:43.704Z"
   },
   {
    "duration": 8,
    "start_time": "2022-01-19T08:13:45.185Z"
   },
   {
    "duration": 7,
    "start_time": "2022-01-19T10:02:18.695Z"
   },
   {
    "duration": 6,
    "start_time": "2022-01-19T10:02:19.389Z"
   },
   {
    "duration": 7,
    "start_time": "2022-01-19T10:02:35.519Z"
   },
   {
    "duration": 6,
    "start_time": "2022-01-19T10:02:36.829Z"
   },
   {
    "duration": 6,
    "start_time": "2022-01-19T10:04:02.526Z"
   },
   {
    "duration": 6,
    "start_time": "2022-01-19T10:04:05.791Z"
   },
   {
    "duration": 35,
    "start_time": "2022-01-19T10:24:10.061Z"
   },
   {
    "duration": 30,
    "start_time": "2022-01-19T11:08:28.045Z"
   },
   {
    "duration": 14,
    "start_time": "2022-01-19T11:08:28.785Z"
   },
   {
    "duration": 28,
    "start_time": "2022-01-19T11:09:01.338Z"
   },
   {
    "duration": 15,
    "start_time": "2022-01-19T11:09:12.798Z"
   },
   {
    "duration": 7,
    "start_time": "2022-01-19T11:09:14.628Z"
   },
   {
    "duration": 6,
    "start_time": "2022-01-19T11:09:17.144Z"
   },
   {
    "duration": 6,
    "start_time": "2022-01-19T11:09:55.509Z"
   },
   {
    "duration": 6,
    "start_time": "2022-01-19T11:10:10.548Z"
   },
   {
    "duration": 6,
    "start_time": "2022-01-19T11:10:12.319Z"
   },
   {
    "duration": 5,
    "start_time": "2022-01-19T11:10:12.727Z"
   },
   {
    "duration": 6,
    "start_time": "2022-01-19T11:10:16.754Z"
   },
   {
    "duration": 7,
    "start_time": "2022-01-19T11:10:17.619Z"
   },
   {
    "duration": 5,
    "start_time": "2022-01-19T11:10:17.935Z"
   },
   {
    "duration": 7,
    "start_time": "2022-01-19T11:10:52.927Z"
   },
   {
    "duration": 6,
    "start_time": "2022-01-19T11:10:53.701Z"
   },
   {
    "duration": 6,
    "start_time": "2022-01-19T11:11:15.401Z"
   },
   {
    "duration": 6,
    "start_time": "2022-01-19T11:11:16.232Z"
   },
   {
    "duration": 27,
    "start_time": "2022-01-19T11:16:43.967Z"
   },
   {
    "duration": 15,
    "start_time": "2022-01-19T11:17:01.185Z"
   },
   {
    "duration": 860,
    "start_time": "2022-01-19T11:25:54.895Z"
   },
   {
    "duration": 765,
    "start_time": "2022-01-19T11:26:12.990Z"
   },
   {
    "duration": 848,
    "start_time": "2022-01-19T11:26:22.268Z"
   },
   {
    "duration": 46,
    "start_time": "2022-01-19T11:26:38.037Z"
   },
   {
    "duration": 5045,
    "start_time": "2022-01-19T11:27:52.156Z"
   },
   {
    "duration": 48,
    "start_time": "2022-01-19T11:29:07.299Z"
   },
   {
    "duration": 376,
    "start_time": "2022-01-19T12:18:56.126Z"
   },
   {
    "duration": 48,
    "start_time": "2022-01-19T12:19:04.887Z"
   },
   {
    "duration": 762,
    "start_time": "2022-01-19T12:22:55.417Z"
   },
   {
    "duration": 64,
    "start_time": "2022-01-19T12:23:07.577Z"
   },
   {
    "duration": 5,
    "start_time": "2022-01-19T12:36:07.495Z"
   },
   {
    "duration": 302,
    "start_time": "2022-01-19T12:36:50.296Z"
   },
   {
    "duration": 114,
    "start_time": "2022-01-19T12:39:33.858Z"
   },
   {
    "duration": 286,
    "start_time": "2022-01-19T12:39:40.564Z"
   },
   {
    "duration": 3,
    "start_time": "2022-01-19T12:39:47.395Z"
   },
   {
    "duration": 6,
    "start_time": "2022-01-19T12:40:09.530Z"
   },
   {
    "duration": 4,
    "start_time": "2022-01-19T12:40:16.060Z"
   },
   {
    "duration": 5,
    "start_time": "2022-01-19T12:40:16.560Z"
   },
   {
    "duration": 5,
    "start_time": "2022-01-19T12:46:17.234Z"
   },
   {
    "duration": 14,
    "start_time": "2022-01-19T12:46:35.987Z"
   },
   {
    "duration": 8,
    "start_time": "2022-01-19T12:46:36.745Z"
   },
   {
    "duration": 23,
    "start_time": "2022-01-19T12:47:21.731Z"
   },
   {
    "duration": 11,
    "start_time": "2022-01-19T12:47:24.151Z"
   },
   {
    "duration": 33,
    "start_time": "2022-01-19T12:47:55.093Z"
   },
   {
    "duration": 12,
    "start_time": "2022-01-19T12:47:57.025Z"
   },
   {
    "duration": 29,
    "start_time": "2022-01-19T12:50:49.155Z"
   },
   {
    "duration": 13,
    "start_time": "2022-01-19T12:50:49.478Z"
   },
   {
    "duration": 47,
    "start_time": "2022-01-19T12:55:50.548Z"
   },
   {
    "duration": 33,
    "start_time": "2022-01-19T12:56:31.616Z"
   },
   {
    "duration": 410,
    "start_time": "2022-01-19T12:56:56.161Z"
   },
   {
    "duration": 40,
    "start_time": "2022-01-19T12:57:05.155Z"
   },
   {
    "duration": 40,
    "start_time": "2022-01-19T12:57:05.651Z"
   },
   {
    "duration": 44,
    "start_time": "2022-01-19T12:57:06.071Z"
   },
   {
    "duration": 19,
    "start_time": "2022-01-19T12:57:06.486Z"
   },
   {
    "duration": 13,
    "start_time": "2022-01-19T12:57:12.752Z"
   },
   {
    "duration": 12,
    "start_time": "2022-01-19T12:57:26.259Z"
   },
   {
    "duration": 637,
    "start_time": "2022-01-19T12:58:25.778Z"
   },
   {
    "duration": 31,
    "start_time": "2022-01-19T12:58:32.610Z"
   },
   {
    "duration": 32,
    "start_time": "2022-01-19T12:58:43.013Z"
   },
   {
    "duration": 34,
    "start_time": "2022-01-19T12:58:46.202Z"
   },
   {
    "duration": 11,
    "start_time": "2022-01-19T12:58:46.652Z"
   },
   {
    "duration": 11,
    "start_time": "2022-01-19T12:58:47.193Z"
   },
   {
    "duration": 12,
    "start_time": "2022-01-19T12:58:47.627Z"
   },
   {
    "duration": 6,
    "start_time": "2022-01-19T13:02:12.276Z"
   },
   {
    "duration": 110,
    "start_time": "2022-01-19T13:04:22.900Z"
   },
   {
    "duration": 11,
    "start_time": "2022-01-19T13:06:47.221Z"
   },
   {
    "duration": 11,
    "start_time": "2022-01-19T13:07:05.034Z"
   },
   {
    "duration": 32,
    "start_time": "2022-01-19T13:08:02.275Z"
   },
   {
    "duration": 11,
    "start_time": "2022-01-19T13:08:06.611Z"
   },
   {
    "duration": 35,
    "start_time": "2022-01-19T13:08:24.041Z"
   },
   {
    "duration": 34,
    "start_time": "2022-01-19T13:08:36.168Z"
   },
   {
    "duration": 11,
    "start_time": "2022-01-19T13:08:36.601Z"
   },
   {
    "duration": 10,
    "start_time": "2022-01-19T13:08:37.080Z"
   },
   {
    "duration": 9,
    "start_time": "2022-01-19T13:08:37.506Z"
   },
   {
    "duration": 272,
    "start_time": "2022-01-19T13:10:32.921Z"
   },
   {
    "duration": 410,
    "start_time": "2022-01-19T13:12:08.049Z"
   },
   {
    "duration": 478,
    "start_time": "2022-01-19T13:12:52.651Z"
   },
   {
    "duration": 1334,
    "start_time": "2022-01-19T13:12:58.519Z"
   },
   {
    "duration": 364,
    "start_time": "2022-01-19T13:13:05.818Z"
   },
   {
    "duration": 328,
    "start_time": "2022-01-19T13:18:16.018Z"
   },
   {
    "duration": 290,
    "start_time": "2022-01-19T13:18:46.185Z"
   },
   {
    "duration": 280,
    "start_time": "2022-01-19T13:19:06.790Z"
   },
   {
    "duration": 285,
    "start_time": "2022-01-19T13:19:12.183Z"
   },
   {
    "duration": 7766,
    "start_time": "2022-01-19T13:20:27.897Z"
   },
   {
    "duration": 7911,
    "start_time": "2022-01-19T13:20:40.636Z"
   },
   {
    "duration": 7505,
    "start_time": "2022-01-19T13:20:58.853Z"
   },
   {
    "duration": 237,
    "start_time": "2022-01-19T13:21:17.894Z"
   },
   {
    "duration": 316,
    "start_time": "2022-01-19T13:21:32.090Z"
   },
   {
    "duration": 241,
    "start_time": "2022-01-19T13:21:49.820Z"
   },
   {
    "duration": 251,
    "start_time": "2022-01-19T13:22:00.430Z"
   },
   {
    "duration": 253,
    "start_time": "2022-01-19T13:24:28.965Z"
   },
   {
    "duration": 278,
    "start_time": "2022-01-19T13:25:00.378Z"
   },
   {
    "duration": 235,
    "start_time": "2022-01-19T13:28:43.180Z"
   },
   {
    "duration": 248,
    "start_time": "2022-01-19T13:29:18.199Z"
   },
   {
    "duration": 219,
    "start_time": "2022-01-19T13:30:06.033Z"
   },
   {
    "duration": 236,
    "start_time": "2022-01-19T13:30:49.482Z"
   },
   {
    "duration": 240,
    "start_time": "2022-01-19T13:31:28.552Z"
   },
   {
    "duration": 17327,
    "start_time": "2022-01-19T13:32:10.770Z"
   },
   {
    "duration": 8555,
    "start_time": "2022-01-19T13:33:33.727Z"
   },
   {
    "duration": 672,
    "start_time": "2022-01-19T13:33:44.638Z"
   },
   {
    "duration": 244,
    "start_time": "2022-01-19T13:34:19.452Z"
   },
   {
    "duration": 420,
    "start_time": "2022-01-19T13:43:08.052Z"
   },
   {
    "duration": 537,
    "start_time": "2022-01-19T13:43:22.374Z"
   },
   {
    "duration": 503,
    "start_time": "2022-01-19T13:48:25.910Z"
   },
   {
    "duration": 210,
    "start_time": "2022-01-19T13:49:05.226Z"
   },
   {
    "duration": 384,
    "start_time": "2022-01-19T13:49:38.781Z"
   },
   {
    "duration": 616,
    "start_time": "2022-01-19T13:49:52.238Z"
   },
   {
    "duration": 320,
    "start_time": "2022-01-19T13:50:21.260Z"
   },
   {
    "duration": 370,
    "start_time": "2022-01-19T13:50:43.191Z"
   },
   {
    "duration": 282,
    "start_time": "2022-01-19T13:50:51.745Z"
   },
   {
    "duration": 308,
    "start_time": "2022-01-19T13:51:05.892Z"
   },
   {
    "duration": 425,
    "start_time": "2022-01-19T13:51:25.485Z"
   },
   {
    "duration": 8414,
    "start_time": "2022-01-19T13:52:24.974Z"
   },
   {
    "duration": 449,
    "start_time": "2022-01-19T13:52:47.276Z"
   },
   {
    "duration": 238,
    "start_time": "2022-01-19T13:52:58.844Z"
   },
   {
    "duration": 8533,
    "start_time": "2022-01-19T13:53:32.214Z"
   },
   {
    "duration": 270,
    "start_time": "2022-01-19T13:53:46.335Z"
   },
   {
    "duration": 254,
    "start_time": "2022-01-19T13:54:00.955Z"
   },
   {
    "duration": 254,
    "start_time": "2022-01-19T13:55:01.860Z"
   },
   {
    "duration": 268,
    "start_time": "2022-01-19T13:55:28.277Z"
   },
   {
    "duration": 868,
    "start_time": "2022-01-19T14:02:58.226Z"
   },
   {
    "duration": 515,
    "start_time": "2022-01-19T14:02:59.097Z"
   },
   {
    "duration": 27,
    "start_time": "2022-01-19T14:02:59.615Z"
   },
   {
    "duration": 44,
    "start_time": "2022-01-19T14:02:59.645Z"
   },
   {
    "duration": 44,
    "start_time": "2022-01-19T14:02:59.691Z"
   },
   {
    "duration": 31,
    "start_time": "2022-01-19T14:02:59.738Z"
   },
   {
    "duration": 54,
    "start_time": "2022-01-19T14:02:59.771Z"
   },
   {
    "duration": 45,
    "start_time": "2022-01-19T14:02:59.828Z"
   },
   {
    "duration": 37,
    "start_time": "2022-01-19T14:02:59.876Z"
   },
   {
    "duration": 26,
    "start_time": "2022-01-19T14:02:59.916Z"
   },
   {
    "duration": 36,
    "start_time": "2022-01-19T14:02:59.945Z"
   },
   {
    "duration": 87,
    "start_time": "2022-01-19T14:02:59.984Z"
   },
   {
    "duration": 44,
    "start_time": "2022-01-19T14:03:00.073Z"
   },
   {
    "duration": 45,
    "start_time": "2022-01-19T14:03:00.120Z"
   },
   {
    "duration": 33,
    "start_time": "2022-01-19T14:03:00.167Z"
   },
   {
    "duration": 101,
    "start_time": "2022-01-19T14:03:00.203Z"
   },
   {
    "duration": 45,
    "start_time": "2022-01-19T14:03:00.307Z"
   },
   {
    "duration": 17,
    "start_time": "2022-01-19T14:03:00.366Z"
   },
   {
    "duration": 71,
    "start_time": "2022-01-19T14:03:00.385Z"
   },
   {
    "duration": 20,
    "start_time": "2022-01-19T14:03:00.458Z"
   },
   {
    "duration": 58,
    "start_time": "2022-01-19T14:03:00.481Z"
   },
   {
    "duration": 25,
    "start_time": "2022-01-19T14:03:00.542Z"
   },
   {
    "duration": 56,
    "start_time": "2022-01-19T14:03:00.573Z"
   },
   {
    "duration": 41,
    "start_time": "2022-01-19T14:03:00.632Z"
   },
   {
    "duration": 38,
    "start_time": "2022-01-19T14:03:00.676Z"
   },
   {
    "duration": 52,
    "start_time": "2022-01-19T14:03:00.717Z"
   },
   {
    "duration": 51,
    "start_time": "2022-01-19T14:03:00.771Z"
   },
   {
    "duration": 318,
    "start_time": "2022-01-19T14:03:00.824Z"
   },
   {
    "duration": 25,
    "start_time": "2022-01-19T14:03:01.145Z"
   },
   {
    "duration": 45,
    "start_time": "2022-01-19T14:03:01.172Z"
   },
   {
    "duration": 76,
    "start_time": "2022-01-19T14:03:01.220Z"
   },
   {
    "duration": 40,
    "start_time": "2022-01-19T14:03:01.298Z"
   },
   {
    "duration": 43,
    "start_time": "2022-01-19T14:03:01.341Z"
   },
   {
    "duration": 24,
    "start_time": "2022-01-19T14:03:01.386Z"
   },
   {
    "duration": 37,
    "start_time": "2022-01-19T14:03:01.412Z"
   },
   {
    "duration": 59,
    "start_time": "2022-01-19T14:03:01.452Z"
   },
   {
    "duration": 280,
    "start_time": "2022-01-19T14:03:01.514Z"
   },
   {
    "duration": 292,
    "start_time": "2022-01-19T14:03:01.797Z"
   },
   {
    "duration": 285,
    "start_time": "2022-01-19T14:03:02.092Z"
   },
   {
    "duration": 933,
    "start_time": "2022-01-19T18:58:33.814Z"
   },
   {
    "duration": 481,
    "start_time": "2022-01-19T18:58:34.750Z"
   },
   {
    "duration": 26,
    "start_time": "2022-01-19T18:58:35.234Z"
   },
   {
    "duration": 19,
    "start_time": "2022-01-19T18:58:35.263Z"
   },
   {
    "duration": 57,
    "start_time": "2022-01-19T18:58:35.286Z"
   },
   {
    "duration": 15,
    "start_time": "2022-01-19T18:58:35.346Z"
   },
   {
    "duration": 21,
    "start_time": "2022-01-19T18:58:35.364Z"
   },
   {
    "duration": 11,
    "start_time": "2022-01-19T18:58:35.423Z"
   },
   {
    "duration": 13,
    "start_time": "2022-01-19T18:58:35.436Z"
   },
   {
    "duration": 18,
    "start_time": "2022-01-19T18:58:35.451Z"
   },
   {
    "duration": 14,
    "start_time": "2022-01-19T18:58:35.471Z"
   },
   {
    "duration": 90,
    "start_time": "2022-01-19T18:58:35.488Z"
   },
   {
    "duration": 59,
    "start_time": "2022-01-19T18:58:35.581Z"
   },
   {
    "duration": 31,
    "start_time": "2022-01-19T18:58:35.643Z"
   },
   {
    "duration": 11,
    "start_time": "2022-01-19T18:58:35.677Z"
   },
   {
    "duration": 95,
    "start_time": "2022-01-19T18:58:35.691Z"
   },
   {
    "duration": 54,
    "start_time": "2022-01-19T18:58:35.789Z"
   },
   {
    "duration": 9,
    "start_time": "2022-01-19T18:58:35.845Z"
   },
   {
    "duration": 51,
    "start_time": "2022-01-19T18:58:35.856Z"
   },
   {
    "duration": 18,
    "start_time": "2022-01-19T18:58:35.909Z"
   },
   {
    "duration": 39,
    "start_time": "2022-01-19T18:58:35.929Z"
   },
   {
    "duration": 9,
    "start_time": "2022-01-19T18:58:35.971Z"
   },
   {
    "duration": 42,
    "start_time": "2022-01-19T18:58:35.985Z"
   },
   {
    "duration": 16,
    "start_time": "2022-01-19T18:58:36.029Z"
   },
   {
    "duration": 12,
    "start_time": "2022-01-19T18:58:36.047Z"
   },
   {
    "duration": 19,
    "start_time": "2022-01-19T18:58:36.061Z"
   },
   {
    "duration": 5,
    "start_time": "2022-01-19T18:58:36.082Z"
   },
   {
    "duration": 320,
    "start_time": "2022-01-19T18:58:36.090Z"
   },
   {
    "duration": 28,
    "start_time": "2022-01-19T18:58:36.412Z"
   },
   {
    "duration": 15,
    "start_time": "2022-01-19T18:58:36.443Z"
   },
   {
    "duration": 65,
    "start_time": "2022-01-19T18:58:36.461Z"
   },
   {
    "duration": 41,
    "start_time": "2022-01-19T18:58:36.530Z"
   },
   {
    "duration": 60,
    "start_time": "2022-01-19T18:58:36.574Z"
   },
   {
    "duration": 9,
    "start_time": "2022-01-19T18:58:36.637Z"
   },
   {
    "duration": 12,
    "start_time": "2022-01-19T18:58:36.649Z"
   },
   {
    "duration": 10,
    "start_time": "2022-01-19T18:58:36.664Z"
   },
   {
    "duration": 291,
    "start_time": "2022-01-19T18:58:36.677Z"
   },
   {
    "duration": 321,
    "start_time": "2022-01-19T18:58:36.971Z"
   },
   {
    "duration": 289,
    "start_time": "2022-01-19T18:58:37.294Z"
   },
   {
    "duration": 263,
    "start_time": "2022-01-19T19:01:23.685Z"
   },
   {
    "duration": 104,
    "start_time": "2022-01-19T19:02:12.954Z"
   },
   {
    "duration": 618,
    "start_time": "2022-01-19T19:02:18.942Z"
   },
   {
    "duration": 248,
    "start_time": "2022-01-19T19:02:33.224Z"
   },
   {
    "duration": 236,
    "start_time": "2022-01-19T19:03:22.943Z"
   },
   {
    "duration": 259,
    "start_time": "2022-01-19T19:04:37.702Z"
   },
   {
    "duration": 258,
    "start_time": "2022-01-19T19:05:52.841Z"
   },
   {
    "duration": 391,
    "start_time": "2022-01-19T19:06:19.645Z"
   },
   {
    "duration": 248,
    "start_time": "2022-01-19T19:06:39.495Z"
   },
   {
    "duration": 303,
    "start_time": "2022-01-19T19:06:44.088Z"
   },
   {
    "duration": 235,
    "start_time": "2022-01-19T19:07:31.288Z"
   },
   {
    "duration": 235,
    "start_time": "2022-01-19T19:07:39.750Z"
   },
   {
    "duration": 313,
    "start_time": "2022-01-19T19:07:43.843Z"
   },
   {
    "duration": 481,
    "start_time": "2022-01-19T19:25:04.069Z"
   },
   {
    "duration": 617,
    "start_time": "2022-01-19T19:28:45.826Z"
   },
   {
    "duration": 7,
    "start_time": "2022-01-19T19:30:45.962Z"
   },
   {
    "duration": 11,
    "start_time": "2022-01-19T19:31:57.034Z"
   },
   {
    "duration": 8,
    "start_time": "2022-01-19T19:32:11.071Z"
   },
   {
    "duration": 328,
    "start_time": "2022-01-19T19:32:51.684Z"
   },
   {
    "duration": 10,
    "start_time": "2022-01-19T19:34:24.657Z"
   },
   {
    "duration": 8,
    "start_time": "2022-01-19T19:34:53.511Z"
   },
   {
    "duration": 16,
    "start_time": "2022-01-19T19:35:01.444Z"
   },
   {
    "duration": 7,
    "start_time": "2022-01-19T19:35:20.055Z"
   },
   {
    "duration": 10,
    "start_time": "2022-01-19T19:36:08.600Z"
   },
   {
    "duration": 8,
    "start_time": "2022-01-19T19:36:18.546Z"
   },
   {
    "duration": 8,
    "start_time": "2022-01-19T19:36:44.976Z"
   },
   {
    "duration": 13,
    "start_time": "2022-01-19T19:36:49.025Z"
   },
   {
    "duration": 7,
    "start_time": "2022-01-19T19:37:20.702Z"
   },
   {
    "duration": 7,
    "start_time": "2022-01-19T19:37:29.053Z"
   },
   {
    "duration": 8,
    "start_time": "2022-01-19T19:38:17.554Z"
   },
   {
    "duration": 8,
    "start_time": "2022-01-19T19:38:22.853Z"
   },
   {
    "duration": 6,
    "start_time": "2022-01-19T19:38:53.671Z"
   },
   {
    "duration": 7,
    "start_time": "2022-01-19T19:39:00.752Z"
   },
   {
    "duration": 8,
    "start_time": "2022-01-19T19:39:12.402Z"
   },
   {
    "duration": 7,
    "start_time": "2022-01-19T19:39:47.219Z"
   },
   {
    "duration": 8,
    "start_time": "2022-01-19T19:39:56.744Z"
   },
   {
    "duration": 9,
    "start_time": "2022-01-19T19:40:07.305Z"
   },
   {
    "duration": 7,
    "start_time": "2022-01-19T19:40:15.692Z"
   },
   {
    "duration": 9,
    "start_time": "2022-01-19T19:41:22.458Z"
   },
   {
    "duration": 8,
    "start_time": "2022-01-19T19:41:53.967Z"
   },
   {
    "duration": 9,
    "start_time": "2022-01-19T19:42:09.781Z"
   },
   {
    "duration": 8,
    "start_time": "2022-01-19T19:42:56.875Z"
   },
   {
    "duration": 8,
    "start_time": "2022-01-19T19:43:03.066Z"
   },
   {
    "duration": 9,
    "start_time": "2022-01-19T19:43:09.512Z"
   },
   {
    "duration": 7,
    "start_time": "2022-01-19T19:43:27.867Z"
   },
   {
    "duration": 9,
    "start_time": "2022-01-19T19:43:45.518Z"
   },
   {
    "duration": 8,
    "start_time": "2022-01-19T19:43:55.585Z"
   },
   {
    "duration": 8,
    "start_time": "2022-01-19T19:44:18.176Z"
   },
   {
    "duration": 101,
    "start_time": "2022-01-19T19:47:22.473Z"
   },
   {
    "duration": 14,
    "start_time": "2022-01-19T19:47:30.746Z"
   },
   {
    "duration": 7,
    "start_time": "2022-01-19T19:56:32.096Z"
   },
   {
    "duration": 309,
    "start_time": "2022-01-19T19:57:01.365Z"
   },
   {
    "duration": 9,
    "start_time": "2022-01-19T19:57:20.680Z"
   },
   {
    "duration": 13,
    "start_time": "2022-01-19T19:58:19.114Z"
   },
   {
    "duration": 13,
    "start_time": "2022-01-19T19:58:23.643Z"
   },
   {
    "duration": 42,
    "start_time": "2022-01-19T19:58:36.105Z"
   },
   {
    "duration": 8,
    "start_time": "2022-01-19T19:59:46.282Z"
   },
   {
    "duration": 8,
    "start_time": "2022-01-19T20:00:25.970Z"
   },
   {
    "duration": 7,
    "start_time": "2022-01-19T20:00:36.802Z"
   },
   {
    "duration": 1292,
    "start_time": "2022-01-19T20:02:12.573Z"
   },
   {
    "duration": 517,
    "start_time": "2022-01-19T20:02:13.868Z"
   },
   {
    "duration": 29,
    "start_time": "2022-01-19T20:02:14.388Z"
   },
   {
    "duration": 22,
    "start_time": "2022-01-19T20:02:14.420Z"
   },
   {
    "duration": 35,
    "start_time": "2022-01-19T20:02:14.445Z"
   },
   {
    "duration": 42,
    "start_time": "2022-01-19T20:02:14.483Z"
   },
   {
    "duration": 28,
    "start_time": "2022-01-19T20:02:14.529Z"
   },
   {
    "duration": 13,
    "start_time": "2022-01-19T20:02:14.563Z"
   },
   {
    "duration": 50,
    "start_time": "2022-01-19T20:02:14.579Z"
   },
   {
    "duration": 12,
    "start_time": "2022-01-19T20:02:14.631Z"
   },
   {
    "duration": 22,
    "start_time": "2022-01-19T20:02:14.646Z"
   },
   {
    "duration": 81,
    "start_time": "2022-01-19T20:02:14.671Z"
   },
   {
    "duration": 41,
    "start_time": "2022-01-19T20:02:14.755Z"
   },
   {
    "duration": 43,
    "start_time": "2022-01-19T20:02:14.799Z"
   },
   {
    "duration": 9,
    "start_time": "2022-01-19T20:02:14.844Z"
   },
   {
    "duration": 97,
    "start_time": "2022-01-19T20:02:14.855Z"
   },
   {
    "duration": 43,
    "start_time": "2022-01-19T20:02:14.955Z"
   },
   {
    "duration": 22,
    "start_time": "2022-01-19T20:02:15.001Z"
   },
   {
    "duration": 38,
    "start_time": "2022-01-19T20:02:15.026Z"
   },
   {
    "duration": 8,
    "start_time": "2022-01-19T20:02:15.067Z"
   },
   {
    "duration": 58,
    "start_time": "2022-01-19T20:02:15.078Z"
   },
   {
    "duration": 8,
    "start_time": "2022-01-19T20:02:15.138Z"
   },
   {
    "duration": 17,
    "start_time": "2022-01-19T20:02:15.151Z"
   },
   {
    "duration": 14,
    "start_time": "2022-01-19T20:02:15.170Z"
   },
   {
    "duration": 41,
    "start_time": "2022-01-19T20:02:15.186Z"
   },
   {
    "duration": 20,
    "start_time": "2022-01-19T20:02:15.230Z"
   },
   {
    "duration": 5,
    "start_time": "2022-01-19T20:02:15.252Z"
   },
   {
    "duration": 300,
    "start_time": "2022-01-19T20:02:15.260Z"
   },
   {
    "duration": 20,
    "start_time": "2022-01-19T20:02:15.562Z"
   },
   {
    "duration": 13,
    "start_time": "2022-01-19T20:02:15.584Z"
   },
   {
    "duration": 50,
    "start_time": "2022-01-19T20:02:15.599Z"
   },
   {
    "duration": 29,
    "start_time": "2022-01-19T20:02:15.652Z"
   },
   {
    "duration": 53,
    "start_time": "2022-01-19T20:02:15.684Z"
   },
   {
    "duration": 11,
    "start_time": "2022-01-19T20:02:15.740Z"
   },
   {
    "duration": 17,
    "start_time": "2022-01-19T20:02:15.754Z"
   },
   {
    "duration": 13,
    "start_time": "2022-01-19T20:02:15.774Z"
   },
   {
    "duration": 415,
    "start_time": "2022-01-19T20:02:15.790Z"
   },
   {
    "duration": 380,
    "start_time": "2022-01-19T20:02:16.208Z"
   },
   {
    "duration": 400,
    "start_time": "2022-01-19T20:02:16.591Z"
   },
   {
    "duration": 10,
    "start_time": "2022-01-19T20:02:16.995Z"
   },
   {
    "duration": 23,
    "start_time": "2022-01-19T20:02:17.008Z"
   },
   {
    "duration": 10,
    "start_time": "2022-01-19T20:02:17.034Z"
   },
   {
    "duration": 211,
    "start_time": "2022-01-19T20:06:15.288Z"
   },
   {
    "duration": 223,
    "start_time": "2022-01-19T20:06:51.184Z"
   },
   {
    "duration": 214,
    "start_time": "2022-01-19T20:07:17.897Z"
   },
   {
    "duration": 209,
    "start_time": "2022-01-19T20:07:26.440Z"
   },
   {
    "duration": 224,
    "start_time": "2022-01-19T20:07:32.127Z"
   },
   {
    "duration": 244,
    "start_time": "2022-01-19T20:07:50.719Z"
   },
   {
    "duration": 281,
    "start_time": "2022-01-19T20:07:56.950Z"
   },
   {
    "duration": 241,
    "start_time": "2022-01-19T20:08:03.658Z"
   },
   {
    "duration": 239,
    "start_time": "2022-01-19T20:08:35.145Z"
   },
   {
    "duration": 431,
    "start_time": "2022-01-19T20:09:06.722Z"
   },
   {
    "duration": 390,
    "start_time": "2022-01-19T20:11:46.383Z"
   },
   {
    "duration": 421,
    "start_time": "2022-01-19T20:12:35.129Z"
   },
   {
    "duration": 1902,
    "start_time": "2022-01-19T20:14:01.289Z"
   },
   {
    "duration": 687,
    "start_time": "2022-01-19T20:14:03.194Z"
   },
   {
    "duration": 44,
    "start_time": "2022-01-19T20:14:03.885Z"
   },
   {
    "duration": 24,
    "start_time": "2022-01-19T20:14:03.933Z"
   },
   {
    "duration": 25,
    "start_time": "2022-01-19T20:14:03.960Z"
   },
   {
    "duration": 35,
    "start_time": "2022-01-19T20:14:03.988Z"
   },
   {
    "duration": 19,
    "start_time": "2022-01-19T20:14:04.025Z"
   },
   {
    "duration": 10,
    "start_time": "2022-01-19T20:14:04.049Z"
   },
   {
    "duration": 12,
    "start_time": "2022-01-19T20:14:04.062Z"
   },
   {
    "duration": 48,
    "start_time": "2022-01-19T20:14:04.076Z"
   },
   {
    "duration": 17,
    "start_time": "2022-01-19T20:14:04.127Z"
   },
   {
    "duration": 54,
    "start_time": "2022-01-19T20:14:04.146Z"
   },
   {
    "duration": 56,
    "start_time": "2022-01-19T20:14:04.203Z"
   },
   {
    "duration": 29,
    "start_time": "2022-01-19T20:14:04.261Z"
   },
   {
    "duration": 8,
    "start_time": "2022-01-19T20:14:04.292Z"
   },
   {
    "duration": 69,
    "start_time": "2022-01-19T20:14:04.324Z"
   },
   {
    "duration": 58,
    "start_time": "2022-01-19T20:14:04.396Z"
   },
   {
    "duration": 8,
    "start_time": "2022-01-19T20:14:04.456Z"
   },
   {
    "duration": 63,
    "start_time": "2022-01-19T20:14:04.466Z"
   },
   {
    "duration": 8,
    "start_time": "2022-01-19T20:14:04.532Z"
   },
   {
    "duration": 26,
    "start_time": "2022-01-19T20:14:04.542Z"
   },
   {
    "duration": 8,
    "start_time": "2022-01-19T20:14:04.570Z"
   },
   {
    "duration": 49,
    "start_time": "2022-01-19T20:14:04.582Z"
   },
   {
    "duration": 16,
    "start_time": "2022-01-19T20:14:04.634Z"
   },
   {
    "duration": 8,
    "start_time": "2022-01-19T20:14:04.652Z"
   },
   {
    "duration": 15,
    "start_time": "2022-01-19T20:14:04.663Z"
   },
   {
    "duration": 5,
    "start_time": "2022-01-19T20:14:04.681Z"
   },
   {
    "duration": 465,
    "start_time": "2022-01-19T20:14:04.724Z"
   },
   {
    "duration": 33,
    "start_time": "2022-01-19T20:14:05.192Z"
   },
   {
    "duration": 17,
    "start_time": "2022-01-19T20:14:05.228Z"
   },
   {
    "duration": 43,
    "start_time": "2022-01-19T20:14:05.248Z"
   },
   {
    "duration": 66,
    "start_time": "2022-01-19T20:14:05.294Z"
   },
   {
    "duration": 66,
    "start_time": "2022-01-19T20:14:05.363Z"
   },
   {
    "duration": 11,
    "start_time": "2022-01-19T20:14:05.432Z"
   },
   {
    "duration": 11,
    "start_time": "2022-01-19T20:14:05.446Z"
   },
   {
    "duration": 10,
    "start_time": "2022-01-19T20:14:05.460Z"
   },
   {
    "duration": 400,
    "start_time": "2022-01-19T20:14:05.473Z"
   },
   {
    "duration": 484,
    "start_time": "2022-01-19T20:14:05.876Z"
   },
   {
    "duration": 278,
    "start_time": "2022-01-19T20:14:06.364Z"
   },
   {
    "duration": 8,
    "start_time": "2022-01-19T20:14:06.644Z"
   },
   {
    "duration": 451,
    "start_time": "2022-01-19T20:14:06.654Z"
   },
   {
    "duration": 21,
    "start_time": "2022-01-19T20:14:07.107Z"
   },
   {
    "duration": 11,
    "start_time": "2022-01-19T20:14:07.130Z"
   },
   {
    "duration": 429,
    "start_time": "2022-01-19T20:14:07.143Z"
   },
   {
    "duration": 2,
    "start_time": "2022-01-20T09:49:03.564Z"
   },
   {
    "duration": 2,
    "start_time": "2022-01-20T09:49:10.503Z"
   },
   {
    "duration": 225,
    "start_time": "2022-01-20T10:21:19.658Z"
   },
   {
    "duration": 979,
    "start_time": "2022-01-20T10:21:32.690Z"
   },
   {
    "duration": 362,
    "start_time": "2022-01-20T10:21:33.670Z"
   },
   {
    "duration": 19,
    "start_time": "2022-01-20T10:21:34.033Z"
   },
   {
    "duration": 9,
    "start_time": "2022-01-20T10:21:34.054Z"
   },
   {
    "duration": 16,
    "start_time": "2022-01-20T10:21:34.065Z"
   },
   {
    "duration": 7,
    "start_time": "2022-01-20T10:21:34.082Z"
   },
   {
    "duration": 16,
    "start_time": "2022-01-20T10:21:34.090Z"
   },
   {
    "duration": 6,
    "start_time": "2022-01-20T10:21:34.112Z"
   },
   {
    "duration": 11,
    "start_time": "2022-01-20T10:21:34.119Z"
   },
   {
    "duration": 8,
    "start_time": "2022-01-20T10:21:34.132Z"
   },
   {
    "duration": 12,
    "start_time": "2022-01-20T10:21:34.141Z"
   },
   {
    "duration": 38,
    "start_time": "2022-01-20T10:21:34.154Z"
   },
   {
    "duration": 41,
    "start_time": "2022-01-20T10:21:34.194Z"
   },
   {
    "duration": 19,
    "start_time": "2022-01-20T10:21:34.237Z"
   },
   {
    "duration": 5,
    "start_time": "2022-01-20T10:21:34.257Z"
   },
   {
    "duration": 60,
    "start_time": "2022-01-20T10:21:34.264Z"
   },
   {
    "duration": 32,
    "start_time": "2022-01-20T10:21:34.326Z"
   },
   {
    "duration": 23,
    "start_time": "2022-01-20T10:21:34.360Z"
   },
   {
    "duration": 35,
    "start_time": "2022-01-20T10:21:34.384Z"
   },
   {
    "duration": 10,
    "start_time": "2022-01-20T10:21:34.420Z"
   },
   {
    "duration": 16,
    "start_time": "2022-01-20T10:21:34.431Z"
   },
   {
    "duration": 6,
    "start_time": "2022-01-20T10:21:34.448Z"
   },
   {
    "duration": 7,
    "start_time": "2022-01-20T10:21:34.457Z"
   },
   {
    "duration": 4,
    "start_time": "2022-01-20T10:21:34.465Z"
   },
   {
    "duration": 156,
    "start_time": "2022-01-20T10:21:34.470Z"
   },
   {
    "duration": 11,
    "start_time": "2022-01-20T10:21:34.628Z"
   },
   {
    "duration": 9,
    "start_time": "2022-01-20T10:21:34.641Z"
   },
   {
    "duration": 18,
    "start_time": "2022-01-20T10:21:34.651Z"
   },
   {
    "duration": 17,
    "start_time": "2022-01-20T10:21:34.670Z"
   },
   {
    "duration": 40,
    "start_time": "2022-01-20T10:21:34.688Z"
   },
   {
    "duration": 6,
    "start_time": "2022-01-20T10:21:34.729Z"
   },
   {
    "duration": 8,
    "start_time": "2022-01-20T10:21:34.736Z"
   },
   {
    "duration": 6,
    "start_time": "2022-01-20T10:21:34.745Z"
   },
   {
    "duration": 162,
    "start_time": "2022-01-20T10:21:34.753Z"
   },
   {
    "duration": 163,
    "start_time": "2022-01-20T10:21:34.916Z"
   },
   {
    "duration": 170,
    "start_time": "2022-01-20T10:21:35.081Z"
   },
   {
    "duration": 5,
    "start_time": "2022-01-20T10:21:35.253Z"
   },
   {
    "duration": 247,
    "start_time": "2022-01-20T10:21:35.260Z"
   },
   {
    "duration": 6,
    "start_time": "2022-01-20T10:21:35.512Z"
   },
   {
    "duration": 8,
    "start_time": "2022-01-20T10:21:35.519Z"
   },
   {
    "duration": 249,
    "start_time": "2022-01-20T10:21:35.529Z"
   },
   {
    "duration": 36,
    "start_time": "2022-01-20T10:21:47.472Z"
   },
   {
    "duration": 34,
    "start_time": "2022-01-20T10:22:02.917Z"
   },
   {
    "duration": 37,
    "start_time": "2022-01-20T10:22:13.541Z"
   },
   {
    "duration": 38,
    "start_time": "2022-01-20T10:22:34.505Z"
   },
   {
    "duration": 28,
    "start_time": "2022-01-20T10:22:44.945Z"
   },
   {
    "duration": 21,
    "start_time": "2022-01-20T10:24:28.395Z"
   },
   {
    "duration": 20,
    "start_time": "2022-01-20T10:51:45.079Z"
   },
   {
    "duration": 146,
    "start_time": "2022-01-20T10:52:38.743Z"
   },
   {
    "duration": 23,
    "start_time": "2022-01-20T11:13:25.735Z"
   },
   {
    "duration": 6,
    "start_time": "2022-01-20T11:13:42.017Z"
   },
   {
    "duration": 135,
    "start_time": "2022-01-20T11:15:15.136Z"
   },
   {
    "duration": 205,
    "start_time": "2022-01-20T11:15:20.312Z"
   },
   {
    "duration": 26,
    "start_time": "2022-01-20T11:17:27.853Z"
   },
   {
    "duration": 7,
    "start_time": "2022-01-20T11:17:29.375Z"
   },
   {
    "duration": 164,
    "start_time": "2022-01-20T11:17:55.988Z"
   },
   {
    "duration": 28,
    "start_time": "2022-01-20T11:18:58.489Z"
   },
   {
    "duration": 6,
    "start_time": "2022-01-20T11:19:00.362Z"
   },
   {
    "duration": 137,
    "start_time": "2022-01-20T11:19:15.530Z"
   },
   {
    "duration": 274,
    "start_time": "2022-01-20T11:19:32.005Z"
   },
   {
    "duration": 232,
    "start_time": "2022-01-20T11:20:06.173Z"
   },
   {
    "duration": 18,
    "start_time": "2022-01-20T11:48:48.237Z"
   },
   {
    "duration": 10,
    "start_time": "2022-01-20T11:50:16.641Z"
   },
   {
    "duration": 7,
    "start_time": "2022-01-20T11:50:40.571Z"
   },
   {
    "duration": 9,
    "start_time": "2022-01-20T11:52:00.106Z"
   },
   {
    "duration": 8,
    "start_time": "2022-01-20T11:58:42.760Z"
   },
   {
    "duration": 8,
    "start_time": "2022-01-20T11:59:14.169Z"
   },
   {
    "duration": 7,
    "start_time": "2022-01-20T11:59:27.535Z"
   },
   {
    "duration": 5,
    "start_time": "2022-01-20T11:59:39.459Z"
   },
   {
    "duration": 5,
    "start_time": "2022-01-20T12:00:46.380Z"
   },
   {
    "duration": 21,
    "start_time": "2022-01-20T12:29:18.595Z"
   },
   {
    "duration": 13,
    "start_time": "2022-01-20T12:29:25.620Z"
   },
   {
    "duration": 5,
    "start_time": "2022-01-20T12:33:44.490Z"
   },
   {
    "duration": 3,
    "start_time": "2022-01-20T12:35:38.367Z"
   },
   {
    "duration": 3,
    "start_time": "2022-01-20T12:36:04.777Z"
   },
   {
    "duration": 265,
    "start_time": "2022-01-20T12:36:20.975Z"
   },
   {
    "duration": 6,
    "start_time": "2022-01-20T12:37:25.971Z"
   },
   {
    "duration": 4,
    "start_time": "2022-01-20T12:37:30.643Z"
   },
   {
    "duration": 202,
    "start_time": "2022-01-20T12:38:22.920Z"
   },
   {
    "duration": 5,
    "start_time": "2022-01-20T12:38:29.421Z"
   },
   {
    "duration": 5,
    "start_time": "2022-01-20T12:38:43.690Z"
   },
   {
    "duration": 5,
    "start_time": "2022-01-20T12:38:54.094Z"
   },
   {
    "duration": 5,
    "start_time": "2022-01-20T12:40:58.714Z"
   },
   {
    "duration": 5,
    "start_time": "2022-01-20T12:41:18.388Z"
   },
   {
    "duration": 5,
    "start_time": "2022-01-20T12:42:01.888Z"
   },
   {
    "duration": 68,
    "start_time": "2022-01-20T12:45:25.146Z"
   },
   {
    "duration": 6,
    "start_time": "2022-01-20T12:45:50.626Z"
   },
   {
    "duration": 4,
    "start_time": "2022-01-20T12:45:56.917Z"
   },
   {
    "duration": 4,
    "start_time": "2022-01-20T12:47:16.228Z"
   },
   {
    "duration": 3,
    "start_time": "2022-01-20T12:47:17.175Z"
   },
   {
    "duration": 3,
    "start_time": "2022-01-20T12:47:53.961Z"
   },
   {
    "duration": 4,
    "start_time": "2022-01-20T12:47:54.712Z"
   },
   {
    "duration": 3,
    "start_time": "2022-01-20T12:48:13.948Z"
   },
   {
    "duration": 229,
    "start_time": "2022-01-20T12:48:23.006Z"
   },
   {
    "duration": 5,
    "start_time": "2022-01-20T12:48:42.394Z"
   },
   {
    "duration": 200,
    "start_time": "2022-01-20T12:49:36.262Z"
   },
   {
    "duration": 195,
    "start_time": "2022-01-20T12:49:47.884Z"
   },
   {
    "duration": 140,
    "start_time": "2022-01-20T13:06:02.074Z"
   },
   {
    "duration": 256,
    "start_time": "2022-01-20T13:15:19.918Z"
   },
   {
    "duration": 236,
    "start_time": "2022-01-20T13:19:07.149Z"
   },
   {
    "duration": 9,
    "start_time": "2022-01-20T13:19:17.943Z"
   },
   {
    "duration": 7,
    "start_time": "2022-01-20T13:19:33.028Z"
   },
   {
    "duration": 23,
    "start_time": "2022-01-20T13:19:56.288Z"
   },
   {
    "duration": 26,
    "start_time": "2022-01-20T13:21:10.367Z"
   },
   {
    "duration": 8,
    "start_time": "2022-01-20T13:21:46.335Z"
   },
   {
    "duration": 8,
    "start_time": "2022-01-20T13:21:58.181Z"
   },
   {
    "duration": 8,
    "start_time": "2022-01-20T13:22:24.608Z"
   },
   {
    "duration": 7,
    "start_time": "2022-01-20T13:22:31.099Z"
   },
   {
    "duration": 7,
    "start_time": "2022-01-20T13:24:55.258Z"
   },
   {
    "duration": 985,
    "start_time": "2022-01-20T13:32:44.002Z"
   },
   {
    "duration": 371,
    "start_time": "2022-01-20T13:32:44.989Z"
   },
   {
    "duration": 20,
    "start_time": "2022-01-20T13:32:45.362Z"
   },
   {
    "duration": 12,
    "start_time": "2022-01-20T13:32:45.384Z"
   },
   {
    "duration": 15,
    "start_time": "2022-01-20T13:32:45.398Z"
   },
   {
    "duration": 10,
    "start_time": "2022-01-20T13:32:45.415Z"
   },
   {
    "duration": 13,
    "start_time": "2022-01-20T13:32:45.426Z"
   },
   {
    "duration": 6,
    "start_time": "2022-01-20T13:32:45.442Z"
   },
   {
    "duration": 8,
    "start_time": "2022-01-20T13:32:45.450Z"
   },
   {
    "duration": 8,
    "start_time": "2022-01-20T13:32:45.460Z"
   },
   {
    "duration": 10,
    "start_time": "2022-01-20T13:32:45.470Z"
   },
   {
    "duration": 64,
    "start_time": "2022-01-20T13:32:45.482Z"
   },
   {
    "duration": 26,
    "start_time": "2022-01-20T13:32:45.548Z"
   },
   {
    "duration": 36,
    "start_time": "2022-01-20T13:32:45.576Z"
   },
   {
    "duration": 6,
    "start_time": "2022-01-20T13:32:45.613Z"
   },
   {
    "duration": 48,
    "start_time": "2022-01-20T13:32:45.620Z"
   },
   {
    "duration": 28,
    "start_time": "2022-01-20T13:32:45.670Z"
   },
   {
    "duration": 35,
    "start_time": "2022-01-20T13:32:45.699Z"
   },
   {
    "duration": 16,
    "start_time": "2022-01-20T13:32:45.736Z"
   },
   {
    "duration": 11,
    "start_time": "2022-01-20T13:32:45.753Z"
   },
   {
    "duration": 8,
    "start_time": "2022-01-20T13:32:45.765Z"
   },
   {
    "duration": 5,
    "start_time": "2022-01-20T13:32:45.775Z"
   },
   {
    "duration": 9,
    "start_time": "2022-01-20T13:32:45.812Z"
   },
   {
    "duration": 5,
    "start_time": "2022-01-20T13:32:45.822Z"
   },
   {
    "duration": 166,
    "start_time": "2022-01-20T13:32:45.828Z"
   },
   {
    "duration": 8,
    "start_time": "2022-01-20T13:32:45.995Z"
   },
   {
    "duration": 25,
    "start_time": "2022-01-20T13:32:46.004Z"
   },
   {
    "duration": 18,
    "start_time": "2022-01-20T13:32:46.030Z"
   },
   {
    "duration": 19,
    "start_time": "2022-01-20T13:32:46.049Z"
   },
   {
    "duration": 52,
    "start_time": "2022-01-20T13:32:46.069Z"
   },
   {
    "duration": 6,
    "start_time": "2022-01-20T13:32:46.122Z"
   },
   {
    "duration": 7,
    "start_time": "2022-01-20T13:32:46.129Z"
   },
   {
    "duration": 8,
    "start_time": "2022-01-20T13:32:46.138Z"
   },
   {
    "duration": 6,
    "start_time": "2022-01-20T13:32:46.147Z"
   },
   {
    "duration": 173,
    "start_time": "2022-01-20T13:32:46.155Z"
   },
   {
    "duration": 159,
    "start_time": "2022-01-20T13:32:46.330Z"
   },
   {
    "duration": 175,
    "start_time": "2022-01-20T13:32:46.490Z"
   },
   {
    "duration": 169,
    "start_time": "2022-01-20T13:32:46.666Z"
   },
   {
    "duration": 259,
    "start_time": "2022-01-20T13:32:46.836Z"
   },
   {
    "duration": 5,
    "start_time": "2022-01-20T13:32:47.097Z"
   },
   {
    "duration": 254,
    "start_time": "2022-01-20T13:32:47.103Z"
   },
   {
    "duration": 5,
    "start_time": "2022-01-20T13:32:47.358Z"
   },
   {
    "duration": 8,
    "start_time": "2022-01-20T13:32:47.365Z"
   },
   {
    "duration": 320,
    "start_time": "2022-01-20T13:32:47.375Z"
   },
   {
    "duration": 302,
    "start_time": "2022-01-20T13:34:33.408Z"
   },
   {
    "duration": 270,
    "start_time": "2022-01-20T13:34:45.038Z"
   },
   {
    "duration": 1068,
    "start_time": "2022-01-24T18:13:49.621Z"
   },
   {
    "duration": 428,
    "start_time": "2022-01-24T18:13:50.691Z"
   },
   {
    "duration": 22,
    "start_time": "2022-01-24T18:13:51.122Z"
   },
   {
    "duration": 27,
    "start_time": "2022-01-24T18:13:51.146Z"
   },
   {
    "duration": 39,
    "start_time": "2022-01-24T18:13:51.175Z"
   },
   {
    "duration": 8,
    "start_time": "2022-01-24T18:13:51.216Z"
   },
   {
    "duration": 20,
    "start_time": "2022-01-24T18:13:51.226Z"
   },
   {
    "duration": 8,
    "start_time": "2022-01-24T18:13:51.249Z"
   },
   {
    "duration": 15,
    "start_time": "2022-01-24T18:13:51.259Z"
   },
   {
    "duration": 26,
    "start_time": "2022-01-24T18:13:51.276Z"
   },
   {
    "duration": 23,
    "start_time": "2022-01-24T18:13:51.304Z"
   },
   {
    "duration": 45,
    "start_time": "2022-01-24T18:13:51.329Z"
   },
   {
    "duration": 43,
    "start_time": "2022-01-24T18:13:51.376Z"
   },
   {
    "duration": 25,
    "start_time": "2022-01-24T18:13:51.420Z"
   },
   {
    "duration": 7,
    "start_time": "2022-01-24T18:13:51.447Z"
   },
   {
    "duration": 74,
    "start_time": "2022-01-24T18:13:51.455Z"
   },
   {
    "duration": 34,
    "start_time": "2022-01-24T18:13:51.530Z"
   },
   {
    "duration": 41,
    "start_time": "2022-01-24T18:13:51.565Z"
   },
   {
    "duration": 19,
    "start_time": "2022-01-24T18:13:51.608Z"
   },
   {
    "duration": 12,
    "start_time": "2022-01-24T18:13:51.629Z"
   },
   {
    "duration": 9,
    "start_time": "2022-01-24T18:13:51.643Z"
   },
   {
    "duration": 10,
    "start_time": "2022-01-24T18:13:51.654Z"
   },
   {
    "duration": 37,
    "start_time": "2022-01-24T18:13:51.668Z"
   },
   {
    "duration": 5,
    "start_time": "2022-01-24T18:13:51.707Z"
   },
   {
    "duration": 174,
    "start_time": "2022-01-24T18:13:51.713Z"
   },
   {
    "duration": 13,
    "start_time": "2022-01-24T18:13:51.889Z"
   },
   {
    "duration": 20,
    "start_time": "2022-01-24T18:13:51.904Z"
   },
   {
    "duration": 18,
    "start_time": "2022-01-24T18:13:51.926Z"
   },
   {
    "duration": 22,
    "start_time": "2022-01-24T18:13:51.946Z"
   },
   {
    "duration": 58,
    "start_time": "2022-01-24T18:13:51.970Z"
   },
   {
    "duration": 7,
    "start_time": "2022-01-24T18:13:52.030Z"
   },
   {
    "duration": 10,
    "start_time": "2022-01-24T18:13:52.039Z"
   },
   {
    "duration": 15,
    "start_time": "2022-01-24T18:13:52.051Z"
   },
   {
    "duration": 36,
    "start_time": "2022-01-24T18:13:52.068Z"
   },
   {
    "duration": 191,
    "start_time": "2022-01-24T18:13:52.106Z"
   },
   {
    "duration": 162,
    "start_time": "2022-01-24T18:13:52.299Z"
   },
   {
    "duration": 181,
    "start_time": "2022-01-24T18:13:52.463Z"
   },
   {
    "duration": 174,
    "start_time": "2022-01-24T18:13:52.646Z"
   },
   {
    "duration": 278,
    "start_time": "2022-01-24T18:13:52.822Z"
   },
   {
    "duration": 5,
    "start_time": "2022-01-24T18:13:53.102Z"
   },
   {
    "duration": 291,
    "start_time": "2022-01-24T18:13:53.109Z"
   },
   {
    "duration": 6,
    "start_time": "2022-01-24T18:13:53.402Z"
   },
   {
    "duration": 9,
    "start_time": "2022-01-24T18:13:53.410Z"
   },
   {
    "duration": 362,
    "start_time": "2022-01-24T18:13:53.421Z"
   },
   {
    "duration": 11,
    "start_time": "2022-01-24T18:15:11.988Z"
   },
   {
    "duration": 15,
    "start_time": "2022-01-24T18:17:03.725Z"
   },
   {
    "duration": 1142,
    "start_time": "2022-01-25T12:55:17.737Z"
   },
   {
    "duration": 418,
    "start_time": "2022-01-25T12:55:18.881Z"
   },
   {
    "duration": 23,
    "start_time": "2022-01-25T12:55:19.302Z"
   },
   {
    "duration": 10,
    "start_time": "2022-01-25T12:55:19.327Z"
   },
   {
    "duration": 17,
    "start_time": "2022-01-25T12:55:19.339Z"
   },
   {
    "duration": 9,
    "start_time": "2022-01-25T12:55:19.357Z"
   },
   {
    "duration": 47,
    "start_time": "2022-01-25T12:55:19.367Z"
   },
   {
    "duration": 7,
    "start_time": "2022-01-25T12:55:19.418Z"
   },
   {
    "duration": 8,
    "start_time": "2022-01-25T12:55:19.427Z"
   },
   {
    "duration": 8,
    "start_time": "2022-01-25T12:55:19.437Z"
   },
   {
    "duration": 11,
    "start_time": "2022-01-25T12:55:19.447Z"
   },
   {
    "duration": 87,
    "start_time": "2022-01-25T12:55:19.459Z"
   },
   {
    "duration": 30,
    "start_time": "2022-01-25T12:55:19.547Z"
   },
   {
    "duration": 49,
    "start_time": "2022-01-25T12:55:19.578Z"
   },
   {
    "duration": 6,
    "start_time": "2022-01-25T12:55:19.629Z"
   },
   {
    "duration": 73,
    "start_time": "2022-01-25T12:55:19.637Z"
   },
   {
    "duration": 34,
    "start_time": "2022-01-25T12:55:19.712Z"
   },
   {
    "duration": 28,
    "start_time": "2022-01-25T12:55:19.747Z"
   },
   {
    "duration": 45,
    "start_time": "2022-01-25T12:55:19.776Z"
   },
   {
    "duration": 12,
    "start_time": "2022-01-25T12:55:19.822Z"
   },
   {
    "duration": 9,
    "start_time": "2022-01-25T12:55:19.836Z"
   },
   {
    "duration": 6,
    "start_time": "2022-01-25T12:55:19.847Z"
   },
   {
    "duration": 9,
    "start_time": "2022-01-25T12:55:19.856Z"
   },
   {
    "duration": 35,
    "start_time": "2022-01-25T12:55:19.867Z"
   },
   {
    "duration": 178,
    "start_time": "2022-01-25T12:55:19.904Z"
   },
   {
    "duration": 21,
    "start_time": "2022-01-25T12:55:20.084Z"
   },
   {
    "duration": 10,
    "start_time": "2022-01-25T12:55:20.107Z"
   },
   {
    "duration": 29,
    "start_time": "2022-01-25T12:55:20.119Z"
   },
   {
    "duration": 22,
    "start_time": "2022-01-25T12:55:20.150Z"
   },
   {
    "duration": 46,
    "start_time": "2022-01-25T12:55:20.173Z"
   },
   {
    "duration": 32,
    "start_time": "2022-01-25T12:55:20.221Z"
   },
   {
    "duration": 7,
    "start_time": "2022-01-25T12:55:20.255Z"
   },
   {
    "duration": 33,
    "start_time": "2022-01-25T12:55:20.265Z"
   },
   {
    "duration": 8,
    "start_time": "2022-01-25T12:55:20.300Z"
   },
   {
    "duration": 13,
    "start_time": "2022-01-25T12:55:20.310Z"
   },
   {
    "duration": 190,
    "start_time": "2022-01-25T12:55:20.325Z"
   },
   {
    "duration": 182,
    "start_time": "2022-01-25T12:55:20.517Z"
   },
   {
    "duration": 198,
    "start_time": "2022-01-25T12:55:20.701Z"
   },
   {
    "duration": 204,
    "start_time": "2022-01-25T12:55:20.901Z"
   },
   {
    "duration": 299,
    "start_time": "2022-01-25T12:55:21.107Z"
   },
   {
    "duration": 6,
    "start_time": "2022-01-25T12:55:21.408Z"
   },
   {
    "duration": 317,
    "start_time": "2022-01-25T12:55:21.416Z"
   },
   {
    "duration": 6,
    "start_time": "2022-01-25T12:55:21.735Z"
   },
   {
    "duration": 10,
    "start_time": "2022-01-25T12:55:21.743Z"
   },
   {
    "duration": 360,
    "start_time": "2022-01-25T12:55:21.755Z"
   },
   {
    "duration": 13,
    "start_time": "2022-01-25T12:57:14.631Z"
   },
   {
    "duration": 335,
    "start_time": "2022-01-25T12:58:47.786Z"
   },
   {
    "duration": 164,
    "start_time": "2022-01-25T12:58:55.414Z"
   },
   {
    "duration": 141,
    "start_time": "2022-01-25T12:59:23.654Z"
   },
   {
    "duration": 152,
    "start_time": "2022-01-25T13:00:24.611Z"
   },
   {
    "duration": 160,
    "start_time": "2022-01-25T13:02:20.940Z"
   },
   {
    "duration": 152,
    "start_time": "2022-01-25T13:02:33.670Z"
   },
   {
    "duration": 152,
    "start_time": "2022-01-25T13:03:32.572Z"
   },
   {
    "duration": 152,
    "start_time": "2022-01-25T13:04:07.244Z"
   },
   {
    "duration": 283,
    "start_time": "2022-01-25T13:06:08.146Z"
   },
   {
    "duration": 21,
    "start_time": "2022-01-25T13:11:16.758Z"
   },
   {
    "duration": 508,
    "start_time": "2022-01-25T13:11:42.449Z"
   },
   {
    "duration": 20,
    "start_time": "2022-01-25T13:11:57.582Z"
   },
   {
    "duration": 100,
    "start_time": "2022-01-25T13:12:40.983Z"
   },
   {
    "duration": 95,
    "start_time": "2022-01-25T13:13:19.289Z"
   },
   {
    "duration": 84,
    "start_time": "2022-01-25T13:13:25.944Z"
   },
   {
    "duration": 94,
    "start_time": "2022-01-25T13:13:48.706Z"
   },
   {
    "duration": 85,
    "start_time": "2022-01-25T13:13:57.264Z"
   },
   {
    "duration": 21,
    "start_time": "2022-01-25T13:14:04.029Z"
   },
   {
    "duration": 20,
    "start_time": "2022-01-25T13:14:26.490Z"
   },
   {
    "duration": 18,
    "start_time": "2022-01-25T13:15:40.316Z"
   },
   {
    "duration": 27,
    "start_time": "2022-01-25T13:16:26.370Z"
   },
   {
    "duration": 19,
    "start_time": "2022-01-25T13:16:47.300Z"
   },
   {
    "duration": 19,
    "start_time": "2022-01-25T13:18:10.037Z"
   },
   {
    "duration": 92,
    "start_time": "2022-01-25T13:18:27.081Z"
   },
   {
    "duration": 18,
    "start_time": "2022-01-25T13:18:51.039Z"
   },
   {
    "duration": 19,
    "start_time": "2022-01-25T13:18:59.255Z"
   },
   {
    "duration": 253,
    "start_time": "2022-01-25T13:20:44.307Z"
   },
   {
    "duration": 256,
    "start_time": "2022-01-25T13:21:12.366Z"
   },
   {
    "duration": 257,
    "start_time": "2022-01-25T13:23:40.882Z"
   },
   {
    "duration": 329,
    "start_time": "2022-01-25T13:24:36.114Z"
   },
   {
    "duration": 265,
    "start_time": "2022-01-25T13:24:53.530Z"
   },
   {
    "duration": 256,
    "start_time": "2022-01-25T13:25:11.922Z"
   },
   {
    "duration": 260,
    "start_time": "2022-01-25T13:25:34.812Z"
   },
   {
    "duration": 14,
    "start_time": "2022-01-25T13:28:28.201Z"
   },
   {
    "duration": 677,
    "start_time": "2022-01-25T13:29:21.999Z"
   },
   {
    "duration": 15,
    "start_time": "2022-01-25T13:29:33.615Z"
   },
   {
    "duration": 13,
    "start_time": "2022-01-25T13:30:08.112Z"
   },
   {
    "duration": 14,
    "start_time": "2022-01-25T13:30:19.656Z"
   },
   {
    "duration": 14,
    "start_time": "2022-01-25T13:30:36.321Z"
   },
   {
    "duration": 14,
    "start_time": "2022-01-25T13:31:03.371Z"
   },
   {
    "duration": 13,
    "start_time": "2022-01-25T13:31:08.829Z"
   },
   {
    "duration": 226,
    "start_time": "2022-01-25T13:31:33.789Z"
   },
   {
    "duration": 215,
    "start_time": "2022-01-25T13:33:26.770Z"
   },
   {
    "duration": 514,
    "start_time": "2022-01-25T13:38:44.393Z"
   },
   {
    "duration": 261,
    "start_time": "2022-01-25T13:55:56.282Z"
   },
   {
    "duration": 6,
    "start_time": "2022-01-25T13:56:32.637Z"
   },
   {
    "duration": 6,
    "start_time": "2022-01-25T13:58:49.516Z"
   },
   {
    "duration": 6,
    "start_time": "2022-01-25T14:00:29.518Z"
   },
   {
    "duration": 6,
    "start_time": "2022-01-25T14:00:36.548Z"
   },
   {
    "duration": 5,
    "start_time": "2022-01-25T14:01:43.480Z"
   },
   {
    "duration": 84,
    "start_time": "2022-01-25T14:02:44.641Z"
   },
   {
    "duration": 6,
    "start_time": "2022-01-25T14:02:51.260Z"
   },
   {
    "duration": 6,
    "start_time": "2022-01-25T14:03:00.318Z"
   },
   {
    "duration": 5,
    "start_time": "2022-01-25T14:03:35.259Z"
   },
   {
    "duration": 5,
    "start_time": "2022-01-25T14:03:50.163Z"
   },
   {
    "duration": 5,
    "start_time": "2022-01-25T14:11:44.839Z"
   },
   {
    "duration": 5,
    "start_time": "2022-01-25T14:12:33.818Z"
   },
   {
    "duration": 5,
    "start_time": "2022-01-25T14:13:01.058Z"
   },
   {
    "duration": 5,
    "start_time": "2022-01-25T14:13:35.260Z"
   },
   {
    "duration": 6,
    "start_time": "2022-01-25T14:13:44.401Z"
   },
   {
    "duration": 1063,
    "start_time": "2022-01-25T14:14:14.539Z"
   },
   {
    "duration": 409,
    "start_time": "2022-01-25T14:14:15.604Z"
   },
   {
    "duration": 21,
    "start_time": "2022-01-25T14:14:16.015Z"
   },
   {
    "duration": 14,
    "start_time": "2022-01-25T14:14:16.039Z"
   },
   {
    "duration": 21,
    "start_time": "2022-01-25T14:14:16.055Z"
   },
   {
    "duration": 21,
    "start_time": "2022-01-25T14:14:16.078Z"
   },
   {
    "duration": 15,
    "start_time": "2022-01-25T14:14:16.101Z"
   },
   {
    "duration": 7,
    "start_time": "2022-01-25T14:14:16.119Z"
   },
   {
    "duration": 9,
    "start_time": "2022-01-25T14:14:16.128Z"
   },
   {
    "duration": 8,
    "start_time": "2022-01-25T14:14:16.139Z"
   },
   {
    "duration": 12,
    "start_time": "2022-01-25T14:14:16.149Z"
   },
   {
    "duration": 71,
    "start_time": "2022-01-25T14:14:16.162Z"
   },
   {
    "duration": 32,
    "start_time": "2022-01-25T14:14:16.235Z"
   },
   {
    "duration": 45,
    "start_time": "2022-01-25T14:14:16.269Z"
   },
   {
    "duration": 8,
    "start_time": "2022-01-25T14:14:16.316Z"
   },
   {
    "duration": 55,
    "start_time": "2022-01-25T14:14:16.325Z"
   },
   {
    "duration": 45,
    "start_time": "2022-01-25T14:14:16.382Z"
   },
   {
    "duration": 27,
    "start_time": "2022-01-25T14:14:16.428Z"
   },
   {
    "duration": 18,
    "start_time": "2022-01-25T14:14:16.457Z"
   },
   {
    "duration": 32,
    "start_time": "2022-01-25T14:14:16.476Z"
   },
   {
    "duration": 9,
    "start_time": "2022-01-25T14:14:16.510Z"
   },
   {
    "duration": 7,
    "start_time": "2022-01-25T14:14:16.520Z"
   },
   {
    "duration": 12,
    "start_time": "2022-01-25T14:14:16.531Z"
   },
   {
    "duration": 4,
    "start_time": "2022-01-25T14:14:16.546Z"
   },
   {
    "duration": 197,
    "start_time": "2022-01-25T14:14:16.552Z"
   },
   {
    "duration": 15,
    "start_time": "2022-01-25T14:14:16.750Z"
   },
   {
    "duration": 11,
    "start_time": "2022-01-25T14:14:16.766Z"
   },
   {
    "duration": 34,
    "start_time": "2022-01-25T14:14:16.779Z"
   },
   {
    "duration": 21,
    "start_time": "2022-01-25T14:14:16.815Z"
   },
   {
    "duration": 21,
    "start_time": "2022-01-25T14:14:16.838Z"
   },
   {
    "duration": 56,
    "start_time": "2022-01-25T14:14:16.861Z"
   },
   {
    "duration": 6,
    "start_time": "2022-01-25T14:14:16.919Z"
   },
   {
    "duration": 7,
    "start_time": "2022-01-25T14:14:16.926Z"
   },
   {
    "duration": 11,
    "start_time": "2022-01-25T14:14:16.935Z"
   },
   {
    "duration": 8,
    "start_time": "2022-01-25T14:14:16.947Z"
   },
   {
    "duration": 172,
    "start_time": "2022-01-25T14:14:16.957Z"
   },
   {
    "duration": 179,
    "start_time": "2022-01-25T14:14:17.130Z"
   },
   {
    "duration": 192,
    "start_time": "2022-01-25T14:14:17.311Z"
   },
   {
    "duration": 177,
    "start_time": "2022-01-25T14:14:17.505Z"
   },
   {
    "duration": 417,
    "start_time": "2022-01-25T14:14:17.683Z"
   },
   {
    "duration": 12,
    "start_time": "2022-01-25T14:14:18.102Z"
   },
   {
    "duration": 167,
    "start_time": "2022-01-25T14:14:18.116Z"
   },
   {
    "duration": 529,
    "start_time": "2022-01-25T14:14:18.284Z"
   },
   {
    "duration": 286,
    "start_time": "2022-01-25T14:14:18.814Z"
   },
   {
    "duration": 5,
    "start_time": "2022-01-25T14:14:19.101Z"
   },
   {
    "duration": 284,
    "start_time": "2022-01-25T14:14:19.108Z"
   },
   {
    "duration": 7,
    "start_time": "2022-01-25T14:14:19.394Z"
   },
   {
    "duration": 6,
    "start_time": "2022-01-25T14:14:19.403Z"
   },
   {
    "duration": 299,
    "start_time": "2022-01-25T14:14:19.411Z"
   },
   {
    "duration": 6,
    "start_time": "2022-01-25T14:14:56.603Z"
   },
   {
    "duration": 6,
    "start_time": "2022-01-25T14:16:19.940Z"
   },
   {
    "duration": 6,
    "start_time": "2022-01-25T14:17:31.234Z"
   },
   {
    "duration": 1929,
    "start_time": "2022-01-25T18:11:13.303Z"
   },
   {
    "duration": 773,
    "start_time": "2022-01-25T18:11:15.236Z"
   },
   {
    "duration": 47,
    "start_time": "2022-01-25T18:11:16.013Z"
   },
   {
    "duration": 21,
    "start_time": "2022-01-25T18:11:16.064Z"
   },
   {
    "duration": 23,
    "start_time": "2022-01-25T18:11:16.087Z"
   },
   {
    "duration": 12,
    "start_time": "2022-01-25T18:11:16.133Z"
   },
   {
    "duration": 19,
    "start_time": "2022-01-25T18:11:16.147Z"
   },
   {
    "duration": 10,
    "start_time": "2022-01-25T18:11:16.170Z"
   },
   {
    "duration": 50,
    "start_time": "2022-01-25T18:11:16.185Z"
   },
   {
    "duration": 11,
    "start_time": "2022-01-25T18:11:16.239Z"
   },
   {
    "duration": 17,
    "start_time": "2022-01-25T18:11:16.253Z"
   },
   {
    "duration": 101,
    "start_time": "2022-01-25T18:11:16.273Z"
   },
   {
    "duration": 55,
    "start_time": "2022-01-25T18:11:16.378Z"
   },
   {
    "duration": 34,
    "start_time": "2022-01-25T18:11:16.436Z"
   },
   {
    "duration": 11,
    "start_time": "2022-01-25T18:11:16.472Z"
   },
   {
    "duration": 104,
    "start_time": "2022-01-25T18:11:16.485Z"
   },
   {
    "duration": 54,
    "start_time": "2022-01-25T18:11:16.592Z"
   },
   {
    "duration": 35,
    "start_time": "2022-01-25T18:11:16.649Z"
   },
   {
    "duration": 45,
    "start_time": "2022-01-25T18:11:16.687Z"
   },
   {
    "duration": 18,
    "start_time": "2022-01-25T18:11:16.735Z"
   },
   {
    "duration": 14,
    "start_time": "2022-01-25T18:11:16.755Z"
   },
   {
    "duration": 18,
    "start_time": "2022-01-25T18:11:16.772Z"
   },
   {
    "duration": 44,
    "start_time": "2022-01-25T18:11:16.795Z"
   },
   {
    "duration": 6,
    "start_time": "2022-01-25T18:11:16.842Z"
   },
   {
    "duration": 289,
    "start_time": "2022-01-25T18:11:16.850Z"
   },
   {
    "duration": 22,
    "start_time": "2022-01-25T18:11:17.141Z"
   },
   {
    "duration": 13,
    "start_time": "2022-01-25T18:11:17.165Z"
   },
   {
    "duration": 57,
    "start_time": "2022-01-25T18:11:17.181Z"
   },
   {
    "duration": 32,
    "start_time": "2022-01-25T18:11:17.240Z"
   },
   {
    "duration": 57,
    "start_time": "2022-01-25T18:11:17.275Z"
   },
   {
    "duration": 50,
    "start_time": "2022-01-25T18:11:17.335Z"
   },
   {
    "duration": 9,
    "start_time": "2022-01-25T18:11:17.388Z"
   },
   {
    "duration": 37,
    "start_time": "2022-01-25T18:11:17.399Z"
   },
   {
    "duration": 13,
    "start_time": "2022-01-25T18:11:17.438Z"
   },
   {
    "duration": 13,
    "start_time": "2022-01-25T18:11:17.454Z"
   },
   {
    "duration": 310,
    "start_time": "2022-01-25T18:11:17.471Z"
   },
   {
    "duration": 281,
    "start_time": "2022-01-25T18:11:17.784Z"
   },
   {
    "duration": 447,
    "start_time": "2022-01-25T18:11:18.068Z"
   },
   {
    "duration": 302,
    "start_time": "2022-01-25T18:11:18.519Z"
   },
   {
    "duration": 475,
    "start_time": "2022-01-25T18:11:18.831Z"
   },
   {
    "duration": 41,
    "start_time": "2022-01-25T18:11:19.309Z"
   },
   {
    "duration": 259,
    "start_time": "2022-01-25T18:11:19.353Z"
   },
   {
    "duration": 805,
    "start_time": "2022-01-25T18:11:19.615Z"
   },
   {
    "duration": 413,
    "start_time": "2022-01-25T18:11:20.422Z"
   },
   {
    "duration": 8,
    "start_time": "2022-01-25T18:11:20.837Z"
   },
   {
    "duration": 446,
    "start_time": "2022-01-25T18:11:20.848Z"
   },
   {
    "duration": 8,
    "start_time": "2022-01-25T18:11:21.297Z"
   },
   {
    "duration": 404,
    "start_time": "2022-01-25T18:11:21.307Z"
   },
   {
    "duration": 1088,
    "start_time": "2022-01-25T18:11:20.627Z"
   },
   {
    "duration": 232,
    "start_time": "2022-01-25T18:11:54.655Z"
   },
   {
    "duration": 8,
    "start_time": "2022-01-25T18:12:12.955Z"
   },
   {
    "duration": 447,
    "start_time": "2022-01-25T18:12:44.010Z"
   },
   {
    "duration": 91,
    "start_time": "2022-01-25T18:20:44.240Z"
   },
   {
    "duration": 73,
    "start_time": "2022-01-25T18:20:56.498Z"
   },
   {
    "duration": 77,
    "start_time": "2022-01-25T18:21:16.743Z"
   },
   {
    "duration": 84,
    "start_time": "2022-01-25T18:21:26.099Z"
   },
   {
    "duration": 84,
    "start_time": "2022-01-25T18:21:49.929Z"
   },
   {
    "duration": 81,
    "start_time": "2022-01-25T18:22:09.876Z"
   },
   {
    "duration": 1012,
    "start_time": "2022-01-25T19:55:46.776Z"
   },
   {
    "duration": 431,
    "start_time": "2022-01-25T19:55:47.790Z"
   },
   {
    "duration": 22,
    "start_time": "2022-01-25T19:55:48.223Z"
   },
   {
    "duration": 12,
    "start_time": "2022-01-25T19:55:48.247Z"
   },
   {
    "duration": 18,
    "start_time": "2022-01-25T19:55:48.260Z"
   },
   {
    "duration": 8,
    "start_time": "2022-01-25T19:55:48.280Z"
   },
   {
    "duration": 20,
    "start_time": "2022-01-25T19:55:48.289Z"
   },
   {
    "duration": 8,
    "start_time": "2022-01-25T19:55:48.311Z"
   },
   {
    "duration": 9,
    "start_time": "2022-01-25T19:55:48.321Z"
   },
   {
    "duration": 9,
    "start_time": "2022-01-25T19:55:48.331Z"
   },
   {
    "duration": 11,
    "start_time": "2022-01-25T19:55:48.342Z"
   },
   {
    "duration": 70,
    "start_time": "2022-01-25T19:55:48.355Z"
   },
   {
    "duration": 30,
    "start_time": "2022-01-25T19:55:48.427Z"
   },
   {
    "duration": 39,
    "start_time": "2022-01-25T19:55:48.458Z"
   },
   {
    "duration": 6,
    "start_time": "2022-01-25T19:55:48.499Z"
   },
   {
    "duration": 52,
    "start_time": "2022-01-25T19:55:48.507Z"
   },
   {
    "duration": 46,
    "start_time": "2022-01-25T19:55:48.561Z"
   },
   {
    "duration": 29,
    "start_time": "2022-01-25T19:55:48.609Z"
   },
   {
    "duration": 19,
    "start_time": "2022-01-25T19:55:48.639Z"
   },
   {
    "duration": 11,
    "start_time": "2022-01-25T19:55:48.660Z"
   },
   {
    "duration": 29,
    "start_time": "2022-01-25T19:55:48.673Z"
   },
   {
    "duration": 6,
    "start_time": "2022-01-25T19:55:48.704Z"
   },
   {
    "duration": 21,
    "start_time": "2022-01-25T19:55:48.713Z"
   },
   {
    "duration": 4,
    "start_time": "2022-01-25T19:55:48.736Z"
   },
   {
    "duration": 168,
    "start_time": "2022-01-25T19:55:48.741Z"
   },
   {
    "duration": 17,
    "start_time": "2022-01-25T19:55:48.911Z"
   },
   {
    "duration": 11,
    "start_time": "2022-01-25T19:55:48.930Z"
   },
   {
    "duration": 23,
    "start_time": "2022-01-25T19:55:48.943Z"
   },
   {
    "duration": 44,
    "start_time": "2022-01-25T19:55:48.968Z"
   },
   {
    "duration": 23,
    "start_time": "2022-01-25T19:55:49.014Z"
   },
   {
    "duration": 31,
    "start_time": "2022-01-25T19:55:49.038Z"
   },
   {
    "duration": 28,
    "start_time": "2022-01-25T19:55:49.071Z"
   },
   {
    "duration": 9,
    "start_time": "2022-01-25T19:55:49.100Z"
   },
   {
    "duration": 10,
    "start_time": "2022-01-25T19:55:49.111Z"
   },
   {
    "duration": 8,
    "start_time": "2022-01-25T19:55:49.123Z"
   },
   {
    "duration": 191,
    "start_time": "2022-01-25T19:55:49.132Z"
   },
   {
    "duration": 177,
    "start_time": "2022-01-25T19:55:49.325Z"
   },
   {
    "duration": 178,
    "start_time": "2022-01-25T19:55:49.504Z"
   },
   {
    "duration": 176,
    "start_time": "2022-01-25T19:55:49.684Z"
   },
   {
    "duration": 281,
    "start_time": "2022-01-25T19:55:49.862Z"
   },
   {
    "duration": 13,
    "start_time": "2022-01-25T19:55:50.145Z"
   },
   {
    "duration": 163,
    "start_time": "2022-01-25T19:55:50.160Z"
   },
   {
    "duration": 512,
    "start_time": "2022-01-25T19:55:50.325Z"
   },
   {
    "duration": 296,
    "start_time": "2022-01-25T19:55:50.839Z"
   },
   {
    "duration": 6,
    "start_time": "2022-01-25T19:55:51.136Z"
   },
   {
    "duration": 301,
    "start_time": "2022-01-25T19:55:51.143Z"
   },
   {
    "duration": 6,
    "start_time": "2022-01-25T19:55:51.446Z"
   },
   {
    "duration": 24,
    "start_time": "2022-01-25T19:55:51.453Z"
   },
   {
    "duration": 277,
    "start_time": "2022-01-25T19:55:51.479Z"
   },
   {
    "duration": 23,
    "start_time": "2022-01-25T19:56:49.938Z"
   },
   {
    "duration": 263,
    "start_time": "2022-01-25T19:56:58.684Z"
   },
   {
    "duration": 254,
    "start_time": "2022-01-25T19:57:18.252Z"
   }
  ],
  "kernelspec": {
   "display_name": "Python 3.10.5 64-bit (system)",
   "language": "python",
   "name": "python3"
  },
  "language_info": {
   "codemirror_mode": {
    "name": "ipython",
    "version": 3
   },
   "file_extension": ".py",
   "mimetype": "text/x-python",
   "name": "python",
   "nbconvert_exporter": "python",
   "pygments_lexer": "ipython3",
   "version": "3.10.5"
  },
  "toc": {
   "base_numbering": 1,
   "nav_menu": {
    "height": "222.988px",
    "width": "160px"
   },
   "number_sections": true,
   "sideBar": true,
   "skip_h1_title": false,
   "title_cell": "Определение перспективного тарифа для телеком-компании",
   "title_sidebar": "Определение перспективного тарифа для телеком-компании",
   "toc_cell": false,
   "toc_position": {},
   "toc_section_display": true,
   "toc_window_display": true
  },
  "vscode": {
   "interpreter": {
    "hash": "5688e94b3c9c02417cdb2a677651119fe6849ebffb07f3cd02c275e21b63d781"
   }
  }
 },
 "nbformat": 4,
 "nbformat_minor": 2
}
