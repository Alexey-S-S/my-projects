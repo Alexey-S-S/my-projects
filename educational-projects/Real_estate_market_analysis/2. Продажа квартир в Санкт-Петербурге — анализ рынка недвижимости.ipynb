{
 "cells": [
  {
   "cell_type": "markdown",
   "id": "4dc2b085",
   "metadata": {},
   "source": [
    "# Введение\n",
    "\n",
    "В нашем распоряжении данные сервиса Яндекс Недвижимость — архив объявлений о продаже квартир в Санкт-Петербурге и соседних населённых пунктах за несколько лет. <br>\n",
    "\n",
    "Нам необходимо установить параметры, определяющие рыночную стоимость квартиры.\n",
    "Для этого нам необходимо установить как на стоимость квартиры влияет:\n",
    "- общая площадь\n",
    "- количество комнат\n",
    "- этаж\n",
    "- расстояние до центра\n",
    "- высота потолков\n",
    "\n",
    "\n",
    "**Описание данных:**\n",
    "\n",
    "    airports_nearest — расстояние до ближайшего аэропорта в метрах (м)\n",
    "    balcony — число балконов\n",
    "    ceiling_height — высота потолков (м)\n",
    "    cityCenters_nearest — расстояние до центра города (м)\n",
    "    days_exposition — сколько дней было размещено объявление (от публикации до снятия)\n",
    "    first_day_exposition — дата публикации\n",
    "    floor — этаж\n",
    "    floors_total — всего этажей в доме\n",
    "    is_apartment — апартаменты (булев тип)\n",
    "    kitchen_area — площадь кухни в квадратных метрах (м²)\n",
    "    last_price — цена на момент снятия с публикации\n",
    "    living_area — жилая площадь в квадратных метрах (м²)\n",
    "    locality_name — название населённого пункта\n",
    "    open_plan — свободная планировка (булев тип)\n",
    "    parks_around3000 — число парков в радиусе 3 км\n",
    "    parks_nearest — расстояние до ближайшего парка (м)\n",
    "    ponds_around3000 — число водоёмов в радиусе 3 км\n",
    "    ponds_nearest — расстояние до ближайшего водоёма (м)\n",
    "    rooms — число комнат\n",
    "    studio — квартира-студия (булев тип)\n",
    "    total_area — площадь квартиры в квадратных метрах (м²)\n",
    "    total_images — число фотографий квартиры в объявлении\n",
    "    \n"
   ]
  },
  {
   "cell_type": "markdown",
   "id": "013fe55b",
   "metadata": {},
   "source": [
    "# Открываем и изучаем таблицу"
   ]
  },
  {
   "cell_type": "code",
   "execution_count": 1,
   "id": "69ac9fd1",
   "metadata": {},
   "outputs": [],
   "source": [
    "import pandas as pd\n",
    "import warnings\n",
    "import matplotlib.pyplot as plt\n",
    "import seaborn as sns\n",
    "warnings.filterwarnings('ignore')\n"
   ]
  },
  {
   "cell_type": "code",
   "execution_count": 2,
   "id": "bca53d0b",
   "metadata": {},
   "outputs": [],
   "source": [
    "df = pd.read_csv('real_estate_data.csv', sep='\\t')"
   ]
  },
  {
   "cell_type": "code",
   "execution_count": 3,
   "id": "7419e854",
   "metadata": {},
   "outputs": [],
   "source": [
    "pd.set_option('display.max_columns', None)"
   ]
  },
  {
   "cell_type": "code",
   "execution_count": 4,
   "id": "6cf6b96b",
   "metadata": {},
   "outputs": [
    {
     "name": "stdout",
     "output_type": "stream",
     "text": [
      "<class 'pandas.core.frame.DataFrame'>\n",
      "RangeIndex: 23699 entries, 0 to 23698\n",
      "Data columns (total 22 columns):\n",
      " #   Column                Non-Null Count  Dtype  \n",
      "---  ------                --------------  -----  \n",
      " 0   total_images          23699 non-null  int64  \n",
      " 1   last_price            23699 non-null  float64\n",
      " 2   total_area            23699 non-null  float64\n",
      " 3   first_day_exposition  23699 non-null  object \n",
      " 4   rooms                 23699 non-null  int64  \n",
      " 5   ceiling_height        14504 non-null  float64\n",
      " 6   floors_total          23613 non-null  float64\n",
      " 7   living_area           21796 non-null  float64\n",
      " 8   floor                 23699 non-null  int64  \n",
      " 9   is_apartment          2775 non-null   object \n",
      " 10  studio                23699 non-null  bool   \n",
      " 11  open_plan             23699 non-null  bool   \n",
      " 12  kitchen_area          21421 non-null  float64\n",
      " 13  balcony               12180 non-null  float64\n",
      " 14  locality_name         23650 non-null  object \n",
      " 15  airports_nearest      18157 non-null  float64\n",
      " 16  cityCenters_nearest   18180 non-null  float64\n",
      " 17  parks_around3000      18181 non-null  float64\n",
      " 18  parks_nearest         8079 non-null   float64\n",
      " 19  ponds_around3000      18181 non-null  float64\n",
      " 20  ponds_nearest         9110 non-null   float64\n",
      " 21  days_exposition       20518 non-null  float64\n",
      "dtypes: bool(2), float64(14), int64(3), object(3)\n",
      "memory usage: 3.7+ MB\n"
     ]
    }
   ],
   "source": [
    "df.info()"
   ]
  },
  {
   "cell_type": "code",
   "execution_count": 5,
   "id": "72768e06",
   "metadata": {},
   "outputs": [
    {
     "data": {
      "text/html": [
       "<div>\n",
       "<style scoped>\n",
       "    .dataframe tbody tr th:only-of-type {\n",
       "        vertical-align: middle;\n",
       "    }\n",
       "\n",
       "    .dataframe tbody tr th {\n",
       "        vertical-align: top;\n",
       "    }\n",
       "\n",
       "    .dataframe thead th {\n",
       "        text-align: right;\n",
       "    }\n",
       "</style>\n",
       "<table border=\"1\" class=\"dataframe\">\n",
       "  <thead>\n",
       "    <tr style=\"text-align: right;\">\n",
       "      <th></th>\n",
       "      <th>total_images</th>\n",
       "      <th>last_price</th>\n",
       "      <th>total_area</th>\n",
       "      <th>first_day_exposition</th>\n",
       "      <th>rooms</th>\n",
       "      <th>ceiling_height</th>\n",
       "      <th>floors_total</th>\n",
       "      <th>living_area</th>\n",
       "      <th>floor</th>\n",
       "      <th>is_apartment</th>\n",
       "      <th>studio</th>\n",
       "      <th>open_plan</th>\n",
       "      <th>kitchen_area</th>\n",
       "      <th>balcony</th>\n",
       "      <th>locality_name</th>\n",
       "      <th>airports_nearest</th>\n",
       "      <th>cityCenters_nearest</th>\n",
       "      <th>parks_around3000</th>\n",
       "      <th>parks_nearest</th>\n",
       "      <th>ponds_around3000</th>\n",
       "      <th>ponds_nearest</th>\n",
       "      <th>days_exposition</th>\n",
       "    </tr>\n",
       "  </thead>\n",
       "  <tbody>\n",
       "    <tr>\n",
       "      <th>0</th>\n",
       "      <td>20</td>\n",
       "      <td>13000000.0</td>\n",
       "      <td>108.0</td>\n",
       "      <td>2019-03-07T00:00:00</td>\n",
       "      <td>3</td>\n",
       "      <td>2.70</td>\n",
       "      <td>16.0</td>\n",
       "      <td>51.0</td>\n",
       "      <td>8</td>\n",
       "      <td>NaN</td>\n",
       "      <td>False</td>\n",
       "      <td>False</td>\n",
       "      <td>25.0</td>\n",
       "      <td>NaN</td>\n",
       "      <td>Санкт-Петербург</td>\n",
       "      <td>18863.0</td>\n",
       "      <td>16028.0</td>\n",
       "      <td>1.0</td>\n",
       "      <td>482.0</td>\n",
       "      <td>2.0</td>\n",
       "      <td>755.0</td>\n",
       "      <td>NaN</td>\n",
       "    </tr>\n",
       "    <tr>\n",
       "      <th>1</th>\n",
       "      <td>7</td>\n",
       "      <td>3350000.0</td>\n",
       "      <td>40.4</td>\n",
       "      <td>2018-12-04T00:00:00</td>\n",
       "      <td>1</td>\n",
       "      <td>NaN</td>\n",
       "      <td>11.0</td>\n",
       "      <td>18.6</td>\n",
       "      <td>1</td>\n",
       "      <td>NaN</td>\n",
       "      <td>False</td>\n",
       "      <td>False</td>\n",
       "      <td>11.0</td>\n",
       "      <td>2.0</td>\n",
       "      <td>посёлок Шушары</td>\n",
       "      <td>12817.0</td>\n",
       "      <td>18603.0</td>\n",
       "      <td>0.0</td>\n",
       "      <td>NaN</td>\n",
       "      <td>0.0</td>\n",
       "      <td>NaN</td>\n",
       "      <td>81.0</td>\n",
       "    </tr>\n",
       "    <tr>\n",
       "      <th>2</th>\n",
       "      <td>10</td>\n",
       "      <td>5196000.0</td>\n",
       "      <td>56.0</td>\n",
       "      <td>2015-08-20T00:00:00</td>\n",
       "      <td>2</td>\n",
       "      <td>NaN</td>\n",
       "      <td>5.0</td>\n",
       "      <td>34.3</td>\n",
       "      <td>4</td>\n",
       "      <td>NaN</td>\n",
       "      <td>False</td>\n",
       "      <td>False</td>\n",
       "      <td>8.3</td>\n",
       "      <td>0.0</td>\n",
       "      <td>Санкт-Петербург</td>\n",
       "      <td>21741.0</td>\n",
       "      <td>13933.0</td>\n",
       "      <td>1.0</td>\n",
       "      <td>90.0</td>\n",
       "      <td>2.0</td>\n",
       "      <td>574.0</td>\n",
       "      <td>558.0</td>\n",
       "    </tr>\n",
       "    <tr>\n",
       "      <th>3</th>\n",
       "      <td>0</td>\n",
       "      <td>64900000.0</td>\n",
       "      <td>159.0</td>\n",
       "      <td>2015-07-24T00:00:00</td>\n",
       "      <td>3</td>\n",
       "      <td>NaN</td>\n",
       "      <td>14.0</td>\n",
       "      <td>NaN</td>\n",
       "      <td>9</td>\n",
       "      <td>NaN</td>\n",
       "      <td>False</td>\n",
       "      <td>False</td>\n",
       "      <td>NaN</td>\n",
       "      <td>0.0</td>\n",
       "      <td>Санкт-Петербург</td>\n",
       "      <td>28098.0</td>\n",
       "      <td>6800.0</td>\n",
       "      <td>2.0</td>\n",
       "      <td>84.0</td>\n",
       "      <td>3.0</td>\n",
       "      <td>234.0</td>\n",
       "      <td>424.0</td>\n",
       "    </tr>\n",
       "    <tr>\n",
       "      <th>4</th>\n",
       "      <td>2</td>\n",
       "      <td>10000000.0</td>\n",
       "      <td>100.0</td>\n",
       "      <td>2018-06-19T00:00:00</td>\n",
       "      <td>2</td>\n",
       "      <td>3.03</td>\n",
       "      <td>14.0</td>\n",
       "      <td>32.0</td>\n",
       "      <td>13</td>\n",
       "      <td>NaN</td>\n",
       "      <td>False</td>\n",
       "      <td>False</td>\n",
       "      <td>41.0</td>\n",
       "      <td>NaN</td>\n",
       "      <td>Санкт-Петербург</td>\n",
       "      <td>31856.0</td>\n",
       "      <td>8098.0</td>\n",
       "      <td>2.0</td>\n",
       "      <td>112.0</td>\n",
       "      <td>1.0</td>\n",
       "      <td>48.0</td>\n",
       "      <td>121.0</td>\n",
       "    </tr>\n",
       "  </tbody>\n",
       "</table>\n",
       "</div>"
      ],
      "text/plain": [
       "   total_images  last_price  total_area first_day_exposition  rooms  \\\n",
       "0            20  13000000.0       108.0  2019-03-07T00:00:00      3   \n",
       "1             7   3350000.0        40.4  2018-12-04T00:00:00      1   \n",
       "2            10   5196000.0        56.0  2015-08-20T00:00:00      2   \n",
       "3             0  64900000.0       159.0  2015-07-24T00:00:00      3   \n",
       "4             2  10000000.0       100.0  2018-06-19T00:00:00      2   \n",
       "\n",
       "   ceiling_height  floors_total  living_area  floor is_apartment  studio  \\\n",
       "0            2.70          16.0         51.0      8          NaN   False   \n",
       "1             NaN          11.0         18.6      1          NaN   False   \n",
       "2             NaN           5.0         34.3      4          NaN   False   \n",
       "3             NaN          14.0          NaN      9          NaN   False   \n",
       "4            3.03          14.0         32.0     13          NaN   False   \n",
       "\n",
       "   open_plan  kitchen_area  balcony    locality_name  airports_nearest  \\\n",
       "0      False          25.0      NaN  Санкт-Петербург           18863.0   \n",
       "1      False          11.0      2.0   посёлок Шушары           12817.0   \n",
       "2      False           8.3      0.0  Санкт-Петербург           21741.0   \n",
       "3      False           NaN      0.0  Санкт-Петербург           28098.0   \n",
       "4      False          41.0      NaN  Санкт-Петербург           31856.0   \n",
       "\n",
       "   cityCenters_nearest  parks_around3000  parks_nearest  ponds_around3000  \\\n",
       "0              16028.0               1.0          482.0               2.0   \n",
       "1              18603.0               0.0            NaN               0.0   \n",
       "2              13933.0               1.0           90.0               2.0   \n",
       "3               6800.0               2.0           84.0               3.0   \n",
       "4               8098.0               2.0          112.0               1.0   \n",
       "\n",
       "   ponds_nearest  days_exposition  \n",
       "0          755.0              NaN  \n",
       "1            NaN             81.0  \n",
       "2          574.0            558.0  \n",
       "3          234.0            424.0  \n",
       "4           48.0            121.0  "
      ]
     },
     "execution_count": 5,
     "metadata": {},
     "output_type": "execute_result"
    }
   ],
   "source": [
    "df.head()"
   ]
  },
  {
   "cell_type": "code",
   "execution_count": 6,
   "id": "7042443e",
   "metadata": {},
   "outputs": [],
   "source": [
    "# приведем название столбца к общему виду\n",
    "df = df.rename(columns={'cityCenters_nearest' : 'city_centers_nearest'})"
   ]
  },
  {
   "cell_type": "code",
   "execution_count": 7,
   "id": "903aa6f8",
   "metadata": {},
   "outputs": [
    {
     "data": {
      "text/plain": [
       "0"
      ]
     },
     "execution_count": 7,
     "metadata": {},
     "output_type": "execute_result"
    }
   ],
   "source": [
    "# проверим наличие дубликатов\n",
    "df.duplicated().sum()"
   ]
  },
  {
   "cell_type": "code",
   "execution_count": 8,
   "id": "736ab25e",
   "metadata": {
    "scrolled": true
   },
   "outputs": [
    {
     "data": {
      "text/plain": [
       "total_images                0\n",
       "last_price                  0\n",
       "total_area                  0\n",
       "first_day_exposition        0\n",
       "rooms                       0\n",
       "ceiling_height           9195\n",
       "floors_total               86\n",
       "living_area              1903\n",
       "floor                       0\n",
       "is_apartment            20924\n",
       "studio                      0\n",
       "open_plan                   0\n",
       "kitchen_area             2278\n",
       "balcony                 11519\n",
       "locality_name              49\n",
       "airports_nearest         5542\n",
       "city_centers_nearest     5519\n",
       "parks_around3000         5518\n",
       "parks_nearest           15620\n",
       "ponds_around3000         5518\n",
       "ponds_nearest           14589\n",
       "days_exposition          3181\n",
       "dtype: int64"
      ]
     },
     "execution_count": 8,
     "metadata": {},
     "output_type": "execute_result"
    }
   ],
   "source": [
    "df.isna().sum()"
   ]
  },
  {
   "cell_type": "markdown",
   "id": "1d75e243",
   "metadata": {},
   "source": [
    "**Присутствуют пропуски в столбцах:** \n",
    "- ceiling_height,\n",
    "- floors_total,\n",
    "- living_area,\n",
    "- is_apartment,\n",
    "- kitchen_area,\n",
    "- balcony,\n",
    "- locality_name,\n",
    "- airports_nearest,\n",
    "- cityCenters_nearest,\n",
    "- parks_around3000,\n",
    "- parks_nearest,\n",
    "- ponds_around3000,\n",
    "- ponds_nearest,\n",
    "- days_exposition\n",
    "-\n",
    "- **дубликаты отсутствуют**"
   ]
  },
  {
   "cell_type": "markdown",
   "id": "e2cd4c95",
   "metadata": {},
   "source": [
    "# Изучаем и заполняем пропуски:"
   ]
  },
  {
   "cell_type": "markdown",
   "id": "843cc24b",
   "metadata": {},
   "source": [
    "### 'ceiling_height'"
   ]
  },
  {
   "cell_type": "code",
   "execution_count": 9,
   "id": "2f4f432a",
   "metadata": {},
   "outputs": [
    {
     "data": {
      "text/plain": [
       "count    14504.000000\n",
       "mean         2.771499\n",
       "std          1.261056\n",
       "min          1.000000\n",
       "25%          2.520000\n",
       "50%          2.650000\n",
       "75%          2.800000\n",
       "max        100.000000\n",
       "Name: ceiling_height, dtype: float64"
      ]
     },
     "execution_count": 9,
     "metadata": {},
     "output_type": "execute_result"
    }
   ],
   "source": [
    "df['ceiling_height'].describe()"
   ]
  },
  {
   "cell_type": "code",
   "execution_count": 10,
   "id": "8db8f62b",
   "metadata": {},
   "outputs": [],
   "source": [
    "df['ceiling_height'] = df['ceiling_height'].fillna(df['ceiling_height'].median()).round(2)"
   ]
  },
  {
   "cell_type": "code",
   "execution_count": 11,
   "id": "0f558ed1",
   "metadata": {},
   "outputs": [
    {
     "data": {
      "text/plain": [
       "0"
      ]
     },
     "execution_count": 11,
     "metadata": {},
     "output_type": "execute_result"
    }
   ],
   "source": [
    "df['ceiling_height'].isna().sum()"
   ]
  },
  {
   "cell_type": "markdown",
   "id": "1419d6f3",
   "metadata": {},
   "source": [
    "**Вывод**\n",
    "\n",
    "Пропущеные значения появились вероятно из-за того что продавец просто не указал высоту потолка, заменил на медиану, оставил 2 знака после зяпятой. \n"
   ]
  },
  {
   "cell_type": "markdown",
   "id": "9b835dd0",
   "metadata": {},
   "source": [
    "### floors_total"
   ]
  },
  {
   "cell_type": "code",
   "execution_count": 12,
   "id": "6b42c63d",
   "metadata": {},
   "outputs": [
    {
     "data": {
      "text/plain": [
       "86"
      ]
     },
     "execution_count": 12,
     "metadata": {},
     "output_type": "execute_result"
    }
   ],
   "source": [
    "df['floors_total'].isna().sum()"
   ]
  },
  {
   "cell_type": "code",
   "execution_count": 13,
   "id": "ebf0c00e",
   "metadata": {},
   "outputs": [],
   "source": [
    "df.dropna(subset=['floors_total'],inplace=True)"
   ]
  },
  {
   "cell_type": "code",
   "execution_count": 14,
   "id": "2fcd5ad3",
   "metadata": {},
   "outputs": [
    {
     "data": {
      "text/plain": [
       "0"
      ]
     },
     "execution_count": 14,
     "metadata": {},
     "output_type": "execute_result"
    }
   ],
   "source": [
    "df['floors_total'].isna().sum()"
   ]
  },
  {
   "cell_type": "markdown",
   "id": "6ad1dfb6",
   "metadata": {},
   "source": [
    "**Вывод**\n",
    "\n",
    "удаляем пропущенные значения так как их всего 86, а подставлять среднее или медиану не корректно. "
   ]
  },
  {
   "cell_type": "markdown",
   "id": "9ed1fc3d",
   "metadata": {},
   "source": [
    "### living_area"
   ]
  },
  {
   "cell_type": "code",
   "execution_count": 15,
   "id": "71a08606",
   "metadata": {},
   "outputs": [
    {
     "data": {
      "text/plain": [
       "1870"
      ]
     },
     "execution_count": 15,
     "metadata": {},
     "output_type": "execute_result"
    }
   ],
   "source": [
    "df['living_area'].isna().sum()"
   ]
  },
  {
   "cell_type": "code",
   "execution_count": 16,
   "id": "2c59d303",
   "metadata": {},
   "outputs": [
    {
     "data": {
      "text/html": [
       "<div>\n",
       "<style scoped>\n",
       "    .dataframe tbody tr th:only-of-type {\n",
       "        vertical-align: middle;\n",
       "    }\n",
       "\n",
       "    .dataframe tbody tr th {\n",
       "        vertical-align: top;\n",
       "    }\n",
       "\n",
       "    .dataframe thead th {\n",
       "        text-align: right;\n",
       "    }\n",
       "</style>\n",
       "<table border=\"1\" class=\"dataframe\">\n",
       "  <thead>\n",
       "    <tr style=\"text-align: right;\">\n",
       "      <th></th>\n",
       "      <th>kitchen</th>\n",
       "      <th>living</th>\n",
       "    </tr>\n",
       "    <tr>\n",
       "      <th>rooms</th>\n",
       "      <th></th>\n",
       "      <th></th>\n",
       "    </tr>\n",
       "  </thead>\n",
       "  <tbody>\n",
       "    <tr>\n",
       "      <th>0</th>\n",
       "      <td>NaN</td>\n",
       "      <td>18.0</td>\n",
       "    </tr>\n",
       "    <tr>\n",
       "      <th>1</th>\n",
       "      <td>9.0</td>\n",
       "      <td>17.6</td>\n",
       "    </tr>\n",
       "    <tr>\n",
       "      <th>2</th>\n",
       "      <td>8.7</td>\n",
       "      <td>30.5</td>\n",
       "    </tr>\n",
       "    <tr>\n",
       "      <th>3</th>\n",
       "      <td>9.5</td>\n",
       "      <td>45.0</td>\n",
       "    </tr>\n",
       "    <tr>\n",
       "      <th>4</th>\n",
       "      <td>11.0</td>\n",
       "      <td>63.5</td>\n",
       "    </tr>\n",
       "    <tr>\n",
       "      <th>5</th>\n",
       "      <td>15.1</td>\n",
       "      <td>91.8</td>\n",
       "    </tr>\n",
       "    <tr>\n",
       "      <th>6</th>\n",
       "      <td>19.8</td>\n",
       "      <td>124.4</td>\n",
       "    </tr>\n",
       "    <tr>\n",
       "      <th>7</th>\n",
       "      <td>20.0</td>\n",
       "      <td>145.0</td>\n",
       "    </tr>\n",
       "    <tr>\n",
       "      <th>8</th>\n",
       "      <td>25.0</td>\n",
       "      <td>161.0</td>\n",
       "    </tr>\n",
       "    <tr>\n",
       "      <th>9</th>\n",
       "      <td>14.3</td>\n",
       "      <td>179.2</td>\n",
       "    </tr>\n",
       "    <tr>\n",
       "      <th>10</th>\n",
       "      <td>19.8</td>\n",
       "      <td>161.4</td>\n",
       "    </tr>\n",
       "    <tr>\n",
       "      <th>11</th>\n",
       "      <td>12.6</td>\n",
       "      <td>133.9</td>\n",
       "    </tr>\n",
       "    <tr>\n",
       "      <th>12</th>\n",
       "      <td>112.0</td>\n",
       "      <td>409.7</td>\n",
       "    </tr>\n",
       "    <tr>\n",
       "      <th>14</th>\n",
       "      <td>21.2</td>\n",
       "      <td>195.2</td>\n",
       "    </tr>\n",
       "    <tr>\n",
       "      <th>15</th>\n",
       "      <td>100.0</td>\n",
       "      <td>409.0</td>\n",
       "    </tr>\n",
       "    <tr>\n",
       "      <th>16</th>\n",
       "      <td>13.0</td>\n",
       "      <td>180.0</td>\n",
       "    </tr>\n",
       "    <tr>\n",
       "      <th>19</th>\n",
       "      <td>27.6</td>\n",
       "      <td>264.5</td>\n",
       "    </tr>\n",
       "  </tbody>\n",
       "</table>\n",
       "</div>"
      ],
      "text/plain": [
       "       kitchen  living\n",
       "rooms                 \n",
       "0          NaN    18.0\n",
       "1          9.0    17.6\n",
       "2          8.7    30.5\n",
       "3          9.5    45.0\n",
       "4         11.0    63.5\n",
       "5         15.1    91.8\n",
       "6         19.8   124.4\n",
       "7         20.0   145.0\n",
       "8         25.0   161.0\n",
       "9         14.3   179.2\n",
       "10        19.8   161.4\n",
       "11        12.6   133.9\n",
       "12       112.0   409.7\n",
       "14        21.2   195.2\n",
       "15       100.0   409.0\n",
       "16        13.0   180.0\n",
       "19        27.6   264.5"
      ]
     },
     "execution_count": 16,
     "metadata": {},
     "output_type": "execute_result"
    }
   ],
   "source": [
    "#таблица с медианными значениями по количеству комнат\n",
    "median = df.pivot_table(index='rooms', values=['living_area','kitchen_area'],aggfunc='median').round(1)\n",
    "median.columns = ['kitchen', 'living']\n",
    "median"
   ]
  },
  {
   "cell_type": "code",
   "execution_count": 17,
   "id": "8ec3618a",
   "metadata": {},
   "outputs": [],
   "source": [
    "# временно добавляем в таблицу медианы жилой площади и кухни сгруппированых по количеству комнат\n",
    "df = df.merge(median,on='rooms')"
   ]
  },
  {
   "cell_type": "code",
   "execution_count": 18,
   "id": "170dda0e",
   "metadata": {},
   "outputs": [
    {
     "data": {
      "text/plain": [
       "0"
      ]
     },
     "execution_count": 18,
     "metadata": {},
     "output_type": "execute_result"
    }
   ],
   "source": [
    "# замена пропусков в жилой площади\n",
    "df.loc[df['living_area'].isna(), 'living_area'] = df.loc[df['living_area'].isna(), 'living']\n",
    "df['living_area'].isna().sum()"
   ]
  },
  {
   "cell_type": "markdown",
   "id": "e3834947",
   "metadata": {},
   "source": [
    "На мой взгляд пропуски встречаются в тех параметрах, которые не обязательны к заполнению и их просто не заполняет продавец."
   ]
  },
  {
   "cell_type": "markdown",
   "id": "4d55b284",
   "metadata": {},
   "source": [
    "### is_apartment"
   ]
  },
  {
   "cell_type": "code",
   "execution_count": 19,
   "id": "e7e9b13a",
   "metadata": {},
   "outputs": [],
   "source": [
    "df['is_apartment']= df['is_apartment'].fillna(False)"
   ]
  },
  {
   "cell_type": "markdown",
   "id": "cbd5fa50",
   "metadata": {},
   "source": [
    "Пропуски заменил на False, так как скорее так же недочет продавца."
   ]
  },
  {
   "cell_type": "markdown",
   "id": "273a37c4",
   "metadata": {},
   "source": [
    "### kitchen_area"
   ]
  },
  {
   "cell_type": "code",
   "execution_count": 20,
   "id": "8a706369",
   "metadata": {},
   "outputs": [
    {
     "data": {
      "text/plain": [
       "194"
      ]
     },
     "execution_count": 20,
     "metadata": {},
     "output_type": "execute_result"
    }
   ],
   "source": [
    "# заполняем пропуски в площади кухни\n",
    "df.loc[df['kitchen_area'].isna(), 'kitchen_area'] = df.loc[df['kitchen_area'].isna(), 'kitchen']\n",
    "df['kitchen_area'].isna().sum()\n",
    "\n",
    "# удаляем столбцы kitchen и living так как они больше не нужны\n",
    "df = df.drop(['kitchen','living'], axis=1)\n",
    "df['kitchen_area'].isna().sum()"
   ]
  },
  {
   "cell_type": "code",
   "execution_count": 21,
   "id": "cecd6515",
   "metadata": {},
   "outputs": [
    {
     "data": {
      "text/html": [
       "<div>\n",
       "<style scoped>\n",
       "    .dataframe tbody tr th:only-of-type {\n",
       "        vertical-align: middle;\n",
       "    }\n",
       "\n",
       "    .dataframe tbody tr th {\n",
       "        vertical-align: top;\n",
       "    }\n",
       "\n",
       "    .dataframe thead th {\n",
       "        text-align: right;\n",
       "    }\n",
       "</style>\n",
       "<table border=\"1\" class=\"dataframe\">\n",
       "  <thead>\n",
       "    <tr style=\"text-align: right;\">\n",
       "      <th></th>\n",
       "      <th>total_images</th>\n",
       "      <th>last_price</th>\n",
       "      <th>total_area</th>\n",
       "      <th>first_day_exposition</th>\n",
       "      <th>rooms</th>\n",
       "      <th>ceiling_height</th>\n",
       "      <th>floors_total</th>\n",
       "      <th>living_area</th>\n",
       "      <th>floor</th>\n",
       "      <th>is_apartment</th>\n",
       "      <th>studio</th>\n",
       "      <th>open_plan</th>\n",
       "      <th>kitchen_area</th>\n",
       "      <th>balcony</th>\n",
       "      <th>locality_name</th>\n",
       "      <th>airports_nearest</th>\n",
       "      <th>city_centers_nearest</th>\n",
       "      <th>parks_around3000</th>\n",
       "      <th>parks_nearest</th>\n",
       "      <th>ponds_around3000</th>\n",
       "      <th>ponds_nearest</th>\n",
       "      <th>days_exposition</th>\n",
       "    </tr>\n",
       "  </thead>\n",
       "  <tbody>\n",
       "    <tr>\n",
       "      <th>23329</th>\n",
       "      <td>1</td>\n",
       "      <td>2450000.0</td>\n",
       "      <td>27.00</td>\n",
       "      <td>2017-03-30T00:00:00</td>\n",
       "      <td>0</td>\n",
       "      <td>2.65</td>\n",
       "      <td>24.0</td>\n",
       "      <td>15.50</td>\n",
       "      <td>2</td>\n",
       "      <td>False</td>\n",
       "      <td>True</td>\n",
       "      <td>False</td>\n",
       "      <td>NaN</td>\n",
       "      <td>2.0</td>\n",
       "      <td>посёлок Мурино</td>\n",
       "      <td>NaN</td>\n",
       "      <td>NaN</td>\n",
       "      <td>NaN</td>\n",
       "      <td>NaN</td>\n",
       "      <td>NaN</td>\n",
       "      <td>NaN</td>\n",
       "      <td>181.0</td>\n",
       "    </tr>\n",
       "    <tr>\n",
       "      <th>23330</th>\n",
       "      <td>4</td>\n",
       "      <td>2320000.0</td>\n",
       "      <td>25.00</td>\n",
       "      <td>2017-09-27T00:00:00</td>\n",
       "      <td>0</td>\n",
       "      <td>2.65</td>\n",
       "      <td>14.0</td>\n",
       "      <td>17.00</td>\n",
       "      <td>1</td>\n",
       "      <td>False</td>\n",
       "      <td>False</td>\n",
       "      <td>True</td>\n",
       "      <td>NaN</td>\n",
       "      <td>0.0</td>\n",
       "      <td>деревня Кудрово</td>\n",
       "      <td>NaN</td>\n",
       "      <td>NaN</td>\n",
       "      <td>NaN</td>\n",
       "      <td>NaN</td>\n",
       "      <td>NaN</td>\n",
       "      <td>NaN</td>\n",
       "      <td>45.0</td>\n",
       "    </tr>\n",
       "    <tr>\n",
       "      <th>23331</th>\n",
       "      <td>8</td>\n",
       "      <td>2480000.0</td>\n",
       "      <td>27.11</td>\n",
       "      <td>2018-03-12T00:00:00</td>\n",
       "      <td>0</td>\n",
       "      <td>2.65</td>\n",
       "      <td>17.0</td>\n",
       "      <td>24.75</td>\n",
       "      <td>4</td>\n",
       "      <td>False</td>\n",
       "      <td>True</td>\n",
       "      <td>False</td>\n",
       "      <td>NaN</td>\n",
       "      <td>2.0</td>\n",
       "      <td>Санкт-Петербург</td>\n",
       "      <td>38171.0</td>\n",
       "      <td>15015.0</td>\n",
       "      <td>0.0</td>\n",
       "      <td>NaN</td>\n",
       "      <td>2.0</td>\n",
       "      <td>982.0</td>\n",
       "      <td>64.0</td>\n",
       "    </tr>\n",
       "    <tr>\n",
       "      <th>23332</th>\n",
       "      <td>0</td>\n",
       "      <td>3375000.0</td>\n",
       "      <td>34.40</td>\n",
       "      <td>2017-03-28T00:00:00</td>\n",
       "      <td>0</td>\n",
       "      <td>2.65</td>\n",
       "      <td>26.0</td>\n",
       "      <td>24.30</td>\n",
       "      <td>19</td>\n",
       "      <td>False</td>\n",
       "      <td>False</td>\n",
       "      <td>True</td>\n",
       "      <td>NaN</td>\n",
       "      <td>1.0</td>\n",
       "      <td>посёлок Парголово</td>\n",
       "      <td>53115.0</td>\n",
       "      <td>19292.0</td>\n",
       "      <td>0.0</td>\n",
       "      <td>NaN</td>\n",
       "      <td>1.0</td>\n",
       "      <td>593.0</td>\n",
       "      <td>430.0</td>\n",
       "    </tr>\n",
       "    <tr>\n",
       "      <th>23333</th>\n",
       "      <td>2</td>\n",
       "      <td>1850000.0</td>\n",
       "      <td>25.00</td>\n",
       "      <td>2019-02-20T00:00:00</td>\n",
       "      <td>0</td>\n",
       "      <td>2.65</td>\n",
       "      <td>10.0</td>\n",
       "      <td>18.00</td>\n",
       "      <td>7</td>\n",
       "      <td>False</td>\n",
       "      <td>True</td>\n",
       "      <td>False</td>\n",
       "      <td>NaN</td>\n",
       "      <td>NaN</td>\n",
       "      <td>посёлок Шушары</td>\n",
       "      <td>NaN</td>\n",
       "      <td>NaN</td>\n",
       "      <td>NaN</td>\n",
       "      <td>NaN</td>\n",
       "      <td>NaN</td>\n",
       "      <td>NaN</td>\n",
       "      <td>29.0</td>\n",
       "    </tr>\n",
       "  </tbody>\n",
       "</table>\n",
       "</div>"
      ],
      "text/plain": [
       "       total_images  last_price  total_area first_day_exposition  rooms  \\\n",
       "23329             1   2450000.0       27.00  2017-03-30T00:00:00      0   \n",
       "23330             4   2320000.0       25.00  2017-09-27T00:00:00      0   \n",
       "23331             8   2480000.0       27.11  2018-03-12T00:00:00      0   \n",
       "23332             0   3375000.0       34.40  2017-03-28T00:00:00      0   \n",
       "23333             2   1850000.0       25.00  2019-02-20T00:00:00      0   \n",
       "\n",
       "       ceiling_height  floors_total  living_area  floor  is_apartment  studio  \\\n",
       "23329            2.65          24.0        15.50      2         False    True   \n",
       "23330            2.65          14.0        17.00      1         False   False   \n",
       "23331            2.65          17.0        24.75      4         False    True   \n",
       "23332            2.65          26.0        24.30     19         False   False   \n",
       "23333            2.65          10.0        18.00      7         False    True   \n",
       "\n",
       "       open_plan  kitchen_area  balcony      locality_name  airports_nearest  \\\n",
       "23329      False           NaN      2.0     посёлок Мурино               NaN   \n",
       "23330       True           NaN      0.0    деревня Кудрово               NaN   \n",
       "23331      False           NaN      2.0    Санкт-Петербург           38171.0   \n",
       "23332       True           NaN      1.0  посёлок Парголово           53115.0   \n",
       "23333      False           NaN      NaN     посёлок Шушары               NaN   \n",
       "\n",
       "       city_centers_nearest  parks_around3000  parks_nearest  \\\n",
       "23329                   NaN               NaN            NaN   \n",
       "23330                   NaN               NaN            NaN   \n",
       "23331               15015.0               0.0            NaN   \n",
       "23332               19292.0               0.0            NaN   \n",
       "23333                   NaN               NaN            NaN   \n",
       "\n",
       "       ponds_around3000  ponds_nearest  days_exposition  \n",
       "23329               NaN            NaN            181.0  \n",
       "23330               NaN            NaN             45.0  \n",
       "23331               2.0          982.0             64.0  \n",
       "23332               1.0          593.0            430.0  \n",
       "23333               NaN            NaN             29.0  "
      ]
     },
     "execution_count": 21,
     "metadata": {},
     "output_type": "execute_result"
    }
   ],
   "source": [
    "df[df['kitchen_area'].isna()].head()"
   ]
  },
  {
   "cell_type": "code",
   "execution_count": 22,
   "id": "c54b96df",
   "metadata": {},
   "outputs": [
    {
     "data": {
      "text/plain": [
       "0"
      ]
     },
     "execution_count": 22,
     "metadata": {},
     "output_type": "execute_result"
    }
   ],
   "source": [
    "df['kitchen_area'] = df['kitchen_area'].fillna(df['kitchen_area'].median())\n",
    "df['kitchen_area'].isna().sum()"
   ]
  },
  {
   "cell_type": "markdown",
   "id": "a44f0bd2",
   "metadata": {},
   "source": [
    "заполняем оставшиеся пропуски в студиях общей медианой"
   ]
  },
  {
   "cell_type": "markdown",
   "id": "1a93dfdd",
   "metadata": {},
   "source": [
    "### balcony"
   ]
  },
  {
   "cell_type": "code",
   "execution_count": 23,
   "id": "08f7fc47",
   "metadata": {},
   "outputs": [
    {
     "data": {
      "text/plain": [
       "11480"
      ]
     },
     "execution_count": 23,
     "metadata": {},
     "output_type": "execute_result"
    }
   ],
   "source": [
    "df['balcony'].isna().sum()"
   ]
  },
  {
   "cell_type": "code",
   "execution_count": 24,
   "id": "df4f2af8",
   "metadata": {},
   "outputs": [
    {
     "data": {
      "text/plain": [
       "0"
      ]
     },
     "execution_count": 24,
     "metadata": {},
     "output_type": "execute_result"
    }
   ],
   "source": [
    "df['balcony'] = df['balcony'].fillna(0)\n",
    "df['balcony'].isna().sum()"
   ]
  },
  {
   "cell_type": "markdown",
   "id": "2940fa8a",
   "metadata": {},
   "source": [
    "**Вывод**\n",
    "\n",
    "пропуски в балконах вероятно означают их отсутствие, замена на 0"
   ]
  },
  {
   "cell_type": "markdown",
   "id": "d2986722",
   "metadata": {},
   "source": [
    "### locality_name"
   ]
  },
  {
   "cell_type": "code",
   "execution_count": 25,
   "id": "1db93273",
   "metadata": {},
   "outputs": [
    {
     "data": {
      "text/plain": [
       "48"
      ]
     },
     "execution_count": 25,
     "metadata": {},
     "output_type": "execute_result"
    }
   ],
   "source": [
    "df['locality_name'].isna().sum()"
   ]
  },
  {
   "cell_type": "code",
   "execution_count": 26,
   "id": "42e38062",
   "metadata": {},
   "outputs": [],
   "source": [
    "df.dropna(subset=['locality_name'], inplace=True)"
   ]
  },
  {
   "cell_type": "code",
   "execution_count": 27,
   "id": "840956c9",
   "metadata": {},
   "outputs": [
    {
     "data": {
      "text/plain": [
       "0"
      ]
     },
     "execution_count": 27,
     "metadata": {},
     "output_type": "execute_result"
    }
   ],
   "source": [
    "df['locality_name'].isna().sum()"
   ]
  },
  {
   "cell_type": "code",
   "execution_count": 28,
   "id": "0397f54a",
   "metadata": {},
   "outputs": [
    {
     "data": {
      "text/plain": [
       "array(['Бокситогорск', 'Волосово', 'Волхов', 'Всеволожск', 'Выборг',\n",
       "       'Высоцк', 'Гатчина', 'Зеленогорск', 'Ивангород', 'Каменногорск',\n",
       "       'Кингисепп', 'Кириши', 'Кировск', 'Колпино', 'Коммунар',\n",
       "       'Красное Село', 'Кронштадт', 'Кудрово', 'Лодейное Поле',\n",
       "       'Ломоносов', 'Луга', 'Любань', 'Мурино', 'Никольское',\n",
       "       'Новая Ладога', 'Отрадное', 'Павловск', 'Петергоф', 'Пикалёво',\n",
       "       'Подпорожье', 'Приморск', 'Приозерск', 'Пушкин', 'Санкт-Петербург',\n",
       "       'Светогорск', 'Сертолово', 'Сестрорецк', 'Сланцы', 'Сосновый Бор',\n",
       "       'Сясьстрой', 'Тихвин', 'Тосно', 'Шлиссельбург',\n",
       "       'городской поселок Большая Ижора', 'городской поселок Янино-1',\n",
       "       'городской посёлок Будогощь', 'городской посёлок Виллози',\n",
       "       'городской посёлок Лесогорский', 'городской посёлок Мга',\n",
       "       'городской посёлок Назия', 'городской посёлок Новоселье',\n",
       "       'городской посёлок Павлово', 'городской посёлок Рощино',\n",
       "       'городской посёлок Свирьстрой', 'городской посёлок Советский',\n",
       "       'городской посёлок Фёдоровское', 'городской посёлок Янино-1',\n",
       "       'деревня Агалатово', 'деревня Аро', 'деревня Батово',\n",
       "       'деревня Бегуницы', 'деревня Белогорка', 'деревня Большая Вруда',\n",
       "       'деревня Большая Пустомержа', 'деревня Большие Колпаны',\n",
       "       'деревня Большое Рейзино', 'деревня Большой Сабск', 'деревня Бор',\n",
       "       'деревня Борисова Грива', 'деревня Ваганово', 'деревня Вартемяги',\n",
       "       'деревня Вахнова Кара', 'деревня Выскатка', 'деревня Гарболово',\n",
       "       'деревня Глинка', 'деревня Горбунки', 'деревня Гостилицы',\n",
       "       'деревня Заклинье', 'деревня Заневка', 'деревня Зимитицы',\n",
       "       'деревня Извара', 'деревня Иссад', 'деревня Калитино',\n",
       "       'деревня Кальтино', 'деревня Камышовка', 'деревня Каськово',\n",
       "       'деревня Келози', 'деревня Кипень', 'деревня Кисельня',\n",
       "       'деревня Колтуши', 'деревня Коркино', 'деревня Котлы',\n",
       "       'деревня Кривко', 'деревня Кудрово', 'деревня Кузьмолово',\n",
       "       'деревня Курковицы', 'деревня Куровицы', 'деревня Куттузи',\n",
       "       'деревня Лаврики', 'деревня Лаголово', 'деревня Лампово',\n",
       "       'деревня Лесколово', 'деревня Лопухинка', 'деревня Лупполово',\n",
       "       'деревня Малая Романовка', 'деревня Малое Верево',\n",
       "       'деревня Малое Карлино', 'деревня Малые Колпаны',\n",
       "       'деревня Мануйлово', 'деревня Меньково', 'деревня Мины',\n",
       "       'деревня Мистолово', 'деревня Ненимяки', 'деревня Нижние Осельки',\n",
       "       'деревня Нижняя', 'деревня Низино', 'деревня Новое Девяткино',\n",
       "       'деревня Новолисино', 'деревня Нурма', 'деревня Оржицы',\n",
       "       'деревня Парицы', 'деревня Пельгора', 'деревня Пеники',\n",
       "       'деревня Пижма', 'деревня Пикколово', 'деревня Пудомяги',\n",
       "       'деревня Пустынка', 'деревня Пчева', 'деревня Рабитицы',\n",
       "       'деревня Разбегаево', 'деревня Раздолье', 'деревня Разметелево',\n",
       "       'деревня Рапполово', 'деревня Реброво', 'деревня Русско',\n",
       "       'деревня Сижно', 'деревня Снегирёвка', 'деревня Старая',\n",
       "       'деревня Старая Пустошь', 'деревня Старое Хинколово',\n",
       "       'деревня Старополье', 'деревня Старосиверская',\n",
       "       'деревня Старые Бегуницы', 'деревня Суоранда',\n",
       "       'деревня Сяськелево', 'деревня Тарасово', 'деревня Терпилицы',\n",
       "       'деревня Тихковицы', 'деревня Тойворово', 'деревня Торосово',\n",
       "       'деревня Торошковичи', 'деревня Трубников Бор',\n",
       "       'деревня Фалилеево', 'деревня Фёдоровское', 'деревня Хапо-Ое',\n",
       "       'деревня Хязельки', 'деревня Чудской Бор', 'деревня Шпаньково',\n",
       "       'деревня Щеглово', 'деревня Юкки', 'деревня Ялгино',\n",
       "       'деревня Яльгелево', 'деревня Ям-Тесово',\n",
       "       'коттеджный поселок Кивеннапа Север', 'коттеджный поселок Счастье',\n",
       "       'коттеджный посёлок Лесное', 'поселок Аннино', 'поселок Барышево',\n",
       "       'поселок Бугры', 'поселок Возрождение', 'поселок Войсковицы',\n",
       "       'поселок Володарское', 'поселок Гаврилово', 'поселок Гарболово',\n",
       "       'поселок Гладкое', 'поселок Глажево', 'поселок Глебычево',\n",
       "       'поселок Гончарово', 'поселок Громово', 'поселок Дружноселье',\n",
       "       'поселок Елизаветино', 'поселок Жилгородок', 'поселок Жилпосёлок',\n",
       "       'поселок Житково', 'поселок Заводской', 'поселок Запорожское',\n",
       "       'поселок Зимитицы', 'поселок Ильичёво', 'поселок Калитино',\n",
       "       'поселок Каложицы', 'поселок Кингисеппский', 'поселок Кирпичное',\n",
       "       'поселок Кобралово', 'поселок Кобринское', 'поселок Коммунары',\n",
       "       'поселок Коробицыно', 'поселок Котельский',\n",
       "       'поселок Красная Долина', 'поселок Красносельское',\n",
       "       'поселок Лесное', 'поселок Лисий Нос', 'поселок Лукаши',\n",
       "       'поселок Любань', 'поселок Мельниково', 'поселок Мичуринское',\n",
       "       'поселок Молодцово', 'поселок Мурино', 'поселок Новый Свет',\n",
       "       'поселок Новый Учхоз', 'поселок Оредеж',\n",
       "       'поселок Пансионат Зелёный Бор', 'поселок Первомайское',\n",
       "       'поселок Перово', 'поселок Петровское', 'поселок Победа',\n",
       "       'поселок Поляны', 'поселок Почап', 'поселок Починок',\n",
       "       'поселок Пушное', 'поселок Пчевжа', 'поселок Рабитицы',\n",
       "       'поселок Романовка', 'поселок Ромашки', 'поселок Рябово',\n",
       "       'поселок Севастьяново', 'поселок Селезнёво', 'поселок Сельцо',\n",
       "       'поселок Семиозерье', 'поселок Семрино', 'поселок Серебрянский',\n",
       "       'поселок Совхозный', 'поселок Старая Малукса',\n",
       "       'поселок Стеклянный', 'поселок Сумино', 'поселок Суходолье',\n",
       "       'поселок Тельмана', 'поселок Терволово', 'поселок Торковичи',\n",
       "       'поселок Тёсово-4', 'поселок Углово', 'поселок Усть-Луга',\n",
       "       'поселок Ушаки', 'поселок Цвелодубово', 'поселок Цвылёво',\n",
       "       'поселок городского типа Большая Ижора',\n",
       "       'поселок городского типа Вырица',\n",
       "       'поселок городского типа Дружная Горка',\n",
       "       'поселок городского типа Дубровка',\n",
       "       'поселок городского типа Ефимовский',\n",
       "       'поселок городского типа Кондратьево',\n",
       "       'поселок городского типа Красный Бор',\n",
       "       'поселок городского типа Кузьмоловский',\n",
       "       'поселок городского типа Лебяжье',\n",
       "       'поселок городского типа Лесогорский',\n",
       "       'поселок городского типа Назия',\n",
       "       'поселок городского типа Никольский',\n",
       "       'поселок городского типа Приладожский',\n",
       "       'поселок городского типа Рахья', 'поселок городского типа Рощино',\n",
       "       'поселок городского типа Рябово',\n",
       "       'поселок городского типа Синявино',\n",
       "       'поселок городского типа Советский',\n",
       "       'поселок городского типа Токсово',\n",
       "       'поселок городского типа Форносово',\n",
       "       'поселок городского типа имени Свердлова',\n",
       "       'поселок станции Вещево', 'поселок станции Корнево',\n",
       "       'поселок станции Лужайка', 'поселок станции Приветнинское',\n",
       "       'посёлок Александровская', 'посёлок Алексеевка', 'посёлок Аннино',\n",
       "       'посёлок Белоостров', 'посёлок Бугры', 'посёлок Возрождение',\n",
       "       'посёлок Войскорово', 'посёлок Высокоключевой',\n",
       "       'посёлок Гаврилово', 'посёлок Дзержинского', 'посёлок Жилгородок',\n",
       "       'посёлок Ильичёво', 'посёлок Кикерино', 'посёлок Кобралово',\n",
       "       'посёлок Коробицыно', 'посёлок Левашово', 'посёлок Ленинское',\n",
       "       'посёлок Лисий Нос', 'посёлок Мельниково', 'посёлок Металлострой',\n",
       "       'посёлок Мичуринское', 'посёлок Молодёжное', 'посёлок Мурино',\n",
       "       'посёлок Мыза-Ивановка', 'посёлок Новогорелово',\n",
       "       'посёлок Новый Свет', 'посёлок Пансионат Зелёный Бор',\n",
       "       'посёлок Парголово', 'посёлок Перово', 'посёлок Песочный',\n",
       "       'посёлок Петро-Славянка', 'посёлок Петровское',\n",
       "       'посёлок Платформа 69-й километр', 'посёлок Плодовое',\n",
       "       'посёлок Плоское', 'посёлок Победа', 'посёлок Поляны',\n",
       "       'посёлок Понтонный', 'посёлок Пригородный', 'посёлок Пудость',\n",
       "       'посёлок Репино', 'посёлок Ропша', 'посёлок Сапёрное',\n",
       "       'посёлок Сапёрный', 'посёлок Сосново', 'посёлок Старая Малукса',\n",
       "       'посёлок Стеклянный', 'посёлок Стрельна', 'посёлок Суйда',\n",
       "       'посёлок Сумино', 'посёлок Тельмана', 'посёлок Терволово',\n",
       "       'посёлок Торфяное', 'посёлок Усть-Ижора', 'посёлок Усть-Луга',\n",
       "       'посёлок Форт Красная Горка', 'посёлок Шугозеро', 'посёлок Шушары',\n",
       "       'посёлок Щеглово', 'посёлок городского типа Важины',\n",
       "       'посёлок городского типа Вознесенье',\n",
       "       'посёлок городского типа Вырица',\n",
       "       'посёлок городского типа Красный Бор',\n",
       "       'посёлок городского типа Кузнечное',\n",
       "       'посёлок городского типа Кузьмоловский',\n",
       "       'посёлок городского типа Лебяжье', 'посёлок городского типа Мга',\n",
       "       'посёлок городского типа Павлово',\n",
       "       'посёлок городского типа Рощино', 'посёлок городского типа Рябово',\n",
       "       'посёлок городского типа Сиверский',\n",
       "       'посёлок городского типа Тайцы', 'посёлок городского типа Токсово',\n",
       "       'посёлок городского типа Ульяновка',\n",
       "       'посёлок городского типа Форносово',\n",
       "       'посёлок городского типа имени Морозова',\n",
       "       'посёлок городского типа имени Свердлова',\n",
       "       'посёлок при железнодорожной станции Вещево',\n",
       "       'посёлок при железнодорожной станции Приветнинское',\n",
       "       'посёлок станции Громово', 'посёлок станции Свирь',\n",
       "       'садоводческое некоммерческое товарищество Лесная Поляна',\n",
       "       'садовое товарищество Новая Ропша',\n",
       "       'садовое товарищество Приладожский', 'садовое товарищество Рахья',\n",
       "       'садовое товарищество Садко', 'село Копорье', 'село Никольское',\n",
       "       'село Павлово', 'село Паша', 'село Путилово', 'село Рождествено',\n",
       "       'село Русско-Высоцкое', 'село Старая Ладога', 'село Шум'],\n",
       "      dtype=object)"
      ]
     },
     "execution_count": 28,
     "metadata": {},
     "output_type": "execute_result"
    }
   ],
   "source": [
    "df['locality_name'].sort_values().unique()"
   ]
  },
  {
   "cell_type": "markdown",
   "id": "ba748702",
   "metadata": {},
   "source": [
    "**Вывод**\n",
    "\n",
    "Пропуски в локациях нечем заменить, их всего 48- поэтому удалим. Что то делать с названиями не вижу смысла, поэтому так и оставим."
   ]
  },
  {
   "cell_type": "markdown",
   "id": "e2fcdeb9",
   "metadata": {},
   "source": [
    "### cityCenters_nearest"
   ]
  },
  {
   "cell_type": "code",
   "execution_count": 29,
   "id": "deb6e608",
   "metadata": {},
   "outputs": [
    {
     "data": {
      "text/plain": [
       "5501"
      ]
     },
     "execution_count": 29,
     "metadata": {},
     "output_type": "execute_result"
    }
   ],
   "source": [
    "df['city_centers_nearest'].isna().sum()"
   ]
  },
  {
   "cell_type": "code",
   "execution_count": 30,
   "id": "161185b0",
   "metadata": {},
   "outputs": [
    {
     "data": {
      "text/plain": [
       "total_images                0\n",
       "last_price                  0\n",
       "total_area                  0\n",
       "first_day_exposition        0\n",
       "rooms                       0\n",
       "ceiling_height              0\n",
       "floors_total                0\n",
       "living_area                 0\n",
       "floor                       0\n",
       "is_apartment                0\n",
       "studio                      0\n",
       "open_plan                   0\n",
       "kitchen_area                0\n",
       "balcony                     0\n",
       "locality_name               0\n",
       "airports_nearest         5524\n",
       "city_centers_nearest     5501\n",
       "parks_around3000         5500\n",
       "parks_nearest           15535\n",
       "ponds_around3000         5500\n",
       "ponds_nearest           14529\n",
       "days_exposition          3171\n",
       "dtype: int64"
      ]
     },
     "execution_count": 30,
     "metadata": {},
     "output_type": "execute_result"
    }
   ],
   "source": [
    "df.isna().sum()"
   ]
  },
  {
   "cell_type": "markdown",
   "id": "bace76c4",
   "metadata": {},
   "source": [
    "Заполнение пропусков в данном столбце исказит результат. Так как квартира фактически может находиться на расстоянии 50 км от центра, а мы поставим например 5."
   ]
  },
  {
   "cell_type": "markdown",
   "id": "fda7f35a",
   "metadata": {},
   "source": [
    "### days_exposition ##"
   ]
  },
  {
   "cell_type": "code",
   "execution_count": 31,
   "id": "8b820f2c",
   "metadata": {},
   "outputs": [
    {
     "data": {
      "text/plain": [
       "3171"
      ]
     },
     "execution_count": 31,
     "metadata": {},
     "output_type": "execute_result"
    }
   ],
   "source": [
    "df['days_exposition'].isna().sum()"
   ]
  },
  {
   "cell_type": "markdown",
   "id": "83da1e27",
   "metadata": {},
   "source": [
    "вероятно пропуски обозначают не проданные позиции.\n",
    "<br>\n",
    "<br>\n",
    "<br>\n",
    "<br>\n",
    "- airports_nearest  \n",
    "- parks_around3000 \n",
    "- parks_nearest \n",
    "- ponds_around3000 \n",
    "- ponds_nearest<br>\n",
    "\n",
    "в задании нигде не упоминаются, поэтому нет смысла им заниматься"
   ]
  },
  {
   "cell_type": "markdown",
   "id": "f1200b3e",
   "metadata": {},
   "source": [
    "# Меняем тип данных"
   ]
  },
  {
   "cell_type": "code",
   "execution_count": 32,
   "id": "1ef75652",
   "metadata": {},
   "outputs": [
    {
     "name": "stdout",
     "output_type": "stream",
     "text": [
      "<class 'pandas.core.frame.DataFrame'>\n",
      "Int64Index: 23565 entries, 0 to 23612\n",
      "Data columns (total 22 columns):\n",
      " #   Column                Non-Null Count  Dtype  \n",
      "---  ------                --------------  -----  \n",
      " 0   total_images          23565 non-null  int64  \n",
      " 1   last_price            23565 non-null  float64\n",
      " 2   total_area            23565 non-null  float64\n",
      " 3   first_day_exposition  23565 non-null  object \n",
      " 4   rooms                 23565 non-null  int64  \n",
      " 5   ceiling_height        23565 non-null  float64\n",
      " 6   floors_total          23565 non-null  float64\n",
      " 7   living_area           23565 non-null  float64\n",
      " 8   floor                 23565 non-null  int64  \n",
      " 9   is_apartment          23565 non-null  bool   \n",
      " 10  studio                23565 non-null  bool   \n",
      " 11  open_plan             23565 non-null  bool   \n",
      " 12  kitchen_area          23565 non-null  float64\n",
      " 13  balcony               23565 non-null  float64\n",
      " 14  locality_name         23565 non-null  object \n",
      " 15  airports_nearest      18041 non-null  float64\n",
      " 16  city_centers_nearest  18064 non-null  float64\n",
      " 17  parks_around3000      18065 non-null  float64\n",
      " 18  parks_nearest         8030 non-null   float64\n",
      " 19  ponds_around3000      18065 non-null  float64\n",
      " 20  ponds_nearest         9036 non-null   float64\n",
      " 21  days_exposition       20394 non-null  float64\n",
      "dtypes: bool(3), float64(14), int64(3), object(2)\n",
      "memory usage: 3.7+ MB\n"
     ]
    }
   ],
   "source": [
    "df.info()"
   ]
  },
  {
   "cell_type": "code",
   "execution_count": 33,
   "id": "6174e9e8",
   "metadata": {},
   "outputs": [],
   "source": [
    "df = df.astype({'total_images':'int8', 'last_price':'int32', \n",
    "                'total_area':'int16', 'first_day_exposition':'datetime64', \n",
    "                'rooms':'int8', 'ceiling_height':'float16',\n",
    "                'floors_total':'int8', 'living_area':'float16',\n",
    "                'floor':'int8', 'is_apartment':'bool', \n",
    "                'studio':'bool', 'open_plan': 'bool',\n",
    "                'kitchen_area':'float16', 'balcony':'int8',\n",
    "                'locality_name':'object', 'days_exposition':'int16',\n",
    "                'city_centers_nearest':'float16'}, errors='ignore')"
   ]
  },
  {
   "cell_type": "code",
   "execution_count": 34,
   "id": "92eda356",
   "metadata": {},
   "outputs": [
    {
     "name": "stdout",
     "output_type": "stream",
     "text": [
      "<class 'pandas.core.frame.DataFrame'>\n",
      "Int64Index: 23565 entries, 0 to 23612\n",
      "Data columns (total 22 columns):\n",
      " #   Column                Non-Null Count  Dtype         \n",
      "---  ------                --------------  -----         \n",
      " 0   total_images          23565 non-null  int8          \n",
      " 1   last_price            23565 non-null  int32         \n",
      " 2   total_area            23565 non-null  int16         \n",
      " 3   first_day_exposition  23565 non-null  datetime64[ns]\n",
      " 4   rooms                 23565 non-null  int8          \n",
      " 5   ceiling_height        23565 non-null  float16       \n",
      " 6   floors_total          23565 non-null  int8          \n",
      " 7   living_area           23565 non-null  float16       \n",
      " 8   floor                 23565 non-null  int8          \n",
      " 9   is_apartment          23565 non-null  bool          \n",
      " 10  studio                23565 non-null  bool          \n",
      " 11  open_plan             23565 non-null  bool          \n",
      " 12  kitchen_area          23565 non-null  float16       \n",
      " 13  balcony               23565 non-null  int8          \n",
      " 14  locality_name         23565 non-null  object        \n",
      " 15  airports_nearest      18041 non-null  float64       \n",
      " 16  city_centers_nearest  18064 non-null  float16       \n",
      " 17  parks_around3000      18065 non-null  float64       \n",
      " 18  parks_nearest         8030 non-null   float64       \n",
      " 19  ponds_around3000      18065 non-null  float64       \n",
      " 20  ponds_nearest         9036 non-null   float64       \n",
      " 21  days_exposition       20394 non-null  float64       \n",
      "dtypes: bool(3), datetime64[ns](1), float16(4), float64(6), int16(1), int32(1), int8(5), object(1)\n",
      "memory usage: 2.1+ MB\n"
     ]
    }
   ],
   "source": [
    "df.info()"
   ]
  },
  {
   "cell_type": "code",
   "execution_count": 35,
   "id": "504ab293",
   "metadata": {},
   "outputs": [
    {
     "data": {
      "text/plain": [
       "'Экономия памяти: 57%'"
      ]
     },
     "execution_count": 35,
     "metadata": {},
     "output_type": "execute_result"
    }
   ],
   "source": [
    "\"Экономия памяти: {0:.0%}\".format(2.1 / 3.7)"
   ]
  },
  {
   "cell_type": "markdown",
   "id": "6ea98e48",
   "metadata": {},
   "source": [
    "- Заменил тип на int, так как количество балконов и этажей не может быть не целым, хотя это ни на что не влияет.\n",
    "- Так как время округлено, заменил просто на дату, без времени."
   ]
  },
  {
   "cell_type": "markdown",
   "id": "9597152d",
   "metadata": {},
   "source": [
    "# Добавляем столбцы"
   ]
  },
  {
   "cell_type": "code",
   "execution_count": 36,
   "id": "28861ae1",
   "metadata": {},
   "outputs": [],
   "source": [
    "#группировка по этажам\n",
    "def a(row):\n",
    "    if row['floor'] == 1:\n",
    "         return 'первый'\n",
    "    elif row['floor'] == row['floors_total']:\n",
    "        return 'последний'\n",
    "    \n",
    "    return 'другой'"
   ]
  },
  {
   "cell_type": "code",
   "execution_count": 37,
   "id": "a644dcbd",
   "metadata": {},
   "outputs": [],
   "source": [
    "df['price_m2'] = df['last_price'] // df['total_area']\n",
    "df['floor_name'] = df.apply(a, axis=1)\n",
    "df['day'] = df['first_day_exposition'].dt.weekday\n",
    "df['month'] = df['first_day_exposition'].dt.month\n",
    "df['year'] = df['first_day_exposition'].dt.year\n",
    "df['total_living'] = (df['living_area'] / df['total_area']).round(2)\n",
    "df['total_kitchen'] = (df['kitchen_area'] / df['total_area']).round(2)\n",
    "df['centr_km'] = (df['city_centers_nearest'] / 1000).round()"
   ]
  },
  {
   "cell_type": "code",
   "execution_count": 38,
   "id": "4543bb4d",
   "metadata": {},
   "outputs": [],
   "source": [
    "df = df.reset_index(drop=True)"
   ]
  },
  {
   "cell_type": "markdown",
   "id": "e13840d3",
   "metadata": {},
   "source": [
    "# Исследовательский анализ"
   ]
  },
  {
   "cell_type": "markdown",
   "id": "d098d652",
   "metadata": {},
   "source": [
    "## Количество объявлений сгруппированых по площади"
   ]
  },
  {
   "cell_type": "code",
   "execution_count": 39,
   "id": "b6963457",
   "metadata": {},
   "outputs": [
    {
     "data": {
      "image/png": "[encoded data removed]",
      "text/plain": [
       "<Figure size 432x288 with 1 Axes>"
      ]
     },
     "metadata": {
      "needs_background": "light"
     },
     "output_type": "display_data"
    },
    {
     "data": {
      "image/png": "[encoded data removed]",
      "text/plain": [
       "<Figure size 432x288 with 1 Axes>"
      ]
     },
     "metadata": {
      "needs_background": "light"
     },
     "output_type": "display_data"
    },
    {
     "data": {
      "text/plain": [
       "count    23565.000000\n",
       "mean        60.095226\n",
       "std         35.668758\n",
       "min         12.000000\n",
       "25%         40.000000\n",
       "50%         52.000000\n",
       "75%         69.000000\n",
       "max        900.000000\n",
       "Name: total_area, dtype: float64"
      ]
     },
     "execution_count": 39,
     "metadata": {},
     "output_type": "execute_result"
    }
   ],
   "source": [
    "df['total_area'].plot(kind='hist',bins=50,title='Общая площадь', grid=True)\n",
    "plt.xlabel('площадь (м2)')\n",
    "plt.ylabel('Количество объявлений')\n",
    "plt.show()\n",
    "df.boxplot(column='total_area')\n",
    "plt.ylabel('площадь (м2)')\n",
    "plt.ylim(0,150)\n",
    "plt.show()\n",
    "df['total_area'].describe()"
   ]
  },
  {
   "cell_type": "code",
   "execution_count": 40,
   "id": "a09c21c5",
   "metadata": {},
   "outputs": [
    {
     "data": {
      "text/plain": [
       "22520"
      ]
     },
     "execution_count": 40,
     "metadata": {},
     "output_type": "execute_result"
    }
   ],
   "source": [
    "# добавляем новый датафрейм с отсортированными данными, \n",
    "# сортировку буду проводить пошагово, после построения и изучения графиков \n",
    "df_1 = df.query('total_area <= 120')\n",
    "len(df_1)"
   ]
  },
  {
   "cell_type": "markdown",
   "id": "57f6dcb0",
   "metadata": {},
   "source": [
    "Из диаграммы размаха видно что площадь больше 115 входит в число редких или аномальных. Взял небольшой запас и сделал срез до 120"
   ]
  },
  {
   "cell_type": "markdown",
   "id": "1eea7314",
   "metadata": {},
   "source": [
    "## Количество объявлений сгруппированых по стоимости"
   ]
  },
  {
   "cell_type": "code",
   "execution_count": 41,
   "id": "934f7c15",
   "metadata": {},
   "outputs": [
    {
     "data": {
      "image/png": "[encoded data removed]",
      "text/plain": [
       "<Figure size 432x288 with 1 Axes>"
      ]
     },
     "metadata": {
      "needs_background": "light"
     },
     "output_type": "display_data"
    },
    {
     "data": {
      "image/png": "[encoded data removed]",
      "text/plain": [
       "<Figure size 432x288 with 1 Axes>"
      ]
     },
     "metadata": {
      "needs_background": "light"
     },
     "output_type": "display_data"
    }
   ],
   "source": [
    "df['last_price'].plot(kind='hist', bins=1000, title=\"стоимость\",grid=True)\n",
    "plt.xlabel('стоимость (млн)')\n",
    "plt.ylabel('Количество объявлений')\n",
    "plt.xlim(0,15000000)\n",
    "plt.show()\n",
    "df.boxplot(column='last_price')\n",
    "plt.ylabel('стоимость (млн)')\n",
    "plt.ylim(0,13000000)\n",
    "plt.show()"
   ]
  },
  {
   "cell_type": "code",
   "execution_count": 42,
   "id": "33c23442",
   "metadata": {},
   "outputs": [
    {
     "data": {
      "text/plain": [
       "21509"
      ]
     },
     "execution_count": 42,
     "metadata": {},
     "output_type": "execute_result"
    }
   ],
   "source": [
    "df_1 = df_1.query('last_price <= 12000000')\n",
    "len(df_1)"
   ]
  },
  {
   "cell_type": "markdown",
   "id": "c923f4d7",
   "metadata": {},
   "source": [
    "Из этой диаграммы видно, что нормальная стоимость до 12 млн. Сделал срез до 12 млн."
   ]
  },
  {
   "cell_type": "markdown",
   "id": "8f91e91c",
   "metadata": {},
   "source": [
    "## Количество объявлений сгруппированых по комнатам"
   ]
  },
  {
   "cell_type": "code",
   "execution_count": 43,
   "id": "26318ba8",
   "metadata": {},
   "outputs": [
    {
     "data": {
      "image/png": "[encoded data removed]",
      "text/plain": [
       "<Figure size 432x288 with 1 Axes>"
      ]
     },
     "metadata": {
      "needs_background": "light"
     },
     "output_type": "display_data"
    },
    {
     "data": {
      "image/png": "[encoded data removed]",
      "text/plain": [
       "<Figure size 432x288 with 1 Axes>"
      ]
     },
     "metadata": {
      "needs_background": "light"
     },
     "output_type": "display_data"
    }
   ],
   "source": [
    "df['rooms'].plot(kind='hist', bins=100, title=\"комнаты\",grid=True)\n",
    "plt.xlabel('количество комнат')\n",
    "plt.ylabel('Количество объявлений')\n",
    "plt.show()\n",
    "df.boxplot(column='rooms')\n",
    "plt.ylabel('количество комнат')\n",
    "plt.ylim(0,10)\n",
    "plt.show()"
   ]
  },
  {
   "cell_type": "code",
   "execution_count": 44,
   "id": "3c941992",
   "metadata": {},
   "outputs": [
    {
     "data": {
      "text/plain": [
       "21509"
      ]
     },
     "execution_count": 44,
     "metadata": {},
     "output_type": "execute_result"
    }
   ],
   "source": [
    "df_1 = df_1.query('rooms <= 6')\n",
    "len(df_1)"
   ]
  },
  {
   "cell_type": "markdown",
   "id": "82edfbf4",
   "metadata": {},
   "source": [
    "Нормальное количество комнат не превышает 6."
   ]
  },
  {
   "cell_type": "markdown",
   "id": "9ae8a6ff",
   "metadata": {},
   "source": [
    "## Количество объявлений сгруппированых по высоте потолка"
   ]
  },
  {
   "cell_type": "code",
   "execution_count": 45,
   "id": "22b93f94",
   "metadata": {},
   "outputs": [
    {
     "data": {
      "image/png": "[encoded data removed]",
      "text/plain": [
       "<Figure size 432x288 with 1 Axes>"
      ]
     },
     "metadata": {
      "needs_background": "light"
     },
     "output_type": "display_data"
    },
    {
     "data": {
      "image/png": "[encoded data removed]",
      "text/plain": [
       "<Figure size 432x288 with 1 Axes>"
      ]
     },
     "metadata": {
      "needs_background": "light"
     },
     "output_type": "display_data"
    }
   ],
   "source": [
    "df['ceiling_height'].plot(kind='hist',bins=10, title=\"высота потолка\",grid=True)\n",
    "plt.xlabel('высота потолка (м)')\n",
    "plt.ylabel('Количество объявлений')\n",
    "plt.show()\n",
    "df.boxplot(column='ceiling_height')\n",
    "plt.ylabel('высота потолка (м)')\n",
    "plt.ylim(2,4)\n",
    "plt.show()"
   ]
  },
  {
   "cell_type": "code",
   "execution_count": 46,
   "id": "98fb49a3",
   "metadata": {},
   "outputs": [
    {
     "data": {
      "text/plain": [
       "19755"
      ]
     },
     "execution_count": 46,
     "metadata": {},
     "output_type": "execute_result"
    }
   ],
   "source": [
    "df_1 = df_1.query('ceiling_height > 2.4 and ceiling_height < 3')\n",
    "len(df_1)"
   ]
  },
  {
   "cell_type": "markdown",
   "id": "b6d60e59",
   "metadata": {},
   "source": [
    "Высоту потолков взял от 2,4 до 3, так как 3м это допустимая высота, которая часто встречается."
   ]
  },
  {
   "cell_type": "markdown",
   "id": "87d7e4ef",
   "metadata": {},
   "source": [
    "## Количество объявлений сгруппированых по времени продажи"
   ]
  },
  {
   "cell_type": "code",
   "execution_count": 47,
   "id": "0460b3eb",
   "metadata": {},
   "outputs": [
    {
     "data": {
      "image/png": "[encoded data removed]",
      "text/plain": [
       "<Figure size 432x288 with 1 Axes>"
      ]
     },
     "metadata": {
      "needs_background": "light"
     },
     "output_type": "display_data"
    },
    {
     "data": {
      "image/png": "[encoded data removed]",
      "text/plain": [
       "<Figure size 432x288 with 1 Axes>"
      ]
     },
     "metadata": {
      "needs_background": "light"
     },
     "output_type": "display_data"
    }
   ],
   "source": [
    "df['days_exposition'].plot(kind='hist',bins=100,title='время продажи',grid=True)\n",
    "plt.xlabel('время продажи (дни)')\n",
    "plt.ylabel('Количество объявлений')\n",
    "plt.show()\n",
    "df.boxplot(column='days_exposition')\n",
    "plt.ylabel('время продажи (дни)')\n",
    "plt.ylim(0,800)\n",
    "plt.show()"
   ]
  },
  {
   "cell_type": "code",
   "execution_count": 48,
   "id": "f10ad3cc",
   "metadata": {},
   "outputs": [
    {
     "data": {
      "text/plain": [
       "180.7413945278023"
      ]
     },
     "execution_count": 48,
     "metadata": {},
     "output_type": "execute_result"
    }
   ],
   "source": [
    "# среднее\n",
    "df['days_exposition'].mean()"
   ]
  },
  {
   "cell_type": "code",
   "execution_count": 49,
   "id": "f8f19e6e",
   "metadata": {},
   "outputs": [
    {
     "data": {
      "text/plain": [
       "95.0"
      ]
     },
     "execution_count": 49,
     "metadata": {},
     "output_type": "execute_result"
    }
   ],
   "source": [
    "# медиана\n",
    "df['days_exposition'].median()"
   ]
  },
  {
   "cell_type": "code",
   "execution_count": 50,
   "id": "16ec28f3",
   "metadata": {},
   "outputs": [
    {
     "data": {
      "text/plain": [
       "18465"
      ]
     },
     "execution_count": 50,
     "metadata": {},
     "output_type": "execute_result"
    }
   ],
   "source": [
    "df_1 = df_1[(df['days_exposition'].isna()) | (df['days_exposition'] <=500)]\n",
    "len(df_1)"
   ]
  },
  {
   "cell_type": "markdown",
   "id": "412cc9fd",
   "metadata": {},
   "source": [
    "Нормальное время продажи по моему мнению от 50 до 150 дней."
   ]
  },
  {
   "cell_type": "code",
   "execution_count": 51,
   "id": "612bd22a",
   "metadata": {},
   "outputs": [
    {
     "data": {
      "text/plain": [
       "'Размер таблицы от исходной: 78.36%'"
      ]
     },
     "execution_count": 51,
     "metadata": {},
     "output_type": "execute_result"
    }
   ],
   "source": [
    "'Размер таблицы от исходной: {:.2%}'. format(len(df_1)/len(df))"
   ]
  },
  {
   "cell_type": "markdown",
   "id": "868a9edc",
   "metadata": {},
   "source": [
    "#  Факторы влияющие на стоимость"
   ]
  },
  {
   "cell_type": "code",
   "execution_count": 52,
   "id": "4d571e1f",
   "metadata": {},
   "outputs": [
    {
     "data": {
      "text/plain": [
       "<AxesSubplot:>"
      ]
     },
     "execution_count": 52,
     "metadata": {},
     "output_type": "execute_result"
    },
    {
     "data": {
      "image/png": "[encoded data removed]",
      "text/plain": [
       "<Figure size 1080x720 with 2 Axes>"
      ]
     },
     "metadata": {
      "needs_background": "light"
     },
     "output_type": "display_data"
    }
   ],
   "source": [
    "df_corr = df_1[['last_price', 'total_area', 'rooms', 'city_centers_nearest','price_m2','day', 'month', 'year', 'floor']]\n",
    "plt.figure(figsize=(15,10))\n",
    "sns.heatmap(df_corr.corr(), annot = True, fmt='.1g', cmap= 'Reds', linewidths=2, linecolor='black')"
   ]
  },
  {
   "cell_type": "markdown",
   "id": "1e0f665c",
   "metadata": {},
   "source": [
    "## Зависимость стоимости от площади"
   ]
  },
  {
   "cell_type": "code",
   "execution_count": 53,
   "id": "ae92ec8a",
   "metadata": {},
   "outputs": [
    {
     "data": {
      "image/png": "[encoded data removed]",
      "text/plain": [
       "<Figure size 1800x1080 with 1 Axes>"
      ]
     },
     "metadata": {
      "needs_background": "light"
     },
     "output_type": "display_data"
    },
    {
     "name": "stdout",
     "output_type": "stream",
     "text": [
      "Медианная стоимсть км/м по городу:  90000\n",
      "Средняя стоимость кв/м по городу:  93050\n"
     ]
    }
   ],
   "source": [
    "area_price = df_1.pivot_table(index='total_area', values='price_m2', aggfunc='median')\n",
    "area_price.plot(kind='bar', figsize=(25,15), grid=True)\n",
    "plt.axhline(y=area_price['price_m2'].median(), color='r')\n",
    "plt.axhline(y=area_price['price_m2'].mean(), color='g')\n",
    "plt.ylim(75000,)\n",
    "plt.xlabel('Площадь(кв/м)')\n",
    "plt.ylabel('Стоимость кв/м(руб)')\n",
    "plt.show()\n",
    "print('Медианная стоимсть км/м по городу: ', round(area_price['price_m2'].median()))\n",
    "print('Средняя стоимость кв/м по городу: ', round(area_price['price_m2'].mean()))"
   ]
  },
  {
   "cell_type": "markdown",
   "id": "18281218",
   "metadata": {},
   "source": [
    "##  Зависимость стоимости от количества комнат"
   ]
  },
  {
   "cell_type": "code",
   "execution_count": 54,
   "id": "ad565c52",
   "metadata": {
    "scrolled": true
   },
   "outputs": [
    {
     "data": {
      "image/png": "[encoded data removed]",
      "text/plain": [
       "<Figure size 432x288 with 1 Axes>"
      ]
     },
     "metadata": {
      "needs_background": "light"
     },
     "output_type": "display_data"
    },
    {
     "data": {
      "text/plain": [
       "'Снижение стоимости кв/м при увеличении количества комнат: -5538.0'"
      ]
     },
     "metadata": {},
     "output_type": "display_data"
    },
    {
     "name": "stdout",
     "output_type": "stream",
     "text": [
      "______________________________________________________________________________________________________\n"
     ]
    },
    {
     "data": {
      "image/png": "[encoded data removed]",
      "text/plain": [
       "<Figure size 432x288 with 1 Axes>"
      ]
     },
     "metadata": {
      "needs_background": "light"
     },
     "output_type": "display_data"
    },
    {
     "data": {
      "text/plain": [
       "'Увеличение общей стоимости при увеличении количества комнат: 900000.0'"
      ]
     },
     "metadata": {},
     "output_type": "display_data"
    }
   ],
   "source": [
    "room_price_m2 = df_1.pivot_table(index='rooms', values='price_m2', aggfunc='median')\n",
    "room_price_m2.plot(kind='bar',)\n",
    "plt.xlabel('количество комнат')\n",
    "plt.ylabel('стоимость кв/м')\n",
    "plt.show()\n",
    "\n",
    "display('Снижение стоимости кв/м при увеличении количества комнат: ' + str(room_price_m2['price_m2'].diff().median()))\n",
    "print('______________________________________________________________________________________________________')\n",
    "\n",
    "room_price = df_1.pivot_table(index='rooms', values='last_price', aggfunc='median')\n",
    "room_price.plot(kind='bar',)\n",
    "plt.xlabel('количество комнат')\n",
    "plt.ylabel('стоимость (млн)')\n",
    "plt.show()\n",
    "display('Увеличение общей стоимости при увеличении количества комнат: ' + str(room_price['last_price'].diff().median()))"
   ]
  },
  {
   "cell_type": "markdown",
   "id": "808b9f46",
   "metadata": {},
   "source": [
    "## Зависимость стоимости от удаленности от центра"
   ]
  },
  {
   "cell_type": "code",
   "execution_count": 55,
   "id": "0d47ef93",
   "metadata": {
    "scrolled": false
   },
   "outputs": [
    {
     "data": {
      "image/png": "[encoded data removed]",
      "text/plain": [
       "<Figure size 1080x360 with 1 Axes>"
      ]
     },
     "metadata": {
      "needs_background": "light"
     },
     "output_type": "display_data"
    },
    {
     "name": "stdout",
     "output_type": "stream",
     "text": [
      "________________________________________________________________________________________________________________________\n"
     ]
    },
    {
     "data": {
      "image/png": "[encoded data removed]",
      "text/plain": [
       "<Figure size 1080x360 with 1 Axes>"
      ]
     },
     "metadata": {
      "needs_background": "light"
     },
     "output_type": "display_data"
    }
   ],
   "source": [
    "centr_price_m2 = df_1.pivot_table(index='centr_km', values='price_m2', aggfunc='median')\n",
    "centr_price_m2.plot(kind='bar',figsize=(15,5), title='динамика стоимости кв/м в зависимости от расстояния до центра')\n",
    "plt.xlabel('расстояние до центра')\n",
    "plt.ylabel('стоимость кв/м')\n",
    "plt.show()\n",
    "\n",
    "print('__'*60)\n",
    "\n",
    "centr_price = df_1.pivot_table(index='centr_km', values='last_price', aggfunc='median')\n",
    "centr_price.plot(kind='bar', figsize=(15,5), title='динамика общей стоимости в зависимости от расстояния до центра')\n",
    "plt.xlabel('расстояние до центра')\n",
    "plt.ylabel('стоимость в млн')\n",
    "plt.show()"
   ]
  },
  {
   "cell_type": "markdown",
   "id": "820b154b",
   "metadata": {},
   "source": [
    "## Зависимость стоимости от месяца"
   ]
  },
  {
   "cell_type": "code",
   "execution_count": 56,
   "id": "5ca5331a",
   "metadata": {},
   "outputs": [
    {
     "data": {
      "image/png": "[encoded data removed]",
      "text/plain": [
       "<Figure size 432x288 with 1 Axes>"
      ]
     },
     "metadata": {
      "needs_background": "light"
     },
     "output_type": "display_data"
    },
    {
     "data": {
      "image/png": "[encoded data removed]",
      "text/plain": [
       "<Figure size 432x288 with 1 Axes>"
      ]
     },
     "metadata": {
      "needs_background": "light"
     },
     "output_type": "display_data"
    }
   ],
   "source": [
    "month_price = df_1.pivot_table(index='month', values='price_m2', aggfunc='median')\n",
    "month_price.plot(kind='bar')\n",
    "plt.xlabel('месяц')\n",
    "plt.ylabel('стоимость м2')\n",
    "plt.show()\n",
    "\n",
    "month_price1 = df_1.pivot_table(index='month', values='last_price', aggfunc='median')\n",
    "month_price1.plot(kind='bar')\n",
    "plt.xlabel('месяц')\n",
    "plt.ylabel('стоимость в млн')\n",
    "plt.show()"
   ]
  },
  {
   "cell_type": "markdown",
   "id": "4d5f0da5",
   "metadata": {},
   "source": [
    "## Зависимость стоимости от дня недели"
   ]
  },
  {
   "cell_type": "code",
   "execution_count": 57,
   "id": "057d1742",
   "metadata": {},
   "outputs": [
    {
     "data": {
      "image/png": "[encoded data removed]",
      "text/plain": [
       "<Figure size 432x288 with 1 Axes>"
      ]
     },
     "metadata": {
      "needs_background": "light"
     },
     "output_type": "display_data"
    }
   ],
   "source": [
    "day_price = df_1.pivot_table(index='day', values='price_m2', aggfunc='median')\n",
    "day_price.plot(kind='bar')\n",
    "plt.xlabel('день недели')\n",
    "plt.ylabel('стоимость кв/м')\n",
    "plt.show()"
   ]
  },
  {
   "cell_type": "markdown",
   "id": "12f59a71",
   "metadata": {},
   "source": [
    "## Зависимость стоимости от этажа"
   ]
  },
  {
   "cell_type": "code",
   "execution_count": 58,
   "id": "937403dc",
   "metadata": {},
   "outputs": [
    {
     "data": {
      "image/png": "[encoded data removed]",
      "text/plain": [
       "<Figure size 1080x360 with 1 Axes>"
      ]
     },
     "metadata": {
      "needs_background": "light"
     },
     "output_type": "display_data"
    }
   ],
   "source": [
    "df_1.pivot_table(index='floor', values='last_price', aggfunc='median').plot(kind='bar', figsize=(15,5))\n",
    "plt.xlabel('этаж')\n",
    "plt.ylabel('стоимость в млн')\n",
    "plt.show()"
   ]
  },
  {
   "cell_type": "code",
   "execution_count": 59,
   "id": "c38bc119",
   "metadata": {},
   "outputs": [
    {
     "data": {
      "image/png": "[encoded data removed]",
      "text/plain": [
       "<Figure size 432x288 with 1 Axes>"
      ]
     },
     "metadata": {
      "needs_background": "light"
     },
     "output_type": "display_data"
    }
   ],
   "source": [
    "df_1.boxplot(column='last_price',by='floor_name')\n",
    "plt.ylim(100000,12000000)\n",
    "plt.show()"
   ]
  },
  {
   "cell_type": "markdown",
   "id": "836ca9b0",
   "metadata": {},
   "source": [
    "# Топ 10"
   ]
  },
  {
   "cell_type": "code",
   "execution_count": 60,
   "id": "0945cdd1",
   "metadata": {},
   "outputs": [],
   "source": [
    "# топ 10 населенных пунктов\n",
    "top_10 = df_1.pivot_table(index='locality_name', values='price_m2', aggfunc=['count','mean']\n",
    "                         ).astype(int)\n",
    "top_10.columns=['count','mean_price_m2']"
   ]
  },
  {
   "cell_type": "code",
   "execution_count": 61,
   "id": "2c8c4e30",
   "metadata": {},
   "outputs": [
    {
     "data": {
      "text/html": [
       "<div>\n",
       "<style scoped>\n",
       "    .dataframe tbody tr th:only-of-type {\n",
       "        vertical-align: middle;\n",
       "    }\n",
       "\n",
       "    .dataframe tbody tr th {\n",
       "        vertical-align: top;\n",
       "    }\n",
       "\n",
       "    .dataframe thead th {\n",
       "        text-align: right;\n",
       "    }\n",
       "</style>\n",
       "<table border=\"1\" class=\"dataframe\">\n",
       "  <thead>\n",
       "    <tr style=\"text-align: right;\">\n",
       "      <th></th>\n",
       "      <th>count</th>\n",
       "      <th>mean_price_m2</th>\n",
       "    </tr>\n",
       "    <tr>\n",
       "      <th>locality_name</th>\n",
       "      <th></th>\n",
       "      <th></th>\n",
       "    </tr>\n",
       "  </thead>\n",
       "  <tbody>\n",
       "    <tr>\n",
       "      <th>Санкт-Петербург</th>\n",
       "      <td>11467</td>\n",
       "      <td>105486</td>\n",
       "    </tr>\n",
       "    <tr>\n",
       "      <th>посёлок Мурино</th>\n",
       "      <td>482</td>\n",
       "      <td>86535</td>\n",
       "    </tr>\n",
       "    <tr>\n",
       "      <th>посёлок Шушары</th>\n",
       "      <td>413</td>\n",
       "      <td>78872</td>\n",
       "    </tr>\n",
       "    <tr>\n",
       "      <th>Всеволожск</th>\n",
       "      <td>352</td>\n",
       "      <td>67103</td>\n",
       "    </tr>\n",
       "    <tr>\n",
       "      <th>посёлок Парголово</th>\n",
       "      <td>311</td>\n",
       "      <td>90579</td>\n",
       "    </tr>\n",
       "    <tr>\n",
       "      <th>Колпино</th>\n",
       "      <td>301</td>\n",
       "      <td>75600</td>\n",
       "    </tr>\n",
       "    <tr>\n",
       "      <th>Пушкин</th>\n",
       "      <td>279</td>\n",
       "      <td>100140</td>\n",
       "    </tr>\n",
       "    <tr>\n",
       "      <th>деревня Кудрово</th>\n",
       "      <td>264</td>\n",
       "      <td>93176</td>\n",
       "    </tr>\n",
       "    <tr>\n",
       "      <th>Гатчина</th>\n",
       "      <td>262</td>\n",
       "      <td>68731</td>\n",
       "    </tr>\n",
       "    <tr>\n",
       "      <th>Выборг</th>\n",
       "      <td>195</td>\n",
       "      <td>57794</td>\n",
       "    </tr>\n",
       "  </tbody>\n",
       "</table>\n",
       "</div>"
      ],
      "text/plain": [
       "                   count  mean_price_m2\n",
       "locality_name                          \n",
       "Санкт-Петербург    11467         105486\n",
       "посёлок Мурино       482          86535\n",
       "посёлок Шушары       413          78872\n",
       "Всеволожск           352          67103\n",
       "посёлок Парголово    311          90579\n",
       "Колпино              301          75600\n",
       "Пушкин               279         100140\n",
       "деревня Кудрово      264          93176\n",
       "Гатчина              262          68731\n",
       "Выборг               195          57794"
      ]
     },
     "execution_count": 61,
     "metadata": {},
     "output_type": "execute_result"
    }
   ],
   "source": [
    "# Сортировка по количеству объявлений\n",
    "top_10 = top_10.sort_values(by='count', ascending=False).head(10)\n",
    "top_10"
   ]
  },
  {
   "cell_type": "code",
   "execution_count": 62,
   "id": "e8fcf96b",
   "metadata": {},
   "outputs": [
    {
     "data": {
      "text/html": [
       "<div>\n",
       "<style scoped>\n",
       "    .dataframe tbody tr th:only-of-type {\n",
       "        vertical-align: middle;\n",
       "    }\n",
       "\n",
       "    .dataframe tbody tr th {\n",
       "        vertical-align: top;\n",
       "    }\n",
       "\n",
       "    .dataframe thead th {\n",
       "        text-align: right;\n",
       "    }\n",
       "</style>\n",
       "<table border=\"1\" class=\"dataframe\">\n",
       "  <thead>\n",
       "    <tr style=\"text-align: right;\">\n",
       "      <th></th>\n",
       "      <th>count</th>\n",
       "      <th>mean_price_m2</th>\n",
       "    </tr>\n",
       "    <tr>\n",
       "      <th>locality_name</th>\n",
       "      <th></th>\n",
       "      <th></th>\n",
       "    </tr>\n",
       "  </thead>\n",
       "  <tbody>\n",
       "    <tr>\n",
       "      <th>Санкт-Петербург</th>\n",
       "      <td>11467</td>\n",
       "      <td>105486</td>\n",
       "    </tr>\n",
       "    <tr>\n",
       "      <th>Пушкин</th>\n",
       "      <td>279</td>\n",
       "      <td>100140</td>\n",
       "    </tr>\n",
       "    <tr>\n",
       "      <th>деревня Кудрово</th>\n",
       "      <td>264</td>\n",
       "      <td>93176</td>\n",
       "    </tr>\n",
       "    <tr>\n",
       "      <th>посёлок Парголово</th>\n",
       "      <td>311</td>\n",
       "      <td>90579</td>\n",
       "    </tr>\n",
       "    <tr>\n",
       "      <th>посёлок Мурино</th>\n",
       "      <td>482</td>\n",
       "      <td>86535</td>\n",
       "    </tr>\n",
       "    <tr>\n",
       "      <th>посёлок Шушары</th>\n",
       "      <td>413</td>\n",
       "      <td>78872</td>\n",
       "    </tr>\n",
       "    <tr>\n",
       "      <th>Колпино</th>\n",
       "      <td>301</td>\n",
       "      <td>75600</td>\n",
       "    </tr>\n",
       "    <tr>\n",
       "      <th>Гатчина</th>\n",
       "      <td>262</td>\n",
       "      <td>68731</td>\n",
       "    </tr>\n",
       "    <tr>\n",
       "      <th>Всеволожск</th>\n",
       "      <td>352</td>\n",
       "      <td>67103</td>\n",
       "    </tr>\n",
       "    <tr>\n",
       "      <th>Выборг</th>\n",
       "      <td>195</td>\n",
       "      <td>57794</td>\n",
       "    </tr>\n",
       "  </tbody>\n",
       "</table>\n",
       "</div>"
      ],
      "text/plain": [
       "                   count  mean_price_m2\n",
       "locality_name                          \n",
       "Санкт-Петербург    11467         105486\n",
       "Пушкин               279         100140\n",
       "деревня Кудрово      264          93176\n",
       "посёлок Парголово    311          90579\n",
       "посёлок Мурино       482          86535\n",
       "посёлок Шушары       413          78872\n",
       "Колпино              301          75600\n",
       "Гатчина              262          68731\n",
       "Всеволожск           352          67103\n",
       "Выборг               195          57794"
      ]
     },
     "execution_count": 62,
     "metadata": {},
     "output_type": "execute_result"
    }
   ],
   "source": [
    "# Сортировка по стоимости М2\n",
    "top_10.sort_values(by='mean_price_m2', ascending=False).head(10)"
   ]
  },
  {
   "cell_type": "markdown",
   "id": "73b1b651",
   "metadata": {},
   "source": [
    "Самая высокая стоимость за м2  в Санкт-Петербурге, самая низкая в Выборге."
   ]
  },
  {
   "cell_type": "markdown",
   "id": "2e2ce343",
   "metadata": {},
   "source": [
    "# Граница центра"
   ]
  },
  {
   "cell_type": "code",
   "execution_count": 63,
   "id": "e5e90b62",
   "metadata": {},
   "outputs": [
    {
     "data": {
      "text/plain": [
       "total_images            32\n",
       "last_price              32\n",
       "total_area              32\n",
       "first_day_exposition    32\n",
       "rooms                   32\n",
       "ceiling_height          32\n",
       "floors_total            32\n",
       "living_area             32\n",
       "floor                   32\n",
       "is_apartment            32\n",
       "studio                  32\n",
       "open_plan               32\n",
       "kitchen_area            32\n",
       "balcony                 32\n",
       "locality_name           32\n",
       "airports_nearest         0\n",
       "city_centers_nearest     0\n",
       "parks_around3000         0\n",
       "parks_nearest            0\n",
       "ponds_around3000         0\n",
       "ponds_nearest            0\n",
       "days_exposition         14\n",
       "price_m2                32\n",
       "floor_name              32\n",
       "day                     32\n",
       "month                   32\n",
       "year                    32\n",
       "total_living            32\n",
       "total_kitchen           32\n",
       "centr_km                 0\n",
       "dtype: int64"
      ]
     },
     "execution_count": 63,
     "metadata": {},
     "output_type": "execute_result"
    }
   ],
   "source": [
    "#смотрим есть ли пропуски в расстоянии до центра\n",
    "df_1[(df_1['locality_name'] == 'Санкт-Петербург') & (df['city_centers_nearest'].isna())].count()"
   ]
  },
  {
   "cell_type": "code",
   "execution_count": 64,
   "id": "45ad00c6",
   "metadata": {},
   "outputs": [],
   "source": [
    "# так как пропусков всего 33, считаю что их можно отфильтровать\n",
    "df_1 = df_1[(df_1['locality_name'] == 'Санкт-Петербург') & (~df['city_centers_nearest'].isna())]"
   ]
  },
  {
   "cell_type": "code",
   "execution_count": 65,
   "id": "9061d0d4",
   "metadata": {},
   "outputs": [
    {
     "data": {
      "image/png": "[encoded data removed]",
      "text/plain": [
       "<Figure size 1080x360 with 1 Axes>"
      ]
     },
     "metadata": {
      "needs_background": "light"
     },
     "output_type": "display_data"
    }
   ],
   "source": [
    "# Этот грфик из значений отфильтрованного датафрейма\n",
    "price_km = df_1.pivot_table(index='centr_km', values='price_m2', aggfunc='mean').round()\n",
    "price_km.plot(kind='bar',grid=True, figsize=[15,5])\n",
    "plt.show()"
   ]
  },
  {
   "cell_type": "code",
   "execution_count": 66,
   "id": "4197dc5f",
   "metadata": {},
   "outputs": [
    {
     "data": {
      "image/png": "[encoded data removed]",
      "text/plain": [
       "<Figure size 1080x360 with 1 Axes>"
      ]
     },
     "metadata": {
      "needs_background": "light"
     },
     "output_type": "display_data"
    }
   ],
   "source": [
    "#Этот график из первоначального датафрейма с выбором локации- Санкт-Петербург\n",
    "price_k = df[df['locality_name'] == 'Санкт-Петербург'].pivot_table(index='centr_km', \n",
    "                                                                   values='price_m2', \n",
    "                                                                   aggfunc='mean').round()\n",
    "\n",
    "price_k.plot(kind='bar',grid=True, figsize=[15,5])\n",
    "plt.show()"
   ]
  },
  {
   "cell_type": "markdown",
   "id": "3e8c071a",
   "metadata": {},
   "source": [
    "Из графика выше следует что центр обозначается границей 7 км, так как на 8 км идет спад цены после подъема. Скачки стоимости до 7 км предполагаю зависят от локаций. проседание стоимости на 3 км это промзона."
   ]
  },
  {
   "cell_type": "code",
   "execution_count": 67,
   "id": "1d013c27",
   "metadata": {},
   "outputs": [],
   "source": [
    "# делаем срез из ранее полученных данных\n",
    "df_centr = df.query('locality_name == \"Санкт-Петербург\" & centr_km < 8')"
   ]
  },
  {
   "cell_type": "code",
   "execution_count": 68,
   "id": "6bb01822",
   "metadata": {},
   "outputs": [
    {
     "data": {
      "image/png": "[encoded data removed]",
      "text/plain": [
       "<Figure size 1080x360 with 1 Axes>"
      ]
     },
     "metadata": {
      "needs_background": "light"
     },
     "output_type": "display_data"
    },
    {
     "data": {
      "image/png": "[encoded data removed]",
      "text/plain": [
       "<Figure size 432x288 with 1 Axes>"
      ]
     },
     "metadata": {
      "needs_background": "light"
     },
     "output_type": "display_data"
    }
   ],
   "source": [
    "# соотношение площадей квартир в ценре и в общем по городу\n",
    "df_centr['total_area'].plot(kind='hist',bins=100, grid=True, figsize= [15,5], label='центр')\n",
    "df_1['total_area'].plot(kind='hist',\n",
    "                        bins=100,\n",
    "                        title='площадь и количество', \n",
    "                        grid=True, figsize= [15,5], \n",
    "                        alpha=0.5, \n",
    "                        label='город'\n",
    "                       )\n",
    "plt.xlim(0,300)\n",
    "plt.xlabel('Площадь (м2)')\n",
    "plt.ylabel('количество')\n",
    "plt.legend()\n",
    "plt.show()\n",
    "df_centr.boxplot(column='total_area')\n",
    "plt.title('медиана площади в центре')\n",
    "plt.ylim(0,200)\n",
    "plt.show()"
   ]
  },
  {
   "cell_type": "code",
   "execution_count": 69,
   "id": "b00019e5",
   "metadata": {},
   "outputs": [
    {
     "data": {
      "image/png": "[encoded data removed]",
      "text/plain": [
       "<Figure size 1080x360 with 1 Axes>"
      ]
     },
     "metadata": {
      "needs_background": "light"
     },
     "output_type": "display_data"
    },
    {
     "data": {
      "image/png": "[encoded data removed]",
      "text/plain": [
       "<Figure size 432x288 with 1 Axes>"
      ]
     },
     "metadata": {
      "needs_background": "light"
     },
     "output_type": "display_data"
    }
   ],
   "source": [
    "# соотношение стоимостей м2 в ценре и по городу\n",
    "df_centr['price_m2'].plot(kind='hist',bins=1000,title='стоимость м2/количество', grid=True, figsize= [15,5], label='центр')\n",
    "df_1['price_m2'].plot(kind='hist',bins=1000, grid=True, figsize= [15,5], alpha=0.5, label='город')\n",
    "plt.xlabel('стоимость м2')\n",
    "plt.ylabel('количество')\n",
    "plt.xlim(0,500000)\n",
    "plt.legend()\n",
    "plt.show()\n",
    "df_centr.boxplot(column='price_m2')\n",
    "plt.ylim(0,300000)\n",
    "plt.title('медиана стоимости кв/м в центре')\n",
    "plt.show()"
   ]
  },
  {
   "cell_type": "code",
   "execution_count": 70,
   "id": "e699ac67",
   "metadata": {},
   "outputs": [
    {
     "data": {
      "image/png": "[encoded data removed]",
      "text/plain": [
       "<Figure size 1080x360 with 1 Axes>"
      ]
     },
     "metadata": {
      "needs_background": "light"
     },
     "output_type": "display_data"
    },
    {
     "data": {
      "image/png": "[encoded data removed]",
      "text/plain": [
       "<Figure size 432x288 with 1 Axes>"
      ]
     },
     "metadata": {
      "needs_background": "light"
     },
     "output_type": "display_data"
    }
   ],
   "source": [
    "# количество комнат в центре и по городу\n",
    "df_centr['rooms'].plot(kind='hist',bins=100, grid=True, figsize= [15,5], label='центр')\n",
    "df_1['rooms'].plot(kind='hist',bins=100,title='комнаты', grid=True, figsize= [15,5], alpha=0.5, label='город')\n",
    "plt.xlabel('количество комнат')\n",
    "plt.ylabel('количество объявлений')\n",
    "plt.xlim(0,10)\n",
    "plt.legend()\n",
    "plt.show()\n",
    "df_centr.boxplot(column='rooms')\n",
    "plt.ylim(0,5)\n",
    "plt.title('медиана количества комнат в центре')\n",
    "plt.show()"
   ]
  },
  {
   "cell_type": "code",
   "execution_count": 71,
   "id": "de5b06b0",
   "metadata": {},
   "outputs": [
    {
     "data": {
      "image/png": "[encoded data removed]",
      "text/plain": [
       "<Figure size 432x288 with 1 Axes>"
      ]
     },
     "metadata": {
      "needs_background": "light"
     },
     "output_type": "display_data"
    },
    {
     "data": {
      "image/png": "[encoded data removed]",
      "text/plain": [
       "<Figure size 432x288 with 1 Axes>"
      ]
     },
     "metadata": {
      "needs_background": "light"
     },
     "output_type": "display_data"
    }
   ],
   "source": [
    "# высота потолка в ценре и по городу\n",
    "df_centr['ceiling_height'].plot(kind='hist',bins=500,grid=True, label='центр')\n",
    "df_1['ceiling_height'].plot(kind='hist',bins=500, title=\"высота потолка\",grid=True, alpha=0.8, label='город')\n",
    "plt.xlabel('высота потолка')\n",
    "plt.ylabel('количество объявлений')\n",
    "plt.xlim(2,5)\n",
    "plt.ylim(0,2500)\n",
    "plt.legend()\n",
    "plt.show()\n",
    "df_centr.boxplot(column='ceiling_height')\n",
    "plt.ylim(2,5)\n",
    "plt.title('медиана высоты потолков в центре')\n",
    "plt.show()"
   ]
  },
  {
   "cell_type": "code",
   "execution_count": 72,
   "id": "4c611f8a",
   "metadata": {},
   "outputs": [
    {
     "data": {
      "image/png": "[encoded data removed]",
      "text/plain": [
       "<Figure size 432x288 with 1 Axes>"
      ]
     },
     "metadata": {
      "needs_background": "light"
     },
     "output_type": "display_data"
    }
   ],
   "source": [
    "# этажность в центре и по городу\n",
    "df_centr['floor'].plot(kind='hist',bins=20,grid=True, label='центр')\n",
    "df_1['floor'].plot(kind='hist',bins=20, title=\"этажность\",grid=True, alpha=0.5, label='город')\n",
    "plt.xlabel('этаж')\n",
    "plt.ylabel('количество юбъявлений')\n",
    "plt.legend()\n",
    "plt.show()"
   ]
  },
  {
   "cell_type": "code",
   "execution_count": 73,
   "id": "5d8d37c3",
   "metadata": {},
   "outputs": [
    {
     "data": {
      "text/html": [
       "<div>\n",
       "<style scoped>\n",
       "    .dataframe tbody tr th:only-of-type {\n",
       "        vertical-align: middle;\n",
       "    }\n",
       "\n",
       "    .dataframe tbody tr th {\n",
       "        vertical-align: top;\n",
       "    }\n",
       "\n",
       "    .dataframe thead th {\n",
       "        text-align: right;\n",
       "    }\n",
       "</style>\n",
       "<table border=\"1\" class=\"dataframe\">\n",
       "  <thead>\n",
       "    <tr style=\"text-align: right;\">\n",
       "      <th></th>\n",
       "      <th>last_price</th>\n",
       "      <th>total_area</th>\n",
       "      <th>rooms</th>\n",
       "      <th>city_centers_nearest</th>\n",
       "      <th>price_m2</th>\n",
       "      <th>day</th>\n",
       "      <th>month</th>\n",
       "      <th>year</th>\n",
       "    </tr>\n",
       "  </thead>\n",
       "  <tbody>\n",
       "    <tr>\n",
       "      <th>last_price</th>\n",
       "      <td>1.00</td>\n",
       "      <td>0.61</td>\n",
       "      <td>0.31</td>\n",
       "      <td>-0.04</td>\n",
       "      <td>0.80</td>\n",
       "      <td>0.03</td>\n",
       "      <td>-0.01</td>\n",
       "      <td>-0.05</td>\n",
       "    </tr>\n",
       "    <tr>\n",
       "      <th>total_area</th>\n",
       "      <td>0.61</td>\n",
       "      <td>1.00</td>\n",
       "      <td>0.73</td>\n",
       "      <td>-0.09</td>\n",
       "      <td>0.24</td>\n",
       "      <td>0.01</td>\n",
       "      <td>-0.02</td>\n",
       "      <td>-0.08</td>\n",
       "    </tr>\n",
       "    <tr>\n",
       "      <th>rooms</th>\n",
       "      <td>0.31</td>\n",
       "      <td>0.73</td>\n",
       "      <td>1.00</td>\n",
       "      <td>-0.17</td>\n",
       "      <td>-0.00</td>\n",
       "      <td>-0.01</td>\n",
       "      <td>-0.03</td>\n",
       "      <td>-0.07</td>\n",
       "    </tr>\n",
       "    <tr>\n",
       "      <th>city_centers_nearest</th>\n",
       "      <td>-0.04</td>\n",
       "      <td>-0.09</td>\n",
       "      <td>-0.17</td>\n",
       "      <td>1.00</td>\n",
       "      <td>-0.02</td>\n",
       "      <td>0.01</td>\n",
       "      <td>0.00</td>\n",
       "      <td>0.03</td>\n",
       "    </tr>\n",
       "    <tr>\n",
       "      <th>price_m2</th>\n",
       "      <td>0.80</td>\n",
       "      <td>0.24</td>\n",
       "      <td>-0.00</td>\n",
       "      <td>-0.02</td>\n",
       "      <td>1.00</td>\n",
       "      <td>0.02</td>\n",
       "      <td>-0.02</td>\n",
       "      <td>0.01</td>\n",
       "    </tr>\n",
       "    <tr>\n",
       "      <th>day</th>\n",
       "      <td>0.03</td>\n",
       "      <td>0.01</td>\n",
       "      <td>-0.01</td>\n",
       "      <td>0.01</td>\n",
       "      <td>0.02</td>\n",
       "      <td>1.00</td>\n",
       "      <td>0.02</td>\n",
       "      <td>0.00</td>\n",
       "    </tr>\n",
       "    <tr>\n",
       "      <th>month</th>\n",
       "      <td>-0.01</td>\n",
       "      <td>-0.02</td>\n",
       "      <td>-0.03</td>\n",
       "      <td>0.00</td>\n",
       "      <td>-0.02</td>\n",
       "      <td>0.02</td>\n",
       "      <td>1.00</td>\n",
       "      <td>-0.24</td>\n",
       "    </tr>\n",
       "    <tr>\n",
       "      <th>year</th>\n",
       "      <td>-0.05</td>\n",
       "      <td>-0.08</td>\n",
       "      <td>-0.07</td>\n",
       "      <td>0.03</td>\n",
       "      <td>0.01</td>\n",
       "      <td>0.00</td>\n",
       "      <td>-0.24</td>\n",
       "      <td>1.00</td>\n",
       "    </tr>\n",
       "  </tbody>\n",
       "</table>\n",
       "</div>"
      ],
      "text/plain": [
       "                      last_price  total_area  rooms  city_centers_nearest  \\\n",
       "last_price                  1.00        0.61   0.31                 -0.04   \n",
       "total_area                  0.61        1.00   0.73                 -0.09   \n",
       "rooms                       0.31        0.73   1.00                 -0.17   \n",
       "city_centers_nearest       -0.04       -0.09  -0.17                  1.00   \n",
       "price_m2                    0.80        0.24  -0.00                 -0.02   \n",
       "day                         0.03        0.01  -0.01                  0.01   \n",
       "month                      -0.01       -0.02  -0.03                  0.00   \n",
       "year                       -0.05       -0.08  -0.07                  0.03   \n",
       "\n",
       "                      price_m2   day  month  year  \n",
       "last_price                0.80  0.03  -0.01 -0.05  \n",
       "total_area                0.24  0.01  -0.02 -0.08  \n",
       "rooms                    -0.00 -0.01  -0.03 -0.07  \n",
       "city_centers_nearest     -0.02  0.01   0.00  0.03  \n",
       "price_m2                  1.00  0.02  -0.02  0.01  \n",
       "day                       0.02  1.00   0.02  0.00  \n",
       "month                    -0.02  0.02   1.00 -0.24  \n",
       "year                      0.01  0.00  -0.24  1.00  "
      ]
     },
     "execution_count": 73,
     "metadata": {},
     "output_type": "execute_result"
    }
   ],
   "source": [
    "df_corr_centr = df_centr[['last_price', 'total_area', 'rooms', 'city_centers_nearest','price_m2','day', 'month', 'year']]\n",
    "df_corr_centr.corr().round(2)"
   ]
  },
  {
   "cell_type": "code",
   "execution_count": 74,
   "id": "5bfb5c29",
   "metadata": {},
   "outputs": [
    {
     "name": "stdout",
     "output_type": "stream",
     "text": [
      "медиана стоимости кв/м в центре: 123831.0\n"
     ]
    }
   ],
   "source": [
    "print('медиана стоимости кв/м в центре:', df_centr['price_m2'].median())"
   ]
  },
  {
   "cell_type": "markdown",
   "id": "a7460f91",
   "metadata": {},
   "source": [
    "# Общий вывод"
   ]
  },
  {
   "cell_type": "markdown",
   "id": "d4ea42e9",
   "metadata": {},
   "source": [
    "- Из представленых выше графиков видно, что квартиры в центре имеют бОльшую площадь, что в общем предсказуемо и достигают 150+ км\\м. Квартиры в общем по городу с среднем от30 до 75 кв\\м.\n",
    "- Примерно похожая ситуация и со стоимостью кв\\м. Квартиры в центре имеют более высокую стоимость за кв\\м, и общую стоимость.\n",
    "- В центре продается больше 3х комнатных квартир, в общем в городе больше однокомнатных. Это объясняется временем постройки, в центре преобладают здания старой постройки.\n",
    "- Высота потолков в центре разнится от 2,5м до 4, что объясняется так же временем постройки, в то время как в городе преобладает высота 2,5м.\n",
    "- Количество квартир на певых этажах в общем по городу больше из за того, что количественно объявлений больше. Чем выше этажность в центре, тем меньше объявлений, что логично. Количество этажей в центре редко превышает 10, в  свою очередь в общем по городу квартиры расположенные на 10 и выше этажах, достаточно часты.\n",
    "\n",
    "- **Средняя стоимость кв/м по городу составляет 102 тыс., средняя стоимость кв/м в ценре- 123тыс. Есть небольшая не явная зависимость стоимости кв/м от общей площади, чем больше квартира, тем ниже стоимость кв/м. Но общая стоимость соответственно растет.**\n",
    "- **При увеличении количества комнат средняя стоимость кв/м уменьшается в среднем на 7 тыс, а общая стоимость увеличивается в среднем на 1 млн** ( тут больше подходят проценты, но я не смог найти как это сделать методом, буду благодарен за подсказку)\n",
    "- **Стоимость кв/м на первом этаже в среднем меньше на 6500, чем на последнем. Примерно такая же разница в стоимости между последним этажом и остальными. Разница стоимости кв/м между первым и остальными этажами(кроме последнего) может достигать 13000**(тут также лучше подошли бы проценты)\n",
    "- **Стоимость кв/м при удалении от центра уменьшается примерно на 1 тыс/1км**"
   ]
  }
 ],
 "metadata": {
  "ExecuteTimeLog": [
   {
    "duration": 80,
    "start_time": "2022-01-13T17:34:28.585Z"
   },
   {
    "duration": 899,
    "start_time": "2022-01-13T17:34:34.524Z"
   },
   {
    "duration": 2068,
    "start_time": "2022-01-13T17:35:15.239Z"
   },
   {
    "duration": 224,
    "start_time": "2022-01-13T17:36:25.300Z"
   },
   {
    "duration": 13,
    "start_time": "2022-01-13T17:36:37.092Z"
   },
   {
    "duration": 9,
    "start_time": "2022-01-13T17:36:42.637Z"
   },
   {
    "duration": 37,
    "start_time": "2022-01-13T17:36:43.936Z"
   },
   {
    "duration": 92,
    "start_time": "2022-01-13T17:39:31.353Z"
   },
   {
    "duration": 576,
    "start_time": "2022-01-13T17:43:13.002Z"
   },
   {
    "duration": 529,
    "start_time": "2022-01-13T17:43:46.516Z"
   },
   {
    "duration": 649,
    "start_time": "2022-01-13T17:44:37.630Z"
   },
   {
    "duration": 405,
    "start_time": "2022-01-13T17:46:10.226Z"
   },
   {
    "duration": 392,
    "start_time": "2022-01-13T17:46:26.575Z"
   },
   {
    "duration": 3,
    "start_time": "2022-01-13T19:11:39.719Z"
   },
   {
    "duration": 271,
    "start_time": "2022-01-13T19:11:40.136Z"
   },
   {
    "duration": 13,
    "start_time": "2022-01-13T19:11:43.407Z"
   },
   {
    "duration": 6,
    "start_time": "2022-01-13T19:11:45.858Z"
   },
   {
    "duration": 31,
    "start_time": "2022-01-13T19:11:47.635Z"
   },
   {
    "duration": 104,
    "start_time": "2022-01-13T19:11:57.472Z"
   },
   {
    "duration": 76,
    "start_time": "2022-01-13T19:12:07.755Z"
   },
   {
    "duration": 76,
    "start_time": "2022-01-13T19:12:16.350Z"
   },
   {
    "duration": 11,
    "start_time": "2022-01-13T19:28:35.020Z"
   },
   {
    "duration": 18,
    "start_time": "2022-01-13T19:29:42.179Z"
   },
   {
    "duration": 4,
    "start_time": "2022-01-13T19:31:57.061Z"
   },
   {
    "duration": 3,
    "start_time": "2022-01-13T19:32:08.599Z"
   },
   {
    "duration": 11,
    "start_time": "2022-01-13T19:32:17.915Z"
   },
   {
    "duration": 86,
    "start_time": "2022-01-13T19:34:31.327Z"
   },
   {
    "duration": 256,
    "start_time": "2022-01-13T19:34:36.173Z"
   },
   {
    "duration": 4,
    "start_time": "2022-01-13T19:34:56.185Z"
   },
   {
    "duration": 10,
    "start_time": "2022-01-13T19:35:03.978Z"
   },
   {
    "duration": 7258,
    "start_time": "2022-01-13T19:38:23.003Z"
   },
   {
    "duration": 427,
    "start_time": "2022-01-13T19:38:29.836Z"
   },
   {
    "duration": 423,
    "start_time": "2022-01-13T19:38:29.842Z"
   },
   {
    "duration": 263,
    "start_time": "2022-01-13T19:38:48.536Z"
   },
   {
    "duration": 262,
    "start_time": "2022-01-13T19:39:20.036Z"
   },
   {
    "duration": 11,
    "start_time": "2022-01-13T19:39:35.328Z"
   },
   {
    "duration": 774,
    "start_time": "2022-01-13T19:44:01.587Z"
   },
   {
    "duration": 164,
    "start_time": "2022-01-13T19:44:02.363Z"
   },
   {
    "duration": 12,
    "start_time": "2022-01-13T19:44:02.529Z"
   },
   {
    "duration": 23,
    "start_time": "2022-01-13T19:44:02.543Z"
   },
   {
    "duration": 35,
    "start_time": "2022-01-13T19:44:02.568Z"
   },
   {
    "duration": 94,
    "start_time": "2022-01-13T19:44:02.604Z"
   },
   {
    "duration": 8,
    "start_time": "2022-01-13T19:44:02.701Z"
   },
   {
    "duration": 13,
    "start_time": "2022-01-13T19:44:02.711Z"
   },
   {
    "duration": 7,
    "start_time": "2022-01-13T19:44:02.725Z"
   },
   {
    "duration": 9,
    "start_time": "2022-01-13T19:44:02.733Z"
   },
   {
    "duration": 24,
    "start_time": "2022-01-13T19:44:02.744Z"
   },
   {
    "duration": 18,
    "start_time": "2022-01-13T19:44:02.771Z"
   },
   {
    "duration": 6,
    "start_time": "2022-01-13T19:44:02.791Z"
   },
   {
    "duration": 19,
    "start_time": "2022-01-13T19:44:02.799Z"
   },
   {
    "duration": 60,
    "start_time": "2022-01-13T19:44:02.820Z"
   },
   {
    "duration": 12,
    "start_time": "2022-01-13T19:44:02.882Z"
   },
   {
    "duration": 4,
    "start_time": "2022-01-13T19:44:02.896Z"
   },
   {
    "duration": 19,
    "start_time": "2022-01-13T19:44:02.902Z"
   },
   {
    "duration": 54,
    "start_time": "2022-01-13T19:44:02.923Z"
   },
   {
    "duration": 7,
    "start_time": "2022-01-13T19:44:02.980Z"
   },
   {
    "duration": 4,
    "start_time": "2022-01-13T19:44:02.989Z"
   },
   {
    "duration": 5,
    "start_time": "2022-01-13T19:44:02.997Z"
   },
   {
    "duration": 5,
    "start_time": "2022-01-13T19:44:03.004Z"
   },
   {
    "duration": 51,
    "start_time": "2022-01-13T19:44:03.011Z"
   },
   {
    "duration": 8,
    "start_time": "2022-01-13T19:44:03.064Z"
   },
   {
    "duration": 33,
    "start_time": "2022-01-13T19:44:03.075Z"
   },
   {
    "duration": 5,
    "start_time": "2022-01-13T19:44:03.110Z"
   },
   {
    "duration": 11,
    "start_time": "2022-01-13T19:44:03.117Z"
   },
   {
    "duration": 4,
    "start_time": "2022-01-13T19:44:03.130Z"
   },
   {
    "duration": 36,
    "start_time": "2022-01-13T19:44:03.136Z"
   },
   {
    "duration": 22,
    "start_time": "2022-01-13T19:44:03.175Z"
   },
   {
    "duration": 12,
    "start_time": "2022-01-13T19:44:03.199Z"
   },
   {
    "duration": 61,
    "start_time": "2022-01-13T19:44:03.212Z"
   },
   {
    "duration": 4,
    "start_time": "2022-01-13T19:44:03.275Z"
   },
   {
    "duration": 664,
    "start_time": "2022-01-13T19:44:03.281Z"
   },
   {
    "duration": 6,
    "start_time": "2022-01-13T19:44:03.947Z"
   },
   {
    "duration": 505,
    "start_time": "2022-01-13T19:44:03.960Z"
   },
   {
    "duration": 12,
    "start_time": "2022-01-13T19:44:04.469Z"
   },
   {
    "duration": 2103,
    "start_time": "2022-01-13T19:44:04.482Z"
   },
   {
    "duration": 10,
    "start_time": "2022-01-13T19:44:06.587Z"
   },
   {
    "duration": 514,
    "start_time": "2022-01-13T19:44:06.599Z"
   },
   {
    "duration": 10,
    "start_time": "2022-01-13T19:44:07.116Z"
   },
   {
    "duration": 366,
    "start_time": "2022-01-13T19:44:07.128Z"
   },
   {
    "duration": 11,
    "start_time": "2022-01-13T19:44:07.496Z"
   },
   {
    "duration": 524,
    "start_time": "2022-01-13T19:44:07.509Z"
   },
   {
    "duration": 4,
    "start_time": "2022-01-13T19:44:08.035Z"
   },
   {
    "duration": 26,
    "start_time": "2022-01-13T19:44:08.041Z"
   },
   {
    "duration": 21,
    "start_time": "2022-01-13T19:44:08.070Z"
   },
   {
    "duration": 12,
    "start_time": "2022-01-13T19:44:08.093Z"
   },
   {
    "duration": 42,
    "start_time": "2022-01-13T19:44:08.107Z"
   },
   {
    "duration": 199,
    "start_time": "2022-01-13T19:44:08.151Z"
   },
   {
    "duration": 30,
    "start_time": "2022-01-13T19:44:08.352Z"
   },
   {
    "duration": 7,
    "start_time": "2022-01-13T19:44:08.384Z"
   },
   {
    "duration": 20,
    "start_time": "2022-01-13T19:44:08.393Z"
   },
   {
    "duration": 34,
    "start_time": "2022-01-13T19:44:08.416Z"
   },
   {
    "duration": 25,
    "start_time": "2022-01-13T19:44:08.460Z"
   },
   {
    "duration": 176,
    "start_time": "2022-01-13T19:44:08.487Z"
   },
   {
    "duration": 402,
    "start_time": "2022-01-13T19:44:08.668Z"
   },
   {
    "duration": 396,
    "start_time": "2022-01-13T19:44:09.072Z"
   },
   {
    "duration": 12,
    "start_time": "2022-01-13T19:44:09.471Z"
   },
   {
    "duration": 98,
    "start_time": "2022-01-13T19:44:09.485Z"
   },
   {
    "duration": 738,
    "start_time": "2022-01-13T19:44:09.585Z"
   },
   {
    "duration": 3965,
    "start_time": "2022-01-13T19:44:10.325Z"
   },
   {
    "duration": 722,
    "start_time": "2022-01-13T19:44:14.292Z"
   },
   {
    "duration": 2451,
    "start_time": "2022-01-13T19:44:15.016Z"
   },
   {
    "duration": 280,
    "start_time": "2022-01-13T19:44:17.469Z"
   },
   {
    "duration": 31,
    "start_time": "2022-01-13T19:44:17.754Z"
   },
   {
    "duration": 101,
    "start_time": "2022-01-13T19:59:11.488Z"
   },
   {
    "duration": 13,
    "start_time": "2022-01-13T19:59:31.811Z"
   },
   {
    "duration": 15,
    "start_time": "2022-01-13T19:59:33.875Z"
   },
   {
    "duration": 746,
    "start_time": "2022-01-13T20:00:13.258Z"
   },
   {
    "duration": 170,
    "start_time": "2022-01-13T20:00:14.008Z"
   },
   {
    "duration": 11,
    "start_time": "2022-01-13T20:00:14.180Z"
   },
   {
    "duration": 33,
    "start_time": "2022-01-13T20:00:14.193Z"
   },
   {
    "duration": 46,
    "start_time": "2022-01-13T20:00:14.228Z"
   },
   {
    "duration": 73,
    "start_time": "2022-01-13T20:00:14.276Z"
   },
   {
    "duration": 15,
    "start_time": "2022-01-13T20:00:14.362Z"
   },
   {
    "duration": 50,
    "start_time": "2022-01-13T20:00:14.379Z"
   },
   {
    "duration": 56,
    "start_time": "2022-01-13T20:00:14.431Z"
   },
   {
    "duration": 27,
    "start_time": "2022-01-13T20:00:14.488Z"
   },
   {
    "duration": 33,
    "start_time": "2022-01-13T20:00:14.516Z"
   },
   {
    "duration": 53,
    "start_time": "2022-01-13T20:00:14.551Z"
   },
   {
    "duration": 44,
    "start_time": "2022-01-13T20:00:14.607Z"
   },
   {
    "duration": 44,
    "start_time": "2022-01-13T20:00:14.653Z"
   },
   {
    "duration": 78,
    "start_time": "2022-01-13T20:00:14.698Z"
   },
   {
    "duration": 42,
    "start_time": "2022-01-13T20:00:14.778Z"
   },
   {
    "duration": 58,
    "start_time": "2022-01-13T20:00:14.821Z"
   },
   {
    "duration": 38,
    "start_time": "2022-01-13T20:00:14.880Z"
   },
   {
    "duration": 75,
    "start_time": "2022-01-13T20:00:14.920Z"
   },
   {
    "duration": 22,
    "start_time": "2022-01-13T20:00:14.996Z"
   },
   {
    "duration": 33,
    "start_time": "2022-01-13T20:00:15.020Z"
   },
   {
    "duration": 37,
    "start_time": "2022-01-13T20:00:15.057Z"
   },
   {
    "duration": 43,
    "start_time": "2022-01-13T20:00:15.097Z"
   },
   {
    "duration": 57,
    "start_time": "2022-01-13T20:00:15.142Z"
   },
   {
    "duration": 28,
    "start_time": "2022-01-13T20:00:15.201Z"
   },
   {
    "duration": 60,
    "start_time": "2022-01-13T20:00:15.231Z"
   },
   {
    "duration": 26,
    "start_time": "2022-01-13T20:00:15.293Z"
   },
   {
    "duration": 32,
    "start_time": "2022-01-13T20:00:15.321Z"
   },
   {
    "duration": 46,
    "start_time": "2022-01-13T20:00:15.355Z"
   },
   {
    "duration": 41,
    "start_time": "2022-01-13T20:00:15.402Z"
   },
   {
    "duration": 59,
    "start_time": "2022-01-13T20:00:15.445Z"
   },
   {
    "duration": 43,
    "start_time": "2022-01-13T20:00:15.505Z"
   },
   {
    "duration": 58,
    "start_time": "2022-01-13T20:00:15.550Z"
   },
   {
    "duration": 25,
    "start_time": "2022-01-13T20:00:15.610Z"
   },
   {
    "duration": 654,
    "start_time": "2022-01-13T20:00:15.637Z"
   },
   {
    "duration": 5,
    "start_time": "2022-01-13T20:00:16.293Z"
   },
   {
    "duration": 571,
    "start_time": "2022-01-13T20:00:16.300Z"
   },
   {
    "duration": 16,
    "start_time": "2022-01-13T20:00:16.873Z"
   },
   {
    "duration": 1979,
    "start_time": "2022-01-13T20:00:16.891Z"
   },
   {
    "duration": 12,
    "start_time": "2022-01-13T20:00:18.872Z"
   },
   {
    "duration": 506,
    "start_time": "2022-01-13T20:00:18.886Z"
   },
   {
    "duration": 14,
    "start_time": "2022-01-13T20:00:19.394Z"
   },
   {
    "duration": 363,
    "start_time": "2022-01-13T20:00:19.410Z"
   },
   {
    "duration": 12,
    "start_time": "2022-01-13T20:00:19.775Z"
   },
   {
    "duration": 522,
    "start_time": "2022-01-13T20:00:19.789Z"
   },
   {
    "duration": 4,
    "start_time": "2022-01-13T20:00:20.313Z"
   },
   {
    "duration": 13,
    "start_time": "2022-01-13T20:00:20.319Z"
   },
   {
    "duration": 33,
    "start_time": "2022-01-13T20:00:20.334Z"
   },
   {
    "duration": 18,
    "start_time": "2022-01-13T20:00:20.369Z"
   },
   {
    "duration": 21,
    "start_time": "2022-01-13T20:00:20.389Z"
   },
   {
    "duration": 218,
    "start_time": "2022-01-13T20:00:20.411Z"
   },
   {
    "duration": 19,
    "start_time": "2022-01-13T20:00:20.631Z"
   },
   {
    "duration": 12,
    "start_time": "2022-01-13T20:00:20.662Z"
   },
   {
    "duration": 17,
    "start_time": "2022-01-13T20:00:20.676Z"
   },
   {
    "duration": 31,
    "start_time": "2022-01-13T20:00:20.694Z"
   },
   {
    "duration": 39,
    "start_time": "2022-01-13T20:00:20.727Z"
   },
   {
    "duration": 207,
    "start_time": "2022-01-13T20:00:20.772Z"
   },
   {
    "duration": 421,
    "start_time": "2022-01-13T20:00:20.981Z"
   },
   {
    "duration": 407,
    "start_time": "2022-01-13T20:00:21.404Z"
   },
   {
    "duration": 10,
    "start_time": "2022-01-13T20:00:21.813Z"
   },
   {
    "duration": 97,
    "start_time": "2022-01-13T20:00:21.825Z"
   },
   {
    "duration": 853,
    "start_time": "2022-01-13T20:00:21.924Z"
   },
   {
    "duration": 4027,
    "start_time": "2022-01-13T20:00:22.778Z"
   },
   {
    "duration": 708,
    "start_time": "2022-01-13T20:00:26.807Z"
   },
   {
    "duration": 2133,
    "start_time": "2022-01-13T20:00:27.517Z"
   },
   {
    "duration": 319,
    "start_time": "2022-01-13T20:00:29.652Z"
   },
   {
    "duration": 24,
    "start_time": "2022-01-13T20:00:29.978Z"
   },
   {
    "duration": 14,
    "start_time": "2022-01-13T20:02:11.579Z"
   },
   {
    "duration": 15,
    "start_time": "2022-01-13T20:02:29.695Z"
   },
   {
    "duration": 16,
    "start_time": "2022-01-13T20:02:30.272Z"
   },
   {
    "duration": 736,
    "start_time": "2022-01-13T20:03:15.849Z"
   },
   {
    "duration": 277,
    "start_time": "2022-01-13T20:03:16.587Z"
   },
   {
    "duration": 14,
    "start_time": "2022-01-13T20:03:16.866Z"
   },
   {
    "duration": 22,
    "start_time": "2022-01-13T20:03:16.883Z"
   },
   {
    "duration": 43,
    "start_time": "2022-01-13T20:03:16.907Z"
   },
   {
    "duration": 82,
    "start_time": "2022-01-13T20:03:16.952Z"
   },
   {
    "duration": 9,
    "start_time": "2022-01-13T20:03:17.035Z"
   },
   {
    "duration": 27,
    "start_time": "2022-01-13T20:03:17.047Z"
   },
   {
    "duration": 24,
    "start_time": "2022-01-13T20:03:17.079Z"
   },
   {
    "duration": 21,
    "start_time": "2022-01-13T20:03:17.104Z"
   },
   {
    "duration": 9,
    "start_time": "2022-01-13T20:03:17.127Z"
   },
   {
    "duration": 6,
    "start_time": "2022-01-13T20:03:17.138Z"
   },
   {
    "duration": 13,
    "start_time": "2022-01-13T20:03:17.145Z"
   },
   {
    "duration": 47,
    "start_time": "2022-01-13T20:03:17.160Z"
   },
   {
    "duration": 18,
    "start_time": "2022-01-13T20:03:17.209Z"
   },
   {
    "duration": 13,
    "start_time": "2022-01-13T20:03:17.230Z"
   },
   {
    "duration": 16,
    "start_time": "2022-01-13T20:03:17.245Z"
   },
   {
    "duration": 28,
    "start_time": "2022-01-13T20:03:17.263Z"
   },
   {
    "duration": 27,
    "start_time": "2022-01-13T20:03:17.293Z"
   },
   {
    "duration": 6,
    "start_time": "2022-01-13T20:03:17.322Z"
   },
   {
    "duration": 4,
    "start_time": "2022-01-13T20:03:17.330Z"
   },
   {
    "duration": 42,
    "start_time": "2022-01-13T20:03:17.336Z"
   },
   {
    "duration": 5,
    "start_time": "2022-01-13T20:03:17.382Z"
   },
   {
    "duration": 10,
    "start_time": "2022-01-13T20:03:17.390Z"
   },
   {
    "duration": 5,
    "start_time": "2022-01-13T20:03:17.401Z"
   },
   {
    "duration": 21,
    "start_time": "2022-01-13T20:03:17.408Z"
   },
   {
    "duration": 32,
    "start_time": "2022-01-13T20:03:17.431Z"
   },
   {
    "duration": 27,
    "start_time": "2022-01-13T20:03:17.465Z"
   },
   {
    "duration": 7,
    "start_time": "2022-01-13T20:03:17.494Z"
   },
   {
    "duration": 13,
    "start_time": "2022-01-13T20:03:17.503Z"
   },
   {
    "duration": 43,
    "start_time": "2022-01-13T20:03:17.518Z"
   },
   {
    "duration": 26,
    "start_time": "2022-01-13T20:03:17.563Z"
   },
   {
    "duration": 9,
    "start_time": "2022-01-13T20:03:17.591Z"
   },
   {
    "duration": 4,
    "start_time": "2022-01-13T20:03:17.601Z"
   },
   {
    "duration": 656,
    "start_time": "2022-01-13T20:03:17.606Z"
   },
   {
    "duration": 8,
    "start_time": "2022-01-13T20:03:18.264Z"
   },
   {
    "duration": 487,
    "start_time": "2022-01-13T20:03:18.275Z"
   },
   {
    "duration": 17,
    "start_time": "2022-01-13T20:03:18.765Z"
   },
   {
    "duration": 2179,
    "start_time": "2022-01-13T20:03:18.784Z"
   },
   {
    "duration": 18,
    "start_time": "2022-01-13T20:03:20.965Z"
   },
   {
    "duration": 521,
    "start_time": "2022-01-13T20:03:20.985Z"
   },
   {
    "duration": 11,
    "start_time": "2022-01-13T20:03:21.508Z"
   },
   {
    "duration": 367,
    "start_time": "2022-01-13T20:03:21.521Z"
   },
   {
    "duration": 13,
    "start_time": "2022-01-13T20:03:21.890Z"
   },
   {
    "duration": 521,
    "start_time": "2022-01-13T20:03:21.905Z"
   },
   {
    "duration": 4,
    "start_time": "2022-01-13T20:03:22.428Z"
   },
   {
    "duration": 6,
    "start_time": "2022-01-13T20:03:22.434Z"
   },
   {
    "duration": 17,
    "start_time": "2022-01-13T20:03:22.462Z"
   },
   {
    "duration": 5,
    "start_time": "2022-01-13T20:03:22.481Z"
   },
   {
    "duration": 22,
    "start_time": "2022-01-13T20:03:22.488Z"
   },
   {
    "duration": 250,
    "start_time": "2022-01-13T20:03:22.512Z"
   },
   {
    "duration": 23,
    "start_time": "2022-01-13T20:03:22.765Z"
   },
   {
    "duration": 8,
    "start_time": "2022-01-13T20:03:22.790Z"
   },
   {
    "duration": 9,
    "start_time": "2022-01-13T20:03:22.799Z"
   },
   {
    "duration": 54,
    "start_time": "2022-01-13T20:03:22.810Z"
   },
   {
    "duration": 23,
    "start_time": "2022-01-13T20:03:22.867Z"
   },
   {
    "duration": 6,
    "start_time": "2022-01-13T20:03:22.892Z"
   },
   {
    "duration": 583,
    "start_time": "2022-01-13T20:03:22.900Z"
   },
   {
    "duration": 410,
    "start_time": "2022-01-13T20:03:23.485Z"
   },
   {
    "duration": 12,
    "start_time": "2022-01-13T20:03:23.898Z"
   },
   {
    "duration": 108,
    "start_time": "2022-01-13T20:03:23.912Z"
   },
   {
    "duration": 755,
    "start_time": "2022-01-13T20:03:24.023Z"
   },
   {
    "duration": 4062,
    "start_time": "2022-01-13T20:03:24.780Z"
   },
   {
    "duration": 745,
    "start_time": "2022-01-13T20:03:28.843Z"
   },
   {
    "duration": 2232,
    "start_time": "2022-01-13T20:03:29.591Z"
   },
   {
    "duration": 285,
    "start_time": "2022-01-13T20:03:31.825Z"
   },
   {
    "duration": 17,
    "start_time": "2022-01-13T20:03:32.111Z"
   },
   {
    "duration": 5,
    "start_time": "2022-01-13T20:07:32.180Z"
   },
   {
    "duration": 5,
    "start_time": "2022-01-13T20:08:12.944Z"
   },
   {
    "duration": 4,
    "start_time": "2022-01-13T20:08:17.124Z"
   },
   {
    "duration": 4,
    "start_time": "2022-01-13T20:08:28.049Z"
   },
   {
    "duration": 306,
    "start_time": "2022-01-13T20:09:09.611Z"
   },
   {
    "duration": 4,
    "start_time": "2022-01-13T20:09:42.931Z"
   },
   {
    "duration": 5,
    "start_time": "2022-01-13T20:09:50.004Z"
   },
   {
    "duration": 5,
    "start_time": "2022-01-13T20:15:56.711Z"
   },
   {
    "duration": 3,
    "start_time": "2022-01-13T20:16:03.090Z"
   },
   {
    "duration": 5,
    "start_time": "2022-01-13T20:19:54.978Z"
   },
   {
    "duration": 34,
    "start_time": "2022-01-13T20:20:37.187Z"
   },
   {
    "duration": 27,
    "start_time": "2022-01-13T20:21:18.383Z"
   },
   {
    "duration": 136,
    "start_time": "2022-01-13T20:22:32.793Z"
   },
   {
    "duration": 3,
    "start_time": "2022-01-13T20:23:02.367Z"
   },
   {
    "duration": 692,
    "start_time": "2022-01-13T20:23:04.782Z"
   },
   {
    "duration": 12,
    "start_time": "2022-01-13T20:23:05.937Z"
   },
   {
    "duration": 3,
    "start_time": "2022-01-13T20:23:39.102Z"
   },
   {
    "duration": 591,
    "start_time": "2022-01-13T20:23:41.094Z"
   },
   {
    "duration": 13,
    "start_time": "2022-01-13T20:23:42.262Z"
   },
   {
    "duration": 708,
    "start_time": "2022-01-13T20:23:54.445Z"
   },
   {
    "duration": 196,
    "start_time": "2022-01-13T20:23:55.155Z"
   },
   {
    "duration": 12,
    "start_time": "2022-01-13T20:23:55.356Z"
   },
   {
    "duration": 19,
    "start_time": "2022-01-13T20:23:55.370Z"
   },
   {
    "duration": 42,
    "start_time": "2022-01-13T20:23:55.391Z"
   },
   {
    "duration": 70,
    "start_time": "2022-01-13T20:23:55.435Z"
   },
   {
    "duration": 8,
    "start_time": "2022-01-13T20:23:55.508Z"
   },
   {
    "duration": 27,
    "start_time": "2022-01-13T20:23:55.517Z"
   },
   {
    "duration": 19,
    "start_time": "2022-01-13T20:23:55.545Z"
   },
   {
    "duration": 20,
    "start_time": "2022-01-13T20:23:55.566Z"
   },
   {
    "duration": 30,
    "start_time": "2022-01-13T20:23:55.587Z"
   },
   {
    "duration": 15,
    "start_time": "2022-01-13T20:23:55.619Z"
   },
   {
    "duration": 19,
    "start_time": "2022-01-13T20:23:55.636Z"
   },
   {
    "duration": 26,
    "start_time": "2022-01-13T20:23:55.657Z"
   },
   {
    "duration": 31,
    "start_time": "2022-01-13T20:23:55.684Z"
   },
   {
    "duration": 24,
    "start_time": "2022-01-13T20:23:55.717Z"
   },
   {
    "duration": 6,
    "start_time": "2022-01-13T20:23:55.743Z"
   },
   {
    "duration": 24,
    "start_time": "2022-01-13T20:23:55.751Z"
   },
   {
    "duration": 44,
    "start_time": "2022-01-13T20:23:55.777Z"
   },
   {
    "duration": 6,
    "start_time": "2022-01-13T20:23:55.823Z"
   },
   {
    "duration": 15,
    "start_time": "2022-01-13T20:23:55.831Z"
   },
   {
    "duration": 21,
    "start_time": "2022-01-13T20:23:55.848Z"
   },
   {
    "duration": 8,
    "start_time": "2022-01-13T20:23:55.873Z"
   },
   {
    "duration": 22,
    "start_time": "2022-01-13T20:23:55.883Z"
   },
   {
    "duration": 9,
    "start_time": "2022-01-13T20:23:55.906Z"
   },
   {
    "duration": 30,
    "start_time": "2022-01-13T20:23:55.917Z"
   },
   {
    "duration": 4,
    "start_time": "2022-01-13T20:23:55.949Z"
   },
   {
    "duration": 19,
    "start_time": "2022-01-13T20:23:55.954Z"
   },
   {
    "duration": 7,
    "start_time": "2022-01-13T20:23:55.975Z"
   },
   {
    "duration": 30,
    "start_time": "2022-01-13T20:23:55.984Z"
   },
   {
    "duration": 30,
    "start_time": "2022-01-13T20:23:56.016Z"
   },
   {
    "duration": 24,
    "start_time": "2022-01-13T20:23:56.048Z"
   },
   {
    "duration": 21,
    "start_time": "2022-01-13T20:23:56.073Z"
   },
   {
    "duration": 8,
    "start_time": "2022-01-13T20:23:56.096Z"
   },
   {
    "duration": 18,
    "start_time": "2022-01-13T20:23:56.106Z"
   },
   {
    "duration": 613,
    "start_time": "2022-01-13T20:23:56.126Z"
   },
   {
    "duration": 21,
    "start_time": "2022-01-13T20:23:56.740Z"
   },
   {
    "duration": 10,
    "start_time": "2022-01-13T20:23:56.763Z"
   },
   {
    "duration": 444,
    "start_time": "2022-01-13T20:23:56.775Z"
   },
   {
    "duration": 9,
    "start_time": "2022-01-13T20:23:57.220Z"
   },
   {
    "duration": 1865,
    "start_time": "2022-01-13T20:23:57.231Z"
   },
   {
    "duration": 11,
    "start_time": "2022-01-13T20:23:59.098Z"
   },
   {
    "duration": 484,
    "start_time": "2022-01-13T20:23:59.111Z"
   },
   {
    "duration": 11,
    "start_time": "2022-01-13T20:23:59.598Z"
   },
   {
    "duration": 343,
    "start_time": "2022-01-13T20:23:59.611Z"
   },
   {
    "duration": 16,
    "start_time": "2022-01-13T20:23:59.955Z"
   },
   {
    "duration": 506,
    "start_time": "2022-01-13T20:23:59.972Z"
   },
   {
    "duration": 5,
    "start_time": "2022-01-13T20:24:00.479Z"
   },
   {
    "duration": 8,
    "start_time": "2022-01-13T20:24:00.486Z"
   },
   {
    "duration": 13,
    "start_time": "2022-01-13T20:24:00.496Z"
   },
   {
    "duration": 5,
    "start_time": "2022-01-13T20:24:00.511Z"
   },
   {
    "duration": 56,
    "start_time": "2022-01-13T20:24:00.517Z"
   },
   {
    "duration": 196,
    "start_time": "2022-01-13T20:24:00.575Z"
   },
   {
    "duration": 18,
    "start_time": "2022-01-13T20:24:00.773Z"
   },
   {
    "duration": 7,
    "start_time": "2022-01-13T20:24:00.793Z"
   },
   {
    "duration": 13,
    "start_time": "2022-01-13T20:24:00.802Z"
   },
   {
    "duration": 49,
    "start_time": "2022-01-13T20:24:00.817Z"
   },
   {
    "duration": 19,
    "start_time": "2022-01-13T20:24:00.868Z"
   },
   {
    "duration": 5,
    "start_time": "2022-01-13T20:24:00.889Z"
   },
   {
    "duration": 559,
    "start_time": "2022-01-13T20:24:00.896Z"
   },
   {
    "duration": 389,
    "start_time": "2022-01-13T20:24:01.456Z"
   },
   {
    "duration": 21,
    "start_time": "2022-01-13T20:24:01.847Z"
   },
   {
    "duration": 81,
    "start_time": "2022-01-13T20:24:01.869Z"
   },
   {
    "duration": 728,
    "start_time": "2022-01-13T20:24:01.951Z"
   },
   {
    "duration": 4082,
    "start_time": "2022-01-13T20:24:02.681Z"
   },
   {
    "duration": 677,
    "start_time": "2022-01-13T20:24:06.765Z"
   },
   {
    "duration": 1972,
    "start_time": "2022-01-13T20:24:07.443Z"
   },
   {
    "duration": 245,
    "start_time": "2022-01-13T20:24:09.417Z"
   },
   {
    "duration": 16,
    "start_time": "2022-01-13T20:24:09.664Z"
   },
   {
    "duration": 40,
    "start_time": "2022-01-13T20:25:31.487Z"
   },
   {
    "duration": 5,
    "start_time": "2022-01-13T20:25:43.561Z"
   },
   {
    "duration": 676,
    "start_time": "2022-01-13T20:25:47.655Z"
   },
   {
    "duration": 37,
    "start_time": "2022-01-13T20:25:48.924Z"
   },
   {
    "duration": 729,
    "start_time": "2022-01-13T20:32:51.392Z"
   },
   {
    "duration": 370,
    "start_time": "2022-01-13T20:33:05.599Z"
   },
   {
    "duration": 1810,
    "start_time": "2022-01-13T20:34:36.519Z"
   },
   {
    "duration": 454,
    "start_time": "2022-01-13T20:35:18.028Z"
   },
   {
    "duration": 435,
    "start_time": "2022-01-13T20:37:07.921Z"
   },
   {
    "duration": 469,
    "start_time": "2022-01-13T20:37:43.078Z"
   },
   {
    "duration": 446,
    "start_time": "2022-01-13T20:38:38.706Z"
   },
   {
    "duration": 455,
    "start_time": "2022-01-13T20:38:47.755Z"
   },
   {
    "duration": 70,
    "start_time": "2022-01-13T20:50:41.347Z"
   },
   {
    "duration": 11,
    "start_time": "2022-01-13T20:55:36.010Z"
   },
   {
    "duration": 13,
    "start_time": "2022-01-13T20:55:42.444Z"
   },
   {
    "duration": 270,
    "start_time": "2022-01-13T20:56:49.338Z"
   },
   {
    "duration": 6145,
    "start_time": "2022-01-13T20:57:48.152Z"
   },
   {
    "duration": 7601,
    "start_time": "2022-01-13T20:57:55.719Z"
   },
   {
    "duration": 14,
    "start_time": "2022-01-13T20:58:31.095Z"
   },
   {
    "duration": 6639,
    "start_time": "2022-01-13T20:58:50.270Z"
   },
   {
    "duration": 273,
    "start_time": "2022-01-13T20:59:05.235Z"
   },
   {
    "duration": 293,
    "start_time": "2022-01-13T20:59:15.383Z"
   },
   {
    "duration": 160,
    "start_time": "2022-01-13T21:00:52.572Z"
   },
   {
    "duration": 387,
    "start_time": "2022-01-13T21:04:31.473Z"
   },
   {
    "duration": 278,
    "start_time": "2022-01-13T21:07:10.852Z"
   },
   {
    "duration": 207,
    "start_time": "2022-01-13T21:07:39.595Z"
   },
   {
    "duration": 163,
    "start_time": "2022-01-13T21:08:35.676Z"
   },
   {
    "duration": 1085,
    "start_time": "2022-01-14T10:25:37.882Z"
   },
   {
    "duration": 229,
    "start_time": "2022-01-14T10:25:38.970Z"
   },
   {
    "duration": 18,
    "start_time": "2022-01-14T10:25:39.202Z"
   },
   {
    "duration": 12,
    "start_time": "2022-01-14T10:25:39.223Z"
   },
   {
    "duration": 67,
    "start_time": "2022-01-14T10:25:39.238Z"
   },
   {
    "duration": 144,
    "start_time": "2022-01-14T10:25:39.308Z"
   },
   {
    "duration": 17,
    "start_time": "2022-01-14T10:25:39.455Z"
   },
   {
    "duration": 8,
    "start_time": "2022-01-14T10:25:39.477Z"
   },
   {
    "duration": 8,
    "start_time": "2022-01-14T10:25:39.488Z"
   },
   {
    "duration": 9,
    "start_time": "2022-01-14T10:25:39.499Z"
   },
   {
    "duration": 56,
    "start_time": "2022-01-14T10:25:39.511Z"
   },
   {
    "duration": 7,
    "start_time": "2022-01-14T10:25:39.570Z"
   },
   {
    "duration": 9,
    "start_time": "2022-01-14T10:25:39.580Z"
   },
   {
    "duration": 31,
    "start_time": "2022-01-14T10:25:39.591Z"
   },
   {
    "duration": 64,
    "start_time": "2022-01-14T10:25:39.625Z"
   },
   {
    "duration": 17,
    "start_time": "2022-01-14T10:25:39.691Z"
   },
   {
    "duration": 8,
    "start_time": "2022-01-14T10:25:39.711Z"
   },
   {
    "duration": 53,
    "start_time": "2022-01-14T10:25:39.721Z"
   },
   {
    "duration": 61,
    "start_time": "2022-01-14T10:25:39.777Z"
   },
   {
    "duration": 29,
    "start_time": "2022-01-14T10:25:39.840Z"
   },
   {
    "duration": 26,
    "start_time": "2022-01-14T10:25:39.871Z"
   },
   {
    "duration": 10,
    "start_time": "2022-01-14T10:25:39.900Z"
   },
   {
    "duration": 10,
    "start_time": "2022-01-14T10:25:39.919Z"
   },
   {
    "duration": 42,
    "start_time": "2022-01-14T10:25:39.934Z"
   },
   {
    "duration": 11,
    "start_time": "2022-01-14T10:25:39.978Z"
   },
   {
    "duration": 33,
    "start_time": "2022-01-14T10:25:39.992Z"
   },
   {
    "duration": 8,
    "start_time": "2022-01-14T10:25:40.027Z"
   },
   {
    "duration": 15,
    "start_time": "2022-01-14T10:25:40.068Z"
   },
   {
    "duration": 8,
    "start_time": "2022-01-14T10:25:40.086Z"
   },
   {
    "duration": 20,
    "start_time": "2022-01-14T10:25:40.097Z"
   },
   {
    "duration": 69,
    "start_time": "2022-01-14T10:25:40.120Z"
   },
   {
    "duration": 32,
    "start_time": "2022-01-14T10:25:40.192Z"
   },
   {
    "duration": 48,
    "start_time": "2022-01-14T10:25:40.227Z"
   },
   {
    "duration": 6,
    "start_time": "2022-01-14T10:25:40.278Z"
   },
   {
    "duration": 6,
    "start_time": "2022-01-14T10:25:40.287Z"
   },
   {
    "duration": 1107,
    "start_time": "2022-01-14T10:25:40.296Z"
   },
   {
    "duration": 8,
    "start_time": "2022-01-14T10:25:41.405Z"
   },
   {
    "duration": 707,
    "start_time": "2022-01-14T10:25:41.416Z"
   },
   {
    "duration": 15,
    "start_time": "2022-01-14T10:25:42.125Z"
   },
   {
    "duration": 3316,
    "start_time": "2022-01-14T10:25:42.142Z"
   },
   {
    "duration": 19,
    "start_time": "2022-01-14T10:25:45.461Z"
   },
   {
    "duration": 822,
    "start_time": "2022-01-14T10:25:45.482Z"
   },
   {
    "duration": 14,
    "start_time": "2022-01-14T10:25:46.307Z"
   },
   {
    "duration": 563,
    "start_time": "2022-01-14T10:25:46.323Z"
   },
   {
    "duration": 15,
    "start_time": "2022-01-14T10:25:46.889Z"
   },
   {
    "duration": 844,
    "start_time": "2022-01-14T10:25:46.907Z"
   },
   {
    "duration": 15,
    "start_time": "2022-01-14T10:25:47.754Z"
   },
   {
    "duration": 15,
    "start_time": "2022-01-14T10:25:47.771Z"
   },
   {
    "duration": 19,
    "start_time": "2022-01-14T10:25:47.789Z"
   },
   {
    "duration": 6,
    "start_time": "2022-01-14T10:25:47.811Z"
   },
   {
    "duration": 68,
    "start_time": "2022-01-14T10:25:47.820Z"
   },
   {
    "duration": 307,
    "start_time": "2022-01-14T10:25:47.891Z"
   },
   {
    "duration": 391,
    "start_time": "2022-01-14T10:25:48.200Z"
   },
   {
    "duration": 14,
    "start_time": "2022-01-14T10:25:48.580Z"
   },
   {
    "duration": 11,
    "start_time": "2022-01-14T10:25:48.585Z"
   },
   {
    "duration": 7,
    "start_time": "2022-01-14T10:25:48.591Z"
   },
   {
    "duration": 1,
    "start_time": "2022-01-14T10:25:48.598Z"
   },
   {
    "duration": -4,
    "start_time": "2022-01-14T10:25:48.604Z"
   },
   {
    "duration": -7,
    "start_time": "2022-01-14T10:25:48.609Z"
   },
   {
    "duration": -12,
    "start_time": "2022-01-14T10:25:48.615Z"
   },
   {
    "duration": -16,
    "start_time": "2022-01-14T10:25:48.621Z"
   },
   {
    "duration": -21,
    "start_time": "2022-01-14T10:25:48.627Z"
   },
   {
    "duration": -25,
    "start_time": "2022-01-14T10:25:48.632Z"
   },
   {
    "duration": -29,
    "start_time": "2022-01-14T10:25:48.638Z"
   },
   {
    "duration": -32,
    "start_time": "2022-01-14T10:25:48.642Z"
   },
   {
    "duration": -36,
    "start_time": "2022-01-14T10:25:48.648Z"
   },
   {
    "duration": -40,
    "start_time": "2022-01-14T10:25:48.654Z"
   },
   {
    "duration": -44,
    "start_time": "2022-01-14T10:25:48.660Z"
   },
   {
    "duration": -56,
    "start_time": "2022-01-14T10:25:48.673Z"
   },
   {
    "duration": -61,
    "start_time": "2022-01-14T10:25:48.679Z"
   },
   {
    "duration": -64,
    "start_time": "2022-01-14T10:25:48.684Z"
   },
   {
    "duration": -69,
    "start_time": "2022-01-14T10:25:48.690Z"
   },
   {
    "duration": 3466,
    "start_time": "2022-01-14T10:28:51.475Z"
   },
   {
    "duration": 919,
    "start_time": "2022-01-14T10:29:15.587Z"
   },
   {
    "duration": 652,
    "start_time": "2022-01-14T10:29:48.108Z"
   },
   {
    "duration": 811,
    "start_time": "2022-01-14T10:30:06.245Z"
   },
   {
    "duration": 61,
    "start_time": "2022-01-14T10:30:57.944Z"
   },
   {
    "duration": 60,
    "start_time": "2022-01-14T10:31:21.807Z"
   },
   {
    "duration": 58,
    "start_time": "2022-01-14T10:31:53.332Z"
   },
   {
    "duration": 287,
    "start_time": "2022-01-14T10:35:54.199Z"
   },
   {
    "duration": 313,
    "start_time": "2022-01-14T10:35:58.891Z"
   },
   {
    "duration": 268,
    "start_time": "2022-01-14T10:36:01.992Z"
   },
   {
    "duration": 298,
    "start_time": "2022-01-14T10:37:01.649Z"
   },
   {
    "duration": 60,
    "start_time": "2022-01-14T10:37:46.862Z"
   },
   {
    "duration": 50076,
    "start_time": "2022-01-14T10:39:37.156Z"
   },
   {
    "duration": 349,
    "start_time": "2022-01-14T10:44:39.104Z"
   },
   {
    "duration": 559,
    "start_time": "2022-01-14T10:44:50.299Z"
   },
   {
    "duration": 264,
    "start_time": "2022-01-14T10:45:11.708Z"
   },
   {
    "duration": 1552,
    "start_time": "2022-01-14T10:45:20.833Z"
   },
   {
    "duration": 720,
    "start_time": "2022-01-14T15:08:55.825Z"
   },
   {
    "duration": 253,
    "start_time": "2022-01-14T15:08:56.547Z"
   },
   {
    "duration": 11,
    "start_time": "2022-01-14T15:08:56.805Z"
   },
   {
    "duration": 7,
    "start_time": "2022-01-14T15:08:56.818Z"
   },
   {
    "duration": 55,
    "start_time": "2022-01-14T15:08:56.827Z"
   },
   {
    "duration": 78,
    "start_time": "2022-01-14T15:08:56.884Z"
   },
   {
    "duration": 10,
    "start_time": "2022-01-14T15:08:56.964Z"
   },
   {
    "duration": 5,
    "start_time": "2022-01-14T15:08:56.976Z"
   },
   {
    "duration": 8,
    "start_time": "2022-01-14T15:08:56.983Z"
   },
   {
    "duration": 7,
    "start_time": "2022-01-14T15:08:56.993Z"
   },
   {
    "duration": 16,
    "start_time": "2022-01-14T15:08:57.002Z"
   },
   {
    "duration": 6,
    "start_time": "2022-01-14T15:08:57.020Z"
   },
   {
    "duration": 5,
    "start_time": "2022-01-14T15:08:57.028Z"
   },
   {
    "duration": 42,
    "start_time": "2022-01-14T15:08:57.035Z"
   },
   {
    "duration": 17,
    "start_time": "2022-01-14T15:08:57.079Z"
   },
   {
    "duration": 11,
    "start_time": "2022-01-14T15:08:57.098Z"
   },
   {
    "duration": 5,
    "start_time": "2022-01-14T15:08:57.111Z"
   },
   {
    "duration": 16,
    "start_time": "2022-01-14T15:08:57.117Z"
   },
   {
    "duration": 29,
    "start_time": "2022-01-14T15:08:57.161Z"
   },
   {
    "duration": 6,
    "start_time": "2022-01-14T15:08:57.192Z"
   },
   {
    "duration": 6,
    "start_time": "2022-01-14T15:08:57.200Z"
   },
   {
    "duration": 5,
    "start_time": "2022-01-14T15:08:57.210Z"
   },
   {
    "duration": 5,
    "start_time": "2022-01-14T15:08:57.217Z"
   },
   {
    "duration": 43,
    "start_time": "2022-01-14T15:08:57.224Z"
   },
   {
    "duration": 7,
    "start_time": "2022-01-14T15:08:57.269Z"
   },
   {
    "duration": 23,
    "start_time": "2022-01-14T15:08:57.278Z"
   },
   {
    "duration": 6,
    "start_time": "2022-01-14T15:08:57.303Z"
   },
   {
    "duration": 10,
    "start_time": "2022-01-14T15:08:57.311Z"
   },
   {
    "duration": 40,
    "start_time": "2022-01-14T15:08:57.322Z"
   },
   {
    "duration": 12,
    "start_time": "2022-01-14T15:08:57.364Z"
   },
   {
    "duration": 20,
    "start_time": "2022-01-14T15:08:57.378Z"
   },
   {
    "duration": 16,
    "start_time": "2022-01-14T15:08:57.400Z"
   },
   {
    "duration": 10,
    "start_time": "2022-01-14T15:08:57.417Z"
   },
   {
    "duration": 5,
    "start_time": "2022-01-14T15:08:57.461Z"
   },
   {
    "duration": 8,
    "start_time": "2022-01-14T15:08:57.467Z"
   },
   {
    "duration": 584,
    "start_time": "2022-01-14T15:08:57.476Z"
   },
   {
    "duration": 6,
    "start_time": "2022-01-14T15:08:58.062Z"
   },
   {
    "duration": 454,
    "start_time": "2022-01-14T15:08:58.070Z"
   },
   {
    "duration": 10,
    "start_time": "2022-01-14T15:08:58.526Z"
   },
   {
    "duration": 1926,
    "start_time": "2022-01-14T15:08:58.537Z"
   },
   {
    "duration": 12,
    "start_time": "2022-01-14T15:09:00.465Z"
   },
   {
    "duration": 501,
    "start_time": "2022-01-14T15:09:00.479Z"
   },
   {
    "duration": 12,
    "start_time": "2022-01-14T15:09:00.982Z"
   },
   {
    "duration": 365,
    "start_time": "2022-01-14T15:09:00.995Z"
   },
   {
    "duration": 13,
    "start_time": "2022-01-14T15:09:01.362Z"
   },
   {
    "duration": 527,
    "start_time": "2022-01-14T15:09:01.376Z"
   },
   {
    "duration": 5,
    "start_time": "2022-01-14T15:09:01.905Z"
   },
   {
    "duration": 12,
    "start_time": "2022-01-14T15:09:01.911Z"
   },
   {
    "duration": 15,
    "start_time": "2022-01-14T15:09:01.925Z"
   },
   {
    "duration": 21,
    "start_time": "2022-01-14T15:09:01.941Z"
   },
   {
    "duration": 21,
    "start_time": "2022-01-14T15:09:01.963Z"
   },
   {
    "duration": 191,
    "start_time": "2022-01-14T15:09:01.986Z"
   },
   {
    "duration": 40,
    "start_time": "2022-01-14T15:09:02.179Z"
   },
   {
    "duration": 1347,
    "start_time": "2022-01-14T15:09:02.220Z"
   },
   {
    "duration": -1016,
    "start_time": "2022-01-14T15:09:04.585Z"
   },
   {
    "duration": -1021,
    "start_time": "2022-01-14T15:09:04.591Z"
   },
   {
    "duration": -1027,
    "start_time": "2022-01-14T15:09:04.598Z"
   },
   {
    "duration": -1031,
    "start_time": "2022-01-14T15:09:04.603Z"
   },
   {
    "duration": -1035,
    "start_time": "2022-01-14T15:09:04.608Z"
   },
   {
    "duration": -1040,
    "start_time": "2022-01-14T15:09:04.614Z"
   },
   {
    "duration": -1218,
    "start_time": "2022-01-14T15:09:04.792Z"
   },
   {
    "duration": -1057,
    "start_time": "2022-01-14T15:09:04.798Z"
   },
   {
    "duration": -1061,
    "start_time": "2022-01-14T15:09:04.803Z"
   },
   {
    "duration": -1066,
    "start_time": "2022-01-14T15:09:04.809Z"
   },
   {
    "duration": -1070,
    "start_time": "2022-01-14T15:09:04.814Z"
   },
   {
    "duration": -1075,
    "start_time": "2022-01-14T15:09:04.820Z"
   },
   {
    "duration": -1079,
    "start_time": "2022-01-14T15:09:04.825Z"
   },
   {
    "duration": -1085,
    "start_time": "2022-01-14T15:09:04.831Z"
   },
   {
    "duration": -1089,
    "start_time": "2022-01-14T15:09:04.836Z"
   },
   {
    "duration": -1094,
    "start_time": "2022-01-14T15:09:04.842Z"
   },
   {
    "duration": -1097,
    "start_time": "2022-01-14T15:09:04.846Z"
   },
   {
    "duration": -1102,
    "start_time": "2022-01-14T15:09:04.852Z"
   },
   {
    "duration": -1097,
    "start_time": "2022-01-14T15:09:04.857Z"
   },
   {
    "duration": 377,
    "start_time": "2022-01-14T18:35:42.416Z"
   },
   {
    "duration": 1000,
    "start_time": "2022-01-14T18:35:49.752Z"
   },
   {
    "duration": 198,
    "start_time": "2022-01-14T18:35:50.754Z"
   },
   {
    "duration": 17,
    "start_time": "2022-01-14T18:35:50.955Z"
   },
   {
    "duration": 41,
    "start_time": "2022-01-14T18:35:50.974Z"
   },
   {
    "duration": 12,
    "start_time": "2022-01-14T18:35:51.018Z"
   },
   {
    "duration": 75,
    "start_time": "2022-01-14T18:35:51.033Z"
   },
   {
    "duration": 127,
    "start_time": "2022-01-14T18:35:51.111Z"
   },
   {
    "duration": 29,
    "start_time": "2022-01-14T18:35:51.244Z"
   },
   {
    "duration": 6,
    "start_time": "2022-01-14T18:35:51.276Z"
   },
   {
    "duration": 6,
    "start_time": "2022-01-14T18:35:51.285Z"
   },
   {
    "duration": 7,
    "start_time": "2022-01-14T18:35:51.293Z"
   },
   {
    "duration": 10,
    "start_time": "2022-01-14T18:35:51.303Z"
   },
   {
    "duration": 7,
    "start_time": "2022-01-14T18:35:51.315Z"
   },
   {
    "duration": 7,
    "start_time": "2022-01-14T18:35:51.368Z"
   },
   {
    "duration": 25,
    "start_time": "2022-01-14T18:35:51.378Z"
   },
   {
    "duration": 20,
    "start_time": "2022-01-14T18:35:51.405Z"
   },
   {
    "duration": 17,
    "start_time": "2022-01-14T18:35:51.467Z"
   },
   {
    "duration": 7,
    "start_time": "2022-01-14T18:35:51.487Z"
   },
   {
    "duration": 18,
    "start_time": "2022-01-14T18:35:51.496Z"
   },
   {
    "duration": 89,
    "start_time": "2022-01-14T18:35:51.516Z"
   },
   {
    "duration": 9,
    "start_time": "2022-01-14T18:35:51.607Z"
   },
   {
    "duration": 6,
    "start_time": "2022-01-14T18:35:51.618Z"
   },
   {
    "duration": 37,
    "start_time": "2022-01-14T18:35:51.631Z"
   },
   {
    "duration": 8,
    "start_time": "2022-01-14T18:35:51.673Z"
   },
   {
    "duration": 13,
    "start_time": "2022-01-14T18:35:51.684Z"
   },
   {
    "duration": 9,
    "start_time": "2022-01-14T18:35:51.700Z"
   },
   {
    "duration": 68,
    "start_time": "2022-01-14T18:35:51.712Z"
   },
   {
    "duration": 6,
    "start_time": "2022-01-14T18:35:51.783Z"
   },
   {
    "duration": 17,
    "start_time": "2022-01-14T18:35:51.792Z"
   },
   {
    "duration": 6,
    "start_time": "2022-01-14T18:35:51.811Z"
   },
   {
    "duration": 48,
    "start_time": "2022-01-14T18:35:51.819Z"
   },
   {
    "duration": 31,
    "start_time": "2022-01-14T18:35:51.870Z"
   },
   {
    "duration": 23,
    "start_time": "2022-01-14T18:35:51.903Z"
   },
   {
    "duration": 46,
    "start_time": "2022-01-14T18:35:51.929Z"
   },
   {
    "duration": 5,
    "start_time": "2022-01-14T18:35:51.978Z"
   },
   {
    "duration": 6,
    "start_time": "2022-01-14T18:35:51.987Z"
   },
   {
    "duration": 1013,
    "start_time": "2022-01-14T18:35:51.996Z"
   },
   {
    "duration": 7,
    "start_time": "2022-01-14T18:35:53.011Z"
   },
   {
    "duration": 715,
    "start_time": "2022-01-14T18:35:53.020Z"
   },
   {
    "duration": 30,
    "start_time": "2022-01-14T18:35:53.737Z"
   },
   {
    "duration": 3287,
    "start_time": "2022-01-14T18:35:53.769Z"
   },
   {
    "duration": 22,
    "start_time": "2022-01-14T18:35:57.058Z"
   },
   {
    "duration": 814,
    "start_time": "2022-01-14T18:35:57.082Z"
   },
   {
    "duration": 15,
    "start_time": "2022-01-14T18:35:57.898Z"
   },
   {
    "duration": 571,
    "start_time": "2022-01-14T18:35:57.916Z"
   },
   {
    "duration": 16,
    "start_time": "2022-01-14T18:35:58.489Z"
   },
   {
    "duration": 836,
    "start_time": "2022-01-14T18:35:58.508Z"
   },
   {
    "duration": 6,
    "start_time": "2022-01-14T18:35:59.347Z"
   },
   {
    "duration": 16,
    "start_time": "2022-01-14T18:35:59.355Z"
   },
   {
    "duration": 13,
    "start_time": "2022-01-14T18:35:59.374Z"
   },
   {
    "duration": 6,
    "start_time": "2022-01-14T18:35:59.389Z"
   },
   {
    "duration": 71,
    "start_time": "2022-01-14T18:35:59.398Z"
   },
   {
    "duration": 388,
    "start_time": "2022-01-14T18:35:59.472Z"
   },
   {
    "duration": 59,
    "start_time": "2022-01-14T18:35:59.866Z"
   },
   {
    "duration": 1856,
    "start_time": "2022-01-14T18:35:59.927Z"
   },
   {
    "duration": -1206,
    "start_time": "2022-01-14T18:36:02.992Z"
   },
   {
    "duration": -1218,
    "start_time": "2022-01-14T18:36:03.005Z"
   },
   {
    "duration": -1222,
    "start_time": "2022-01-14T18:36:03.011Z"
   },
   {
    "duration": -1227,
    "start_time": "2022-01-14T18:36:03.017Z"
   },
   {
    "duration": -1230,
    "start_time": "2022-01-14T18:36:03.022Z"
   },
   {
    "duration": -1235,
    "start_time": "2022-01-14T18:36:03.028Z"
   },
   {
    "duration": -1240,
    "start_time": "2022-01-14T18:36:03.034Z"
   },
   {
    "duration": -1407,
    "start_time": "2022-01-14T18:36:03.202Z"
   },
   {
    "duration": -1235,
    "start_time": "2022-01-14T18:36:03.210Z"
   },
   {
    "duration": -1239,
    "start_time": "2022-01-14T18:36:03.215Z"
   },
   {
    "duration": -1244,
    "start_time": "2022-01-14T18:36:03.221Z"
   },
   {
    "duration": -1248,
    "start_time": "2022-01-14T18:36:03.227Z"
   },
   {
    "duration": -1252,
    "start_time": "2022-01-14T18:36:03.233Z"
   },
   {
    "duration": -1256,
    "start_time": "2022-01-14T18:36:03.238Z"
   },
   {
    "duration": -1261,
    "start_time": "2022-01-14T18:36:03.245Z"
   },
   {
    "duration": -1265,
    "start_time": "2022-01-14T18:36:03.250Z"
   },
   {
    "duration": -1270,
    "start_time": "2022-01-14T18:36:03.257Z"
   },
   {
    "duration": -1314,
    "start_time": "2022-01-14T18:36:03.302Z"
   },
   {
    "duration": -1322,
    "start_time": "2022-01-14T18:36:03.312Z"
   },
   {
    "duration": 50,
    "start_time": "2022-01-14T18:37:18.732Z"
   },
   {
    "duration": 940,
    "start_time": "2022-01-14T18:37:52.030Z"
   },
   {
    "duration": 209,
    "start_time": "2022-01-14T18:37:52.973Z"
   },
   {
    "duration": 16,
    "start_time": "2022-01-14T18:37:53.185Z"
   },
   {
    "duration": 34,
    "start_time": "2022-01-14T18:37:53.204Z"
   },
   {
    "duration": 35,
    "start_time": "2022-01-14T18:37:53.241Z"
   },
   {
    "duration": 41,
    "start_time": "2022-01-14T18:37:53.278Z"
   },
   {
    "duration": 134,
    "start_time": "2022-01-14T18:37:53.322Z"
   },
   {
    "duration": 18,
    "start_time": "2022-01-14T18:37:53.461Z"
   },
   {
    "duration": 8,
    "start_time": "2022-01-14T18:37:53.483Z"
   },
   {
    "duration": 12,
    "start_time": "2022-01-14T18:37:53.493Z"
   },
   {
    "duration": 8,
    "start_time": "2022-01-14T18:37:53.508Z"
   },
   {
    "duration": 13,
    "start_time": "2022-01-14T18:37:53.566Z"
   },
   {
    "duration": 8,
    "start_time": "2022-01-14T18:37:53.583Z"
   },
   {
    "duration": 13,
    "start_time": "2022-01-14T18:37:53.594Z"
   },
   {
    "duration": 60,
    "start_time": "2022-01-14T18:37:53.609Z"
   },
   {
    "duration": 28,
    "start_time": "2022-01-14T18:37:53.672Z"
   },
   {
    "duration": 22,
    "start_time": "2022-01-14T18:37:53.704Z"
   },
   {
    "duration": 11,
    "start_time": "2022-01-14T18:37:53.729Z"
   },
   {
    "duration": 18,
    "start_time": "2022-01-14T18:37:53.768Z"
   },
   {
    "duration": 89,
    "start_time": "2022-01-14T18:37:53.789Z"
   },
   {
    "duration": 8,
    "start_time": "2022-01-14T18:37:53.880Z"
   },
   {
    "duration": 6,
    "start_time": "2022-01-14T18:37:53.891Z"
   },
   {
    "duration": 7,
    "start_time": "2022-01-14T18:37:53.903Z"
   },
   {
    "duration": 54,
    "start_time": "2022-01-14T18:37:53.914Z"
   },
   {
    "duration": 16,
    "start_time": "2022-01-14T18:37:53.971Z"
   },
   {
    "duration": 8,
    "start_time": "2022-01-14T18:37:53.989Z"
   },
   {
    "duration": 30,
    "start_time": "2022-01-14T18:37:53.999Z"
   },
   {
    "duration": 7,
    "start_time": "2022-01-14T18:37:54.068Z"
   },
   {
    "duration": 13,
    "start_time": "2022-01-14T18:37:54.077Z"
   },
   {
    "duration": 8,
    "start_time": "2022-01-14T18:37:54.092Z"
   },
   {
    "duration": 17,
    "start_time": "2022-01-14T18:37:54.103Z"
   },
   {
    "duration": 29,
    "start_time": "2022-01-14T18:37:54.167Z"
   },
   {
    "duration": 34,
    "start_time": "2022-01-14T18:37:54.199Z"
   },
   {
    "duration": 43,
    "start_time": "2022-01-14T18:37:54.237Z"
   },
   {
    "duration": 7,
    "start_time": "2022-01-14T18:37:54.284Z"
   },
   {
    "duration": 12,
    "start_time": "2022-01-14T18:37:54.294Z"
   },
   {
    "duration": 1198,
    "start_time": "2022-01-14T18:37:54.309Z"
   },
   {
    "duration": 9,
    "start_time": "2022-01-14T18:37:55.509Z"
   },
   {
    "duration": 866,
    "start_time": "2022-01-14T18:37:55.521Z"
   },
   {
    "duration": 14,
    "start_time": "2022-01-14T18:37:56.390Z"
   },
   {
    "duration": 3447,
    "start_time": "2022-01-14T18:37:56.407Z"
   },
   {
    "duration": 23,
    "start_time": "2022-01-14T18:37:59.857Z"
   },
   {
    "duration": 817,
    "start_time": "2022-01-14T18:37:59.882Z"
   },
   {
    "duration": 14,
    "start_time": "2022-01-14T18:38:00.702Z"
   },
   {
    "duration": 589,
    "start_time": "2022-01-14T18:38:00.719Z"
   },
   {
    "duration": 19,
    "start_time": "2022-01-14T18:38:01.311Z"
   },
   {
    "duration": 867,
    "start_time": "2022-01-14T18:38:01.332Z"
   },
   {
    "duration": 7,
    "start_time": "2022-01-14T18:38:02.202Z"
   },
   {
    "duration": 20,
    "start_time": "2022-01-14T18:38:02.212Z"
   },
   {
    "duration": 35,
    "start_time": "2022-01-14T18:38:02.235Z"
   },
   {
    "duration": 6,
    "start_time": "2022-01-14T18:38:02.273Z"
   },
   {
    "duration": 38,
    "start_time": "2022-01-14T18:38:02.281Z"
   },
   {
    "duration": 310,
    "start_time": "2022-01-14T18:38:02.321Z"
   },
   {
    "duration": 73,
    "start_time": "2022-01-14T18:38:02.633Z"
   },
   {
    "duration": 1566,
    "start_time": "2022-01-14T18:38:02.708Z"
   },
   {
    "duration": -1226,
    "start_time": "2022-01-14T18:38:05.503Z"
   },
   {
    "duration": -1231,
    "start_time": "2022-01-14T18:38:05.510Z"
   },
   {
    "duration": -1237,
    "start_time": "2022-01-14T18:38:05.518Z"
   },
   {
    "duration": -1241,
    "start_time": "2022-01-14T18:38:05.524Z"
   },
   {
    "duration": -1248,
    "start_time": "2022-01-14T18:38:05.533Z"
   },
   {
    "duration": -1253,
    "start_time": "2022-01-14T18:38:05.539Z"
   },
   {
    "duration": -1258,
    "start_time": "2022-01-14T18:38:05.546Z"
   },
   {
    "duration": -1263,
    "start_time": "2022-01-14T18:38:05.552Z"
   },
   {
    "duration": -1444,
    "start_time": "2022-01-14T18:38:05.735Z"
   },
   {
    "duration": -1250,
    "start_time": "2022-01-14T18:38:05.741Z"
   },
   {
    "duration": -1253,
    "start_time": "2022-01-14T18:38:05.746Z"
   },
   {
    "duration": -1258,
    "start_time": "2022-01-14T18:38:05.752Z"
   },
   {
    "duration": -1265,
    "start_time": "2022-01-14T18:38:05.760Z"
   },
   {
    "duration": -1288,
    "start_time": "2022-01-14T18:38:05.785Z"
   },
   {
    "duration": -1293,
    "start_time": "2022-01-14T18:38:05.791Z"
   },
   {
    "duration": -1298,
    "start_time": "2022-01-14T18:38:05.798Z"
   },
   {
    "duration": -1308,
    "start_time": "2022-01-14T18:38:05.809Z"
   },
   {
    "duration": -1314,
    "start_time": "2022-01-14T18:38:05.817Z"
   },
   {
    "duration": -1328,
    "start_time": "2022-01-14T18:38:05.832Z"
   },
   {
    "duration": 5,
    "start_time": "2022-01-14T19:00:15.744Z"
   },
   {
    "duration": 1117,
    "start_time": "2022-01-14T19:00:16.950Z"
   },
   {
    "duration": 4,
    "start_time": "2022-01-14T19:01:05.613Z"
   },
   {
    "duration": 3020,
    "start_time": "2022-01-14T19:01:06.343Z"
   },
   {
    "duration": 5,
    "start_time": "2022-01-14T19:05:09.596Z"
   },
   {
    "duration": 1194,
    "start_time": "2022-01-14T19:05:10.069Z"
   },
   {
    "duration": 588,
    "start_time": "2022-01-14T19:06:35.517Z"
   },
   {
    "duration": 592,
    "start_time": "2022-01-14T19:07:11.578Z"
   },
   {
    "duration": 6,
    "start_time": "2022-01-14T19:07:43.137Z"
   },
   {
    "duration": 2790,
    "start_time": "2022-01-14T19:07:43.660Z"
   },
   {
    "duration": 4,
    "start_time": "2022-01-14T19:08:07.755Z"
   },
   {
    "duration": 801,
    "start_time": "2022-01-14T19:08:09.872Z"
   },
   {
    "duration": 9,
    "start_time": "2022-01-14T19:10:41.850Z"
   },
   {
    "duration": 328,
    "start_time": "2022-01-14T19:11:14.844Z"
   },
   {
    "duration": 271,
    "start_time": "2022-01-14T19:12:07.299Z"
   },
   {
    "duration": 95,
    "start_time": "2022-01-14T19:12:25.168Z"
   },
   {
    "duration": 9,
    "start_time": "2022-01-14T19:12:34.649Z"
   },
   {
    "duration": 26,
    "start_time": "2022-01-14T19:13:31.383Z"
   },
   {
    "duration": 12,
    "start_time": "2022-01-14T19:13:42.659Z"
   },
   {
    "duration": 12,
    "start_time": "2022-01-14T19:14:57.280Z"
   },
   {
    "duration": 982,
    "start_time": "2022-01-14T19:15:10.992Z"
   },
   {
    "duration": 225,
    "start_time": "2022-01-14T19:15:11.978Z"
   },
   {
    "duration": 17,
    "start_time": "2022-01-14T19:15:12.207Z"
   },
   {
    "duration": 70,
    "start_time": "2022-01-14T19:15:12.227Z"
   },
   {
    "duration": 13,
    "start_time": "2022-01-14T19:15:12.300Z"
   },
   {
    "duration": 68,
    "start_time": "2022-01-14T19:15:12.316Z"
   },
   {
    "duration": 177,
    "start_time": "2022-01-14T19:15:12.387Z"
   },
   {
    "duration": 13,
    "start_time": "2022-01-14T19:15:12.569Z"
   },
   {
    "duration": 8,
    "start_time": "2022-01-14T19:15:12.586Z"
   },
   {
    "duration": 7,
    "start_time": "2022-01-14T19:15:12.598Z"
   },
   {
    "duration": 7,
    "start_time": "2022-01-14T19:15:12.608Z"
   },
   {
    "duration": 13,
    "start_time": "2022-01-14T19:15:12.667Z"
   },
   {
    "duration": 9,
    "start_time": "2022-01-14T19:15:12.682Z"
   },
   {
    "duration": 9,
    "start_time": "2022-01-14T19:15:12.694Z"
   },
   {
    "duration": 71,
    "start_time": "2022-01-14T19:15:12.705Z"
   },
   {
    "duration": 21,
    "start_time": "2022-01-14T19:15:12.778Z"
   },
   {
    "duration": 16,
    "start_time": "2022-01-14T19:15:12.802Z"
   },
   {
    "duration": 8,
    "start_time": "2022-01-14T19:15:12.820Z"
   },
   {
    "duration": 17,
    "start_time": "2022-01-14T19:15:12.868Z"
   },
   {
    "duration": 46,
    "start_time": "2022-01-14T19:15:12.887Z"
   },
   {
    "duration": 10,
    "start_time": "2022-01-14T19:15:12.969Z"
   },
   {
    "duration": 8,
    "start_time": "2022-01-14T19:15:12.982Z"
   },
   {
    "duration": 9,
    "start_time": "2022-01-14T19:15:13.000Z"
   },
   {
    "duration": 58,
    "start_time": "2022-01-14T19:15:13.015Z"
   },
   {
    "duration": 19,
    "start_time": "2022-01-14T19:15:13.076Z"
   },
   {
    "duration": 10,
    "start_time": "2022-01-14T19:15:13.098Z"
   },
   {
    "duration": 63,
    "start_time": "2022-01-14T19:15:13.111Z"
   },
   {
    "duration": 98,
    "start_time": "2022-01-14T19:15:13.178Z"
   },
   {
    "duration": 27,
    "start_time": "2022-01-14T19:15:13.279Z"
   },
   {
    "duration": 8,
    "start_time": "2022-01-14T19:15:13.309Z"
   },
   {
    "duration": 50,
    "start_time": "2022-01-14T19:15:13.320Z"
   },
   {
    "duration": 8,
    "start_time": "2022-01-14T19:15:13.373Z"
   },
   {
    "duration": 18,
    "start_time": "2022-01-14T19:15:13.384Z"
   },
   {
    "duration": 62,
    "start_time": "2022-01-14T19:15:13.405Z"
   },
   {
    "duration": 34,
    "start_time": "2022-01-14T19:15:13.470Z"
   },
   {
    "duration": 25,
    "start_time": "2022-01-14T19:15:13.517Z"
   },
   {
    "duration": 22,
    "start_time": "2022-01-14T19:15:13.545Z"
   },
   {
    "duration": 4,
    "start_time": "2022-01-14T19:15:13.570Z"
   },
   {
    "duration": 1217,
    "start_time": "2022-01-14T19:15:13.577Z"
   },
   {
    "duration": 7,
    "start_time": "2022-01-14T19:15:14.797Z"
   },
   {
    "duration": 753,
    "start_time": "2022-01-14T19:15:14.808Z"
   },
   {
    "duration": 18,
    "start_time": "2022-01-14T19:15:15.568Z"
   },
   {
    "duration": 3493,
    "start_time": "2022-01-14T19:15:15.589Z"
   },
   {
    "duration": 18,
    "start_time": "2022-01-14T19:15:19.085Z"
   },
   {
    "duration": 1368,
    "start_time": "2022-01-14T19:15:19.106Z"
   },
   {
    "duration": 22,
    "start_time": "2022-01-14T19:15:20.477Z"
   },
   {
    "duration": 582,
    "start_time": "2022-01-14T19:15:20.502Z"
   },
   {
    "duration": 17,
    "start_time": "2022-01-14T19:15:21.086Z"
   },
   {
    "duration": 872,
    "start_time": "2022-01-14T19:15:21.106Z"
   },
   {
    "duration": 7,
    "start_time": "2022-01-14T19:15:21.980Z"
   },
   {
    "duration": 8,
    "start_time": "2022-01-14T19:15:21.989Z"
   },
   {
    "duration": 16,
    "start_time": "2022-01-14T19:15:21.999Z"
   },
   {
    "duration": 50,
    "start_time": "2022-01-14T19:15:22.018Z"
   },
   {
    "duration": 31,
    "start_time": "2022-01-14T19:15:22.071Z"
   },
   {
    "duration": 302,
    "start_time": "2022-01-14T19:15:22.104Z"
   },
   {
    "duration": 74,
    "start_time": "2022-01-14T19:15:22.409Z"
   },
   {
    "duration": 1859,
    "start_time": "2022-01-14T19:15:22.487Z"
   },
   {
    "duration": -24,
    "start_time": "2022-01-14T19:15:24.373Z"
   },
   {
    "duration": -28,
    "start_time": "2022-01-14T19:15:24.379Z"
   },
   {
    "duration": -42,
    "start_time": "2022-01-14T19:15:24.394Z"
   },
   {
    "duration": -52,
    "start_time": "2022-01-14T19:15:24.406Z"
   },
   {
    "duration": -123,
    "start_time": "2022-01-14T19:15:24.478Z"
   },
   {
    "duration": -11,
    "start_time": "2022-01-14T19:15:24.508Z"
   },
   {
    "duration": -15,
    "start_time": "2022-01-14T19:15:24.513Z"
   },
   {
    "duration": -67,
    "start_time": "2022-01-14T19:15:24.567Z"
   },
   {
    "duration": -99,
    "start_time": "2022-01-14T19:15:24.600Z"
   },
   {
    "duration": -126,
    "start_time": "2022-01-14T19:15:24.628Z"
   },
   {
    "duration": -145,
    "start_time": "2022-01-14T19:15:24.648Z"
   },
   {
    "duration": -172,
    "start_time": "2022-01-14T19:15:24.677Z"
   },
   {
    "duration": -176,
    "start_time": "2022-01-14T19:15:24.683Z"
   },
   {
    "duration": -180,
    "start_time": "2022-01-14T19:15:24.688Z"
   },
   {
    "duration": -186,
    "start_time": "2022-01-14T19:15:24.695Z"
   },
   {
    "duration": -198,
    "start_time": "2022-01-14T19:15:24.709Z"
   },
   {
    "duration": -210,
    "start_time": "2022-01-14T19:15:24.722Z"
   },
   {
    "duration": -215,
    "start_time": "2022-01-14T19:15:24.728Z"
   },
   {
    "duration": -226,
    "start_time": "2022-01-14T19:15:24.741Z"
   },
   {
    "duration": 29,
    "start_time": "2022-01-14T19:16:33.137Z"
   },
   {
    "duration": 284,
    "start_time": "2022-01-14T19:23:08.150Z"
   },
   {
    "duration": 33,
    "start_time": "2022-01-14T19:23:22.006Z"
   },
   {
    "duration": 1009,
    "start_time": "2022-01-14T19:27:02.876Z"
   },
   {
    "duration": 266,
    "start_time": "2022-01-14T19:27:03.887Z"
   },
   {
    "duration": 18,
    "start_time": "2022-01-14T19:27:04.156Z"
   },
   {
    "duration": 36,
    "start_time": "2022-01-14T19:27:04.177Z"
   },
   {
    "duration": 11,
    "start_time": "2022-01-14T19:27:04.215Z"
   },
   {
    "duration": 77,
    "start_time": "2022-01-14T19:27:04.229Z"
   },
   {
    "duration": 119,
    "start_time": "2022-01-14T19:27:04.309Z"
   },
   {
    "duration": 17,
    "start_time": "2022-01-14T19:27:04.431Z"
   },
   {
    "duration": 8,
    "start_time": "2022-01-14T19:27:04.467Z"
   },
   {
    "duration": 9,
    "start_time": "2022-01-14T19:27:04.478Z"
   },
   {
    "duration": 10,
    "start_time": "2022-01-14T19:27:04.490Z"
   },
   {
    "duration": 18,
    "start_time": "2022-01-14T19:27:04.503Z"
   },
   {
    "duration": 52,
    "start_time": "2022-01-14T19:27:04.524Z"
   },
   {
    "duration": 9,
    "start_time": "2022-01-14T19:27:04.579Z"
   },
   {
    "duration": 32,
    "start_time": "2022-01-14T19:27:04.591Z"
   },
   {
    "duration": 58,
    "start_time": "2022-01-14T19:27:04.625Z"
   },
   {
    "duration": 20,
    "start_time": "2022-01-14T19:27:04.685Z"
   },
   {
    "duration": 11,
    "start_time": "2022-01-14T19:27:04.708Z"
   },
   {
    "duration": 58,
    "start_time": "2022-01-14T19:27:04.722Z"
   },
   {
    "duration": 94,
    "start_time": "2022-01-14T19:27:04.783Z"
   },
   {
    "duration": 10,
    "start_time": "2022-01-14T19:27:04.881Z"
   },
   {
    "duration": 7,
    "start_time": "2022-01-14T19:27:04.894Z"
   },
   {
    "duration": 9,
    "start_time": "2022-01-14T19:27:04.909Z"
   },
   {
    "duration": 10,
    "start_time": "2022-01-14T19:27:04.971Z"
   },
   {
    "duration": 16,
    "start_time": "2022-01-14T19:27:04.985Z"
   },
   {
    "duration": 9,
    "start_time": "2022-01-14T19:27:05.004Z"
   },
   {
    "duration": 70,
    "start_time": "2022-01-14T19:27:05.016Z"
   },
   {
    "duration": 7,
    "start_time": "2022-01-14T19:27:05.089Z"
   },
   {
    "duration": 17,
    "start_time": "2022-01-14T19:27:05.099Z"
   },
   {
    "duration": 8,
    "start_time": "2022-01-14T19:27:05.119Z"
   },
   {
    "duration": 19,
    "start_time": "2022-01-14T19:27:05.168Z"
   },
   {
    "duration": 30,
    "start_time": "2022-01-14T19:27:05.189Z"
   },
   {
    "duration": 53,
    "start_time": "2022-01-14T19:27:05.233Z"
   },
   {
    "duration": 19,
    "start_time": "2022-01-14T19:27:05.289Z"
   },
   {
    "duration": 9,
    "start_time": "2022-01-14T19:27:05.312Z"
   },
   {
    "duration": 8,
    "start_time": "2022-01-14T19:27:05.324Z"
   },
   {
    "duration": 2013,
    "start_time": "2022-01-14T19:27:05.335Z"
   },
   {
    "duration": 18,
    "start_time": "2022-01-14T19:27:07.352Z"
   },
   {
    "duration": 1148,
    "start_time": "2022-01-14T19:27:07.373Z"
   },
   {
    "duration": 22,
    "start_time": "2022-01-14T19:27:08.524Z"
   },
   {
    "duration": 5899,
    "start_time": "2022-01-14T19:27:08.568Z"
   },
   {
    "duration": 22,
    "start_time": "2022-01-14T19:27:14.470Z"
   },
   {
    "duration": 1371,
    "start_time": "2022-01-14T19:27:14.496Z"
   },
   {
    "duration": 16,
    "start_time": "2022-01-14T19:27:15.869Z"
   },
   {
    "duration": 574,
    "start_time": "2022-01-14T19:27:15.887Z"
   },
   {
    "duration": 18,
    "start_time": "2022-01-14T19:27:16.467Z"
   },
   {
    "duration": 818,
    "start_time": "2022-01-14T19:27:16.487Z"
   },
   {
    "duration": 6,
    "start_time": "2022-01-14T19:27:17.308Z"
   },
   {
    "duration": 8,
    "start_time": "2022-01-14T19:27:17.317Z"
   },
   {
    "duration": 50,
    "start_time": "2022-01-14T19:27:17.328Z"
   },
   {
    "duration": 7,
    "start_time": "2022-01-14T19:27:17.381Z"
   },
   {
    "duration": 31,
    "start_time": "2022-01-14T19:27:17.391Z"
   },
   {
    "duration": 319,
    "start_time": "2022-01-14T19:27:17.425Z"
   },
   {
    "duration": 66,
    "start_time": "2022-01-14T19:27:17.746Z"
   },
   {
    "duration": 53,
    "start_time": "2022-01-14T19:27:17.814Z"
   },
   {
    "duration": 1493,
    "start_time": "2022-01-14T19:27:17.870Z"
   },
   {
    "duration": 9,
    "start_time": "2022-01-14T19:27:19.492Z"
   },
   {
    "duration": -11,
    "start_time": "2022-01-14T19:27:19.514Z"
   },
   {
    "duration": -16,
    "start_time": "2022-01-14T19:27:19.520Z"
   },
   {
    "duration": -27,
    "start_time": "2022-01-14T19:27:19.533Z"
   },
   {
    "duration": -39,
    "start_time": "2022-01-14T19:27:19.546Z"
   },
   {
    "duration": -44,
    "start_time": "2022-01-14T19:27:19.553Z"
   },
   {
    "duration": -55,
    "start_time": "2022-01-14T19:27:19.565Z"
   },
   {
    "duration": -66,
    "start_time": "2022-01-14T19:27:19.578Z"
   },
   {
    "duration": -71,
    "start_time": "2022-01-14T19:27:19.584Z"
   },
   {
    "duration": -81,
    "start_time": "2022-01-14T19:27:19.596Z"
   },
   {
    "duration": -87,
    "start_time": "2022-01-14T19:27:19.603Z"
   },
   {
    "duration": -90,
    "start_time": "2022-01-14T19:27:19.608Z"
   },
   {
    "duration": -95,
    "start_time": "2022-01-14T19:27:19.614Z"
   },
   {
    "duration": -101,
    "start_time": "2022-01-14T19:27:19.621Z"
   },
   {
    "duration": -105,
    "start_time": "2022-01-14T19:27:19.627Z"
   },
   {
    "duration": -109,
    "start_time": "2022-01-14T19:27:19.632Z"
   },
   {
    "duration": -114,
    "start_time": "2022-01-14T19:27:19.639Z"
   },
   {
    "duration": -118,
    "start_time": "2022-01-14T19:27:19.644Z"
   },
   {
    "duration": 1331,
    "start_time": "2022-01-14T19:28:15.149Z"
   },
   {
    "duration": 909,
    "start_time": "2022-01-14T19:40:07.115Z"
   },
   {
    "duration": 209,
    "start_time": "2022-01-14T19:40:08.027Z"
   },
   {
    "duration": 27,
    "start_time": "2022-01-14T19:40:08.240Z"
   },
   {
    "duration": 36,
    "start_time": "2022-01-14T19:40:08.271Z"
   },
   {
    "duration": 11,
    "start_time": "2022-01-14T19:40:08.310Z"
   },
   {
    "duration": 79,
    "start_time": "2022-01-14T19:40:08.323Z"
   },
   {
    "duration": 129,
    "start_time": "2022-01-14T19:40:08.405Z"
   },
   {
    "duration": 13,
    "start_time": "2022-01-14T19:40:08.538Z"
   },
   {
    "duration": 7,
    "start_time": "2022-01-14T19:40:08.567Z"
   },
   {
    "duration": 7,
    "start_time": "2022-01-14T19:40:08.578Z"
   },
   {
    "duration": 8,
    "start_time": "2022-01-14T19:40:08.588Z"
   },
   {
    "duration": 13,
    "start_time": "2022-01-14T19:40:08.599Z"
   },
   {
    "duration": 7,
    "start_time": "2022-01-14T19:40:08.615Z"
   },
   {
    "duration": 7,
    "start_time": "2022-01-14T19:40:08.668Z"
   },
   {
    "duration": 26,
    "start_time": "2022-01-14T19:40:08.678Z"
   },
   {
    "duration": 61,
    "start_time": "2022-01-14T19:40:08.706Z"
   },
   {
    "duration": 18,
    "start_time": "2022-01-14T19:40:08.770Z"
   },
   {
    "duration": 8,
    "start_time": "2022-01-14T19:40:08.791Z"
   },
   {
    "duration": 18,
    "start_time": "2022-01-14T19:40:08.802Z"
   },
   {
    "duration": 87,
    "start_time": "2022-01-14T19:40:08.822Z"
   },
   {
    "duration": 9,
    "start_time": "2022-01-14T19:40:08.911Z"
   },
   {
    "duration": 8,
    "start_time": "2022-01-14T19:40:08.923Z"
   },
   {
    "duration": 10,
    "start_time": "2022-01-14T19:40:08.968Z"
   },
   {
    "duration": 7,
    "start_time": "2022-01-14T19:40:08.983Z"
   },
   {
    "duration": 16,
    "start_time": "2022-01-14T19:40:08.993Z"
   },
   {
    "duration": 9,
    "start_time": "2022-01-14T19:40:09.011Z"
   },
   {
    "duration": 70,
    "start_time": "2022-01-14T19:40:09.023Z"
   },
   {
    "duration": 6,
    "start_time": "2022-01-14T19:40:09.096Z"
   },
   {
    "duration": 26,
    "start_time": "2022-01-14T19:40:09.105Z"
   },
   {
    "duration": 37,
    "start_time": "2022-01-14T19:40:09.135Z"
   },
   {
    "duration": 20,
    "start_time": "2022-01-14T19:40:09.175Z"
   },
   {
    "duration": 24,
    "start_time": "2022-01-14T19:40:09.197Z"
   },
   {
    "duration": 46,
    "start_time": "2022-01-14T19:40:09.224Z"
   },
   {
    "duration": 6,
    "start_time": "2022-01-14T19:40:09.273Z"
   },
   {
    "duration": 9,
    "start_time": "2022-01-14T19:40:09.281Z"
   },
   {
    "duration": 1098,
    "start_time": "2022-01-14T19:40:09.292Z"
   },
   {
    "duration": 10,
    "start_time": "2022-01-14T19:40:10.392Z"
   },
   {
    "duration": 884,
    "start_time": "2022-01-14T19:40:10.404Z"
   },
   {
    "duration": 14,
    "start_time": "2022-01-14T19:40:11.291Z"
   },
   {
    "duration": 3613,
    "start_time": "2022-01-14T19:40:11.308Z"
   },
   {
    "duration": 16,
    "start_time": "2022-01-14T19:40:14.923Z"
   },
   {
    "duration": 991,
    "start_time": "2022-01-14T19:40:14.943Z"
   },
   {
    "duration": 32,
    "start_time": "2022-01-14T19:40:15.937Z"
   },
   {
    "duration": 586,
    "start_time": "2022-01-14T19:40:15.972Z"
   },
   {
    "duration": 22,
    "start_time": "2022-01-14T19:40:16.560Z"
   },
   {
    "duration": 1091,
    "start_time": "2022-01-14T19:40:16.584Z"
   },
   {
    "duration": 6,
    "start_time": "2022-01-14T19:40:17.678Z"
   },
   {
    "duration": 13,
    "start_time": "2022-01-14T19:40:17.687Z"
   },
   {
    "duration": 15,
    "start_time": "2022-01-14T19:40:17.703Z"
   },
   {
    "duration": 46,
    "start_time": "2022-01-14T19:40:17.720Z"
   },
   {
    "duration": 31,
    "start_time": "2022-01-14T19:40:17.769Z"
   },
   {
    "duration": 380,
    "start_time": "2022-01-14T19:40:17.802Z"
   },
   {
    "duration": 1608,
    "start_time": "2022-01-14T19:40:18.185Z"
   },
   {
    "duration": 446,
    "start_time": "2022-01-14T19:40:19.796Z"
   },
   {
    "duration": 359,
    "start_time": "2022-01-14T19:40:20.245Z"
   },
   {
    "duration": 329,
    "start_time": "2022-01-14T19:40:20.608Z"
   },
   {
    "duration": 45,
    "start_time": "2022-01-14T19:40:20.941Z"
   },
   {
    "duration": 12,
    "start_time": "2022-01-14T19:40:20.989Z"
   },
   {
    "duration": 14,
    "start_time": "2022-01-14T19:40:21.004Z"
   },
   {
    "duration": 73,
    "start_time": "2022-01-14T19:40:21.021Z"
   },
   {
    "duration": 38,
    "start_time": "2022-01-14T19:40:21.097Z"
   },
   {
    "duration": 687,
    "start_time": "2022-01-14T19:40:21.138Z"
   },
   {
    "duration": 735,
    "start_time": "2022-01-14T19:40:21.828Z"
   },
   {
    "duration": 15,
    "start_time": "2022-01-14T19:40:22.568Z"
   },
   {
    "duration": 157,
    "start_time": "2022-01-14T19:40:22.585Z"
   },
   {
    "duration": 1482,
    "start_time": "2022-01-14T19:40:22.745Z"
   },
   {
    "duration": 7287,
    "start_time": "2022-01-14T19:40:24.230Z"
   },
   {
    "duration": 1419,
    "start_time": "2022-01-14T19:40:31.524Z"
   },
   {
    "duration": 3624,
    "start_time": "2022-01-14T19:40:32.946Z"
   },
   {
    "duration": 462,
    "start_time": "2022-01-14T19:40:36.572Z"
   },
   {
    "duration": 39,
    "start_time": "2022-01-14T19:40:37.036Z"
   },
   {
    "duration": 91,
    "start_time": "2022-01-14T19:46:45.380Z"
   },
   {
    "duration": 476,
    "start_time": "2022-01-14T19:53:24.972Z"
   },
   {
    "duration": 30,
    "start_time": "2022-01-14T20:10:24.064Z"
   },
   {
    "duration": 9,
    "start_time": "2022-01-14T20:12:09.799Z"
   },
   {
    "duration": 8,
    "start_time": "2022-01-14T20:13:07.377Z"
   },
   {
    "duration": 9,
    "start_time": "2022-01-14T20:13:16.717Z"
   },
   {
    "duration": 398,
    "start_time": "2022-01-14T20:17:15.356Z"
   },
   {
    "duration": 279,
    "start_time": "2022-01-14T20:17:24.040Z"
   },
   {
    "duration": 304,
    "start_time": "2022-01-14T20:17:32.785Z"
   },
   {
    "duration": 280,
    "start_time": "2022-01-14T20:21:30.983Z"
   },
   {
    "duration": 258,
    "start_time": "2022-01-14T20:21:40.911Z"
   },
   {
    "duration": 355,
    "start_time": "2022-01-14T20:22:49.703Z"
   },
   {
    "duration": 298,
    "start_time": "2022-01-14T20:23:17.004Z"
   },
   {
    "duration": 275,
    "start_time": "2022-01-14T20:24:00.576Z"
   },
   {
    "duration": 13,
    "start_time": "2022-01-14T20:24:45.244Z"
   },
   {
    "duration": 19,
    "start_time": "2022-01-14T20:25:03.361Z"
   },
   {
    "duration": 18,
    "start_time": "2022-01-14T20:25:14.078Z"
   },
   {
    "duration": 18,
    "start_time": "2022-01-14T20:26:05.242Z"
   },
   {
    "duration": 99,
    "start_time": "2022-01-14T20:26:31.342Z"
   },
   {
    "duration": 11,
    "start_time": "2022-01-14T20:26:35.531Z"
   },
   {
    "duration": 98,
    "start_time": "2022-01-14T20:27:08.457Z"
   },
   {
    "duration": 10,
    "start_time": "2022-01-14T20:27:12.510Z"
   },
   {
    "duration": 283,
    "start_time": "2022-01-14T20:28:43.339Z"
   },
   {
    "duration": 301,
    "start_time": "2022-01-14T20:30:08.466Z"
   },
   {
    "duration": 12,
    "start_time": "2022-01-14T20:30:12.897Z"
   },
   {
    "duration": 94,
    "start_time": "2022-01-14T20:30:16.780Z"
   },
   {
    "duration": 12,
    "start_time": "2022-01-14T20:30:19.323Z"
   },
   {
    "duration": 7,
    "start_time": "2022-01-14T20:35:19.793Z"
   },
   {
    "duration": 8,
    "start_time": "2022-01-14T20:35:59.904Z"
   },
   {
    "duration": 484,
    "start_time": "2022-01-14T20:36:52.233Z"
   },
   {
    "duration": 7193,
    "start_time": "2022-01-14T20:37:08.297Z"
   },
   {
    "duration": 499,
    "start_time": "2022-01-14T20:37:31.410Z"
   },
   {
    "duration": 499,
    "start_time": "2022-01-14T20:37:50.936Z"
   },
   {
    "duration": 480,
    "start_time": "2022-01-14T20:38:32.236Z"
   },
   {
    "duration": 775,
    "start_time": "2022-01-14T20:39:07.352Z"
   },
   {
    "duration": 666,
    "start_time": "2022-01-14T20:39:40.613Z"
   },
   {
    "duration": 499,
    "start_time": "2022-01-14T20:40:09.219Z"
   },
   {
    "duration": 492,
    "start_time": "2022-01-14T20:42:49.143Z"
   },
   {
    "duration": 483,
    "start_time": "2022-01-14T20:43:20.985Z"
   },
   {
    "duration": 7122,
    "start_time": "2022-01-14T20:44:04.979Z"
   },
   {
    "duration": 720,
    "start_time": "2022-01-14T20:44:29.793Z"
   },
   {
    "duration": 325,
    "start_time": "2022-01-14T20:44:38.218Z"
   },
   {
    "duration": 316,
    "start_time": "2022-01-14T20:45:32.282Z"
   },
   {
    "duration": 271,
    "start_time": "2022-01-14T20:46:20.830Z"
   },
   {
    "duration": 15,
    "start_time": "2022-01-14T20:48:44.950Z"
   },
   {
    "duration": 1836,
    "start_time": "2022-01-14T20:49:14.415Z"
   },
   {
    "duration": 697,
    "start_time": "2022-01-14T20:49:31.237Z"
   },
   {
    "duration": 1865,
    "start_time": "2022-01-14T20:49:42.197Z"
   },
   {
    "duration": 1948,
    "start_time": "2022-01-14T20:50:15.128Z"
   },
   {
    "duration": 1928,
    "start_time": "2022-01-14T20:50:32.032Z"
   },
   {
    "duration": 905,
    "start_time": "2022-01-15T08:56:37.647Z"
   },
   {
    "duration": 195,
    "start_time": "2022-01-15T08:56:38.555Z"
   },
   {
    "duration": 16,
    "start_time": "2022-01-15T08:56:38.753Z"
   },
   {
    "duration": 53,
    "start_time": "2022-01-15T08:56:38.772Z"
   },
   {
    "duration": 10,
    "start_time": "2022-01-15T08:56:38.827Z"
   },
   {
    "duration": 36,
    "start_time": "2022-01-15T08:56:38.840Z"
   },
   {
    "duration": 126,
    "start_time": "2022-01-15T08:56:38.879Z"
   },
   {
    "duration": 13,
    "start_time": "2022-01-15T08:56:39.022Z"
   },
   {
    "duration": 7,
    "start_time": "2022-01-15T08:56:39.039Z"
   },
   {
    "duration": 7,
    "start_time": "2022-01-15T08:56:39.050Z"
   },
   {
    "duration": 8,
    "start_time": "2022-01-15T08:56:39.060Z"
   },
   {
    "duration": 60,
    "start_time": "2022-01-15T08:56:39.071Z"
   },
   {
    "duration": 8,
    "start_time": "2022-01-15T08:56:39.135Z"
   },
   {
    "duration": 7,
    "start_time": "2022-01-15T08:56:39.146Z"
   },
   {
    "duration": 36,
    "start_time": "2022-01-15T08:56:39.156Z"
   },
   {
    "duration": 29,
    "start_time": "2022-01-15T08:56:39.224Z"
   },
   {
    "duration": 22,
    "start_time": "2022-01-15T08:56:39.256Z"
   },
   {
    "duration": 10,
    "start_time": "2022-01-15T08:56:39.281Z"
   },
   {
    "duration": 55,
    "start_time": "2022-01-15T08:56:39.294Z"
   },
   {
    "duration": 44,
    "start_time": "2022-01-15T08:56:39.352Z"
   },
   {
    "duration": 25,
    "start_time": "2022-01-15T08:56:39.399Z"
   },
   {
    "duration": 5,
    "start_time": "2022-01-15T08:56:39.427Z"
   },
   {
    "duration": 7,
    "start_time": "2022-01-15T08:56:39.438Z"
   },
   {
    "duration": 7,
    "start_time": "2022-01-15T08:56:39.448Z"
   },
   {
    "duration": 12,
    "start_time": "2022-01-15T08:56:39.457Z"
   },
   {
    "duration": 56,
    "start_time": "2022-01-15T08:56:39.473Z"
   },
   {
    "duration": 28,
    "start_time": "2022-01-15T08:56:39.533Z"
   },
   {
    "duration": 7,
    "start_time": "2022-01-15T08:56:39.565Z"
   },
   {
    "duration": 55,
    "start_time": "2022-01-15T08:56:39.576Z"
   },
   {
    "duration": 8,
    "start_time": "2022-01-15T08:56:39.635Z"
   },
   {
    "duration": 17,
    "start_time": "2022-01-15T08:56:39.646Z"
   },
   {
    "duration": 61,
    "start_time": "2022-01-15T08:56:39.666Z"
   },
   {
    "duration": 13,
    "start_time": "2022-01-15T08:56:39.730Z"
   },
   {
    "duration": 5,
    "start_time": "2022-01-15T08:56:39.746Z"
   },
   {
    "duration": 4,
    "start_time": "2022-01-15T08:56:39.754Z"
   },
   {
    "duration": 972,
    "start_time": "2022-01-15T08:56:39.760Z"
   },
   {
    "duration": 7,
    "start_time": "2022-01-15T08:56:40.735Z"
   },
   {
    "duration": 668,
    "start_time": "2022-01-15T08:56:40.744Z"
   },
   {
    "duration": 19,
    "start_time": "2022-01-15T08:56:41.415Z"
   },
   {
    "duration": 3165,
    "start_time": "2022-01-15T08:56:41.436Z"
   },
   {
    "duration": 23,
    "start_time": "2022-01-15T08:56:44.604Z"
   },
   {
    "duration": 801,
    "start_time": "2022-01-15T08:56:44.630Z"
   },
   {
    "duration": 17,
    "start_time": "2022-01-15T08:56:45.434Z"
   },
   {
    "duration": 561,
    "start_time": "2022-01-15T08:56:45.454Z"
   },
   {
    "duration": 16,
    "start_time": "2022-01-15T08:56:46.022Z"
   },
   {
    "duration": 791,
    "start_time": "2022-01-15T08:56:46.040Z"
   },
   {
    "duration": 6,
    "start_time": "2022-01-15T08:56:46.834Z"
   },
   {
    "duration": 7,
    "start_time": "2022-01-15T08:56:46.843Z"
   },
   {
    "duration": 19,
    "start_time": "2022-01-15T08:56:46.853Z"
   },
   {
    "duration": 5,
    "start_time": "2022-01-15T08:56:46.875Z"
   },
   {
    "duration": 76,
    "start_time": "2022-01-15T08:56:46.882Z"
   },
   {
    "duration": 2093,
    "start_time": "2022-01-15T08:56:46.961Z"
   },
   {
    "duration": 279,
    "start_time": "2022-01-15T08:56:49.056Z"
   },
   {
    "duration": 10,
    "start_time": "2022-01-15T08:56:49.337Z"
   },
   {
    "duration": 1946,
    "start_time": "2022-01-15T08:56:49.350Z"
   },
   {
    "duration": 333,
    "start_time": "2022-01-15T08:56:51.298Z"
   },
   {
    "duration": 291,
    "start_time": "2022-01-15T08:56:51.634Z"
   },
   {
    "duration": 339,
    "start_time": "2022-01-15T08:56:51.927Z"
   },
   {
    "duration": 55,
    "start_time": "2022-01-15T08:56:52.269Z"
   },
   {
    "duration": 12,
    "start_time": "2022-01-15T08:56:52.327Z"
   },
   {
    "duration": 14,
    "start_time": "2022-01-15T08:56:52.342Z"
   },
   {
    "duration": 70,
    "start_time": "2022-01-15T08:56:52.359Z"
   },
   {
    "duration": 32,
    "start_time": "2022-01-15T08:56:52.432Z"
   },
   {
    "duration": 625,
    "start_time": "2022-01-15T08:56:52.466Z"
   },
   {
    "duration": 597,
    "start_time": "2022-01-15T08:56:53.094Z"
   },
   {
    "duration": 11,
    "start_time": "2022-01-15T08:56:53.694Z"
   },
   {
    "duration": 188,
    "start_time": "2022-01-15T08:56:53.724Z"
   },
   {
    "duration": 1951,
    "start_time": "2022-01-15T08:56:53.928Z"
   },
   {
    "duration": 7209,
    "start_time": "2022-01-15T08:56:55.883Z"
   },
   {
    "duration": 1106,
    "start_time": "2022-01-15T08:57:03.094Z"
   },
   {
    "duration": 5884,
    "start_time": "2022-01-15T08:57:04.202Z"
   },
   {
    "duration": 398,
    "start_time": "2022-01-15T08:57:10.088Z"
   },
   {
    "duration": 41,
    "start_time": "2022-01-15T08:57:10.488Z"
   },
   {
    "duration": 456,
    "start_time": "2022-01-15T09:12:21.596Z"
   },
   {
    "duration": 8,
    "start_time": "2022-01-15T09:13:00.715Z"
   },
   {
    "duration": 9505,
    "start_time": "2022-01-15T09:16:31.763Z"
   },
   {
    "duration": 2021,
    "start_time": "2022-01-15T10:04:02.848Z"
   },
   {
    "duration": 9469,
    "start_time": "2022-01-15T10:04:52.557Z"
   },
   {
    "duration": 2021,
    "start_time": "2022-01-15T10:05:14.017Z"
   },
   {
    "duration": 2074,
    "start_time": "2022-01-15T10:05:28.370Z"
   },
   {
    "duration": 249,
    "start_time": "2022-01-15T10:06:06.486Z"
   },
   {
    "duration": 267,
    "start_time": "2022-01-15T10:11:07.706Z"
   },
   {
    "duration": 1823,
    "start_time": "2022-01-15T10:16:08.600Z"
   },
   {
    "duration": 2245,
    "start_time": "2022-01-15T10:16:27.837Z"
   },
   {
    "duration": 2311,
    "start_time": "2022-01-15T10:16:51.690Z"
   },
   {
    "duration": 2163,
    "start_time": "2022-01-15T10:22:01.130Z"
   },
   {
    "duration": 2415,
    "start_time": "2022-01-15T10:22:27.152Z"
   },
   {
    "duration": 94,
    "start_time": "2022-01-15T10:23:53.606Z"
   },
   {
    "duration": 2511,
    "start_time": "2022-01-15T10:24:02.657Z"
   },
   {
    "duration": 110,
    "start_time": "2022-01-15T10:24:27.843Z"
   },
   {
    "duration": 100,
    "start_time": "2022-01-15T10:25:56.183Z"
   },
   {
    "duration": 100,
    "start_time": "2022-01-15T10:26:16.956Z"
   },
   {
    "duration": 2284,
    "start_time": "2022-01-15T10:26:30.925Z"
   },
   {
    "duration": 2208,
    "start_time": "2022-01-15T10:27:03.816Z"
   },
   {
    "duration": 2100,
    "start_time": "2022-01-15T10:27:17.076Z"
   },
   {
    "duration": 3321,
    "start_time": "2022-01-15T10:28:13.402Z"
   },
   {
    "duration": 2459,
    "start_time": "2022-01-15T10:28:31.671Z"
   },
   {
    "duration": 2062,
    "start_time": "2022-01-15T10:29:19.378Z"
   },
   {
    "duration": 2093,
    "start_time": "2022-01-15T10:32:33.615Z"
   },
   {
    "duration": 285,
    "start_time": "2022-01-15T10:35:05.158Z"
   },
   {
    "duration": 2318,
    "start_time": "2022-01-15T10:35:27.715Z"
   },
   {
    "duration": 2805,
    "start_time": "2022-01-15T10:36:32.251Z"
   },
   {
    "duration": 2480,
    "start_time": "2022-01-15T10:37:15.494Z"
   },
   {
    "duration": 2492,
    "start_time": "2022-01-15T10:37:44.610Z"
   },
   {
    "duration": 2737,
    "start_time": "2022-01-15T10:39:04.253Z"
   },
   {
    "duration": 2450,
    "start_time": "2022-01-15T10:39:19.107Z"
   },
   {
    "duration": 2288,
    "start_time": "2022-01-15T10:40:05.541Z"
   },
   {
    "duration": 2388,
    "start_time": "2022-01-15T10:40:29.092Z"
   },
   {
    "duration": 2452,
    "start_time": "2022-01-15T10:41:09.800Z"
   },
   {
    "duration": 803,
    "start_time": "2022-01-15T10:42:06.572Z"
   },
   {
    "duration": 741,
    "start_time": "2022-01-15T10:42:25.942Z"
   },
   {
    "duration": 2425,
    "start_time": "2022-01-15T10:42:33.270Z"
   },
   {
    "duration": 2371,
    "start_time": "2022-01-15T10:44:11.691Z"
   },
   {
    "duration": 2342,
    "start_time": "2022-01-15T10:44:29.866Z"
   },
   {
    "duration": 2788,
    "start_time": "2022-01-15T10:45:12.119Z"
   },
   {
    "duration": 2319,
    "start_time": "2022-01-15T10:45:22.257Z"
   },
   {
    "duration": 2562,
    "start_time": "2022-01-15T10:52:39.722Z"
   },
   {
    "duration": 2443,
    "start_time": "2022-01-15T10:52:49.464Z"
   },
   {
    "duration": 2691,
    "start_time": "2022-01-15T10:52:56.694Z"
   },
   {
    "duration": 2503,
    "start_time": "2022-01-15T10:53:29.120Z"
   },
   {
    "duration": 286,
    "start_time": "2022-01-15T10:55:50.994Z"
   },
   {
    "duration": 2332,
    "start_time": "2022-01-15T10:56:07.334Z"
   },
   {
    "duration": 8,
    "start_time": "2022-01-15T11:14:50.333Z"
   },
   {
    "duration": 6,
    "start_time": "2022-01-15T11:15:06.237Z"
   },
   {
    "duration": 302,
    "start_time": "2022-01-15T11:33:08.528Z"
   },
   {
    "duration": 60,
    "start_time": "2022-01-15T11:33:17.985Z"
   },
   {
    "duration": 111,
    "start_time": "2022-01-15T11:35:35.284Z"
   },
   {
    "duration": 309,
    "start_time": "2022-01-15T11:35:44.799Z"
   },
   {
    "duration": 426,
    "start_time": "2022-01-15T11:36:51.823Z"
   },
   {
    "duration": 8471,
    "start_time": "2022-01-15T11:37:37.039Z"
   },
   {
    "duration": 8624,
    "start_time": "2022-01-15T11:40:21.712Z"
   },
   {
    "duration": 8493,
    "start_time": "2022-01-15T11:41:27.393Z"
   },
   {
    "duration": 517,
    "start_time": "2022-01-15T11:41:43.489Z"
   },
   {
    "duration": 157,
    "start_time": "2022-01-15T11:43:44.829Z"
   },
   {
    "duration": 512,
    "start_time": "2022-01-15T11:44:46.475Z"
   },
   {
    "duration": 610,
    "start_time": "2022-01-15T11:45:10.197Z"
   },
   {
    "duration": 509,
    "start_time": "2022-01-15T11:46:18.504Z"
   },
   {
    "duration": 544,
    "start_time": "2022-01-15T11:46:57.004Z"
   },
   {
    "duration": 615,
    "start_time": "2022-01-15T11:47:29.463Z"
   },
   {
    "duration": 522,
    "start_time": "2022-01-15T11:48:03.386Z"
   },
   {
    "duration": 515,
    "start_time": "2022-01-15T11:48:12.561Z"
   },
   {
    "duration": 519,
    "start_time": "2022-01-15T11:50:18.929Z"
   },
   {
    "duration": 540,
    "start_time": "2022-01-15T11:51:03.306Z"
   },
   {
    "duration": 557,
    "start_time": "2022-01-15T11:52:11.377Z"
   },
   {
    "duration": 93,
    "start_time": "2022-01-15T11:53:26.314Z"
   },
   {
    "duration": 655,
    "start_time": "2022-01-15T11:53:40.304Z"
   },
   {
    "duration": 587,
    "start_time": "2022-01-15T12:15:32.887Z"
   },
   {
    "duration": 455,
    "start_time": "2022-01-15T12:15:41.937Z"
   },
   {
    "duration": 1725,
    "start_time": "2022-01-15T12:17:16.472Z"
   },
   {
    "duration": 979,
    "start_time": "2022-01-15T12:18:34.606Z"
   },
   {
    "duration": 19,
    "start_time": "2022-01-15T12:34:45.446Z"
   },
   {
    "duration": 20,
    "start_time": "2022-01-15T12:35:34.039Z"
   },
   {
    "duration": 20,
    "start_time": "2022-01-15T12:35:48.891Z"
   },
   {
    "duration": 19,
    "start_time": "2022-01-15T12:36:35.036Z"
   },
   {
    "duration": 17,
    "start_time": "2022-01-15T12:40:08.697Z"
   },
   {
    "duration": 18,
    "start_time": "2022-01-15T12:40:22.716Z"
   },
   {
    "duration": 18,
    "start_time": "2022-01-15T12:40:29.531Z"
   },
   {
    "duration": 18,
    "start_time": "2022-01-15T12:40:34.698Z"
   },
   {
    "duration": 17,
    "start_time": "2022-01-15T12:40:47.495Z"
   },
   {
    "duration": 6,
    "start_time": "2022-01-15T12:41:10.383Z"
   },
   {
    "duration": 15,
    "start_time": "2022-01-15T12:41:12.350Z"
   },
   {
    "duration": 14,
    "start_time": "2022-01-15T12:41:21.496Z"
   },
   {
    "duration": 20,
    "start_time": "2022-01-15T12:41:37.508Z"
   },
   {
    "duration": 146,
    "start_time": "2022-01-15T12:41:57.656Z"
   },
   {
    "duration": 8,
    "start_time": "2022-01-15T12:42:03.675Z"
   },
   {
    "duration": 7,
    "start_time": "2022-01-15T12:43:12.793Z"
   },
   {
    "duration": 7,
    "start_time": "2022-01-15T12:43:30.531Z"
   },
   {
    "duration": 8,
    "start_time": "2022-01-15T12:43:35.004Z"
   },
   {
    "duration": 6,
    "start_time": "2022-01-15T12:53:26.064Z"
   },
   {
    "duration": 294,
    "start_time": "2022-01-15T12:54:23.286Z"
   },
   {
    "duration": 310,
    "start_time": "2022-01-15T12:54:43.272Z"
   },
   {
    "duration": 304,
    "start_time": "2022-01-15T12:55:03.073Z"
   },
   {
    "duration": 285,
    "start_time": "2022-01-15T12:55:54.936Z"
   },
   {
    "duration": 416,
    "start_time": "2022-01-15T12:56:12.015Z"
   },
   {
    "duration": 8,
    "start_time": "2022-01-15T12:56:25.397Z"
   },
   {
    "duration": 7,
    "start_time": "2022-01-15T12:56:35.129Z"
   },
   {
    "duration": 8,
    "start_time": "2022-01-15T12:56:43.038Z"
   },
   {
    "duration": 9,
    "start_time": "2022-01-15T12:56:50.620Z"
   },
   {
    "duration": 9,
    "start_time": "2022-01-15T12:57:04.438Z"
   },
   {
    "duration": 8,
    "start_time": "2022-01-15T12:57:12.393Z"
   },
   {
    "duration": 21,
    "start_time": "2022-01-15T13:10:43.541Z"
   },
   {
    "duration": 6,
    "start_time": "2022-01-15T13:11:12.927Z"
   },
   {
    "duration": 17,
    "start_time": "2022-01-15T13:14:21.070Z"
   },
   {
    "duration": 2485,
    "start_time": "2022-01-15T13:22:27.171Z"
   },
   {
    "duration": 2641,
    "start_time": "2022-01-15T13:27:13.120Z"
   },
   {
    "duration": 2348,
    "start_time": "2022-01-15T13:27:30.881Z"
   },
   {
    "duration": 517,
    "start_time": "2022-01-15T13:28:45.084Z"
   },
   {
    "duration": 537,
    "start_time": "2022-01-15T13:28:52.569Z"
   },
   {
    "duration": 734,
    "start_time": "2022-01-15T13:34:20.236Z"
   },
   {
    "duration": 630,
    "start_time": "2022-01-15T13:35:45.920Z"
   },
   {
    "duration": 1112,
    "start_time": "2022-01-15T13:42:21.492Z"
   },
   {
    "duration": 1103,
    "start_time": "2022-01-15T13:44:18.892Z"
   },
   {
    "duration": 1190,
    "start_time": "2022-01-15T13:44:45.634Z"
   },
   {
    "duration": 1108,
    "start_time": "2022-01-15T13:45:28.872Z"
   },
   {
    "duration": 1205,
    "start_time": "2022-01-15T13:46:05.936Z"
   },
   {
    "duration": 6116,
    "start_time": "2022-01-15T13:46:52.833Z"
   },
   {
    "duration": 6338,
    "start_time": "2022-01-15T13:47:57.778Z"
   },
   {
    "duration": 1313,
    "start_time": "2022-01-15T13:51:04.020Z"
   },
   {
    "duration": 3132,
    "start_time": "2022-01-15T13:52:26.579Z"
   },
   {
    "duration": 394,
    "start_time": "2022-01-15T13:54:05.421Z"
   },
   {
    "duration": 1071,
    "start_time": "2022-01-15T13:54:46.721Z"
   },
   {
    "duration": 3141,
    "start_time": "2022-01-15T13:54:48.971Z"
   },
   {
    "duration": 380,
    "start_time": "2022-01-15T13:55:11.227Z"
   },
   {
    "duration": 7,
    "start_time": "2022-01-15T14:00:32.569Z"
   },
   {
    "duration": 264,
    "start_time": "2022-01-15T14:05:50.026Z"
   },
   {
    "duration": 247,
    "start_time": "2022-01-15T14:06:28.690Z"
   }
  ],
  "kernelspec": {
   "display_name": "Python 3.10.5 64-bit (system)",
   "language": "python",
   "name": "python3"
  },
  "language_info": {
   "codemirror_mode": {
    "name": "ipython",
    "version": 3
   },
   "file_extension": ".py",
   "mimetype": "text/x-python",
   "name": "python",
   "nbconvert_exporter": "python",
   "pygments_lexer": "ipython3",
   "version": "3.10.5"
  },
  "toc": {
   "base_numbering": 1,
   "nav_menu": {
    "height": "463.984px",
    "width": "385px"
   },
   "number_sections": true,
   "sideBar": true,
   "skip_h1_title": false,
   "title_cell": "Table of Contents",
   "title_sidebar": "Contents",
   "toc_cell": false,
   "toc_position": {
    "height": "570px",
    "left": "22px",
    "top": "111.855px",
    "width": "323.967px"
   },
   "toc_section_display": true,
   "toc_window_display": true
  },
  "vscode": {
   "interpreter": {
    "hash": "5688e94b3c9c02417cdb2a677651119fe6849ebffb07f3cd02c275e21b63d781"
   }
  }
 },
 "nbformat": 4,
 "nbformat_minor": 5
}
