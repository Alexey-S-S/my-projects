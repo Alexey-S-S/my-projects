{
 "cells": [
  {
   "cell_type": "markdown",
   "metadata": {},
   "source": [
    "# Исследование надёжности заёмщиков"
   ]
  },
  {
   "cell_type": "markdown",
   "metadata": {},
   "source": [
    "## Описание\n",
    "\n",
    "Заказчик — кредитный отдел банка. <br>\n",
    "Нужно разобраться, влияет ли семейное положение и количество детей клиента на факт погашения кредита в срок.<br> \n",
    "Входные данные от банка — статистика о платёжеспособности клиентов.\n",
    "\n",
    "Результаты исследования будут учтены при построении модели кредитного скоринга — специальной системы, которая оценивает способность потенциального заёмщика вернуть кредит банку.\n",
    "\n",
    "**Поля таблицы:**\n",
    "\n",
    "    children — количество детей в семье\n",
    "    days_employed — общий трудовой стаж в днях\n",
    "    dob_years — возраст клиента в годах\n",
    "    education — уровень образования клиента\n",
    "    education_id — идентификатор уровня образования\n",
    "    family_status — семейное положение\n",
    "    family_status_id — идентификатор семейного положения\n",
    "    gender — пол клиента\n",
    "    income_type — тип занятости\n",
    "    debt — имел ли задолженность по возврату кредитов\n",
    "    total_income — ежемесячный доход\n",
    "    purpose — цель получения кредита"
   ]
  },
  {
   "cell_type": "markdown",
   "metadata": {},
   "source": [
    "## Откроем файл с данными и изучим общую информацию"
   ]
  },
  {
   "cell_type": "code",
   "execution_count": 97,
   "metadata": {
    "scrolled": false
   },
   "outputs": [
    {
     "name": "stdout",
     "output_type": "stream",
     "text": [
      "<class 'pandas.core.frame.DataFrame'>\n",
      "RangeIndex: 21525 entries, 0 to 21524\n",
      "Data columns (total 12 columns):\n",
      " #   Column            Non-Null Count  Dtype  \n",
      "---  ------            --------------  -----  \n",
      " 0   children          21525 non-null  int64  \n",
      " 1   days_employed     19351 non-null  float64\n",
      " 2   dob_years         21525 non-null  int64  \n",
      " 3   education         21525 non-null  object \n",
      " 4   education_id      21525 non-null  int64  \n",
      " 5   family_status     21525 non-null  object \n",
      " 6   family_status_id  21525 non-null  int64  \n",
      " 7   gender            21525 non-null  object \n",
      " 8   income_type       21525 non-null  object \n",
      " 9   debt              21525 non-null  int64  \n",
      " 10  total_income      19351 non-null  float64\n",
      " 11  purpose           21525 non-null  object \n",
      "dtypes: float64(2), int64(5), object(5)\n",
      "memory usage: 2.0+ MB\n"
     ]
    }
   ],
   "source": [
    "import pandas as pd\n",
    "\n",
    "df = pd.read_csv('data.csv')\n",
    "\n",
    "df.info()"
   ]
  },
  {
   "cell_type": "code",
   "execution_count": 98,
   "metadata": {
    "scrolled": true
   },
   "outputs": [
    {
     "name": "stdout",
     "output_type": "stream",
     "text": [
      "Значения children\n",
      "  0     14149\n",
      " 1      4818\n",
      " 2      2055\n",
      " 3       330\n",
      " 20       76\n",
      "-1        47\n",
      " 4        41\n",
      " 5         9\n",
      "Name: children, dtype: int64\n"
     ]
    }
   ],
   "source": [
    "print('Значения children\\n',df['children'].value_counts())"
   ]
  },
  {
   "cell_type": "code",
   "execution_count": 99,
   "metadata": {},
   "outputs": [
    {
     "name": "stdout",
     "output_type": "stream",
     "text": [
      "минимальный стаж - -18388.949900568383\n",
      "максимальный стаж - 401755.40047533\n"
     ]
    }
   ],
   "source": [
    "print(f'минимальный стаж - {df.days_employed.min()}\\nмаксимальный стаж - {df.days_employed.max()}')"
   ]
  },
  {
   "cell_type": "code",
   "execution_count": 100,
   "metadata": {},
   "outputs": [
    {
     "name": "stdout",
     "output_type": "stream",
     "text": [
      "значения education\n",
      " среднее                13750\n",
      "высшее                  4718\n",
      "СРЕДНЕЕ                  772\n",
      "Среднее                  711\n",
      "неоконченное высшее      668\n",
      "ВЫСШЕЕ                   274\n",
      "Высшее                   268\n",
      "начальное                250\n",
      "Неоконченное высшее       47\n",
      "НЕОКОНЧЕННОЕ ВЫСШЕЕ       29\n",
      "НАЧАЛЬНОЕ                 17\n",
      "Начальное                 15\n",
      "ученая степень             4\n",
      "Ученая степень             1\n",
      "УЧЕНАЯ СТЕПЕНЬ             1\n",
      "Name: education, dtype: int64\n"
     ]
    }
   ],
   "source": [
    "print('значения education\\n',df['education'].value_counts())"
   ]
  },
  {
   "cell_type": "code",
   "execution_count": 101,
   "metadata": {},
   "outputs": [
    {
     "name": "stdout",
     "output_type": "stream",
     "text": [
      "значения family_status\n",
      " женат / замужем          12380\n",
      "гражданский брак          4177\n",
      "Не женат / не замужем     2813\n",
      "в разводе                 1195\n",
      "вдовец / вдова             960\n",
      "Name: family_status, dtype: int64\n"
     ]
    }
   ],
   "source": [
    "print('значения family_status\\n',df['family_status'].value_counts())"
   ]
  },
  {
   "cell_type": "code",
   "execution_count": 102,
   "metadata": {},
   "outputs": [
    {
     "name": "stdout",
     "output_type": "stream",
     "text": [
      "значения gender\n",
      " F      14236\n",
      "M       7288\n",
      "XNA        1\n",
      "Name: gender, dtype: int64\n"
     ]
    }
   ],
   "source": [
    "print('значения gender\\n',df['gender'].value_counts())"
   ]
  },
  {
   "cell_type": "code",
   "execution_count": 103,
   "metadata": {},
   "outputs": [
    {
     "name": "stdout",
     "output_type": "stream",
     "text": [
      "значения income_type\n",
      " сотрудник          11119\n",
      "компаньон           5085\n",
      "пенсионер           3856\n",
      "госслужащий         1459\n",
      "безработный            2\n",
      "предприниматель        2\n",
      "студент                1\n",
      "в декрете              1\n",
      "Name: income_type, dtype: int64\n"
     ]
    }
   ],
   "source": [
    "print('значения income_type\\n',df['income_type'].value_counts())"
   ]
  },
  {
   "cell_type": "code",
   "execution_count": 104,
   "metadata": {},
   "outputs": [
    {
     "name": "stdout",
     "output_type": "stream",
     "text": [
      "мин-макс total_icome\n",
      " 20667.26379327158 - 2265604.028722744\n"
     ]
    }
   ],
   "source": [
    "print('мин-макс total_icome\\n',df['total_income'].min(),'-', df['total_income'].max())"
   ]
  },
  {
   "cell_type": "code",
   "execution_count": 105,
   "metadata": {},
   "outputs": [
    {
     "name": "stdout",
     "output_type": "stream",
     "text": [
      "уникальные значения purpose\n",
      " ['покупка жилья' 'приобретение автомобиля' 'дополнительное образование'\n",
      " 'сыграть свадьбу' 'операции с жильем' 'образование'\n",
      " 'на проведение свадьбы' 'покупка жилья для семьи' 'покупка недвижимости'\n",
      " 'покупка коммерческой недвижимости' 'покупка жилой недвижимости'\n",
      " 'строительство собственной недвижимости' 'недвижимость'\n",
      " 'строительство недвижимости' 'на покупку подержанного автомобиля'\n",
      " 'на покупку своего автомобиля' 'операции с коммерческой недвижимостью'\n",
      " 'строительство жилой недвижимости' 'жилье'\n",
      " 'операции со своей недвижимостью' 'автомобили' 'заняться образованием'\n",
      " 'сделка с подержанным автомобилем' 'получение образования' 'автомобиль'\n",
      " 'свадьба' 'получение дополнительного образования' 'покупка своего жилья'\n",
      " 'операции с недвижимостью' 'получение высшего образования'\n",
      " 'свой автомобиль' 'сделка с автомобилем' 'профильное образование'\n",
      " 'высшее образование' 'покупка жилья для сдачи' 'на покупку автомобиля'\n",
      " 'ремонт жилью' 'заняться высшим образованием']\n"
     ]
    }
   ],
   "source": [
    "print('уникальные значения purpose\\n',df['purpose'].unique())"
   ]
  },
  {
   "cell_type": "markdown",
   "metadata": {},
   "source": [
    "**Вывод**"
   ]
  },
  {
   "cell_type": "markdown",
   "metadata": {},
   "source": [
    "- В 2 столбцах присутствуют пропуски. \n",
    "- children- отрицательные значения, 20! детей(такое возможно, но не в таком количестве)\n",
    "- days_employed- отрицательные значения и пропуски\n",
    "- education- поправить регистр\\возможно убрать совсем т.к. рядом есть id\n",
    "- family_status- поправить регистр\\возможно убрать\n",
    "- gender- присутствует XNA(будем считать пропуском, заменим)\n",
    "- total_income- пропуски\n",
    "\n"
   ]
  },
  {
   "cell_type": "markdown",
   "metadata": {},
   "source": [
    "## Предобработка данных"
   ]
  },
  {
   "cell_type": "markdown",
   "metadata": {},
   "source": [
    "### Обработка пропусков"
   ]
  },
  {
   "cell_type": "code",
   "execution_count": 106,
   "metadata": {},
   "outputs": [
    {
     "data": {
      "text/plain": [
       "0    14149\n",
       "1     4865\n",
       "2     2131\n",
       "3      330\n",
       "4       41\n",
       "5        9\n",
       "Name: children, dtype: int64"
      ]
     },
     "execution_count": 106,
     "metadata": {},
     "output_type": "execute_result"
    }
   ],
   "source": [
    "# children\n",
    "df['children'] = abs(df['children'])\n",
    "df.loc[df['children'] == 20, 'children'] = 2\n",
    "df['children'].value_counts()"
   ]
  },
  {
   "cell_type": "code",
   "execution_count": 107,
   "metadata": {},
   "outputs": [
    {
     "data": {
      "text/plain": [
       "0"
      ]
     },
     "execution_count": 107,
     "metadata": {},
     "output_type": "execute_result"
    }
   ],
   "source": [
    "#days_employed\n",
    "df.loc[df['days_employed'] > 300000, 'days_employed'] = df.loc[df['days_employed'] > 300000, 'days_employed'] / 24\n",
    "df['days_employed'] = df['days_employed'].fillna(df['days_employed'].mean())\n",
    "df['days_employed'] = abs(df['days_employed'])\n",
    "df['days_employed'].isna().sum()"
   ]
  },
  {
   "cell_type": "code",
   "execution_count": 108,
   "metadata": {},
   "outputs": [],
   "source": [
    "#dob_years\n",
    "df.loc[df['dob_years'] == 0, 'dob_years'] = df.loc[df['dob_years'] == 0, 'days_employed'] / 365 + 20"
   ]
  },
  {
   "cell_type": "code",
   "execution_count": 109,
   "metadata": {},
   "outputs": [],
   "source": [
    "#education\n",
    "df['education'] = df['education'].str.lower()"
   ]
  },
  {
   "cell_type": "code",
   "execution_count": 110,
   "metadata": {},
   "outputs": [],
   "source": [
    "#gender\n",
    "df['gender'] = df['gender'].str.lower()"
   ]
  },
  {
   "cell_type": "code",
   "execution_count": 111,
   "metadata": {},
   "outputs": [],
   "source": [
    "#total_income\n",
    "df['total_income'] = df['total_income'].fillna(df['total_income'].mean())"
   ]
  },
  {
   "cell_type": "markdown",
   "metadata": {},
   "source": [
    "**Вывод**"
   ]
  },
  {
   "cell_type": "markdown",
   "metadata": {},
   "source": [
    "- в колонке 'children' ,были значения '-1'(заменены на 1) и 20(заменены на 2 т.к 20 детей малореально в таком количестве строк)\n",
    "- в колонке 'days_employed' были отрицательные значения( если считать их положительными то похоже на стаж, заменены) и слишком большие( сам не понял, с помощью слака было определено что это часы, поделены на 24). Там где аномально большие значения встречается возраст +-30 лет, что не может быть истинно, это скорее опечатка(в слаке посоветовали не обращаать на это внимание, в реальности я бы скорее удалил эти строки, в зависимости от задачи)\n",
    "- в 'dob_years' были нулевые значения(опираясь на стаж заменил на \\стаж в годах + 20\\) 20 взял как средний возраст выхода на работу\n",
    "- 'education приведен к нижнему регистру\n",
    "- в 'gender' есть не определенный пол( менять не стал т.к ни на что не влияет), привел к нижнему регистру\n",
    "- 'total_income' замена пропусков на средние"
   ]
  },
  {
   "cell_type": "markdown",
   "metadata": {},
   "source": [
    "### Замена типа данных"
   ]
  },
  {
   "cell_type": "code",
   "execution_count": 112,
   "metadata": {},
   "outputs": [],
   "source": [
    "df['days_employed'] = df['days_employed'].astype(int)\n",
    "df['dob_years'] = df['dob_years'].astype(int)\n",
    "df['total_income'] = df['total_income'].astype(int)"
   ]
  },
  {
   "cell_type": "markdown",
   "metadata": {},
   "source": [
    "### Обработка дубликатов"
   ]
  },
  {
   "cell_type": "code",
   "execution_count": 113,
   "metadata": {},
   "outputs": [
    {
     "data": {
      "text/plain": [
       "0"
      ]
     },
     "execution_count": 113,
     "metadata": {},
     "output_type": "execute_result"
    }
   ],
   "source": [
    "df = df.drop_duplicates().reset_index(drop=True)\n",
    "df = df.dropna().reset_index(drop=True)\n",
    "df.duplicated().sum()"
   ]
  },
  {
   "cell_type": "markdown",
   "metadata": {},
   "source": [
    "**Вывод**"
   ]
  },
  {
   "cell_type": "markdown",
   "metadata": {},
   "source": [
    "- таблица приведена в нормальный вид, пригодный для работы. \n",
    "- Было 76 строк с значениями 2.0, это скорее програмная ошибка, о таком наверное следует сообщать разработчикам(это была моя ошибка). Эти строки удалены."
   ]
  },
  {
   "cell_type": "markdown",
   "metadata": {},
   "source": [
    "### Категоризация данных"
   ]
  },
  {
   "cell_type": "markdown",
   "metadata": {},
   "source": [
    "#### По цели кредита"
   ]
  },
  {
   "cell_type": "code",
   "execution_count": 114,
   "metadata": {},
   "outputs": [],
   "source": [
    "def category(x):\n",
    "    if x['purpose'].find('жиль') >-1 or x['purpose'].find('недвижим') >-1:\n",
    "        return 'недвижимость'\n",
    "    elif x['purpose'].find('автомоб') >-1:\n",
    "        return 'автомобиль'\n",
    "    elif x['purpose'].find('свадьб') >-1:\n",
    "        return 'свадьба'\n",
    "    elif x['purpose'].find('образов') >-1:\n",
    "        return 'образование'\n",
    "    \n",
    "df['cat'] = df.apply(category,axis=1)"
   ]
  },
  {
   "cell_type": "markdown",
   "metadata": {},
   "source": [
    "#### По наличию детей"
   ]
  },
  {
   "cell_type": "code",
   "execution_count": 115,
   "metadata": {},
   "outputs": [],
   "source": [
    "# добавление признака наличия детей\n",
    "def ch(row):\n",
    "    if row['children'] == 0:\n",
    "        return 'нет детей'\n",
    "    if row['children'] > 0:\n",
    "        return 'есть дети'\n",
    "df['child_group'] = df.apply(ch, axis=1)"
   ]
  },
  {
   "cell_type": "markdown",
   "metadata": {},
   "source": [
    "#### По доходу"
   ]
  },
  {
   "cell_type": "code",
   "execution_count": 116,
   "metadata": {},
   "outputs": [
    {
     "data": {
      "text/plain": [
       "доход средний          5413\n",
       "доход низкий           4291\n",
       "доход ниже среднего    4291\n",
       "доход высокий          4291\n",
       "доход выше среднего    3168\n",
       "Name: income_group_rev, dtype: int64"
      ]
     },
     "execution_count": 116,
     "metadata": {},
     "output_type": "execute_result"
    }
   ],
   "source": [
    "total_income_labels = ['доход низкий', 'доход ниже среднего', 'доход средний', 'доход выше среднего', 'доход высокий']\n",
    "\n",
    "df['income_group_rev'] = pd.qcut(df['total_income'],\n",
    "                              q=[0, .2, .4, .6, .8, 1],\n",
    "                              labels=total_income_labels)\n",
    "df['income_group_rev'].value_counts()"
   ]
  },
  {
   "cell_type": "markdown",
   "metadata": {},
   "source": [
    "## Ответы на вопросы"
   ]
  },
  {
   "cell_type": "markdown",
   "metadata": {},
   "source": [
    "### Есть ли зависимость между наличием детей и возвратом кредита в срок?"
   ]
  },
  {
   "cell_type": "code",
   "execution_count": 117,
   "metadata": {},
   "outputs": [
    {
     "data": {
      "text/html": [
       "<div>\n",
       "<style scoped>\n",
       "    .dataframe tbody tr th:only-of-type {\n",
       "        vertical-align: middle;\n",
       "    }\n",
       "\n",
       "    .dataframe tbody tr th {\n",
       "        vertical-align: top;\n",
       "    }\n",
       "\n",
       "    .dataframe thead th {\n",
       "        text-align: right;\n",
       "    }\n",
       "</style>\n",
       "<table border=\"1\" class=\"dataframe\">\n",
       "  <thead>\n",
       "    <tr style=\"text-align: right;\">\n",
       "      <th></th>\n",
       "      <th>не возврат</th>\n",
       "    </tr>\n",
       "    <tr>\n",
       "      <th>child_group</th>\n",
       "      <th></th>\n",
       "    </tr>\n",
       "  </thead>\n",
       "  <tbody>\n",
       "    <tr>\n",
       "      <th>есть дети</th>\n",
       "      <td>0.092</td>\n",
       "    </tr>\n",
       "    <tr>\n",
       "      <th>нет детей</th>\n",
       "      <td>0.075</td>\n",
       "    </tr>\n",
       "  </tbody>\n",
       "</table>\n",
       "</div>"
      ],
      "text/plain": [
       "             не возврат\n",
       "child_group            \n",
       "есть дети         0.092\n",
       "нет детей         0.075"
      ]
     },
     "execution_count": 117,
     "metadata": {},
     "output_type": "execute_result"
    }
   ],
   "source": [
    "chill = df.pivot_table(index='child_group', values='debt').round(3)\n",
    "chill.columns = ['не возврат']\n",
    "chill"
   ]
  },
  {
   "cell_type": "code",
   "execution_count": 118,
   "metadata": {},
   "outputs": [
    {
     "name": "stdout",
     "output_type": "stream",
     "text": [
      "Процент Не возврата от клиентов без детей: 7.54\n",
      "Процент Не возврата от клиентов с детьми: 9.21\n"
     ]
    }
   ],
   "source": [
    "no_back_no_ch = len(df[(df['children'] == 0) & (df['debt'] == 1)]) / len(df[df['children'] == 0]) * 100 #нет детей\n",
    "no_back_ch = len(df[(df['children'] > 0) & (df['debt'] == 1)]) / len(df[df['children'] > 0]) * 100\n",
    "\n",
    "print('Процент Не возврата от клиентов без детей:','%.2f' % no_back_no_ch)\n",
    "print('Процент Не возврата от клиентов с детьми:','%.2f' % no_back_ch)"
   ]
  },
  {
   "cell_type": "markdown",
   "metadata": {},
   "source": [
    "**Вывод**"
   ]
  },
  {
   "cell_type": "markdown",
   "metadata": {},
   "source": [
    "Клиенты с детьми имеют больший процент не возврата или просрочек."
   ]
  },
  {
   "cell_type": "markdown",
   "metadata": {},
   "source": [
    "### **Есть ли зависимость между семейным положением и возвратом кредита в срок?**"
   ]
  },
  {
   "cell_type": "code",
   "execution_count": 119,
   "metadata": {},
   "outputs": [
    {
     "data": {
      "text/html": [
       "<div>\n",
       "<style scoped>\n",
       "    .dataframe tbody tr th:only-of-type {\n",
       "        vertical-align: middle;\n",
       "    }\n",
       "\n",
       "    .dataframe tbody tr th {\n",
       "        vertical-align: top;\n",
       "    }\n",
       "\n",
       "    .dataframe thead th {\n",
       "        text-align: right;\n",
       "    }\n",
       "</style>\n",
       "<table border=\"1\" class=\"dataframe\">\n",
       "  <thead>\n",
       "    <tr style=\"text-align: right;\">\n",
       "      <th></th>\n",
       "      <th>не возврат</th>\n",
       "    </tr>\n",
       "    <tr>\n",
       "      <th>family_status</th>\n",
       "      <th></th>\n",
       "    </tr>\n",
       "  </thead>\n",
       "  <tbody>\n",
       "    <tr>\n",
       "      <th>Не женат / не замужем</th>\n",
       "      <td>0.097509</td>\n",
       "    </tr>\n",
       "    <tr>\n",
       "      <th>гражданский брак</th>\n",
       "      <td>0.093471</td>\n",
       "    </tr>\n",
       "    <tr>\n",
       "      <th>женат / замужем</th>\n",
       "      <td>0.075452</td>\n",
       "    </tr>\n",
       "    <tr>\n",
       "      <th>в разводе</th>\n",
       "      <td>0.071130</td>\n",
       "    </tr>\n",
       "    <tr>\n",
       "      <th>вдовец / вдова</th>\n",
       "      <td>0.065693</td>\n",
       "    </tr>\n",
       "  </tbody>\n",
       "</table>\n",
       "</div>"
      ],
      "text/plain": [
       "                       не возврат\n",
       "family_status                    \n",
       "Не женат / не замужем    0.097509\n",
       "гражданский брак         0.093471\n",
       "женат / замужем          0.075452\n",
       "в разводе                0.071130\n",
       "вдовец / вдова           0.065693"
      ]
     },
     "execution_count": 119,
     "metadata": {},
     "output_type": "execute_result"
    }
   ],
   "source": [
    "family = df.pivot_table(index='family_status', values='debt', aggfunc='mean')\n",
    "family.columns = ['не возврат']\n",
    "family.sort_values(by='не возврат', ascending=False)"
   ]
  },
  {
   "cell_type": "code",
   "execution_count": 120,
   "metadata": {},
   "outputs": [
    {
     "name": "stdout",
     "output_type": "stream",
     "text": [
      "Процент Не возврата от клиентов женат\\замужем: 7.55\n",
      "Процент Не возврата от клиентов в гразданском браке: 9.35\n",
      "Процент Не возврата от клиентов вдовец\\вдова: 6.57\n",
      "Процент Не возврата от клиентов в разводе: 7.11\n",
      "Процент Не возврата от клиентов не женат\\не замужем: 9.75\n"
     ]
    }
   ],
   "source": [
    "#    0-женат\\замужем\n",
    "#    1- гражданский брак\n",
    "#    2- вдовец\\вдова\n",
    "#    3- в разводе\n",
    "#    4- не женат\\не замужем\n",
    "id_0 = len(df[(df['family_status_id'] == 0) & (df['debt'] == 1)]) / len(df[df['family_status_id'] == 0]) * 100\n",
    "id_1 = len(df[(df['family_status_id'] == 1) & (df['debt'] == 1)]) / len(df[df['family_status_id'] == 1]) * 100\n",
    "id_2 = len(df[(df['family_status_id'] == 2) & (df['debt'] == 1)]) / len(df[df['family_status_id'] == 2]) * 100\n",
    "id_3 = len(df[(df['family_status_id'] == 3) & (df['debt'] == 1)]) / len(df[df['family_status_id'] == 3]) * 100\n",
    "id_4 = len(df[(df['family_status_id'] == 4) & (df['debt'] == 1)]) / len(df[df['family_status_id'] == 4]) * 100\n",
    "\n",
    "print('Процент Не возврата от клиентов женат\\замужем:','%.2f' % id_0)\n",
    "print('Процент Не возврата от клиентов в гразданском браке:','%.2f' % id_1)\n",
    "print('Процент Не возврата от клиентов вдовец\\вдова:','%.2f' % id_2)\n",
    "print('Процент Не возврата от клиентов в разводе:','%.2f' % id_3)\n",
    "print('Процент Не возврата от клиентов не женат\\не замужем:','%.2f' % id_4)"
   ]
  },
  {
   "cell_type": "markdown",
   "metadata": {},
   "source": [
    "**Вывод**"
   ]
  },
  {
   "cell_type": "markdown",
   "metadata": {},
   "source": [
    "Чаще возникают проблемы у не женатых\\не замужных клиентов."
   ]
  },
  {
   "cell_type": "markdown",
   "metadata": {},
   "source": [
    "### **Есть ли зависимость между уровнем дохода и возвратом кредита в срок?**"
   ]
  },
  {
   "cell_type": "code",
   "execution_count": 121,
   "metadata": {},
   "outputs": [
    {
     "data": {
      "text/html": [
       "<div>\n",
       "<style scoped>\n",
       "    .dataframe tbody tr th:only-of-type {\n",
       "        vertical-align: middle;\n",
       "    }\n",
       "\n",
       "    .dataframe tbody tr th {\n",
       "        vertical-align: top;\n",
       "    }\n",
       "\n",
       "    .dataframe thead th {\n",
       "        text-align: right;\n",
       "    }\n",
       "</style>\n",
       "<table border=\"1\" class=\"dataframe\">\n",
       "  <thead>\n",
       "    <tr style=\"text-align: right;\">\n",
       "      <th></th>\n",
       "      <th>не возврат</th>\n",
       "    </tr>\n",
       "    <tr>\n",
       "      <th>income_group_rev</th>\n",
       "      <th></th>\n",
       "    </tr>\n",
       "  </thead>\n",
       "  <tbody>\n",
       "    <tr>\n",
       "      <th>доход средний</th>\n",
       "      <td>0.087567</td>\n",
       "    </tr>\n",
       "    <tr>\n",
       "      <th>доход выше среднего</th>\n",
       "      <td>0.084596</td>\n",
       "    </tr>\n",
       "    <tr>\n",
       "      <th>доход ниже среднего</th>\n",
       "      <td>0.082731</td>\n",
       "    </tr>\n",
       "    <tr>\n",
       "      <th>доход низкий</th>\n",
       "      <td>0.080168</td>\n",
       "    </tr>\n",
       "    <tr>\n",
       "      <th>доход высокий</th>\n",
       "      <td>0.069914</td>\n",
       "    </tr>\n",
       "  </tbody>\n",
       "</table>\n",
       "</div>"
      ],
      "text/plain": [
       "                     не возврат\n",
       "income_group_rev               \n",
       "доход средний          0.087567\n",
       "доход выше среднего    0.084596\n",
       "доход ниже среднего    0.082731\n",
       "доход низкий           0.080168\n",
       "доход высокий          0.069914"
      ]
     },
     "execution_count": 121,
     "metadata": {},
     "output_type": "execute_result"
    }
   ],
   "source": [
    "money = df.pivot_table(index='income_group_rev', values='debt')\n",
    "money.columns = ['не возврат']\n",
    "money.sort_values(by='не возврат', ascending=False)"
   ]
  },
  {
   "cell_type": "code",
   "execution_count": 122,
   "metadata": {},
   "outputs": [
    {
     "name": "stdout",
     "output_type": "stream",
     "text": [
      "Процент Не возврата от клиентов группы 1: 8.06\n",
      "Процент Не возврата от клиентов группы 2: 8.95\n",
      "Процент Не возврата от клиентов группы 3: 8.00\n",
      "Процент Не возврата от клиентов группы 4: 6.94\n"
     ]
    }
   ],
   "source": [
    "gr_1 = df[df['total_income'] < 119618]                                   # 20667-119617\n",
    "gr_2 = df[(df['total_income'] > 119617) & (df['total_income'] < 167336)] # 119617-167336\n",
    "gr_3 = df[(df['total_income'] > 167336) & (df['total_income'] < 256713)] # 167336-256713\n",
    "gr_4 = df[df['total_income'] > 256713]                                   # 256713 -\n",
    "\n",
    "gr_1 = len(gr_1[gr_1['debt'] == 1]) / gr_1.shape[0] * 100\n",
    "gr_2 = len(gr_2[gr_2['debt'] == 1]) / gr_2.shape[0] * 100\n",
    "gr_3 = len(gr_3[gr_3['debt'] == 1]) / gr_3.shape[0] * 100\n",
    "gr_4 = len(gr_4[gr_4['debt'] == 1]) / gr_4.shape[0] * 100\n",
    "\n",
    "print('Процент Не возврата от клиентов группы 1:','%.2f' % gr_1)\n",
    "print('Процент Не возврата от клиентов группы 2:','%.2f' % gr_2)\n",
    "print('Процент Не возврата от клиентов группы 3:','%.2f' % gr_3)\n",
    "print('Процент Не возврата от клиентов группы 4:','%.2f' % gr_4)\n"
   ]
  },
  {
   "cell_type": "markdown",
   "metadata": {},
   "source": [
    "**Вывод**"
   ]
  },
  {
   "cell_type": "markdown",
   "metadata": {},
   "source": [
    "Чаще возникают проблемы у клиентов с доходом 119617-167336"
   ]
  },
  {
   "cell_type": "markdown",
   "metadata": {},
   "source": [
    "### **Как разные цели кредита влияют на его возврат в срок?**"
   ]
  },
  {
   "cell_type": "code",
   "execution_count": 123,
   "metadata": {},
   "outputs": [
    {
     "data": {
      "text/html": [
       "<div>\n",
       "<style scoped>\n",
       "    .dataframe tbody tr th:only-of-type {\n",
       "        vertical-align: middle;\n",
       "    }\n",
       "\n",
       "    .dataframe tbody tr th {\n",
       "        vertical-align: top;\n",
       "    }\n",
       "\n",
       "    .dataframe thead th {\n",
       "        text-align: right;\n",
       "    }\n",
       "</style>\n",
       "<table border=\"1\" class=\"dataframe\">\n",
       "  <thead>\n",
       "    <tr style=\"text-align: right;\">\n",
       "      <th></th>\n",
       "      <th>не возврат</th>\n",
       "    </tr>\n",
       "    <tr>\n",
       "      <th>cat</th>\n",
       "      <th></th>\n",
       "    </tr>\n",
       "  </thead>\n",
       "  <tbody>\n",
       "    <tr>\n",
       "      <th>автомобиль</th>\n",
       "      <td>0.093590</td>\n",
       "    </tr>\n",
       "    <tr>\n",
       "      <th>образование</th>\n",
       "      <td>0.092200</td>\n",
       "    </tr>\n",
       "    <tr>\n",
       "      <th>свадьба</th>\n",
       "      <td>0.080034</td>\n",
       "    </tr>\n",
       "    <tr>\n",
       "      <th>недвижимость</th>\n",
       "      <td>0.072334</td>\n",
       "    </tr>\n",
       "  </tbody>\n",
       "</table>\n",
       "</div>"
      ],
      "text/plain": [
       "              не возврат\n",
       "cat                     \n",
       "автомобиль      0.093590\n",
       "образование     0.092200\n",
       "свадьба         0.080034\n",
       "недвижимость    0.072334"
      ]
     },
     "execution_count": 123,
     "metadata": {},
     "output_type": "execute_result"
    }
   ],
   "source": [
    "purp = df.pivot_table(index='cat', values='debt')\n",
    "purp.columns = ['не возврат']\n",
    "purp.sort_values(by='не возврат', ascending=False)"
   ]
  },
  {
   "cell_type": "code",
   "execution_count": 124,
   "metadata": {},
   "outputs": [
    {
     "name": "stdout",
     "output_type": "stream",
     "text": [
      "Процент Не возврата от клиентов группы недвижимость: 7.23 |всего заявок: 10811\n",
      "Процент Не возврата от клиентов группы автомобиль: 9.36 |всего заявок 4306\n",
      "Процент Не возврата от клиентов группы образование: 9.22 |всего заявок: 4013\n",
      "Процент Не возврата от клиентов группы свадьба: 8.00 |всего заявок: 2324\n"
     ]
    }
   ],
   "source": [
    "house = len(df[(df['cat'] == 'недвижимость') & (df['debt'] == 1)]) / len(df[df['cat'] == 'недвижимость']) * 100\n",
    "auto = len(df[(df['cat'] == 'автомобиль') & (df['debt'] == 1)]) / len(df[df['cat'] == 'автомобиль']) * 100\n",
    "educ = len(df[(df['cat'] == 'образование') & (df['debt'] == 1)]) / len(df[df['cat'] == 'образование']) * 100\n",
    "wed = len(df[(df['cat'] == 'свадьба') & (df['debt'] == 1)]) / len(df[df['cat'] == 'свадьба']) * 100\n",
    "\n",
    "print('Процент Не возврата от клиентов группы недвижимость:','%.2f' % house,\n",
    "      '|всего заявок:',len(df[df['cat'] == 'недвижимость']))\n",
    "\n",
    "print('Процент Не возврата от клиентов группы автомобиль:','%.2f' % auto, \n",
    "      '|всего заявок',len(df[df['cat'] == 'автомобиль']))\n",
    "\n",
    "print('Процент Не возврата от клиентов группы образование:','%.2f' % educ,\n",
    "      '|всего заявок:',len(df[df['cat'] == 'образование']))\n",
    "\n",
    "print('Процент Не возврата от клиентов группы свадьба:','%.2f' % wed, \n",
    "      '|всего заявок:', len(df[df['cat'] == 'свадьба']))"
   ]
  },
  {
   "cell_type": "markdown",
   "metadata": {},
   "source": [
    "**Вывод**"
   ]
  },
  {
   "cell_type": "markdown",
   "metadata": {},
   "source": [
    "Проблемы с кредитами возникают чаще у клиентов целью которых является приобретение автомобиля.<br>\n",
    "Самые надежные клиенты планируют покупку недвижимости."
   ]
  },
  {
   "cell_type": "markdown",
   "metadata": {},
   "source": [
    "## Общий вывод"
   ]
  },
  {
   "cell_type": "markdown",
   "metadata": {},
   "source": [
    "Из проведенного анализа видно что:\n",
    "- cемейное положение, \n",
    "- количество детей, \n",
    "- цель кредита, \n",
    "- уровень дохода клиента<br>\n",
    "\n",
    "**оказывают влияние на факт погашения кредита в срок.**"
   ]
  },
  {
   "cell_type": "code",
   "execution_count": 125,
   "metadata": {},
   "outputs": [
    {
     "data": {
      "text/html": [
       "<div>\n",
       "<style scoped>\n",
       "    .dataframe tbody tr th:only-of-type {\n",
       "        vertical-align: middle;\n",
       "    }\n",
       "\n",
       "    .dataframe tbody tr th {\n",
       "        vertical-align: top;\n",
       "    }\n",
       "\n",
       "    .dataframe thead th {\n",
       "        text-align: right;\n",
       "    }\n",
       "</style>\n",
       "<table border=\"1\" class=\"dataframe\">\n",
       "  <thead>\n",
       "    <tr style=\"text-align: right;\">\n",
       "      <th></th>\n",
       "      <th>категория</th>\n",
       "      <th>процент не возврата</th>\n",
       "    </tr>\n",
       "  </thead>\n",
       "  <tbody>\n",
       "    <tr>\n",
       "      <th>0</th>\n",
       "      <td>не женат\\не замужем</td>\n",
       "      <td>9.75</td>\n",
       "    </tr>\n",
       "    <tr>\n",
       "      <th>1</th>\n",
       "      <td>автомобиль</td>\n",
       "      <td>9.36</td>\n",
       "    </tr>\n",
       "    <tr>\n",
       "      <th>2</th>\n",
       "      <td>гражданский брак</td>\n",
       "      <td>9.35</td>\n",
       "    </tr>\n",
       "    <tr>\n",
       "      <th>3</th>\n",
       "      <td>образование</td>\n",
       "      <td>9.22</td>\n",
       "    </tr>\n",
       "    <tr>\n",
       "      <th>4</th>\n",
       "      <td>с детьми</td>\n",
       "      <td>9.21</td>\n",
       "    </tr>\n",
       "    <tr>\n",
       "      <th>5</th>\n",
       "      <td>доход 119617-167336</td>\n",
       "      <td>8.95</td>\n",
       "    </tr>\n",
       "    <tr>\n",
       "      <th>6</th>\n",
       "      <td>доход до 119617</td>\n",
       "      <td>8.06</td>\n",
       "    </tr>\n",
       "    <tr>\n",
       "      <th>7</th>\n",
       "      <td>доход 167336-256713</td>\n",
       "      <td>8.00</td>\n",
       "    </tr>\n",
       "    <tr>\n",
       "      <th>8</th>\n",
       "      <td>свадьба</td>\n",
       "      <td>8.00</td>\n",
       "    </tr>\n",
       "    <tr>\n",
       "      <th>9</th>\n",
       "      <td>женат\\замужем</td>\n",
       "      <td>7.55</td>\n",
       "    </tr>\n",
       "    <tr>\n",
       "      <th>10</th>\n",
       "      <td>без детей</td>\n",
       "      <td>7.54</td>\n",
       "    </tr>\n",
       "    <tr>\n",
       "      <th>11</th>\n",
       "      <td>недвижимость</td>\n",
       "      <td>7.23</td>\n",
       "    </tr>\n",
       "    <tr>\n",
       "      <th>12</th>\n",
       "      <td>в разводе</td>\n",
       "      <td>7.11</td>\n",
       "    </tr>\n",
       "    <tr>\n",
       "      <th>13</th>\n",
       "      <td>доход от 256713</td>\n",
       "      <td>6.94</td>\n",
       "    </tr>\n",
       "    <tr>\n",
       "      <th>14</th>\n",
       "      <td>вдовец\\вдова</td>\n",
       "      <td>6.57</td>\n",
       "    </tr>\n",
       "  </tbody>\n",
       "</table>\n",
       "</div>"
      ],
      "text/plain": [
       "              категория  процент не возврата\n",
       "0   не женат\\не замужем                 9.75\n",
       "1            автомобиль                 9.36\n",
       "2      гражданский брак                 9.35\n",
       "3           образование                 9.22\n",
       "4              с детьми                 9.21\n",
       "5   доход 119617-167336                 8.95\n",
       "6       доход до 119617                 8.06\n",
       "7   доход 167336-256713                 8.00\n",
       "8               свадьба                 8.00\n",
       "9         женат\\замужем                 7.55\n",
       "10            без детей                 7.54\n",
       "11         недвижимость                 7.23\n",
       "12            в разводе                 7.11\n",
       "13      доход от 256713                 6.94\n",
       "14         вдовец\\вдова                 6.57"
      ]
     },
     "execution_count": 125,
     "metadata": {},
     "output_type": "execute_result"
    }
   ],
   "source": [
    "df_1 = pd.DataFrame({'категория': ['без детей', 'с детьми', 'женат\\замужем',\n",
    "                                   'гражданский брак', 'вдовец\\вдова','в разводе',\n",
    "                                   'не женат\\не замужем', 'доход до 119617', 'доход 119617-167336', \n",
    "                                   'доход 167336-256713', 'доход от 256713', 'недвижимость',\n",
    "                                   'автомобиль', 'образование', 'свадьба'], \n",
    "                     \n",
    "                     'процент не возврата': [no_back_no_ch, no_back_ch, id_0, \n",
    "                                             id_1, id_2,id_3,id_4, gr_1,\n",
    "                                             gr_2, gr_3, gr_4, house, auto, educ, wed]})\n",
    "df_1 = df_1.round(2).sort_values(by ='процент не возврата', ascending=False).reset_index(drop=True)\n",
    "df_1"
   ]
  },
  {
   "cell_type": "code",
   "execution_count": 126,
   "metadata": {},
   "outputs": [
    {
     "data": {
      "text/html": [
       "<div>\n",
       "<style scoped>\n",
       "    .dataframe tbody tr th:only-of-type {\n",
       "        vertical-align: middle;\n",
       "    }\n",
       "\n",
       "    .dataframe tbody tr th {\n",
       "        vertical-align: top;\n",
       "    }\n",
       "\n",
       "    .dataframe thead th {\n",
       "        text-align: right;\n",
       "    }\n",
       "</style>\n",
       "<table border=\"1\" class=\"dataframe\">\n",
       "  <thead>\n",
       "    <tr style=\"text-align: right;\">\n",
       "      <th></th>\n",
       "      <th>не возврат</th>\n",
       "    </tr>\n",
       "  </thead>\n",
       "  <tbody>\n",
       "    <tr>\n",
       "      <th>Не женат / не замужем</th>\n",
       "      <td>9.75</td>\n",
       "    </tr>\n",
       "    <tr>\n",
       "      <th>автомобиль</th>\n",
       "      <td>9.36</td>\n",
       "    </tr>\n",
       "    <tr>\n",
       "      <th>гражданский брак</th>\n",
       "      <td>9.35</td>\n",
       "    </tr>\n",
       "    <tr>\n",
       "      <th>образование</th>\n",
       "      <td>9.22</td>\n",
       "    </tr>\n",
       "    <tr>\n",
       "      <th>есть дети</th>\n",
       "      <td>9.20</td>\n",
       "    </tr>\n",
       "    <tr>\n",
       "      <th>доход средний</th>\n",
       "      <td>8.76</td>\n",
       "    </tr>\n",
       "    <tr>\n",
       "      <th>доход выше среднего</th>\n",
       "      <td>8.46</td>\n",
       "    </tr>\n",
       "    <tr>\n",
       "      <th>доход ниже среднего</th>\n",
       "      <td>8.27</td>\n",
       "    </tr>\n",
       "    <tr>\n",
       "      <th>доход низкий</th>\n",
       "      <td>8.02</td>\n",
       "    </tr>\n",
       "    <tr>\n",
       "      <th>свадьба</th>\n",
       "      <td>8.00</td>\n",
       "    </tr>\n",
       "    <tr>\n",
       "      <th>женат / замужем</th>\n",
       "      <td>7.55</td>\n",
       "    </tr>\n",
       "    <tr>\n",
       "      <th>нет детей</th>\n",
       "      <td>7.50</td>\n",
       "    </tr>\n",
       "    <tr>\n",
       "      <th>недвижимость</th>\n",
       "      <td>7.23</td>\n",
       "    </tr>\n",
       "    <tr>\n",
       "      <th>в разводе</th>\n",
       "      <td>7.11</td>\n",
       "    </tr>\n",
       "    <tr>\n",
       "      <th>доход высокий</th>\n",
       "      <td>6.99</td>\n",
       "    </tr>\n",
       "    <tr>\n",
       "      <th>вдовец / вдова</th>\n",
       "      <td>6.57</td>\n",
       "    </tr>\n",
       "  </tbody>\n",
       "</table>\n",
       "</div>"
      ],
      "text/plain": [
       "                       не возврат\n",
       "Не женат / не замужем        9.75\n",
       "автомобиль                   9.36\n",
       "гражданский брак             9.35\n",
       "образование                  9.22\n",
       "есть дети                    9.20\n",
       "доход средний                8.76\n",
       "доход выше среднего          8.46\n",
       "доход ниже среднего          8.27\n",
       "доход низкий                 8.02\n",
       "свадьба                      8.00\n",
       "женат / замужем              7.55\n",
       "нет детей                    7.50\n",
       "недвижимость                 7.23\n",
       "в разводе                    7.11\n",
       "доход высокий                6.99\n",
       "вдовец / вдова               6.57"
      ]
     },
     "execution_count": 126,
     "metadata": {},
     "output_type": "execute_result"
    }
   ],
   "source": [
    "pd.concat([purp, money, family, chill], \n",
    "          axis=0, \n",
    "          join='outer').agg({'не возврат':lambda x: x * 100}).round(2).sort_values(by='не возврат', ascending=False)"
   ]
  },
  {
   "cell_type": "markdown",
   "metadata": {},
   "source": [
    "Из проведенного анализа видно: \n",
    "- чаще проблемы возникают у заемщиков из категории \"не женат/не замужем\", а самыми надежными будут клиенты из категории \"вдовец/вдова\"\n",
    "- самой \"проблемной\" целью кредита является приобретение автомобиля, у приобретателей недвижимости возникает меньше проблем с возвратом\n",
    "- наличие детей влияет на возврат кредита в срок"
   ]
  },
  {
   "cell_type": "markdown",
   "metadata": {},
   "source": []
  }
 ],
 "metadata": {
  "ExecuteTimeLog": [
   {
    "duration": 525,
    "start_time": "2021-12-08T07:28:36.226Z"
   },
   {
    "duration": 1917,
    "start_time": "2021-12-08T07:28:40.268Z"
   },
   {
    "duration": 62,
    "start_time": "2021-12-08T07:29:39.946Z"
   },
   {
    "duration": 81,
    "start_time": "2021-12-08T07:30:01.975Z"
   },
   {
    "duration": 69,
    "start_time": "2021-12-08T07:30:19.394Z"
   },
   {
    "duration": 361,
    "start_time": "2021-12-08T07:36:42.707Z"
   },
   {
    "duration": 70,
    "start_time": "2021-12-08T07:37:44.121Z"
   },
   {
    "duration": 67,
    "start_time": "2021-12-08T07:38:16.584Z"
   },
   {
    "duration": 845,
    "start_time": "2021-12-17T06:59:26.063Z"
   },
   {
    "duration": 85,
    "start_time": "2021-12-17T06:59:56.987Z"
   },
   {
    "duration": 102,
    "start_time": "2021-12-17T07:00:58.980Z"
   },
   {
    "duration": 101,
    "start_time": "2021-12-17T07:01:22.267Z"
   },
   {
    "duration": 106,
    "start_time": "2021-12-17T07:01:49.727Z"
   },
   {
    "duration": 104,
    "start_time": "2021-12-17T07:02:25.782Z"
   },
   {
    "duration": 128,
    "start_time": "2021-12-17T07:03:35.902Z"
   },
   {
    "duration": 89,
    "start_time": "2021-12-17T07:12:29.326Z"
   },
   {
    "duration": 85,
    "start_time": "2021-12-17T07:14:43.266Z"
   },
   {
    "duration": 113,
    "start_time": "2021-12-17T07:17:33.522Z"
   },
   {
    "duration": 107,
    "start_time": "2021-12-17T07:17:58.392Z"
   },
   {
    "duration": 95,
    "start_time": "2021-12-17T07:18:53.628Z"
   },
   {
    "duration": 66,
    "start_time": "2021-12-17T07:21:25.000Z"
   },
   {
    "duration": 94,
    "start_time": "2021-12-17T07:27:33.618Z"
   },
   {
    "duration": 83,
    "start_time": "2021-12-17T07:27:51.647Z"
   },
   {
    "duration": 652,
    "start_time": "2021-12-17T07:29:15.980Z"
   },
   {
    "duration": 75,
    "start_time": "2021-12-17T07:29:35.006Z"
   },
   {
    "duration": 67,
    "start_time": "2021-12-17T07:29:47.896Z"
   },
   {
    "duration": 78,
    "start_time": "2021-12-17T07:30:54.771Z"
   },
   {
    "duration": 69,
    "start_time": "2021-12-17T07:31:02.927Z"
   },
   {
    "duration": 77,
    "start_time": "2021-12-17T07:31:12.777Z"
   },
   {
    "duration": 66,
    "start_time": "2021-12-17T07:32:33.693Z"
   },
   {
    "duration": 75,
    "start_time": "2021-12-17T07:34:59.854Z"
   },
   {
    "duration": 66,
    "start_time": "2021-12-17T07:35:43.306Z"
   },
   {
    "duration": 70,
    "start_time": "2021-12-17T07:37:38.808Z"
   },
   {
    "duration": 79,
    "start_time": "2021-12-17T07:38:10.258Z"
   },
   {
    "duration": 75,
    "start_time": "2021-12-17T07:39:06.150Z"
   },
   {
    "duration": 85,
    "start_time": "2021-12-17T07:39:19.857Z"
   },
   {
    "duration": 86,
    "start_time": "2021-12-17T07:41:18.742Z"
   },
   {
    "duration": 94,
    "start_time": "2021-12-17T07:45:37.202Z"
   },
   {
    "duration": 78,
    "start_time": "2021-12-17T08:06:38.063Z"
   },
   {
    "duration": 68,
    "start_time": "2021-12-17T08:07:40.638Z"
   },
   {
    "duration": 67,
    "start_time": "2021-12-17T08:08:06.450Z"
   },
   {
    "duration": 8099,
    "start_time": "2021-12-17T08:13:15.353Z"
   },
   {
    "duration": 93,
    "start_time": "2021-12-17T08:13:40.611Z"
   },
   {
    "duration": 148,
    "start_time": "2021-12-17T08:57:03.108Z"
   },
   {
    "duration": 151,
    "start_time": "2021-12-17T08:57:51.257Z"
   },
   {
    "duration": 107,
    "start_time": "2021-12-17T09:01:23.120Z"
   },
   {
    "duration": 65,
    "start_time": "2021-12-17T09:01:42.664Z"
   },
   {
    "duration": 76,
    "start_time": "2021-12-17T09:02:50.799Z"
   },
   {
    "duration": 78,
    "start_time": "2021-12-17T09:03:27.176Z"
   },
   {
    "duration": 100,
    "start_time": "2021-12-17T09:03:32.831Z"
   },
   {
    "duration": 85,
    "start_time": "2021-12-17T09:05:48.211Z"
   },
   {
    "duration": 92,
    "start_time": "2021-12-17T09:06:38.565Z"
   },
   {
    "duration": 16,
    "start_time": "2021-12-17T09:07:44.425Z"
   },
   {
    "duration": 12,
    "start_time": "2021-12-17T09:08:14.807Z"
   },
   {
    "duration": 14,
    "start_time": "2021-12-17T09:09:12.661Z"
   },
   {
    "duration": 13,
    "start_time": "2021-12-17T09:11:56.142Z"
   },
   {
    "duration": 12,
    "start_time": "2021-12-17T09:12:32.321Z"
   },
   {
    "duration": 38,
    "start_time": "2021-12-17T09:13:34.755Z"
   },
   {
    "duration": 17,
    "start_time": "2021-12-17T09:14:31.241Z"
   },
   {
    "duration": 18,
    "start_time": "2021-12-17T09:14:55.418Z"
   },
   {
    "duration": 12,
    "start_time": "2021-12-17T09:15:04.747Z"
   },
   {
    "duration": 303,
    "start_time": "2021-12-17T09:15:11.690Z"
   },
   {
    "duration": 8,
    "start_time": "2021-12-17T09:18:05.575Z"
   },
   {
    "duration": 7,
    "start_time": "2021-12-17T09:19:36.474Z"
   },
   {
    "duration": 45,
    "start_time": "2021-12-17T09:20:32.348Z"
   },
   {
    "duration": 13,
    "start_time": "2021-12-17T09:27:06.551Z"
   },
   {
    "duration": 39,
    "start_time": "2021-12-17T09:28:20.683Z"
   },
   {
    "duration": 315,
    "start_time": "2021-12-17T09:29:11.809Z"
   },
   {
    "duration": 1685,
    "start_time": "2021-12-17T09:29:33.421Z"
   },
   {
    "duration": 333,
    "start_time": "2021-12-17T09:30:10.217Z"
   },
   {
    "duration": 334,
    "start_time": "2021-12-17T09:30:26.322Z"
   },
   {
    "duration": 313,
    "start_time": "2021-12-17T09:31:07.326Z"
   },
   {
    "duration": 314,
    "start_time": "2021-12-17T09:31:45.608Z"
   },
   {
    "duration": 314,
    "start_time": "2021-12-17T09:31:58.999Z"
   },
   {
    "duration": 439,
    "start_time": "2021-12-17T09:32:32.015Z"
   },
   {
    "duration": 568,
    "start_time": "2021-12-17T09:32:44.800Z"
   },
   {
    "duration": 42,
    "start_time": "2021-12-17T09:39:03.377Z"
   },
   {
    "duration": 9,
    "start_time": "2021-12-17T09:40:44.761Z"
   },
   {
    "duration": 12,
    "start_time": "2021-12-17T09:41:20.518Z"
   },
   {
    "duration": 10,
    "start_time": "2021-12-17T09:41:30.252Z"
   },
   {
    "duration": 19,
    "start_time": "2021-12-17T09:47:25.176Z"
   },
   {
    "duration": 19,
    "start_time": "2021-12-17T09:48:14.722Z"
   },
   {
    "duration": 18,
    "start_time": "2021-12-17T09:48:19.765Z"
   },
   {
    "duration": 22,
    "start_time": "2021-12-17T09:48:32.861Z"
   },
   {
    "duration": 38,
    "start_time": "2021-12-17T09:49:11.782Z"
   },
   {
    "duration": 821,
    "start_time": "2021-12-17T09:50:16.311Z"
   },
   {
    "duration": 12,
    "start_time": "2021-12-17T09:50:17.134Z"
   },
   {
    "duration": 12,
    "start_time": "2021-12-17T09:50:28.125Z"
   },
   {
    "duration": 8,
    "start_time": "2021-12-17T09:50:39.233Z"
   },
   {
    "duration": 19,
    "start_time": "2021-12-17T09:50:52.168Z"
   },
   {
    "duration": 12,
    "start_time": "2021-12-17T09:51:09.911Z"
   },
   {
    "duration": 1033,
    "start_time": "2021-12-17T09:52:48.653Z"
   },
   {
    "duration": 13,
    "start_time": "2021-12-17T09:52:59.055Z"
   },
   {
    "duration": 23,
    "start_time": "2021-12-17T09:54:32.694Z"
   },
   {
    "duration": 21,
    "start_time": "2021-12-17T09:54:58.867Z"
   },
   {
    "duration": 105,
    "start_time": "2021-12-17T09:56:27.327Z"
   },
   {
    "duration": 308,
    "start_time": "2021-12-17T09:58:03.199Z"
   },
   {
    "duration": 370,
    "start_time": "2021-12-17T10:00:50.309Z"
   },
   {
    "duration": 513,
    "start_time": "2021-12-17T10:01:06.738Z"
   },
   {
    "duration": 6,
    "start_time": "2021-12-17T10:02:50.510Z"
   },
   {
    "duration": 19,
    "start_time": "2021-12-17T10:03:02.497Z"
   },
   {
    "duration": 37,
    "start_time": "2021-12-17T10:03:09.146Z"
   },
   {
    "duration": 6,
    "start_time": "2021-12-17T10:03:57.270Z"
   },
   {
    "duration": 27,
    "start_time": "2021-12-17T10:04:10.316Z"
   },
   {
    "duration": 30,
    "start_time": "2021-12-17T10:08:36.516Z"
   },
   {
    "duration": 11,
    "start_time": "2021-12-17T10:09:16.457Z"
   },
   {
    "duration": 316,
    "start_time": "2021-12-17T10:18:24.511Z"
   },
   {
    "duration": 443,
    "start_time": "2021-12-17T10:19:07.246Z"
   },
   {
    "duration": 345,
    "start_time": "2021-12-17T10:21:47.035Z"
   },
   {
    "duration": 13,
    "start_time": "2021-12-17T10:21:54.920Z"
   },
   {
    "duration": 21,
    "start_time": "2021-12-17T10:27:40.096Z"
   },
   {
    "duration": 29,
    "start_time": "2021-12-17T10:28:01.080Z"
   },
   {
    "duration": 12,
    "start_time": "2021-12-17T10:28:06.773Z"
   },
   {
    "duration": 11,
    "start_time": "2021-12-17T10:30:10.777Z"
   },
   {
    "duration": 11,
    "start_time": "2021-12-17T10:30:18.673Z"
   },
   {
    "duration": 13,
    "start_time": "2021-12-17T10:30:47.417Z"
   },
   {
    "duration": 19,
    "start_time": "2021-12-17T10:31:18.367Z"
   },
   {
    "duration": 20,
    "start_time": "2021-12-17T10:32:07.908Z"
   },
   {
    "duration": 10,
    "start_time": "2021-12-17T10:34:59.010Z"
   },
   {
    "duration": 320,
    "start_time": "2021-12-17T10:35:23.026Z"
   },
   {
    "duration": 38,
    "start_time": "2021-12-17T10:43:07.240Z"
   },
   {
    "duration": 318,
    "start_time": "2021-12-17T10:45:35.366Z"
   },
   {
    "duration": 26,
    "start_time": "2021-12-17T10:46:05.575Z"
   },
   {
    "duration": 103,
    "start_time": "2021-12-17T10:47:33.915Z"
   },
   {
    "duration": 32,
    "start_time": "2021-12-17T10:47:51.587Z"
   },
   {
    "duration": 40,
    "start_time": "2021-12-17T10:50:13.618Z"
   },
   {
    "duration": 53,
    "start_time": "2021-12-17T10:51:17.642Z"
   },
   {
    "duration": 44,
    "start_time": "2021-12-17T10:51:41.988Z"
   },
   {
    "duration": 46,
    "start_time": "2021-12-17T10:51:55.421Z"
   },
   {
    "duration": 962,
    "start_time": "2021-12-17T10:52:43.746Z"
   },
   {
    "duration": 13,
    "start_time": "2021-12-17T10:52:44.712Z"
   },
   {
    "duration": 79,
    "start_time": "2021-12-17T10:52:44.729Z"
   },
   {
    "duration": 41,
    "start_time": "2021-12-17T10:52:59.918Z"
   },
   {
    "duration": 13,
    "start_time": "2021-12-17T10:53:29.015Z"
   },
   {
    "duration": 43,
    "start_time": "2021-12-17T10:53:31.277Z"
   },
   {
    "duration": 44,
    "start_time": "2021-12-17T10:55:20.106Z"
   },
   {
    "duration": 54,
    "start_time": "2021-12-17T10:55:24.441Z"
   },
   {
    "duration": 61,
    "start_time": "2021-12-17T10:58:16.723Z"
   },
   {
    "duration": 46,
    "start_time": "2021-12-17T10:58:44.284Z"
   },
   {
    "duration": 59,
    "start_time": "2021-12-17T10:58:50.936Z"
   },
   {
    "duration": 43,
    "start_time": "2021-12-17T10:58:56.390Z"
   },
   {
    "duration": 50,
    "start_time": "2021-12-17T10:59:09.667Z"
   },
   {
    "duration": 50,
    "start_time": "2021-12-17T10:59:15.066Z"
   },
   {
    "duration": 46,
    "start_time": "2021-12-17T11:01:50.710Z"
   },
   {
    "duration": 66,
    "start_time": "2021-12-17T11:02:16.529Z"
   },
   {
    "duration": 74,
    "start_time": "2021-12-17T11:03:17.920Z"
   },
   {
    "duration": 8,
    "start_time": "2021-12-17T11:06:11.381Z"
   },
   {
    "duration": 845,
    "start_time": "2021-12-17T11:06:57.353Z"
   },
   {
    "duration": 9,
    "start_time": "2021-12-17T11:07:10.195Z"
   },
   {
    "duration": 8,
    "start_time": "2021-12-17T11:07:34.623Z"
   },
   {
    "duration": 10,
    "start_time": "2021-12-17T11:08:06.322Z"
   },
   {
    "duration": 587,
    "start_time": "2021-12-17T12:42:42.817Z"
   },
   {
    "duration": 7,
    "start_time": "2021-12-17T12:42:43.406Z"
   },
   {
    "duration": 37,
    "start_time": "2021-12-17T12:42:43.415Z"
   },
   {
    "duration": 5,
    "start_time": "2021-12-17T12:42:43.454Z"
   },
   {
    "duration": 611,
    "start_time": "2021-12-17T12:50:19.695Z"
   },
   {
    "duration": 7,
    "start_time": "2021-12-17T12:50:20.308Z"
   },
   {
    "duration": 38,
    "start_time": "2021-12-17T12:50:20.317Z"
   },
   {
    "duration": 296,
    "start_time": "2021-12-17T12:53:13.183Z"
   },
   {
    "duration": 5,
    "start_time": "2021-12-17T12:53:25.836Z"
   },
   {
    "duration": 6,
    "start_time": "2021-12-17T12:53:55.168Z"
   },
   {
    "duration": 4,
    "start_time": "2021-12-17T12:54:32.510Z"
   },
   {
    "duration": 3,
    "start_time": "2021-12-17T12:54:38.033Z"
   },
   {
    "duration": 5,
    "start_time": "2021-12-17T12:54:44.100Z"
   },
   {
    "duration": 5,
    "start_time": "2021-12-17T12:55:04.274Z"
   },
   {
    "duration": 6,
    "start_time": "2021-12-17T12:56:43.049Z"
   },
   {
    "duration": 19,
    "start_time": "2021-12-17T12:56:49.301Z"
   },
   {
    "duration": 15,
    "start_time": "2021-12-17T12:58:26.539Z"
   },
   {
    "duration": 18,
    "start_time": "2021-12-17T13:02:03.475Z"
   },
   {
    "duration": 5,
    "start_time": "2021-12-17T13:15:04.888Z"
   },
   {
    "duration": 7,
    "start_time": "2021-12-17T13:18:01.207Z"
   },
   {
    "duration": 6065,
    "start_time": "2021-12-17T13:19:08.865Z"
   },
   {
    "duration": 6124,
    "start_time": "2021-12-17T13:19:18.048Z"
   },
   {
    "duration": 6182,
    "start_time": "2021-12-17T13:19:51.170Z"
   },
   {
    "duration": 630,
    "start_time": "2021-12-17T13:21:18.676Z"
   },
   {
    "duration": 648,
    "start_time": "2021-12-17T13:21:49.075Z"
   },
   {
    "duration": 684,
    "start_time": "2021-12-17T13:21:57.134Z"
   },
   {
    "duration": 644,
    "start_time": "2021-12-17T13:22:02.662Z"
   },
   {
    "duration": 656,
    "start_time": "2021-12-17T13:22:07.655Z"
   },
   {
    "duration": 646,
    "start_time": "2021-12-17T13:22:16.903Z"
   },
   {
    "duration": 4866,
    "start_time": "2021-12-17T13:45:20.471Z"
   },
   {
    "duration": 4772,
    "start_time": "2021-12-17T13:46:00.544Z"
   },
   {
    "duration": 4622,
    "start_time": "2021-12-17T13:47:39.523Z"
   },
   {
    "duration": 940,
    "start_time": "2021-12-17T13:48:28.875Z"
   },
   {
    "duration": 4641,
    "start_time": "2021-12-17T13:49:11.885Z"
   },
   {
    "duration": 3545,
    "start_time": "2021-12-17T13:49:23.794Z"
   },
   {
    "duration": 3657,
    "start_time": "2021-12-17T13:49:36.796Z"
   },
   {
    "duration": 43,
    "start_time": "2021-12-17T13:49:57.771Z"
   },
   {
    "duration": 3724,
    "start_time": "2021-12-17T13:50:26.207Z"
   },
   {
    "duration": 917,
    "start_time": "2021-12-17T13:50:41.643Z"
   },
   {
    "duration": 78,
    "start_time": "2021-12-17T13:51:11.083Z"
   },
   {
    "duration": 90,
    "start_time": "2021-12-17T13:51:25.345Z"
   },
   {
    "duration": 4695,
    "start_time": "2021-12-17T13:51:35.644Z"
   },
   {
    "duration": 4571,
    "start_time": "2021-12-17T13:52:19.327Z"
   },
   {
    "duration": 3634,
    "start_time": "2021-12-17T13:53:20.610Z"
   },
   {
    "duration": 3898,
    "start_time": "2021-12-17T13:53:33.929Z"
   },
   {
    "duration": 96,
    "start_time": "2021-12-17T13:53:45.190Z"
   },
   {
    "duration": 3537,
    "start_time": "2021-12-17T13:53:54.758Z"
   },
   {
    "duration": 99,
    "start_time": "2021-12-17T13:54:13.508Z"
   },
   {
    "duration": 3526,
    "start_time": "2021-12-17T13:54:19.986Z"
   },
   {
    "duration": 3600,
    "start_time": "2021-12-17T13:54:29.510Z"
   },
   {
    "duration": 448,
    "start_time": "2021-12-18T18:44:28.292Z"
   },
   {
    "duration": 827,
    "start_time": "2021-12-18T18:44:37.580Z"
   },
   {
    "duration": 12,
    "start_time": "2021-12-18T18:44:38.410Z"
   },
   {
    "duration": 75,
    "start_time": "2021-12-18T18:44:38.425Z"
   },
   {
    "duration": 4,
    "start_time": "2021-12-18T18:44:38.503Z"
   },
   {
    "duration": 6431,
    "start_time": "2021-12-18T18:44:38.510Z"
   },
   {
    "duration": 6276,
    "start_time": "2021-12-18T18:44:46.008Z"
   },
   {
    "duration": 123,
    "start_time": "2021-12-18T18:45:06.735Z"
   },
   {
    "duration": 121,
    "start_time": "2021-12-18T18:47:08.876Z"
   },
   {
    "duration": 132,
    "start_time": "2021-12-18T18:48:50.103Z"
   },
   {
    "duration": 130,
    "start_time": "2021-12-18T18:49:08.175Z"
   },
   {
    "duration": 7511,
    "start_time": "2021-12-18T18:55:35.400Z"
   },
   {
    "duration": 5422,
    "start_time": "2021-12-18T18:57:11.846Z"
   },
   {
    "duration": 6749,
    "start_time": "2021-12-18T18:57:30.230Z"
   },
   {
    "duration": 9,
    "start_time": "2021-12-18T18:58:41.989Z"
   },
   {
    "duration": 128,
    "start_time": "2021-12-18T19:02:14.501Z"
   },
   {
    "duration": 5439,
    "start_time": "2021-12-18T19:02:26.092Z"
   },
   {
    "duration": 127,
    "start_time": "2021-12-18T19:03:08.477Z"
   },
   {
    "duration": 5564,
    "start_time": "2021-12-18T19:03:15.405Z"
   },
   {
    "duration": 5232,
    "start_time": "2021-12-18T19:05:43.829Z"
   },
   {
    "duration": 5780,
    "start_time": "2021-12-18T19:13:50.868Z"
   },
   {
    "duration": 6021,
    "start_time": "2021-12-18T19:14:36.052Z"
   },
   {
    "duration": 5276,
    "start_time": "2021-12-18T19:17:23.413Z"
   },
   {
    "duration": 5743,
    "start_time": "2021-12-18T19:23:35.379Z"
   },
   {
    "duration": 5798,
    "start_time": "2021-12-18T19:24:30.435Z"
   },
   {
    "duration": 5324,
    "start_time": "2021-12-18T19:24:59.260Z"
   },
   {
    "duration": 7,
    "start_time": "2021-12-18T19:39:22.680Z"
   },
   {
    "duration": 10,
    "start_time": "2021-12-18T19:40:09.528Z"
   },
   {
    "duration": 13,
    "start_time": "2021-12-18T19:40:51.880Z"
   },
   {
    "duration": 55,
    "start_time": "2021-12-18T19:42:24.377Z"
   },
   {
    "duration": 12,
    "start_time": "2021-12-18T19:42:32.247Z"
   },
   {
    "duration": 8,
    "start_time": "2021-12-18T19:44:56.815Z"
   },
   {
    "duration": 484,
    "start_time": "2021-12-18T19:45:04.631Z"
   },
   {
    "duration": 12,
    "start_time": "2021-12-18T19:45:09.778Z"
   },
   {
    "duration": 42,
    "start_time": "2021-12-18T19:50:55.088Z"
   },
   {
    "duration": 42,
    "start_time": "2021-12-18T19:51:07.014Z"
   },
   {
    "duration": 391,
    "start_time": "2021-12-18T19:52:01.248Z"
   },
   {
    "duration": 44,
    "start_time": "2021-12-18T19:53:22.991Z"
   },
   {
    "duration": 20,
    "start_time": "2021-12-18T19:53:57.463Z"
   },
   {
    "duration": 57,
    "start_time": "2021-12-18T19:54:34.614Z"
   },
   {
    "duration": 65,
    "start_time": "2021-12-18T19:54:52.735Z"
   },
   {
    "duration": 45,
    "start_time": "2021-12-18T19:55:00.008Z"
   },
   {
    "duration": 388,
    "start_time": "2021-12-18T19:56:55.799Z"
   },
   {
    "duration": 29,
    "start_time": "2021-12-18T19:57:24.374Z"
   },
   {
    "duration": 366,
    "start_time": "2021-12-18T19:58:12.126Z"
   },
   {
    "duration": 397,
    "start_time": "2021-12-18T19:58:26.647Z"
   },
   {
    "duration": 367,
    "start_time": "2021-12-18T19:58:51.662Z"
   },
   {
    "duration": 125,
    "start_time": "2021-12-18T19:59:24.079Z"
   },
   {
    "duration": 412,
    "start_time": "2021-12-18T19:59:29.886Z"
   },
   {
    "duration": 28,
    "start_time": "2021-12-18T19:59:47.606Z"
   },
   {
    "duration": 376,
    "start_time": "2021-12-18T20:00:34.030Z"
   },
   {
    "duration": 19,
    "start_time": "2021-12-18T20:00:55.599Z"
   },
   {
    "duration": 44,
    "start_time": "2021-12-18T20:02:03.382Z"
   },
   {
    "duration": 12,
    "start_time": "2021-12-18T20:03:05.166Z"
   },
   {
    "duration": 42,
    "start_time": "2021-12-18T20:18:32.967Z"
   },
   {
    "duration": 488,
    "start_time": "2021-12-18T20:19:07.788Z"
   },
   {
    "duration": 572,
    "start_time": "2021-12-18T20:19:35.173Z"
   },
   {
    "duration": 122,
    "start_time": "2021-12-18T20:19:56.364Z"
   },
   {
    "duration": 2684,
    "start_time": "2021-12-18T20:20:08.012Z"
   },
   {
    "duration": 406,
    "start_time": "2021-12-18T20:20:19.173Z"
   },
   {
    "duration": 1144,
    "start_time": "2021-12-18T20:20:30.005Z"
   },
   {
    "duration": 27,
    "start_time": "2021-12-18T20:20:41.493Z"
   },
   {
    "duration": 435,
    "start_time": "2021-12-18T20:20:53.701Z"
   },
   {
    "duration": 29,
    "start_time": "2021-12-18T20:21:06.228Z"
   },
   {
    "duration": -76,
    "start_time": "2021-12-18T20:26:19.875Z"
   },
   {
    "duration": 7871,
    "start_time": "2021-12-18T20:26:29.363Z"
   },
   {
    "duration": 26,
    "start_time": "2021-12-18T20:27:11.660Z"
   },
   {
    "duration": 6,
    "start_time": "2021-12-18T20:32:33.307Z"
   },
   {
    "duration": 10,
    "start_time": "2021-12-18T20:33:34.786Z"
   },
   {
    "duration": 7,
    "start_time": "2021-12-18T20:44:26.177Z"
   },
   {
    "duration": 8,
    "start_time": "2021-12-18T20:44:56.265Z"
   },
   {
    "duration": 11,
    "start_time": "2021-12-18T20:45:38.329Z"
   },
   {
    "duration": 128,
    "start_time": "2021-12-18T20:46:28.050Z"
   },
   {
    "duration": 149,
    "start_time": "2021-12-18T20:46:35.466Z"
   },
   {
    "duration": 8,
    "start_time": "2021-12-18T20:46:48.185Z"
   },
   {
    "duration": 7,
    "start_time": "2021-12-18T20:47:04.186Z"
   },
   {
    "duration": 7,
    "start_time": "2021-12-18T20:47:34.380Z"
   },
   {
    "duration": 156,
    "start_time": "2021-12-18T20:47:46.417Z"
   },
   {
    "duration": 9,
    "start_time": "2021-12-18T20:47:54.337Z"
   },
   {
    "duration": 8,
    "start_time": "2021-12-18T20:48:02.147Z"
   },
   {
    "duration": 8,
    "start_time": "2021-12-18T20:48:21.466Z"
   },
   {
    "duration": 10,
    "start_time": "2021-12-18T20:50:17.794Z"
   },
   {
    "duration": 10,
    "start_time": "2021-12-18T20:51:37.697Z"
   },
   {
    "duration": 10,
    "start_time": "2021-12-18T20:51:43.217Z"
   },
   {
    "duration": 10,
    "start_time": "2021-12-18T20:52:08.873Z"
   },
   {
    "duration": 12,
    "start_time": "2021-12-18T20:53:20.649Z"
   },
   {
    "duration": 12,
    "start_time": "2021-12-18T20:53:29.929Z"
   },
   {
    "duration": 10,
    "start_time": "2021-12-18T20:55:49.630Z"
   },
   {
    "duration": 10,
    "start_time": "2021-12-18T20:56:05.729Z"
   },
   {
    "duration": 129,
    "start_time": "2021-12-18T20:56:12.769Z"
   },
   {
    "duration": 10,
    "start_time": "2021-12-18T20:56:23.441Z"
   },
   {
    "duration": 10,
    "start_time": "2021-12-18T20:56:34.320Z"
   },
   {
    "duration": 10,
    "start_time": "2021-12-18T20:56:38.449Z"
   },
   {
    "duration": 9574,
    "start_time": "2021-12-18T21:02:49.088Z"
   },
   {
    "duration": 30,
    "start_time": "2021-12-18T21:03:00.421Z"
   },
   {
    "duration": 17,
    "start_time": "2021-12-18T21:14:57.851Z"
   },
   {
    "duration": 13,
    "start_time": "2021-12-18T21:15:44.552Z"
   },
   {
    "duration": 11234,
    "start_time": "2021-12-18T21:15:53.685Z"
   },
   {
    "duration": 19,
    "start_time": "2021-12-18T21:16:33.261Z"
   },
   {
    "duration": 22,
    "start_time": "2021-12-18T21:17:01.205Z"
   },
   {
    "duration": 20,
    "start_time": "2021-12-18T21:17:28.284Z"
   },
   {
    "duration": 391,
    "start_time": "2021-12-18T21:23:23.964Z"
   },
   {
    "duration": 399,
    "start_time": "2021-12-18T21:26:32.195Z"
   },
   {
    "duration": 129,
    "start_time": "2021-12-18T21:30:08.091Z"
   },
   {
    "duration": 140,
    "start_time": "2021-12-18T21:30:38.531Z"
   },
   {
    "duration": 373,
    "start_time": "2021-12-18T21:30:52.323Z"
   },
   {
    "duration": 504,
    "start_time": "2021-12-18T21:31:22.981Z"
   },
   {
    "duration": 414,
    "start_time": "2021-12-18T21:32:57.564Z"
   },
   {
    "duration": 140,
    "start_time": "2021-12-18T21:33:13.594Z"
   },
   {
    "duration": 32,
    "start_time": "2021-12-18T21:33:48.626Z"
   },
   {
    "duration": 12,
    "start_time": "2021-12-18T21:34:13.867Z"
   },
   {
    "duration": 173,
    "start_time": "2021-12-18T21:34:58.684Z"
   },
   {
    "duration": 10,
    "start_time": "2021-12-18T21:35:36.818Z"
   },
   {
    "duration": 14,
    "start_time": "2021-12-18T21:36:07.802Z"
   },
   {
    "duration": 14,
    "start_time": "2021-12-18T21:36:13.993Z"
   },
   {
    "duration": 17,
    "start_time": "2021-12-18T21:37:12.410Z"
   },
   {
    "duration": 29,
    "start_time": "2021-12-18T21:40:28.521Z"
   },
   {
    "duration": 32,
    "start_time": "2021-12-18T21:40:50.297Z"
   },
   {
    "duration": 32,
    "start_time": "2021-12-18T21:42:24.882Z"
   },
   {
    "duration": 346,
    "start_time": "2021-12-19T15:55:36.978Z"
   },
   {
    "duration": 810,
    "start_time": "2021-12-19T15:55:47.625Z"
   },
   {
    "duration": 14,
    "start_time": "2021-12-19T15:55:48.438Z"
   },
   {
    "duration": 387,
    "start_time": "2021-12-19T15:55:48.455Z"
   },
   {
    "duration": -110,
    "start_time": "2021-12-19T15:55:48.954Z"
   },
   {
    "duration": -127,
    "start_time": "2021-12-19T15:55:48.973Z"
   },
   {
    "duration": -147,
    "start_time": "2021-12-19T15:55:48.994Z"
   },
   {
    "duration": -162,
    "start_time": "2021-12-19T15:55:49.010Z"
   },
   {
    "duration": -165,
    "start_time": "2021-12-19T15:55:49.015Z"
   },
   {
    "duration": 8,
    "start_time": "2021-12-19T15:55:55.349Z"
   },
   {
    "duration": 79,
    "start_time": "2021-12-19T15:56:26.381Z"
   },
   {
    "duration": 68,
    "start_time": "2021-12-19T16:00:17.901Z"
   },
   {
    "duration": 79,
    "start_time": "2021-12-19T16:01:45.474Z"
   },
   {
    "duration": 81,
    "start_time": "2021-12-19T16:02:08.870Z"
   },
   {
    "duration": 440,
    "start_time": "2021-12-19T16:03:36.524Z"
   },
   {
    "duration": 81,
    "start_time": "2021-12-19T16:04:32.528Z"
   },
   {
    "duration": 78,
    "start_time": "2021-12-19T16:08:04.685Z"
   },
   {
    "duration": 92,
    "start_time": "2021-12-19T16:08:30.259Z"
   },
   {
    "duration": 296,
    "start_time": "2021-12-19T16:11:09.818Z"
   },
   {
    "duration": 98,
    "start_time": "2021-12-19T16:12:45.723Z"
   },
   {
    "duration": 65,
    "start_time": "2021-12-19T16:13:16.119Z"
   },
   {
    "duration": 66,
    "start_time": "2021-12-19T16:13:30.482Z"
   },
   {
    "duration": 64,
    "start_time": "2021-12-19T16:13:53.153Z"
   },
   {
    "duration": 64,
    "start_time": "2021-12-19T16:15:19.065Z"
   },
   {
    "duration": 65,
    "start_time": "2021-12-19T16:15:53.926Z"
   },
   {
    "duration": 94,
    "start_time": "2021-12-19T16:16:38.928Z"
   },
   {
    "duration": 73,
    "start_time": "2021-12-19T16:17:50.497Z"
   },
   {
    "duration": 433,
    "start_time": "2021-12-19T16:18:22.415Z"
   },
   {
    "duration": 66,
    "start_time": "2021-12-19T16:18:28.407Z"
   },
   {
    "duration": 92,
    "start_time": "2021-12-19T16:22:57.817Z"
   },
   {
    "duration": 311,
    "start_time": "2021-12-19T16:27:49.433Z"
   },
   {
    "duration": 20,
    "start_time": "2021-12-19T16:28:10.500Z"
   },
   {
    "duration": 28,
    "start_time": "2021-12-19T16:29:41.350Z"
   },
   {
    "duration": 25,
    "start_time": "2021-12-19T16:32:17.492Z"
   },
   {
    "duration": 21,
    "start_time": "2021-12-19T16:37:33.195Z"
   },
   {
    "duration": 50,
    "start_time": "2021-12-19T16:40:30.932Z"
   },
   {
    "duration": 94,
    "start_time": "2021-12-19T17:40:10.188Z"
   },
   {
    "duration": 321,
    "start_time": "2021-12-19T17:40:46.663Z"
   },
   {
    "duration": 28,
    "start_time": "2021-12-19T17:44:48.244Z"
   },
   {
    "duration": 48,
    "start_time": "2021-12-19T17:45:07.306Z"
   },
   {
    "duration": 22,
    "start_time": "2021-12-19T17:46:43.850Z"
   },
   {
    "duration": 25,
    "start_time": "2021-12-19T17:48:09.392Z"
   },
   {
    "duration": 24,
    "start_time": "2021-12-19T17:48:31.455Z"
   },
   {
    "duration": 446,
    "start_time": "2021-12-19T17:53:21.910Z"
   },
   {
    "duration": 44,
    "start_time": "2021-12-19T17:53:29.615Z"
   },
   {
    "duration": 301,
    "start_time": "2021-12-19T18:00:41.949Z"
   },
   {
    "duration": 308,
    "start_time": "2021-12-19T18:00:58.724Z"
   },
   {
    "duration": 27,
    "start_time": "2021-12-19T18:01:27.654Z"
   },
   {
    "duration": 27,
    "start_time": "2021-12-19T18:01:33.355Z"
   },
   {
    "duration": 25,
    "start_time": "2021-12-19T18:02:15.366Z"
   },
   {
    "duration": 41,
    "start_time": "2021-12-19T18:02:35.022Z"
   },
   {
    "duration": 42,
    "start_time": "2021-12-19T18:06:37.012Z"
   },
   {
    "duration": 25,
    "start_time": "2021-12-19T18:06:52.609Z"
   },
   {
    "duration": 51,
    "start_time": "2021-12-19T18:07:06.625Z"
   },
   {
    "duration": 54,
    "start_time": "2021-12-19T18:10:04.379Z"
   },
   {
    "duration": 34,
    "start_time": "2021-12-19T18:10:25.426Z"
   },
   {
    "duration": 31,
    "start_time": "2021-12-19T18:10:38.172Z"
   },
   {
    "duration": 31,
    "start_time": "2021-12-19T18:11:02.628Z"
   },
   {
    "duration": 32,
    "start_time": "2021-12-19T18:11:10.947Z"
   },
   {
    "duration": 50,
    "start_time": "2021-12-19T18:11:44.442Z"
   },
   {
    "duration": 50,
    "start_time": "2021-12-19T18:26:18.445Z"
   },
   {
    "duration": 54,
    "start_time": "2021-12-19T18:26:56.549Z"
   },
   {
    "duration": 50,
    "start_time": "2021-12-19T18:27:36.754Z"
   },
   {
    "duration": 29,
    "start_time": "2021-12-19T18:27:44.777Z"
   },
   {
    "duration": 34,
    "start_time": "2021-12-19T18:27:48.546Z"
   },
   {
    "duration": 52,
    "start_time": "2021-12-19T18:27:59.390Z"
   },
   {
    "duration": 52,
    "start_time": "2021-12-19T18:31:11.799Z"
   },
   {
    "duration": 53,
    "start_time": "2021-12-19T18:31:33.134Z"
   },
   {
    "duration": 51,
    "start_time": "2021-12-19T18:31:37.618Z"
   },
   {
    "duration": 49,
    "start_time": "2021-12-19T18:31:57.330Z"
   },
   {
    "duration": 48,
    "start_time": "2021-12-19T18:47:15.619Z"
   },
   {
    "duration": 33,
    "start_time": "2021-12-19T18:47:42.791Z"
   },
   {
    "duration": 24,
    "start_time": "2021-12-19T18:52:15.629Z"
   },
   {
    "duration": 24,
    "start_time": "2021-12-19T18:52:54.622Z"
   },
   {
    "duration": 27,
    "start_time": "2021-12-19T18:53:31.744Z"
   },
   {
    "duration": 394,
    "start_time": "2021-12-20T06:44:53.462Z"
   },
   {
    "duration": 860,
    "start_time": "2021-12-20T06:45:02.360Z"
   },
   {
    "duration": 44,
    "start_time": "2021-12-20T06:45:03.223Z"
   },
   {
    "duration": 32,
    "start_time": "2021-12-20T06:45:03.270Z"
   },
   {
    "duration": 7,
    "start_time": "2021-12-20T06:45:03.305Z"
   },
   {
    "duration": 1471,
    "start_time": "2021-12-20T06:45:03.314Z"
   },
   {
    "duration": 235,
    "start_time": "2021-12-20T06:45:04.553Z"
   },
   {
    "duration": 229,
    "start_time": "2021-12-20T06:45:04.560Z"
   },
   {
    "duration": 228,
    "start_time": "2021-12-20T06:45:04.562Z"
   },
   {
    "duration": 7650,
    "start_time": "2021-12-20T06:48:59.259Z"
   },
   {
    "duration": 25,
    "start_time": "2021-12-20T06:49:22.824Z"
   },
   {
    "duration": 24,
    "start_time": "2021-12-20T06:49:31.699Z"
   },
   {
    "duration": 25,
    "start_time": "2021-12-20T06:50:01.523Z"
   },
   {
    "duration": 50,
    "start_time": "2021-12-20T06:50:23.483Z"
   },
   {
    "duration": 51,
    "start_time": "2021-12-20T06:51:09.485Z"
   },
   {
    "duration": 6958,
    "start_time": "2021-12-20T06:52:13.585Z"
   },
   {
    "duration": 53,
    "start_time": "2021-12-20T06:54:09.490Z"
   },
   {
    "duration": 50,
    "start_time": "2021-12-20T06:54:58.495Z"
   },
   {
    "duration": 52,
    "start_time": "2021-12-20T06:55:02.688Z"
   },
   {
    "duration": 50,
    "start_time": "2021-12-20T06:55:21.472Z"
   },
   {
    "duration": 51,
    "start_time": "2021-12-20T06:55:28.937Z"
   },
   {
    "duration": 51,
    "start_time": "2021-12-20T06:58:40.739Z"
   },
   {
    "duration": 311,
    "start_time": "2021-12-20T07:03:27.089Z"
   },
   {
    "duration": 294,
    "start_time": "2021-12-20T07:04:29.010Z"
   },
   {
    "duration": 34,
    "start_time": "2021-12-20T07:06:04.883Z"
   },
   {
    "duration": 31,
    "start_time": "2021-12-20T07:06:32.486Z"
   },
   {
    "duration": 384,
    "start_time": "2021-12-20T07:06:55.756Z"
   },
   {
    "duration": 49,
    "start_time": "2021-12-20T07:07:27.952Z"
   },
   {
    "duration": 26,
    "start_time": "2021-12-20T07:09:48.024Z"
   },
   {
    "duration": 26,
    "start_time": "2021-12-20T07:19:03.552Z"
   },
   {
    "duration": 30,
    "start_time": "2021-12-20T07:20:00.935Z"
   },
   {
    "duration": 30,
    "start_time": "2021-12-20T07:21:58.275Z"
   },
   {
    "duration": 27,
    "start_time": "2021-12-20T07:22:31.196Z"
   },
   {
    "duration": 30,
    "start_time": "2021-12-20T07:23:14.574Z"
   },
   {
    "duration": 28,
    "start_time": "2021-12-20T07:23:40.446Z"
   },
   {
    "duration": 36,
    "start_time": "2021-12-20T07:24:43.327Z"
   },
   {
    "duration": 37,
    "start_time": "2021-12-20T07:25:14.560Z"
   },
   {
    "duration": 38,
    "start_time": "2021-12-20T07:25:32.520Z"
   },
   {
    "duration": 293,
    "start_time": "2021-12-20T07:25:39.805Z"
   },
   {
    "duration": 36,
    "start_time": "2021-12-20T07:25:43.994Z"
   },
   {
    "duration": 35,
    "start_time": "2021-12-20T07:27:48.061Z"
   },
   {
    "duration": 326,
    "start_time": "2021-12-20T07:28:20.592Z"
   },
   {
    "duration": 123,
    "start_time": "2021-12-20T07:28:51.690Z"
   },
   {
    "duration": 76,
    "start_time": "2021-12-20T07:29:19.585Z"
   },
   {
    "duration": 58,
    "start_time": "2021-12-20T07:30:15.757Z"
   },
   {
    "duration": 37,
    "start_time": "2021-12-20T07:43:38.536Z"
   },
   {
    "duration": 801,
    "start_time": "2021-12-20T07:44:22.310Z"
   },
   {
    "duration": 36,
    "start_time": "2021-12-20T07:44:23.113Z"
   },
   {
    "duration": 41,
    "start_time": "2021-12-20T07:44:23.152Z"
   },
   {
    "duration": 6,
    "start_time": "2021-12-20T07:44:23.196Z"
   },
   {
    "duration": 1523,
    "start_time": "2021-12-20T07:44:23.204Z"
   },
   {
    "duration": 301,
    "start_time": "2021-12-20T07:44:24.429Z"
   },
   {
    "duration": 300,
    "start_time": "2021-12-20T07:44:24.432Z"
   },
   {
    "duration": 300,
    "start_time": "2021-12-20T07:44:24.434Z"
   },
   {
    "duration": 35,
    "start_time": "2021-12-20T07:45:36.268Z"
   },
   {
    "duration": 34,
    "start_time": "2021-12-20T07:45:53.745Z"
   },
   {
    "duration": 37,
    "start_time": "2021-12-20T07:46:11.374Z"
   },
   {
    "duration": 366,
    "start_time": "2021-12-20T07:48:37.715Z"
   },
   {
    "duration": 350,
    "start_time": "2021-12-20T07:49:16.144Z"
   },
   {
    "duration": 40,
    "start_time": "2021-12-20T07:51:10.839Z"
   },
   {
    "duration": 42,
    "start_time": "2021-12-20T07:51:45.470Z"
   },
   {
    "duration": 96,
    "start_time": "2021-12-20T07:52:05.248Z"
   },
   {
    "duration": 40,
    "start_time": "2021-12-20T07:52:16.199Z"
   },
   {
    "duration": 41,
    "start_time": "2021-12-20T07:52:36.635Z"
   },
   {
    "duration": 43,
    "start_time": "2021-12-20T07:52:42.769Z"
   },
   {
    "duration": 66,
    "start_time": "2021-12-20T07:52:49.934Z"
   },
   {
    "duration": 74,
    "start_time": "2021-12-20T07:53:12.286Z"
   },
   {
    "duration": 67,
    "start_time": "2021-12-20T07:54:11.275Z"
   },
   {
    "duration": 55,
    "start_time": "2021-12-20T07:54:17.717Z"
   },
   {
    "duration": 61,
    "start_time": "2021-12-20T07:54:26.366Z"
   },
   {
    "duration": 48,
    "start_time": "2021-12-20T07:54:31.287Z"
   },
   {
    "duration": 57,
    "start_time": "2021-12-20T07:55:24.213Z"
   },
   {
    "duration": 36,
    "start_time": "2021-12-20T07:56:33.870Z"
   },
   {
    "duration": 63,
    "start_time": "2021-12-20T07:56:42.902Z"
   },
   {
    "duration": 54,
    "start_time": "2021-12-20T07:58:20.378Z"
   },
   {
    "duration": 60,
    "start_time": "2021-12-20T07:58:45.234Z"
   },
   {
    "duration": 90,
    "start_time": "2021-12-20T07:59:26.653Z"
   },
   {
    "duration": 74,
    "start_time": "2021-12-20T08:00:40.322Z"
   },
   {
    "duration": 134,
    "start_time": "2021-12-20T08:03:00.592Z"
   },
   {
    "duration": 82,
    "start_time": "2021-12-20T08:04:48.253Z"
   },
   {
    "duration": 65,
    "start_time": "2021-12-20T08:07:06.030Z"
   },
   {
    "duration": 128,
    "start_time": "2021-12-20T08:07:15.025Z"
   },
   {
    "duration": 543,
    "start_time": "2021-12-20T08:10:23.448Z"
   },
   {
    "duration": 22,
    "start_time": "2021-12-20T08:10:55.780Z"
   },
   {
    "duration": 32,
    "start_time": "2021-12-20T08:11:10.626Z"
   },
   {
    "duration": 53,
    "start_time": "2021-12-20T08:12:00.092Z"
   },
   {
    "duration": 33,
    "start_time": "2021-12-20T08:12:20.103Z"
   },
   {
    "duration": 15,
    "start_time": "2021-12-20T08:12:56.193Z"
   },
   {
    "duration": 66,
    "start_time": "2021-12-20T08:29:48.931Z"
   },
   {
    "duration": 19,
    "start_time": "2021-12-20T08:29:54.356Z"
   },
   {
    "duration": 20,
    "start_time": "2021-12-20T08:29:58.391Z"
   },
   {
    "duration": 25,
    "start_time": "2021-12-20T08:31:07.687Z"
   },
   {
    "duration": 22,
    "start_time": "2021-12-20T08:32:44.179Z"
   },
   {
    "duration": 41,
    "start_time": "2021-12-20T08:33:07.798Z"
   },
   {
    "duration": 46,
    "start_time": "2021-12-20T08:33:38.213Z"
   },
   {
    "duration": 56,
    "start_time": "2021-12-20T08:34:50.120Z"
   },
   {
    "duration": 908,
    "start_time": "2021-12-20T09:07:55.922Z"
   },
   {
    "duration": 73,
    "start_time": "2021-12-20T09:07:56.833Z"
   },
   {
    "duration": 27,
    "start_time": "2021-12-20T09:07:56.909Z"
   },
   {
    "duration": 74,
    "start_time": "2021-12-20T09:07:56.939Z"
   },
   {
    "duration": 1574,
    "start_time": "2021-12-20T09:07:57.016Z"
   },
   {
    "duration": 366,
    "start_time": "2021-12-20T09:07:58.229Z"
   },
   {
    "duration": 364,
    "start_time": "2021-12-20T09:07:58.233Z"
   },
   {
    "duration": 363,
    "start_time": "2021-12-20T09:07:58.236Z"
   },
   {
    "duration": 61,
    "start_time": "2021-12-20T09:08:30.001Z"
   },
   {
    "duration": 298,
    "start_time": "2021-12-20T09:09:32.852Z"
   },
   {
    "duration": 308,
    "start_time": "2021-12-20T09:09:39.047Z"
   },
   {
    "duration": 267,
    "start_time": "2021-12-20T09:10:15.549Z"
   },
   {
    "duration": 270,
    "start_time": "2021-12-20T09:11:31.577Z"
   },
   {
    "duration": 288,
    "start_time": "2021-12-20T09:11:40.998Z"
   },
   {
    "duration": 289,
    "start_time": "2021-12-20T09:16:21.004Z"
   },
   {
    "duration": 265,
    "start_time": "2021-12-20T09:16:36.531Z"
   },
   {
    "duration": 298,
    "start_time": "2021-12-20T09:16:48.227Z"
   },
   {
    "duration": 261,
    "start_time": "2021-12-20T09:17:01.918Z"
   },
   {
    "duration": 258,
    "start_time": "2021-12-20T09:18:58.332Z"
   },
   {
    "duration": 382,
    "start_time": "2021-12-20T09:19:03.501Z"
   },
   {
    "duration": 81,
    "start_time": "2021-12-20T09:19:11.431Z"
   },
   {
    "duration": 847,
    "start_time": "2021-12-20T09:19:45.899Z"
   },
   {
    "duration": 72,
    "start_time": "2021-12-20T09:19:46.750Z"
   },
   {
    "duration": 43,
    "start_time": "2021-12-20T09:19:46.826Z"
   },
   {
    "duration": 31,
    "start_time": "2021-12-20T09:19:46.872Z"
   },
   {
    "duration": 1609,
    "start_time": "2021-12-20T09:19:46.906Z"
   },
   {
    "duration": 341,
    "start_time": "2021-12-20T09:19:48.177Z"
   },
   {
    "duration": 341,
    "start_time": "2021-12-20T09:19:48.179Z"
   },
   {
    "duration": 339,
    "start_time": "2021-12-20T09:19:48.182Z"
   },
   {
    "duration": 79,
    "start_time": "2021-12-20T09:19:51.507Z"
   },
   {
    "duration": 22,
    "start_time": "2021-12-20T09:19:56.360Z"
   },
   {
    "duration": 29,
    "start_time": "2021-12-20T09:19:59.011Z"
   },
   {
    "duration": 38,
    "start_time": "2021-12-20T09:20:15.871Z"
   },
   {
    "duration": 323,
    "start_time": "2021-12-20T09:20:35.337Z"
   },
   {
    "duration": 70,
    "start_time": "2021-12-20T09:20:46.945Z"
   },
   {
    "duration": 50,
    "start_time": "2021-12-20T09:21:15.507Z"
   },
   {
    "duration": 6233,
    "start_time": "2021-12-20T09:23:27.865Z"
   },
   {
    "duration": 57,
    "start_time": "2021-12-20T09:23:57.513Z"
   },
   {
    "duration": 267,
    "start_time": "2021-12-20T09:25:45.831Z"
   },
   {
    "duration": 10,
    "start_time": "2021-12-20T09:25:54.915Z"
   },
   {
    "duration": 11,
    "start_time": "2021-12-20T09:25:57.078Z"
   },
   {
    "duration": 36,
    "start_time": "2021-12-20T09:26:14.369Z"
   },
   {
    "duration": 108,
    "start_time": "2021-12-20T09:44:24.408Z"
   },
   {
    "duration": 27,
    "start_time": "2021-12-20T09:44:33.222Z"
   },
   {
    "duration": 86,
    "start_time": "2021-12-20T09:44:35.533Z"
   },
   {
    "duration": 6,
    "start_time": "2021-12-20T09:44:49.505Z"
   },
   {
    "duration": 283,
    "start_time": "2021-12-20T11:18:41.217Z"
   },
   {
    "duration": 7,
    "start_time": "2021-12-20T11:18:54.747Z"
   },
   {
    "duration": 801,
    "start_time": "2021-12-21T06:23:46.429Z"
   },
   {
    "duration": 57,
    "start_time": "2021-12-21T06:23:47.233Z"
   },
   {
    "duration": 41,
    "start_time": "2021-12-21T06:23:47.293Z"
   },
   {
    "duration": 48,
    "start_time": "2021-12-21T06:23:47.337Z"
   },
   {
    "duration": 12,
    "start_time": "2021-12-21T06:23:47.387Z"
   },
   {
    "duration": 22,
    "start_time": "2021-12-21T06:23:47.401Z"
   },
   {
    "duration": 7,
    "start_time": "2021-12-21T06:25:48.024Z"
   },
   {
    "duration": 6,
    "start_time": "2021-12-21T06:35:33.912Z"
   },
   {
    "duration": 1448,
    "start_time": "2021-12-21T06:37:58.461Z"
   },
   {
    "duration": 2894,
    "start_time": "2021-12-21T06:41:59.242Z"
   },
   {
    "duration": 1860,
    "start_time": "2021-12-21T06:43:06.722Z"
   },
   {
    "duration": 940,
    "start_time": "2021-12-21T06:45:54.164Z"
   },
   {
    "duration": 518,
    "start_time": "2021-12-21T06:47:20.253Z"
   },
   {
    "duration": 1341,
    "start_time": "2021-12-21T06:48:37.569Z"
   },
   {
    "duration": 508,
    "start_time": "2021-12-21T06:53:39.309Z"
   },
   {
    "duration": 881,
    "start_time": "2021-12-21T06:54:00.359Z"
   },
   {
    "duration": 284,
    "start_time": "2021-12-21T06:54:25.051Z"
   },
   {
    "duration": 5800,
    "start_time": "2021-12-21T06:54:50.981Z"
   },
   {
    "duration": 5359,
    "start_time": "2021-12-21T06:55:45.692Z"
   },
   {
    "duration": 753,
    "start_time": "2021-12-21T06:56:55.145Z"
   },
   {
    "duration": 58,
    "start_time": "2021-12-21T06:56:55.901Z"
   },
   {
    "duration": 25,
    "start_time": "2021-12-21T06:56:55.962Z"
   },
   {
    "duration": 67,
    "start_time": "2021-12-21T06:56:55.990Z"
   },
   {
    "duration": 603,
    "start_time": "2021-12-21T06:56:56.060Z"
   },
   {
    "duration": 850,
    "start_time": "2021-12-21T06:56:55.816Z"
   },
   {
    "duration": 5639,
    "start_time": "2021-12-21T06:57:52.819Z"
   },
   {
    "duration": 5702,
    "start_time": "2021-12-21T06:58:05.448Z"
   },
   {
    "duration": 6097,
    "start_time": "2021-12-21T06:58:25.675Z"
   },
   {
    "duration": 5775,
    "start_time": "2021-12-21T07:00:14.316Z"
   },
   {
    "duration": 5712,
    "start_time": "2021-12-21T07:00:53.780Z"
   },
   {
    "duration": 5875,
    "start_time": "2021-12-21T07:01:15.187Z"
   },
   {
    "duration": 55,
    "start_time": "2021-12-21T07:02:23.826Z"
   },
   {
    "duration": 8,
    "start_time": "2021-12-21T07:20:48.555Z"
   },
   {
    "duration": 136,
    "start_time": "2021-12-21T07:21:28.973Z"
   },
   {
    "duration": 10,
    "start_time": "2021-12-21T07:21:42.422Z"
   },
   {
    "duration": 13,
    "start_time": "2021-12-21T07:23:14.712Z"
   },
   {
    "duration": 101,
    "start_time": "2021-12-21T07:23:38.641Z"
   },
   {
    "duration": 197,
    "start_time": "2021-12-21T07:23:58.993Z"
   },
   {
    "duration": 194,
    "start_time": "2021-12-21T07:24:14.597Z"
   },
   {
    "duration": 12,
    "start_time": "2021-12-21T07:25:53.459Z"
   },
   {
    "duration": 18,
    "start_time": "2021-12-21T07:26:43.879Z"
   },
   {
    "duration": 21,
    "start_time": "2021-12-21T07:30:46.757Z"
   },
   {
    "duration": 13,
    "start_time": "2021-12-21T07:31:37.163Z"
   },
   {
    "duration": 34,
    "start_time": "2021-12-21T07:34:48.434Z"
   },
   {
    "duration": 6,
    "start_time": "2021-12-21T07:42:07.747Z"
   },
   {
    "duration": 6,
    "start_time": "2021-12-21T07:42:16.043Z"
   },
   {
    "duration": 6,
    "start_time": "2021-12-21T07:42:22.399Z"
   },
   {
    "duration": 6,
    "start_time": "2021-12-21T07:45:07.634Z"
   },
   {
    "duration": 8,
    "start_time": "2021-12-21T07:47:22.631Z"
   },
   {
    "duration": 31,
    "start_time": "2021-12-21T07:47:47.892Z"
   },
   {
    "duration": 10,
    "start_time": "2021-12-21T07:48:06.033Z"
   },
   {
    "duration": 35,
    "start_time": "2021-12-21T07:50:18.287Z"
   },
   {
    "duration": 26,
    "start_time": "2021-12-21T07:50:28.484Z"
   },
   {
    "duration": 25,
    "start_time": "2021-12-21T07:51:32.962Z"
   },
   {
    "duration": 38,
    "start_time": "2021-12-21T07:51:51.199Z"
   },
   {
    "duration": 34,
    "start_time": "2021-12-21T07:52:19.567Z"
   },
   {
    "duration": 291,
    "start_time": "2021-12-21T07:55:50.966Z"
   },
   {
    "duration": 281,
    "start_time": "2021-12-21T07:56:14.816Z"
   },
   {
    "duration": 91,
    "start_time": "2021-12-21T08:01:58.910Z"
   },
   {
    "duration": 305,
    "start_time": "2021-12-21T08:02:09.049Z"
   },
   {
    "duration": 304,
    "start_time": "2021-12-21T08:02:15.658Z"
   },
   {
    "duration": 414,
    "start_time": "2021-12-21T08:02:27.428Z"
   },
   {
    "duration": 307,
    "start_time": "2021-12-21T08:03:28.971Z"
   },
   {
    "duration": 368,
    "start_time": "2021-12-21T08:04:15.295Z"
   },
   {
    "duration": 37,
    "start_time": "2021-12-21T08:04:30.282Z"
   },
   {
    "duration": 34,
    "start_time": "2021-12-21T08:07:26.540Z"
   },
   {
    "duration": 37,
    "start_time": "2021-12-21T08:12:12.086Z"
   },
   {
    "duration": 10,
    "start_time": "2021-12-21T08:15:02.663Z"
   },
   {
    "duration": 1227,
    "start_time": "2021-12-21T08:52:00.444Z"
   },
   {
    "duration": 28,
    "start_time": "2021-12-21T08:52:20.298Z"
   },
   {
    "duration": 1259,
    "start_time": "2021-12-21T08:53:04.038Z"
   },
   {
    "duration": 10962,
    "start_time": "2021-12-21T08:56:59.646Z"
   },
   {
    "duration": 65,
    "start_time": "2021-12-21T08:57:22.953Z"
   },
   {
    "duration": 13339,
    "start_time": "2021-12-21T08:57:49.302Z"
   },
   {
    "duration": 44,
    "start_time": "2021-12-21T08:59:34.902Z"
   },
   {
    "duration": 46,
    "start_time": "2021-12-21T09:03:16.909Z"
   },
   {
    "duration": 59,
    "start_time": "2021-12-21T09:03:23.184Z"
   },
   {
    "duration": 45,
    "start_time": "2021-12-21T09:03:31.075Z"
   },
   {
    "duration": 44,
    "start_time": "2021-12-21T09:03:53.365Z"
   },
   {
    "duration": 48,
    "start_time": "2021-12-21T09:05:21.179Z"
   },
   {
    "duration": 56,
    "start_time": "2021-12-21T09:05:32.862Z"
   },
   {
    "duration": 18,
    "start_time": "2021-12-21T09:37:17.956Z"
   },
   {
    "duration": 22,
    "start_time": "2021-12-21T09:37:25.621Z"
   },
   {
    "duration": 27,
    "start_time": "2021-12-21T09:41:24.085Z"
   },
   {
    "duration": 33,
    "start_time": "2021-12-21T09:49:44.504Z"
   },
   {
    "duration": 8,
    "start_time": "2021-12-21T09:50:09.701Z"
   },
   {
    "duration": 32,
    "start_time": "2021-12-21T09:55:32.113Z"
   },
   {
    "duration": 38,
    "start_time": "2021-12-21T09:57:43.799Z"
   },
   {
    "duration": 330,
    "start_time": "2021-12-21T10:00:34.170Z"
   },
   {
    "duration": 290,
    "start_time": "2021-12-21T10:00:54.988Z"
   },
   {
    "duration": 310,
    "start_time": "2021-12-21T10:01:13.928Z"
   },
   {
    "duration": 457,
    "start_time": "2021-12-21T10:02:51.449Z"
   },
   {
    "duration": 326,
    "start_time": "2021-12-21T10:03:18.414Z"
   },
   {
    "duration": 315,
    "start_time": "2021-12-21T10:03:43.032Z"
   },
   {
    "duration": 32,
    "start_time": "2021-12-21T10:12:29.687Z"
   },
   {
    "duration": 34,
    "start_time": "2021-12-21T10:12:53.184Z"
   },
   {
    "duration": 29,
    "start_time": "2021-12-21T10:13:04.878Z"
   },
   {
    "duration": 31,
    "start_time": "2021-12-21T10:13:13.700Z"
   },
   {
    "duration": 33,
    "start_time": "2021-12-21T10:13:24.415Z"
   },
   {
    "duration": 36,
    "start_time": "2021-12-21T10:13:52.074Z"
   },
   {
    "duration": 59,
    "start_time": "2021-12-21T10:37:31.295Z"
   },
   {
    "duration": 47,
    "start_time": "2021-12-21T10:37:57.516Z"
   },
   {
    "duration": 45,
    "start_time": "2021-12-21T10:38:48.693Z"
   },
   {
    "duration": 126,
    "start_time": "2021-12-21T10:40:56.203Z"
   },
   {
    "duration": 52,
    "start_time": "2021-12-21T10:41:25.859Z"
   },
   {
    "duration": 785,
    "start_time": "2021-12-21T20:18:27.391Z"
   },
   {
    "duration": 64,
    "start_time": "2021-12-21T20:18:28.178Z"
   },
   {
    "duration": 28,
    "start_time": "2021-12-21T20:18:28.245Z"
   },
   {
    "duration": 45,
    "start_time": "2021-12-21T20:18:28.276Z"
   },
   {
    "duration": 6972,
    "start_time": "2021-12-21T20:18:28.323Z"
   },
   {
    "duration": 25,
    "start_time": "2021-12-21T20:18:35.297Z"
   },
   {
    "duration": 58,
    "start_time": "2021-12-21T20:18:35.324Z"
   },
   {
    "duration": 27,
    "start_time": "2021-12-21T20:18:35.386Z"
   },
   {
    "duration": 104,
    "start_time": "2021-12-21T20:18:35.416Z"
   },
   {
    "duration": 856,
    "start_time": "2021-12-22T06:54:42.777Z"
   },
   {
    "duration": 104,
    "start_time": "2021-12-22T06:55:12.784Z"
   },
   {
    "duration": 86,
    "start_time": "2021-12-22T06:56:02.337Z"
   },
   {
    "duration": 148,
    "start_time": "2021-12-22T06:56:33.026Z"
   },
   {
    "duration": 82,
    "start_time": "2021-12-22T06:57:53.504Z"
   },
   {
    "duration": 83,
    "start_time": "2021-12-22T06:58:35.705Z"
   },
   {
    "duration": 79,
    "start_time": "2021-12-22T07:02:03.842Z"
   },
   {
    "duration": 141,
    "start_time": "2021-12-22T07:02:53.580Z"
   },
   {
    "duration": 79,
    "start_time": "2021-12-22T07:04:16.511Z"
   },
   {
    "duration": 119,
    "start_time": "2021-12-22T07:05:37.600Z"
   },
   {
    "duration": 149,
    "start_time": "2021-12-22T07:05:57.663Z"
   },
   {
    "duration": 89,
    "start_time": "2021-12-22T07:06:04.208Z"
   },
   {
    "duration": 89,
    "start_time": "2021-12-22T07:07:14.984Z"
   },
   {
    "duration": 8,
    "start_time": "2021-12-22T07:13:15.908Z"
   },
   {
    "duration": 75,
    "start_time": "2021-12-22T07:16:31.379Z"
   },
   {
    "duration": 7,
    "start_time": "2021-12-22T07:19:37.517Z"
   },
   {
    "duration": 681,
    "start_time": "2021-12-29T13:14:13.364Z"
   },
   {
    "duration": 6,
    "start_time": "2021-12-29T13:14:14.047Z"
   },
   {
    "duration": 6,
    "start_time": "2021-12-29T13:14:14.055Z"
   },
   {
    "duration": 5,
    "start_time": "2021-12-29T13:14:14.063Z"
   },
   {
    "duration": 22,
    "start_time": "2021-12-29T13:14:14.070Z"
   },
   {
    "duration": 7,
    "start_time": "2021-12-29T13:14:14.094Z"
   },
   {
    "duration": 10,
    "start_time": "2021-12-29T13:14:14.103Z"
   },
   {
    "duration": 8,
    "start_time": "2021-12-29T13:14:14.116Z"
   },
   {
    "duration": 5,
    "start_time": "2021-12-29T13:14:14.126Z"
   },
   {
    "duration": 59,
    "start_time": "2021-12-29T13:14:14.133Z"
   },
   {
    "duration": 11,
    "start_time": "2021-12-29T13:14:14.194Z"
   },
   {
    "duration": 8,
    "start_time": "2021-12-29T13:14:14.207Z"
   },
   {
    "duration": 14,
    "start_time": "2021-12-29T13:14:14.217Z"
   },
   {
    "duration": 12,
    "start_time": "2021-12-29T13:14:14.233Z"
   },
   {
    "duration": 6,
    "start_time": "2021-12-29T13:14:14.246Z"
   },
   {
    "duration": 48,
    "start_time": "2021-12-29T13:14:14.253Z"
   },
   {
    "duration": 34,
    "start_time": "2021-12-29T13:14:14.303Z"
   },
   {
    "duration": 4494,
    "start_time": "2021-12-29T13:14:14.338Z"
   },
   {
    "duration": 19,
    "start_time": "2021-12-29T13:14:18.834Z"
   },
   {
    "duration": 41,
    "start_time": "2021-12-29T13:14:18.855Z"
   },
   {
    "duration": 17,
    "start_time": "2021-12-29T13:14:18.898Z"
   },
   {
    "duration": 74,
    "start_time": "2021-12-29T13:14:18.917Z"
   },
   {
    "duration": 244,
    "start_time": "2021-12-29T13:26:50.012Z"
   },
   {
    "duration": 5,
    "start_time": "2021-12-29T13:27:11.170Z"
   },
   {
    "duration": 5,
    "start_time": "2021-12-29T13:27:53.075Z"
   },
   {
    "duration": 12,
    "start_time": "2021-12-29T13:28:08.214Z"
   },
   {
    "duration": 10,
    "start_time": "2021-12-29T13:28:46.845Z"
   },
   {
    "duration": 12,
    "start_time": "2021-12-29T13:30:01.304Z"
   },
   {
    "duration": 11,
    "start_time": "2021-12-29T13:30:15.261Z"
   },
   {
    "duration": 11,
    "start_time": "2021-12-29T13:30:34.540Z"
   },
   {
    "duration": 11,
    "start_time": "2021-12-29T13:30:54.545Z"
   },
   {
    "duration": 11,
    "start_time": "2021-12-29T13:31:37.577Z"
   },
   {
    "duration": 8,
    "start_time": "2021-12-29T13:40:31.955Z"
   },
   {
    "duration": 12,
    "start_time": "2021-12-29T13:40:52.812Z"
   },
   {
    "duration": 862,
    "start_time": "2021-12-30T09:50:27.137Z"
   },
   {
    "duration": 10,
    "start_time": "2021-12-30T09:50:28.004Z"
   },
   {
    "duration": 7,
    "start_time": "2021-12-30T09:50:28.018Z"
   },
   {
    "duration": 36,
    "start_time": "2021-12-30T09:50:28.027Z"
   },
   {
    "duration": 6,
    "start_time": "2021-12-30T09:50:28.066Z"
   },
   {
    "duration": 10,
    "start_time": "2021-12-30T09:50:28.074Z"
   },
   {
    "duration": 7,
    "start_time": "2021-12-30T09:50:28.088Z"
   },
   {
    "duration": 6,
    "start_time": "2021-12-30T09:50:28.098Z"
   },
   {
    "duration": 59,
    "start_time": "2021-12-30T09:50:28.107Z"
   },
   {
    "duration": 31,
    "start_time": "2021-12-30T09:50:28.169Z"
   },
   {
    "duration": 15,
    "start_time": "2021-12-30T09:50:28.203Z"
   },
   {
    "duration": 46,
    "start_time": "2021-12-30T09:50:28.221Z"
   },
   {
    "duration": 22,
    "start_time": "2021-12-30T09:50:28.270Z"
   },
   {
    "duration": 16,
    "start_time": "2021-12-30T09:50:28.295Z"
   },
   {
    "duration": 6,
    "start_time": "2021-12-30T09:50:28.313Z"
   },
   {
    "duration": 48,
    "start_time": "2021-12-30T09:50:28.321Z"
   },
   {
    "duration": 49,
    "start_time": "2021-12-30T09:50:28.371Z"
   },
   {
    "duration": 6028,
    "start_time": "2021-12-30T09:50:28.422Z"
   },
   {
    "duration": 22,
    "start_time": "2021-12-30T09:50:34.460Z"
   },
   {
    "duration": 30,
    "start_time": "2021-12-30T09:50:34.484Z"
   },
   {
    "duration": 57,
    "start_time": "2021-12-30T09:50:34.517Z"
   },
   {
    "duration": 54,
    "start_time": "2021-12-30T09:50:34.579Z"
   },
   {
    "duration": 38,
    "start_time": "2021-12-30T09:50:34.636Z"
   },
   {
    "duration": 113,
    "start_time": "2021-12-30T09:55:07.874Z"
   },
   {
    "duration": 946,
    "start_time": "2021-12-30T10:04:03.615Z"
   },
   {
    "duration": 21,
    "start_time": "2021-12-30T10:04:04.564Z"
   },
   {
    "duration": 7,
    "start_time": "2021-12-30T10:04:04.588Z"
   },
   {
    "duration": 6,
    "start_time": "2021-12-30T10:04:04.598Z"
   },
   {
    "duration": 52,
    "start_time": "2021-12-30T10:04:04.607Z"
   },
   {
    "duration": 9,
    "start_time": "2021-12-30T10:04:04.662Z"
   },
   {
    "duration": 9,
    "start_time": "2021-12-30T10:04:04.673Z"
   },
   {
    "duration": 8,
    "start_time": "2021-12-30T10:04:04.685Z"
   },
   {
    "duration": 12,
    "start_time": "2021-12-30T10:04:04.697Z"
   },
   {
    "duration": 59,
    "start_time": "2021-12-30T10:04:04.712Z"
   },
   {
    "duration": 31,
    "start_time": "2021-12-30T10:04:04.774Z"
   },
   {
    "duration": 15,
    "start_time": "2021-12-30T10:04:04.807Z"
   },
   {
    "duration": 43,
    "start_time": "2021-12-30T10:04:04.824Z"
   },
   {
    "duration": 26,
    "start_time": "2021-12-30T10:04:04.870Z"
   },
   {
    "duration": 19,
    "start_time": "2021-12-30T10:04:04.898Z"
   },
   {
    "duration": 7,
    "start_time": "2021-12-30T10:04:04.920Z"
   },
   {
    "duration": 40,
    "start_time": "2021-12-30T10:04:04.929Z"
   },
   {
    "duration": 93,
    "start_time": "2021-12-30T10:04:04.972Z"
   },
   {
    "duration": 7224,
    "start_time": "2021-12-30T10:04:05.067Z"
   },
   {
    "duration": 23,
    "start_time": "2021-12-30T10:04:12.294Z"
   },
   {
    "duration": 55,
    "start_time": "2021-12-30T10:04:12.319Z"
   },
   {
    "duration": 30,
    "start_time": "2021-12-30T10:04:12.376Z"
   },
   {
    "duration": 85,
    "start_time": "2021-12-30T10:04:12.409Z"
   },
   {
    "duration": 21,
    "start_time": "2021-12-30T10:04:12.496Z"
   },
   {
    "duration": 16,
    "start_time": "2021-12-30T10:04:55.210Z"
   },
   {
    "duration": 102,
    "start_time": "2021-12-30T10:05:29.444Z"
   },
   {
    "duration": 15,
    "start_time": "2021-12-30T10:10:08.455Z"
   },
   {
    "duration": 19,
    "start_time": "2021-12-30T10:12:02.351Z"
   },
   {
    "duration": 418,
    "start_time": "2021-12-30T10:13:00.413Z"
   },
   {
    "duration": 119,
    "start_time": "2021-12-30T10:13:02.389Z"
   },
   {
    "duration": 398,
    "start_time": "2021-12-30T10:13:16.565Z"
   },
   {
    "duration": 20,
    "start_time": "2021-12-30T10:13:26.007Z"
   },
   {
    "duration": 115,
    "start_time": "2021-12-30T10:14:19.776Z"
   },
   {
    "duration": 819,
    "start_time": "2021-12-30T10:19:42.571Z"
   },
   {
    "duration": 7,
    "start_time": "2021-12-30T10:19:43.392Z"
   },
   {
    "duration": 7,
    "start_time": "2021-12-30T10:19:43.402Z"
   },
   {
    "duration": 6,
    "start_time": "2021-12-30T10:19:43.412Z"
   },
   {
    "duration": 41,
    "start_time": "2021-12-30T10:19:43.420Z"
   },
   {
    "duration": 9,
    "start_time": "2021-12-30T10:19:43.464Z"
   },
   {
    "duration": 7,
    "start_time": "2021-12-30T10:19:43.476Z"
   },
   {
    "duration": 6,
    "start_time": "2021-12-30T10:19:43.488Z"
   },
   {
    "duration": 8,
    "start_time": "2021-12-30T10:19:43.497Z"
   },
   {
    "duration": 78,
    "start_time": "2021-12-30T10:19:43.507Z"
   },
   {
    "duration": 20,
    "start_time": "2021-12-30T10:19:43.587Z"
   },
   {
    "duration": 9,
    "start_time": "2021-12-30T10:19:43.610Z"
   },
   {
    "duration": 50,
    "start_time": "2021-12-30T10:19:43.622Z"
   },
   {
    "duration": 17,
    "start_time": "2021-12-30T10:19:43.675Z"
   },
   {
    "duration": 7,
    "start_time": "2021-12-30T10:19:43.694Z"
   },
   {
    "duration": 18,
    "start_time": "2021-12-30T10:19:43.703Z"
   },
   {
    "duration": 76,
    "start_time": "2021-12-30T10:19:43.723Z"
   },
   {
    "duration": 1012,
    "start_time": "2022-01-11T06:19:03.638Z"
   },
   {
    "duration": 19,
    "start_time": "2022-01-11T06:19:04.653Z"
   },
   {
    "duration": 7,
    "start_time": "2022-01-11T06:19:04.677Z"
   },
   {
    "duration": 13,
    "start_time": "2022-01-11T06:19:04.687Z"
   },
   {
    "duration": 11,
    "start_time": "2022-01-11T06:19:04.702Z"
   },
   {
    "duration": 11,
    "start_time": "2022-01-11T06:19:04.717Z"
   },
   {
    "duration": 42,
    "start_time": "2022-01-11T06:19:04.730Z"
   },
   {
    "duration": 7,
    "start_time": "2022-01-11T06:19:04.775Z"
   },
   {
    "duration": 7,
    "start_time": "2022-01-11T06:19:04.786Z"
   },
   {
    "duration": 22,
    "start_time": "2022-01-11T06:19:04.795Z"
   },
   {
    "duration": 62,
    "start_time": "2022-01-11T06:19:04.819Z"
   },
   {
    "duration": 9,
    "start_time": "2022-01-11T06:19:04.884Z"
   },
   {
    "duration": 21,
    "start_time": "2022-01-11T06:19:04.895Z"
   },
   {
    "duration": 52,
    "start_time": "2022-01-11T06:19:04.919Z"
   },
   {
    "duration": 21,
    "start_time": "2022-01-11T06:19:04.973Z"
   },
   {
    "duration": 20,
    "start_time": "2022-01-11T06:19:04.996Z"
   },
   {
    "duration": 66,
    "start_time": "2022-01-11T06:19:05.019Z"
   },
   {
    "duration": 5899,
    "start_time": "2022-01-11T06:19:05.088Z"
   },
   {
    "duration": 20,
    "start_time": "2022-01-11T06:19:10.990Z"
   },
   {
    "duration": 24,
    "start_time": "2022-01-11T06:19:11.012Z"
   },
   {
    "duration": 67,
    "start_time": "2022-01-11T06:19:11.038Z"
   },
   {
    "duration": 60,
    "start_time": "2022-01-11T06:19:11.109Z"
   },
   {
    "duration": 57,
    "start_time": "2022-01-11T06:19:11.173Z"
   },
   {
    "duration": 39,
    "start_time": "2022-01-11T06:19:11.233Z"
   },
   {
    "duration": 835,
    "start_time": "2022-01-11T06:21:02.260Z"
   },
   {
    "duration": 8,
    "start_time": "2022-01-11T06:21:03.098Z"
   },
   {
    "duration": 10,
    "start_time": "2022-01-11T06:21:03.112Z"
   },
   {
    "duration": 9,
    "start_time": "2022-01-11T06:21:04.471Z"
   },
   {
    "duration": 10,
    "start_time": "2022-01-11T06:21:05.101Z"
   },
   {
    "duration": 9,
    "start_time": "2022-01-11T06:21:05.588Z"
   },
   {
    "duration": 7,
    "start_time": "2022-01-11T06:21:05.969Z"
   },
   {
    "duration": 6,
    "start_time": "2022-01-11T06:21:06.331Z"
   },
   {
    "duration": 7,
    "start_time": "2022-01-11T06:21:06.812Z"
   },
   {
    "duration": 17,
    "start_time": "2022-01-11T06:21:46.546Z"
   },
   {
    "duration": 18,
    "start_time": "2022-01-11T06:22:12.667Z"
   },
   {
    "duration": 24,
    "start_time": "2022-01-11T06:22:59.234Z"
   },
   {
    "duration": 54,
    "start_time": "2022-01-11T06:23:24.678Z"
   },
   {
    "duration": 882,
    "start_time": "2022-01-11T06:24:24.081Z"
   },
   {
    "duration": 14,
    "start_time": "2022-01-11T06:24:24.965Z"
   },
   {
    "duration": 7,
    "start_time": "2022-01-11T06:24:24.982Z"
   },
   {
    "duration": 9,
    "start_time": "2022-01-11T06:24:24.991Z"
   },
   {
    "duration": 12,
    "start_time": "2022-01-11T06:24:25.002Z"
   },
   {
    "duration": 14,
    "start_time": "2022-01-11T06:24:25.017Z"
   },
   {
    "duration": 35,
    "start_time": "2022-01-11T06:24:25.034Z"
   },
   {
    "duration": 7,
    "start_time": "2022-01-11T06:24:25.074Z"
   },
   {
    "duration": 9,
    "start_time": "2022-01-11T06:24:25.084Z"
   },
   {
    "duration": 24,
    "start_time": "2022-01-11T06:24:25.095Z"
   },
   {
    "duration": 64,
    "start_time": "2022-01-11T06:24:25.122Z"
   },
   {
    "duration": 15,
    "start_time": "2022-01-11T06:24:25.189Z"
   },
   {
    "duration": 24,
    "start_time": "2022-01-11T06:24:25.207Z"
   },
   {
    "duration": 49,
    "start_time": "2022-01-11T06:24:25.234Z"
   },
   {
    "duration": 6,
    "start_time": "2022-01-11T06:24:25.286Z"
   },
   {
    "duration": 24,
    "start_time": "2022-01-11T06:24:25.295Z"
   },
   {
    "duration": 90,
    "start_time": "2022-01-11T06:24:25.321Z"
   },
   {
    "duration": 7061,
    "start_time": "2022-01-11T06:24:25.413Z"
   },
   {
    "duration": 19,
    "start_time": "2022-01-11T06:24:32.477Z"
   },
   {
    "duration": 23,
    "start_time": "2022-01-11T06:24:32.499Z"
   },
   {
    "duration": 71,
    "start_time": "2022-01-11T06:24:32.525Z"
   },
   {
    "duration": 43,
    "start_time": "2022-01-11T06:24:32.600Z"
   },
   {
    "duration": 102,
    "start_time": "2022-01-11T06:24:32.666Z"
   },
   {
    "duration": 26,
    "start_time": "2022-01-11T06:24:32.771Z"
   },
   {
    "duration": 72,
    "start_time": "2022-01-11T06:24:51.175Z"
   },
   {
    "duration": 22,
    "start_time": "2022-01-11T06:38:51.917Z"
   },
   {
    "duration": 17,
    "start_time": "2022-01-11T06:40:50.247Z"
   },
   {
    "duration": 51,
    "start_time": "2022-01-11T06:43:00.184Z"
   },
   {
    "duration": 16,
    "start_time": "2022-01-11T06:44:43.958Z"
   },
   {
    "duration": 19,
    "start_time": "2022-01-11T06:45:50.168Z"
   },
   {
    "duration": 22,
    "start_time": "2022-01-11T06:45:58.110Z"
   },
   {
    "duration": 21,
    "start_time": "2022-01-11T06:46:21.317Z"
   },
   {
    "duration": 376,
    "start_time": "2022-01-11T06:51:11.304Z"
   },
   {
    "duration": 22,
    "start_time": "2022-01-11T06:51:20.733Z"
   },
   {
    "duration": 3114,
    "start_time": "2022-01-11T07:00:16.918Z"
   },
   {
    "duration": 38,
    "start_time": "2022-01-11T07:00:21.100Z"
   },
   {
    "duration": 291,
    "start_time": "2022-01-11T07:01:17.396Z"
   },
   {
    "duration": 23,
    "start_time": "2022-01-11T07:01:38.991Z"
   },
   {
    "duration": 19,
    "start_time": "2022-01-11T07:09:53.017Z"
   },
   {
    "duration": 20,
    "start_time": "2022-01-11T07:10:03.285Z"
   },
   {
    "duration": 22,
    "start_time": "2022-01-11T07:10:15.451Z"
   },
   {
    "duration": 20,
    "start_time": "2022-01-11T07:11:01.869Z"
   },
   {
    "duration": 19,
    "start_time": "2022-01-11T07:11:28.067Z"
   },
   {
    "duration": 1222,
    "start_time": "2022-01-11T07:11:39.741Z"
   },
   {
    "duration": 18,
    "start_time": "2022-01-11T07:12:00.436Z"
   },
   {
    "duration": 22,
    "start_time": "2022-01-11T07:12:07.537Z"
   },
   {
    "duration": 1076,
    "start_time": "2022-01-11T07:14:35.322Z"
   },
   {
    "duration": 47,
    "start_time": "2022-01-11T07:15:19.047Z"
   },
   {
    "duration": 22,
    "start_time": "2022-01-11T07:15:47.680Z"
   },
   {
    "duration": 18,
    "start_time": "2022-01-11T07:17:48.218Z"
   },
   {
    "duration": 20,
    "start_time": "2022-01-11T07:18:10.504Z"
   },
   {
    "duration": 285,
    "start_time": "2022-01-11T07:19:19.718Z"
   },
   {
    "duration": 275,
    "start_time": "2022-01-11T07:19:53.192Z"
   },
   {
    "duration": 338,
    "start_time": "2022-01-11T07:20:11.132Z"
   },
   {
    "duration": 264,
    "start_time": "2022-01-11T07:20:21.847Z"
   },
   {
    "duration": 105,
    "start_time": "2022-01-11T07:21:33.348Z"
   },
   {
    "duration": 22,
    "start_time": "2022-01-11T07:21:37.313Z"
   },
   {
    "duration": 22,
    "start_time": "2022-01-11T07:25:22.399Z"
   },
   {
    "duration": 279,
    "start_time": "2022-01-11T07:27:43.593Z"
   },
   {
    "duration": 27,
    "start_time": "2022-01-11T07:27:50.136Z"
   },
   {
    "duration": 20,
    "start_time": "2022-01-11T07:29:50.803Z"
   },
   {
    "duration": 879,
    "start_time": "2022-01-11T07:30:28.080Z"
   },
   {
    "duration": 8,
    "start_time": "2022-01-11T07:30:28.962Z"
   },
   {
    "duration": 10,
    "start_time": "2022-01-11T07:30:28.974Z"
   },
   {
    "duration": 6,
    "start_time": "2022-01-11T07:30:28.989Z"
   },
   {
    "duration": 7,
    "start_time": "2022-01-11T07:30:28.997Z"
   },
   {
    "duration": 9,
    "start_time": "2022-01-11T07:30:29.007Z"
   },
   {
    "duration": 54,
    "start_time": "2022-01-11T07:30:29.018Z"
   },
   {
    "duration": 11,
    "start_time": "2022-01-11T07:30:29.078Z"
   },
   {
    "duration": 8,
    "start_time": "2022-01-11T07:30:29.093Z"
   },
   {
    "duration": 65,
    "start_time": "2022-01-11T07:30:29.104Z"
   },
   {
    "duration": 23,
    "start_time": "2022-01-11T07:30:29.172Z"
   },
   {
    "duration": 9,
    "start_time": "2022-01-11T07:30:29.198Z"
   },
   {
    "duration": 18,
    "start_time": "2022-01-11T07:30:29.210Z"
   },
   {
    "duration": 50,
    "start_time": "2022-01-11T07:30:29.230Z"
   },
   {
    "duration": 7,
    "start_time": "2022-01-11T07:30:29.283Z"
   },
   {
    "duration": 21,
    "start_time": "2022-01-11T07:30:29.292Z"
   },
   {
    "duration": 94,
    "start_time": "2022-01-11T07:30:29.316Z"
   },
   {
    "duration": 6505,
    "start_time": "2022-01-11T07:30:29.412Z"
   },
   {
    "duration": 521,
    "start_time": "2022-01-11T07:30:35.921Z"
   },
   {
    "duration": 27,
    "start_time": "2022-01-11T07:30:36.445Z"
   },
   {
    "duration": 46,
    "start_time": "2022-01-11T07:30:36.475Z"
   },
   {
    "duration": 62,
    "start_time": "2022-01-11T07:30:36.523Z"
   },
   {
    "duration": 22,
    "start_time": "2022-01-11T07:30:36.592Z"
   },
   {
    "duration": 21,
    "start_time": "2022-01-11T07:30:36.616Z"
   },
   {
    "duration": 44,
    "start_time": "2022-01-11T07:30:36.669Z"
   },
   {
    "duration": 29,
    "start_time": "2022-01-11T07:30:36.716Z"
   },
   {
    "duration": 42,
    "start_time": "2022-01-11T07:30:36.768Z"
   },
   {
    "duration": 23,
    "start_time": "2022-01-11T07:30:36.812Z"
   },
   {
    "duration": 84,
    "start_time": "2022-01-11T07:30:36.866Z"
   },
   {
    "duration": 20,
    "start_time": "2022-01-11T07:30:36.968Z"
   },
   {
    "duration": 503,
    "start_time": "2022-05-12T11:42:30.764Z"
   },
   {
    "duration": 6,
    "start_time": "2022-05-12T11:42:31.269Z"
   },
   {
    "duration": 19,
    "start_time": "2022-05-12T11:42:31.277Z"
   },
   {
    "duration": 16,
    "start_time": "2022-05-12T11:42:31.298Z"
   },
   {
    "duration": 11,
    "start_time": "2022-05-12T11:42:31.316Z"
   },
   {
    "duration": 14,
    "start_time": "2022-05-12T11:42:31.329Z"
   },
   {
    "duration": 16,
    "start_time": "2022-05-12T11:42:31.344Z"
   },
   {
    "duration": 10,
    "start_time": "2022-05-12T11:42:31.362Z"
   },
   {
    "duration": 20,
    "start_time": "2022-05-12T11:42:31.374Z"
   },
   {
    "duration": 29,
    "start_time": "2022-05-12T11:42:31.398Z"
   },
   {
    "duration": 11,
    "start_time": "2022-05-12T11:42:31.429Z"
   },
   {
    "duration": 12,
    "start_time": "2022-05-12T11:42:31.443Z"
   },
   {
    "duration": 16,
    "start_time": "2022-05-12T11:42:31.457Z"
   },
   {
    "duration": 24,
    "start_time": "2022-05-12T11:42:31.475Z"
   },
   {
    "duration": 11,
    "start_time": "2022-05-12T11:42:31.501Z"
   },
   {
    "duration": 34,
    "start_time": "2022-05-12T11:42:31.514Z"
   },
   {
    "duration": 101,
    "start_time": "2022-05-12T11:42:31.549Z"
   },
   {
    "duration": 4192,
    "start_time": "2022-05-12T11:42:31.652Z"
   },
   {
    "duration": 179,
    "start_time": "2022-05-12T11:42:35.846Z"
   },
   {
    "duration": 17,
    "start_time": "2022-05-12T11:42:36.027Z"
   },
   {
    "duration": 26,
    "start_time": "2022-05-12T11:42:36.046Z"
   },
   {
    "duration": 21,
    "start_time": "2022-05-12T11:42:36.073Z"
   },
   {
    "duration": 14,
    "start_time": "2022-05-12T11:42:36.095Z"
   },
   {
    "duration": 21,
    "start_time": "2022-05-12T11:42:36.142Z"
   },
   {
    "duration": 22,
    "start_time": "2022-05-12T11:42:36.165Z"
   },
   {
    "duration": 20,
    "start_time": "2022-05-12T11:42:36.188Z"
   },
   {
    "duration": 41,
    "start_time": "2022-05-12T11:42:36.209Z"
   },
   {
    "duration": 16,
    "start_time": "2022-05-12T11:42:36.254Z"
   },
   {
    "duration": 41,
    "start_time": "2022-05-12T11:42:36.272Z"
   },
   {
    "duration": 37,
    "start_time": "2022-05-12T11:42:36.315Z"
   }
  ],
  "kernelspec": {
   "display_name": "Python 3.9.7 ('base')",
   "language": "python",
   "name": "python3"
  },
  "language_info": {
   "codemirror_mode": {
    "name": "ipython",
    "version": 3
   },
   "file_extension": ".py",
   "mimetype": "text/x-python",
   "name": "python",
   "nbconvert_exporter": "python",
   "pygments_lexer": "ipython3",
   "version": "3.9.7"
  },
  "toc": {
   "base_numbering": 1,
   "nav_menu": {},
   "number_sections": true,
   "sideBar": true,
   "skip_h1_title": true,
   "title_cell": "Table of Contents",
   "title_sidebar": "Contents",
   "toc_cell": false,
   "toc_position": {
    "height": "calc(100% - 180px)",
    "left": "10px",
    "top": "150px",
    "width": "355.488px"
   },
   "toc_section_display": true,
   "toc_window_display": true
  },
  "vscode": {
   "interpreter": {
    "hash": "6f5583cf1d9466b5c27e75c89cc6b383bed5736d6b16c51c8074d8690011a952"
   }
  }
 },
 "nbformat": 4,
 "nbformat_minor": 2
}
