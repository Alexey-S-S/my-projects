{
 "cells": [
  {
   "cell_type": "markdown",
   "metadata": {},
   "source": [
    "# Получение сырых данных из Яндекс Метрики"
   ]
  },
  {
   "cell_type": "markdown",
   "metadata": {},
   "source": [
    "### Подготовка к работе"
   ]
  },
  {
   "cell_type": "markdown",
   "metadata": {},
   "source": [
    "**Описание таблиц**  \n",
    "Документация API Metrika: https://tech.yandex.ru/metrika/doc/api2/concept/about-docpage/  \n",
    "Просмотры: https://tech.yandex.ru/metrika/doc/api2/logs/fields/hits-docpage/  \n",
    "Визиты:    https://tech.yandex.ru/metrika/doc/api2/logs/fields/visits-docpage/"
   ]
  },
  {
   "cell_type": "markdown",
   "metadata": {},
   "source": [
    "# Загрузка библиотек"
   ]
  },
  {
   "cell_type": "code",
   "execution_count": null,
   "metadata": {},
   "outputs": [],
   "source": [
    "import requests\n",
    "import json\n",
    "import pandas as pd\n",
    "from io import StringIO"
   ]
  },
  {
   "cell_type": "markdown",
   "metadata": {},
   "source": [
    "# Функции"
   ]
  },
  {
   "cell_type": "markdown",
   "metadata": {},
   "source": [
    "## создание нового запроса"
   ]
  },
  {
   "cell_type": "code",
   "execution_count": null,
   "metadata": {},
   "outputs": [],
   "source": [
    "def make_post_request(source, token, counterId, dt1, dt2, col):\n",
    "    url = f'https://api-metrika.yandex.net/management/v1/counter/{counterId}/logrequests'\n",
    "    payload = {\n",
    "    'date1': dt1,\n",
    "    'date2': dt2,\n",
    "    'fields': col,\n",
    "    'source' : source\n",
    "    }\n",
    "    header = {'Authorization': f'OAuth {token}'}\n",
    "    \n",
    "    post = requests.post(url,data=payload, headers=header)\n",
    "    # печатаем ответ, обращаем внимание на параметры:\n",
    "    # request_id - id нашего запроса (нужен для скачивания информации)\n",
    "    # status - показывает создан ли наш лог запросов (\"status\":\"created\")\n",
    "    logs = json.loads(post.text)\n",
    "    print('Cоздан запрос id: {}, со статусом: {}'.format(logs['log_request']['request_id'], logs['log_request']['status']))\n",
    "    return post.text"
   ]
  },
  {
   "cell_type": "markdown",
   "metadata": {},
   "source": [
    "## список ранее созданных запросов"
   ]
  },
  {
   "cell_type": "code",
   "execution_count": null,
   "metadata": {},
   "outputs": [],
   "source": [
    "def get_all_id_requests(counterId, token):\n",
    "    # получаем все id запросов на сервере\n",
    "    url = f'https://api-metrika.yandex.net/management/v1/counter/{counterId}/logrequests'\n",
    "    \n",
    "    header = {'Authorization': f'OAuth {token}'}\n",
    "    all_requests = requests.get(url, headers=header)\n",
    "\n",
    "    \n",
    "    logs = json.loads(all_requests.text)\n",
    "    res = [log['request_id'] for log in logs['requests']]\n",
    "    return res#, logs"
   ]
  },
  {
   "cell_type": "markdown",
   "metadata": {},
   "source": [
    "## удаление ранее созданных запросов"
   ]
  },
  {
   "cell_type": "code",
   "execution_count": null,
   "metadata": {},
   "outputs": [],
   "source": [
    "def clean_all_request(counterId, token):\n",
    "    header = {'Authorization': f'OAuth {token}'}\n",
    "    # удаляем все запросы на сервере\n",
    "    id_list = get_all_id_requests(counterId, token)#[0]\n",
    "    if not id_list:\n",
    "        print('На сервере нет логов')\n",
    "        return None\n",
    "    for requestId in id_list:\n",
    "        url = f'https://api-metrika.yandex.net/management/v1/counter/{counterId}/logrequest/{requestId}/clean'\n",
    "        post = requests.post(url, headers=header)\n",
    "        print(f'Запрос id {requestId} удален...')\n",
    "    return None"
   ]
  },
  {
   "cell_type": "markdown",
   "metadata": {},
   "source": [
    "## статус запроса"
   ]
  },
  {
   "cell_type": "code",
   "execution_count": null,
   "metadata": {},
   "outputs": [],
   "source": [
    "def check_request_status(counterId, token, requestId):\n",
    "    # проверяем доступен ли наш запрос для скачивания логов (\"status\":\"processed\")\n",
    "    url = f'https://api-metrika.yandex.net/management/v1/counter/{counterId}/logrequest/{requestId}'\n",
    "    header = {'Authorization': f'OAuth {token}'}\n",
    "    \n",
    "    all_requests = requests.get(url, headers=header)\n",
    "    \n",
    "    logs = json.loads(all_requests.text)\n",
    "    \n",
    "    status = logs['log_request']['status']\n",
    "    return requestId, status"
   ]
  },
  {
   "cell_type": "markdown",
   "metadata": {},
   "source": [
    "## создание df"
   ]
  },
  {
   "cell_type": "code",
   "execution_count": null,
   "metadata": {},
   "outputs": [],
   "source": [
    "def request_to_dataframe(counterId, token, requestId, partNumber=0):\n",
    "    url = f'https://api-metrika.yandex.net/management/v1/counter/{counterId}/logrequest/{requestId}/part/{partNumber}/download'\n",
    "    header = {'Authorization': f'OAuth {token}'}\n",
    "    r = requests.get(url, headers=header)\n",
    "    df = pd.read_csv(StringIO(r.text), header=0, sep='\\t')\n",
    "    return df"
   ]
  },
  {
   "cell_type": "code",
   "execution_count": null,
   "metadata": {},
   "outputs": [],
   "source": [
    "# функция составления строки с перечнем столбцов для нового запроса\n",
    "def columns(df, index_list):\n",
    "    if len(index_list) >0:\n",
    "        col = df.loc[0][0]\n",
    "        for i in (index_list[1:]):\n",
    "            col = col + ',' + df.loc[i][0]\n",
    "        return col\n",
    "    else:\n",
    "        col = df.loc[0][0]\n",
    "        for i in range(1,df.shape[0]):\n",
    "            col = col + ',' + df.loc[i][0]\n",
    "        return col"
   ]
  },
  {
   "cell_type": "markdown",
   "metadata": {},
   "source": [
    "# Основной блок"
   ]
  },
  {
   "cell_type": "markdown",
   "metadata": {},
   "source": [
    "## Устанавливаем значения"
   ]
  },
  {
   "cell_type": "code",
   "execution_count": null,
   "metadata": {},
   "outputs": [],
   "source": [
    "# Устанавливаем значения для запроса:\n",
    "# token     - токен для получения информации\n",
    "# counterId - номер счетчика Яндекс Метрики (если несколько, указываются через запятую)\n",
    "\n",
    "token = ''\n",
    "counterId = "
   ]
  },
  {
   "cell_type": "markdown",
   "metadata": {},
   "source": [
    "### выбор полей(столбцов)"
   ]
  },
  {
   "cell_type": "code",
   "execution_count": null,
   "metadata": {},
   "outputs": [],
   "source": [
    "# посмотреть список полей с описанием\n",
    "def print_full(x):\n",
    "    pd.set_option('display.max_rows', len(x))\n",
    "    display(x)\n",
    "    pd.reset_option('display.max_rows')"
   ]
  },
  {
   "cell_type": "markdown",
   "metadata": {},
   "source": [
    "#### visits"
   ]
  },
  {
   "cell_type": "code",
   "execution_count": null,
   "metadata": {},
   "outputs": [],
   "source": [
    "from io import BytesIO\n",
    "\n",
    "spreadsheet_id = '1aW4sN9vDBnL76X9WxBhx9nt0xvq8FKlgk8B1ArGxne4'\n",
    "file_name = 'https://docs.google.com/spreadsheets/d/{}/export?format=csv'.format(spreadsheet_id)\n",
    "r = requests.get(file_name)\n",
    "vis = pd.read_csv(BytesIO(r.content))\n",
    "\n",
    "vis.columns = vis.columns.str.replace(' ','')\n",
    "vis['Поле'] = vis['Поле'].str.replace(' ','')"
   ]
  },
  {
   "cell_type": "raw",
   "metadata": {},
   "source": [
    "print_full(vis)"
   ]
  },
  {
   "cell_type": "code",
   "execution_count": null,
   "metadata": {},
   "outputs": [],
   "source": [
    "# список индексов необходимых полей\n",
    "num_visits = [] # [0,1,2,3,6,7,8,9,10,11,13,14,17,18,27,28,30,61,62,65,66]\n",
    "str_visits = columns(vis, num_visits)\n",
    "str_visits"
   ]
  },
  {
   "cell_type": "markdown",
   "metadata": {},
   "source": [
    "#### hits"
   ]
  },
  {
   "cell_type": "code",
   "execution_count": null,
   "metadata": {},
   "outputs": [],
   "source": [
    "from io import BytesIO\n",
    "\n",
    "spreadsheet_id = '1UW4VJI1BXy8q_T3R1dfbz3vKO9apyoJmlWycelHvUVU'\n",
    "file_name = 'https://docs.google.com/spreadsheets/d/{}/export?format=csv'.format(spreadsheet_id)\n",
    "r = requests.get(file_name)\n",
    "hits = pd.read_csv(BytesIO(r.content))\n",
    "\n",
    "hits.columns = hits.columns.str.replace(' ','')\n",
    "hits['Поле'] = hits['Поле'].str.replace(' ','')"
   ]
  },
  {
   "cell_type": "raw",
   "metadata": {},
   "source": [
    "# посмотреть список полей с описанием\n",
    "print_full(hits)"
   ]
  },
  {
   "cell_type": "code",
   "execution_count": null,
   "metadata": {},
   "outputs": [],
   "source": [
    "# список индексов необходимых полей\n",
    "num_hits = [] # [0,1,2,3,6,7,8,9,10,11,13,14,17,18,27,28,30,61,62,65,66]\n",
    "str_hits = columns(hits, num_hits)"
   ]
  },
  {
   "cell_type": "markdown",
   "metadata": {},
   "source": [
    "## Получаем Id запросов, существующих на сервере Logs API "
   ]
  },
  {
   "cell_type": "code",
   "execution_count": null,
   "metadata": {
    "scrolled": true
   },
   "outputs": [],
   "source": [
    "# получаем все идентификаторы запросов на сервере\n",
    "get_all_id_requests(counterId, token)"
   ]
  },
  {
   "cell_type": "markdown",
   "metadata": {},
   "source": [
    "## Очищаем список запросов на сервере Logs API"
   ]
  },
  {
   "cell_type": "code",
   "execution_count": null,
   "metadata": {},
   "outputs": [],
   "source": [
    "# удаляем запросы на сервере Logs API (если сущетсвуют)\n",
    "# опционально\n",
    "clean = clean_all_request(counterId, token)\n",
    "clean"
   ]
  },
  {
   "cell_type": "markdown",
   "metadata": {},
   "source": [
    "## Создаем новый запрос 'visits' или 'hits'"
   ]
  },
  {
   "cell_type": "code",
   "execution_count": null,
   "metadata": {},
   "outputs": [],
   "source": [
    "# создаем новый запрос логов/// не работает Major-версия браузера\tMinor-версия браузера\n",
    "\n",
    "# dt1, dt2  - начальная и конечная (не может быть текущим днем) даты формата 'YYYY-MM-DD'\n",
    "# source    - источинк данных данных для запроса ('hits' или 'visits')\n",
    "dt1, dt2 = '2022-06-01', '2022-07-25'\n",
    "source = 'visits'\n",
    "\n",
    "col = str_visits if source == 'visits' else str_hits\n",
    "query1 = make_post_request(source=source, token=token, counterId=counterId, dt1=dt1, dt2=dt2, col=col)"
   ]
  },
  {
   "cell_type": "markdown",
   "metadata": {},
   "source": [
    "## Проверяем статус нужного запроса по requestId"
   ]
  },
  {
   "cell_type": "code",
   "execution_count": null,
   "metadata": {},
   "outputs": [],
   "source": [
    "# проверяем готовность запроса к скачиванию\n",
    "check1 = check_request_status(counterId, token, requestId='28231771')\n",
    "# статус дложен быть 'processed'!\n",
    "check1"
   ]
  },
  {
   "cell_type": "markdown",
   "metadata": {},
   "source": [
    "## Записываем файл в формате DataFrame пакета pandas"
   ]
  },
  {
   "cell_type": "code",
   "execution_count": null,
   "metadata": {},
   "outputs": [],
   "source": [
    "df = request_to_dataframe(counterId=counterId, token=token, requestId='28231771')\n",
    "df.head()"
   ]
  },
  {
   "cell_type": "markdown",
   "metadata": {},
   "source": [
    "## Записываем в файл формата csv, если требуется открыть в Excel  \n",
    "Записывается в ту же папку, где находится данный блокнот"
   ]
  },
  {
   "cell_type": "code",
   "execution_count": null,
   "metadata": {},
   "outputs": [],
   "source": [
    "# записываем DataFrame в csv\n",
    "df.to_csv(f'{source}_{df['date'].min()}_{df['date'].max()}.csv', sep='\\t')#, encoding='cp1251')"
   ]
  },
  {
   "cell_type": "code",
   "execution_count": null,
   "metadata": {},
   "outputs": [],
   "source": []
  },
  {
   "cell_type": "code",
   "execution_count": null,
   "metadata": {},
   "outputs": [],
   "source": []
  }
 ],
 "metadata": {
  "kernelspec": {
   "display_name": "Python 3 (ipykernel)",
   "language": "python",
   "name": "python3"
  },
  "language_info": {
   "codemirror_mode": {
    "name": "ipython",
    "version": 3
   },
   "file_extension": ".py",
   "mimetype": "text/x-python",
   "name": "python",
   "nbconvert_exporter": "python",
   "pygments_lexer": "ipython3",
   "version": "3.9.7"
  },
  "toc": {
   "base_numbering": 1,
   "nav_menu": {},
   "number_sections": true,
   "sideBar": true,
   "skip_h1_title": false,
   "title_cell": "Table of Contents",
   "title_sidebar": "Contents",
   "toc_cell": false,
   "toc_position": {},
   "toc_section_display": true,
   "toc_window_display": true
  },
  "vscode": {
   "interpreter": {
    "hash": "76e81002dd5f73ecfc0bb37cee72033fb025fb04b657b571c70bc5602891d308"
   }
  }
 },
 "nbformat": 4,
 "nbformat_minor": 2
}
